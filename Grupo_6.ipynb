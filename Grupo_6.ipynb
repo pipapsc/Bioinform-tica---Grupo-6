{
 "cells": [
  {
   "cell_type": "code",
   "execution_count": 1,
   "metadata": {},
   "outputs": [],
   "source": [
    "import pandas as pd\n",
    "import matplotlib.pyplot as plt \n",
    "import numpy as np"
   ]
  },
  {
   "cell_type": "markdown",
   "metadata": {},
   "source": [
    "# Dataset 2\n"
   ]
  },
  {
   "cell_type": "markdown",
   "metadata": {},
   "source": [
    "## Etapa 1\n",
    "\n",
    "Começou-se por carregar os dados e metadados. De seguida analisaram-se as suas dimensões (20531 genes para 517 amostras de 515 \n",
    "pacientes, onde dois apresentam duas amostras), e identificaram-se os tipos de atributos em cada um e fez-se um pequena analise estatística para uma melhor perceção inicial dos datasets.\n",
    "\n",
    "Nos dados de expressão genética verificou-se a existência de 2 valores nulos na primeira coluna (_HUGO Symbol- Human Genome Organization_ )seguindo-se a sua remoção, passando para uma dimensão de 20529 genes. Relativamente aos metadados, removeu-se uma coluna por redundância e selecionaram-se as colunas mais relevantes para utilizar na análise, segundo o valor dado às mesmas no artigo e evitando colunas com um elevado número de valores nulos (NA), destas os valores em falta foram substituídos pela média ou moda dos atributos. Foram selecionados _Diagnosis Age (float), Fraction Genome Altered (float), Sex (object), Patient's Vital Status (object)_ e _American Joint Committee on Cancer Tumor Stage Code (object)_ com estágios T1 a T4, onde T1 é uma lesão confinada ao órgão de origem e T4 uma lesão massiva ou que invade diretamente outro órgão ou víscera, nervos, artérias ou osso. Também se selecionou _Patient Smoking History Category (float)_ , com valores de 1 a 5, cujo o primeiro, por exemplo, corresponde a uma pessoa que na altura da entrevista não fumava e fumou menos de 100 cigarros na sua vida, e o por fim o atributo _Prior Cancer Diagnosis Occurence_ que descrever o histórico clínico do paciente. Estas variáveis foram melhor exploradas, com diferentes representações gráficas.\n"
   ]
  },
  {
   "cell_type": "markdown",
   "metadata": {},
   "source": [
    "### Dados RNAseq"
   ]
  },
  {
   "cell_type": "code",
   "execution_count": 2,
   "metadata": {},
   "outputs": [],
   "source": [
    "# Carregar o dataset, colocou-se o Entrez_Gene_Id como coluna índice\n",
    "data_luad = pd.read_csv(\"data_RNA_Seq_v2_expression_median.txt\",sep=\"\\t\",index_col=1)"
   ]
  },
  {
   "cell_type": "code",
   "execution_count": 3,
   "metadata": {},
   "outputs": [
    {
     "data": {
      "text/plain": [
       "(20531, 518)"
      ]
     },
     "execution_count": 3,
     "metadata": {},
     "output_type": "execute_result"
    }
   ],
   "source": [
    "# Verificar a dimensão do dataset\n",
    "data_luad.shape"
   ]
  },
  {
   "cell_type": "code",
   "execution_count": 4,
   "metadata": {
    "scrolled": true
   },
   "outputs": [
    {
     "name": "stdout",
     "output_type": "stream",
     "text": [
      "Tipos de atributos (dados):\n",
      "Hugo_Symbol         object\n",
      "TCGA-05-4244-01    float64\n",
      "TCGA-05-4249-01    float64\n",
      "TCGA-05-4250-01    float64\n",
      "TCGA-05-4382-01    float64\n",
      "                    ...   \n",
      "TCGA-NJ-A55O-01    float64\n",
      "TCGA-NJ-A55R-01    float64\n",
      "TCGA-NJ-A7XG-01    float64\n",
      "TCGA-O1-A52J-01    float64\n",
      "TCGA-S2-AA1A-01    float64\n",
      "Length: 518, dtype: object\n"
     ]
    }
   ],
   "source": [
    "# Verificar o tipo de atributos nos dados\n",
    "print(\"Tipos de atributos (dados):\")\n",
    "print(data_luad.dtypes)"
   ]
  },
  {
   "cell_type": "code",
   "execution_count": 5,
   "metadata": {},
   "outputs": [
    {
     "data": {
      "text/html": [
       "<div>\n",
       "<style scoped>\n",
       "    .dataframe tbody tr th:only-of-type {\n",
       "        vertical-align: middle;\n",
       "    }\n",
       "\n",
       "    .dataframe tbody tr th {\n",
       "        vertical-align: top;\n",
       "    }\n",
       "\n",
       "    .dataframe thead th {\n",
       "        text-align: right;\n",
       "    }\n",
       "</style>\n",
       "<table border=\"1\" class=\"dataframe\">\n",
       "  <thead>\n",
       "    <tr style=\"text-align: right;\">\n",
       "      <th></th>\n",
       "      <th>Hugo_Symbol</th>\n",
       "      <th>TCGA-05-4244-01</th>\n",
       "      <th>TCGA-05-4249-01</th>\n",
       "      <th>TCGA-05-4250-01</th>\n",
       "      <th>TCGA-05-4382-01</th>\n",
       "      <th>TCGA-05-4384-01</th>\n",
       "      <th>TCGA-05-4389-01</th>\n",
       "      <th>TCGA-05-4390-01</th>\n",
       "      <th>TCGA-05-4395-01</th>\n",
       "      <th>TCGA-05-4396-01</th>\n",
       "      <th>...</th>\n",
       "      <th>TCGA-NJ-A4YG-01</th>\n",
       "      <th>TCGA-NJ-A4YI-01</th>\n",
       "      <th>TCGA-NJ-A4YP-01</th>\n",
       "      <th>TCGA-NJ-A4YQ-01</th>\n",
       "      <th>TCGA-NJ-A55A-01</th>\n",
       "      <th>TCGA-NJ-A55O-01</th>\n",
       "      <th>TCGA-NJ-A55R-01</th>\n",
       "      <th>TCGA-NJ-A7XG-01</th>\n",
       "      <th>TCGA-O1-A52J-01</th>\n",
       "      <th>TCGA-S2-AA1A-01</th>\n",
       "    </tr>\n",
       "    <tr>\n",
       "      <th>Entrez_Gene_Id</th>\n",
       "      <th></th>\n",
       "      <th></th>\n",
       "      <th></th>\n",
       "      <th></th>\n",
       "      <th></th>\n",
       "      <th></th>\n",
       "      <th></th>\n",
       "      <th></th>\n",
       "      <th></th>\n",
       "      <th></th>\n",
       "      <th></th>\n",
       "      <th></th>\n",
       "      <th></th>\n",
       "      <th></th>\n",
       "      <th></th>\n",
       "      <th></th>\n",
       "      <th></th>\n",
       "      <th></th>\n",
       "      <th></th>\n",
       "      <th></th>\n",
       "      <th></th>\n",
       "    </tr>\n",
       "  </thead>\n",
       "  <tbody>\n",
       "    <tr>\n",
       "      <th>100130426</th>\n",
       "      <td>LOC100130426</td>\n",
       "      <td>0.0000</td>\n",
       "      <td>0.0000</td>\n",
       "      <td>0.0000</td>\n",
       "      <td>0.0000</td>\n",
       "      <td>0.0000</td>\n",
       "      <td>0.0000</td>\n",
       "      <td>0.0000</td>\n",
       "      <td>0.0000</td>\n",
       "      <td>0.0000</td>\n",
       "      <td>...</td>\n",
       "      <td>0.0000</td>\n",
       "      <td>0.0000</td>\n",
       "      <td>0.0000</td>\n",
       "      <td>0.0000</td>\n",
       "      <td>0.0000</td>\n",
       "      <td>0.0000</td>\n",
       "      <td>0.0000</td>\n",
       "      <td>0.0000</td>\n",
       "      <td>0.0000</td>\n",
       "      <td>0.0000</td>\n",
       "    </tr>\n",
       "    <tr>\n",
       "      <th>100133144</th>\n",
       "      <td>UBE2Q2P3</td>\n",
       "      <td>10.0113</td>\n",
       "      <td>7.1957</td>\n",
       "      <td>7.2453</td>\n",
       "      <td>11.3311</td>\n",
       "      <td>3.2254</td>\n",
       "      <td>4.0000</td>\n",
       "      <td>7.1084</td>\n",
       "      <td>3.4360</td>\n",
       "      <td>13.5406</td>\n",
       "      <td>...</td>\n",
       "      <td>11.7148</td>\n",
       "      <td>3.6657</td>\n",
       "      <td>2.3298</td>\n",
       "      <td>16.3214</td>\n",
       "      <td>20.3514</td>\n",
       "      <td>15.5193</td>\n",
       "      <td>8.4195</td>\n",
       "      <td>42.9857</td>\n",
       "      <td>14.0861</td>\n",
       "      <td>20.5338</td>\n",
       "    </tr>\n",
       "    <tr>\n",
       "      <th>100134869</th>\n",
       "      <td>UBE2Q2P3</td>\n",
       "      <td>11.2820</td>\n",
       "      <td>12.4436</td>\n",
       "      <td>6.0184</td>\n",
       "      <td>7.5740</td>\n",
       "      <td>3.4942</td>\n",
       "      <td>13.7852</td>\n",
       "      <td>7.5810</td>\n",
       "      <td>12.1335</td>\n",
       "      <td>16.0273</td>\n",
       "      <td>...</td>\n",
       "      <td>11.9573</td>\n",
       "      <td>9.7617</td>\n",
       "      <td>8.3410</td>\n",
       "      <td>7.5330</td>\n",
       "      <td>17.2393</td>\n",
       "      <td>22.9872</td>\n",
       "      <td>10.3226</td>\n",
       "      <td>81.1128</td>\n",
       "      <td>24.1914</td>\n",
       "      <td>8.9500</td>\n",
       "    </tr>\n",
       "    <tr>\n",
       "      <th>10357</th>\n",
       "      <td>LOC149767</td>\n",
       "      <td>49.5994</td>\n",
       "      <td>90.5117</td>\n",
       "      <td>49.5366</td>\n",
       "      <td>82.8303</td>\n",
       "      <td>72.5351</td>\n",
       "      <td>66.3658</td>\n",
       "      <td>109.1809</td>\n",
       "      <td>57.0596</td>\n",
       "      <td>108.4155</td>\n",
       "      <td>...</td>\n",
       "      <td>163.5739</td>\n",
       "      <td>130.7486</td>\n",
       "      <td>101.7403</td>\n",
       "      <td>82.4231</td>\n",
       "      <td>100.4196</td>\n",
       "      <td>100.1867</td>\n",
       "      <td>74.7210</td>\n",
       "      <td>85.3715</td>\n",
       "      <td>61.1388</td>\n",
       "      <td>76.9265</td>\n",
       "    </tr>\n",
       "    <tr>\n",
       "      <th>10431</th>\n",
       "      <td>TIMM23</td>\n",
       "      <td>848.9397</td>\n",
       "      <td>924.0158</td>\n",
       "      <td>1140.6781</td>\n",
       "      <td>807.1729</td>\n",
       "      <td>562.0037</td>\n",
       "      <td>1342.6174</td>\n",
       "      <td>1148.3315</td>\n",
       "      <td>955.9141</td>\n",
       "      <td>844.5792</td>\n",
       "      <td>...</td>\n",
       "      <td>919.1686</td>\n",
       "      <td>403.4911</td>\n",
       "      <td>918.9533</td>\n",
       "      <td>995.6058</td>\n",
       "      <td>536.7602</td>\n",
       "      <td>873.9790</td>\n",
       "      <td>766.7448</td>\n",
       "      <td>677.7333</td>\n",
       "      <td>1137.3206</td>\n",
       "      <td>565.4335</td>\n",
       "    </tr>\n",
       "  </tbody>\n",
       "</table>\n",
       "<p>5 rows × 518 columns</p>\n",
       "</div>"
      ],
      "text/plain": [
       "                 Hugo_Symbol  TCGA-05-4244-01  TCGA-05-4249-01  \\\n",
       "Entrez_Gene_Id                                                   \n",
       "100130426       LOC100130426           0.0000           0.0000   \n",
       "100133144           UBE2Q2P3          10.0113           7.1957   \n",
       "100134869           UBE2Q2P3          11.2820          12.4436   \n",
       "10357              LOC149767          49.5994          90.5117   \n",
       "10431                 TIMM23         848.9397         924.0158   \n",
       "\n",
       "                TCGA-05-4250-01  TCGA-05-4382-01  TCGA-05-4384-01  \\\n",
       "Entrez_Gene_Id                                                      \n",
       "100130426                0.0000           0.0000           0.0000   \n",
       "100133144                7.2453          11.3311           3.2254   \n",
       "100134869                6.0184           7.5740           3.4942   \n",
       "10357                   49.5366          82.8303          72.5351   \n",
       "10431                 1140.6781         807.1729         562.0037   \n",
       "\n",
       "                TCGA-05-4389-01  TCGA-05-4390-01  TCGA-05-4395-01  \\\n",
       "Entrez_Gene_Id                                                      \n",
       "100130426                0.0000           0.0000           0.0000   \n",
       "100133144                4.0000           7.1084           3.4360   \n",
       "100134869               13.7852           7.5810          12.1335   \n",
       "10357                   66.3658         109.1809          57.0596   \n",
       "10431                 1342.6174        1148.3315         955.9141   \n",
       "\n",
       "                TCGA-05-4396-01  ...  TCGA-NJ-A4YG-01  TCGA-NJ-A4YI-01  \\\n",
       "Entrez_Gene_Id                   ...                                     \n",
       "100130426                0.0000  ...           0.0000           0.0000   \n",
       "100133144               13.5406  ...          11.7148           3.6657   \n",
       "100134869               16.0273  ...          11.9573           9.7617   \n",
       "10357                  108.4155  ...         163.5739         130.7486   \n",
       "10431                  844.5792  ...         919.1686         403.4911   \n",
       "\n",
       "                TCGA-NJ-A4YP-01  TCGA-NJ-A4YQ-01  TCGA-NJ-A55A-01  \\\n",
       "Entrez_Gene_Id                                                      \n",
       "100130426                0.0000           0.0000           0.0000   \n",
       "100133144                2.3298          16.3214          20.3514   \n",
       "100134869                8.3410           7.5330          17.2393   \n",
       "10357                  101.7403          82.4231         100.4196   \n",
       "10431                  918.9533         995.6058         536.7602   \n",
       "\n",
       "                TCGA-NJ-A55O-01  TCGA-NJ-A55R-01  TCGA-NJ-A7XG-01  \\\n",
       "Entrez_Gene_Id                                                      \n",
       "100130426                0.0000           0.0000           0.0000   \n",
       "100133144               15.5193           8.4195          42.9857   \n",
       "100134869               22.9872          10.3226          81.1128   \n",
       "10357                  100.1867          74.7210          85.3715   \n",
       "10431                  873.9790         766.7448         677.7333   \n",
       "\n",
       "                TCGA-O1-A52J-01  TCGA-S2-AA1A-01  \n",
       "Entrez_Gene_Id                                    \n",
       "100130426                0.0000           0.0000  \n",
       "100133144               14.0861          20.5338  \n",
       "100134869               24.1914           8.9500  \n",
       "10357                   61.1388          76.9265  \n",
       "10431                 1137.3206         565.4335  \n",
       "\n",
       "[5 rows x 518 columns]"
      ]
     },
     "execution_count": 5,
     "metadata": {},
     "output_type": "execute_result"
    }
   ],
   "source": [
    "#retornar por padrão as primeiras 5 linhas do dataset\n",
    "data_luad.head()"
   ]
  },
  {
   "cell_type": "code",
   "execution_count": 6,
   "metadata": {},
   "outputs": [
    {
     "data": {
      "text/plain": [
       "2"
      ]
     },
     "execution_count": 6,
     "metadata": {},
     "output_type": "execute_result"
    }
   ],
   "source": [
    "#Selecionar a coluna HUGO_Symbol (coluna 0) (Human Genome Organization) e quantificar valores nulos\n",
    "data_luad.iloc[:,0].isnull().sum() # HUGO - valores nulos"
   ]
  },
  {
   "cell_type": "code",
   "execution_count": 7,
   "metadata": {},
   "outputs": [],
   "source": [
    "#Tratamento de valores nulos\n",
    "\n",
    "#remover linhas com Hugo Symbol como NaN (not a number)\n",
    "data_hugo_luad = data_luad[data_luad.notna()['Hugo_Symbol']] \n",
    "#definir o Hugo_symbol como id do gene, sendo removida a coluna anterior (Entrez_Gene_Id), visto que era informação repetida\n",
    "data_hugo_luad = data_hugo_luad.set_index(\"Hugo_Symbol\", drop=True)"
   ]
  },
  {
   "cell_type": "code",
   "execution_count": 8,
   "metadata": {},
   "outputs": [
    {
     "data": {
      "text/plain": [
       "(20529, 517)"
      ]
     },
     "execution_count": 8,
     "metadata": {},
     "output_type": "execute_result"
    }
   ],
   "source": [
    "#verificar a dimensão do dataset sem valores nulos\n",
    "data_hugo_luad.shape  # 20529 genes e 517 amostras (cada coluna é uma amostra)\n",
    "                      # a coluna index é contabilizada"
   ]
  },
  {
   "cell_type": "code",
   "execution_count": 9,
   "metadata": {
    "scrolled": true
   },
   "outputs": [
    {
     "data": {
      "text/html": [
       "<div>\n",
       "<style scoped>\n",
       "    .dataframe tbody tr th:only-of-type {\n",
       "        vertical-align: middle;\n",
       "    }\n",
       "\n",
       "    .dataframe tbody tr th {\n",
       "        vertical-align: top;\n",
       "    }\n",
       "\n",
       "    .dataframe thead th {\n",
       "        text-align: right;\n",
       "    }\n",
       "</style>\n",
       "<table border=\"1\" class=\"dataframe\">\n",
       "  <thead>\n",
       "    <tr style=\"text-align: right;\">\n",
       "      <th></th>\n",
       "      <th>TCGA-05-4244-01</th>\n",
       "      <th>TCGA-05-4249-01</th>\n",
       "      <th>TCGA-05-4250-01</th>\n",
       "      <th>TCGA-05-4382-01</th>\n",
       "      <th>TCGA-05-4384-01</th>\n",
       "      <th>TCGA-05-4389-01</th>\n",
       "      <th>TCGA-05-4390-01</th>\n",
       "      <th>TCGA-05-4395-01</th>\n",
       "      <th>TCGA-05-4396-01</th>\n",
       "      <th>TCGA-05-4397-01</th>\n",
       "      <th>...</th>\n",
       "      <th>TCGA-NJ-A4YG-01</th>\n",
       "      <th>TCGA-NJ-A4YI-01</th>\n",
       "      <th>TCGA-NJ-A4YP-01</th>\n",
       "      <th>TCGA-NJ-A4YQ-01</th>\n",
       "      <th>TCGA-NJ-A55A-01</th>\n",
       "      <th>TCGA-NJ-A55O-01</th>\n",
       "      <th>TCGA-NJ-A55R-01</th>\n",
       "      <th>TCGA-NJ-A7XG-01</th>\n",
       "      <th>TCGA-O1-A52J-01</th>\n",
       "      <th>TCGA-S2-AA1A-01</th>\n",
       "    </tr>\n",
       "    <tr>\n",
       "      <th>Hugo_Symbol</th>\n",
       "      <th></th>\n",
       "      <th></th>\n",
       "      <th></th>\n",
       "      <th></th>\n",
       "      <th></th>\n",
       "      <th></th>\n",
       "      <th></th>\n",
       "      <th></th>\n",
       "      <th></th>\n",
       "      <th></th>\n",
       "      <th></th>\n",
       "      <th></th>\n",
       "      <th></th>\n",
       "      <th></th>\n",
       "      <th></th>\n",
       "      <th></th>\n",
       "      <th></th>\n",
       "      <th></th>\n",
       "      <th></th>\n",
       "      <th></th>\n",
       "      <th></th>\n",
       "    </tr>\n",
       "  </thead>\n",
       "  <tbody>\n",
       "    <tr>\n",
       "      <th>LOC100130426</th>\n",
       "      <td>0.0000</td>\n",
       "      <td>0.0000</td>\n",
       "      <td>0.0000</td>\n",
       "      <td>0.0000</td>\n",
       "      <td>0.0000</td>\n",
       "      <td>0.0000</td>\n",
       "      <td>0.0000</td>\n",
       "      <td>0.0000</td>\n",
       "      <td>0.0000</td>\n",
       "      <td>0.0000</td>\n",
       "      <td>...</td>\n",
       "      <td>0.0000</td>\n",
       "      <td>0.0000</td>\n",
       "      <td>0.0000</td>\n",
       "      <td>0.0000</td>\n",
       "      <td>0.0000</td>\n",
       "      <td>0.0000</td>\n",
       "      <td>0.0000</td>\n",
       "      <td>0.0000</td>\n",
       "      <td>0.0000</td>\n",
       "      <td>0.0000</td>\n",
       "    </tr>\n",
       "    <tr>\n",
       "      <th>UBE2Q2P3</th>\n",
       "      <td>10.0113</td>\n",
       "      <td>7.1957</td>\n",
       "      <td>7.2453</td>\n",
       "      <td>11.3311</td>\n",
       "      <td>3.2254</td>\n",
       "      <td>4.0000</td>\n",
       "      <td>7.1084</td>\n",
       "      <td>3.4360</td>\n",
       "      <td>13.5406</td>\n",
       "      <td>9.4467</td>\n",
       "      <td>...</td>\n",
       "      <td>11.7148</td>\n",
       "      <td>3.6657</td>\n",
       "      <td>2.3298</td>\n",
       "      <td>16.3214</td>\n",
       "      <td>20.3514</td>\n",
       "      <td>15.5193</td>\n",
       "      <td>8.4195</td>\n",
       "      <td>42.9857</td>\n",
       "      <td>14.0861</td>\n",
       "      <td>20.5338</td>\n",
       "    </tr>\n",
       "    <tr>\n",
       "      <th>UBE2Q2P3</th>\n",
       "      <td>11.2820</td>\n",
       "      <td>12.4436</td>\n",
       "      <td>6.0184</td>\n",
       "      <td>7.5740</td>\n",
       "      <td>3.4942</td>\n",
       "      <td>13.7852</td>\n",
       "      <td>7.5810</td>\n",
       "      <td>12.1335</td>\n",
       "      <td>16.0273</td>\n",
       "      <td>10.4318</td>\n",
       "      <td>...</td>\n",
       "      <td>11.9573</td>\n",
       "      <td>9.7617</td>\n",
       "      <td>8.3410</td>\n",
       "      <td>7.5330</td>\n",
       "      <td>17.2393</td>\n",
       "      <td>22.9872</td>\n",
       "      <td>10.3226</td>\n",
       "      <td>81.1128</td>\n",
       "      <td>24.1914</td>\n",
       "      <td>8.9500</td>\n",
       "    </tr>\n",
       "    <tr>\n",
       "      <th>LOC149767</th>\n",
       "      <td>49.5994</td>\n",
       "      <td>90.5117</td>\n",
       "      <td>49.5366</td>\n",
       "      <td>82.8303</td>\n",
       "      <td>72.5351</td>\n",
       "      <td>66.3658</td>\n",
       "      <td>109.1809</td>\n",
       "      <td>57.0596</td>\n",
       "      <td>108.4155</td>\n",
       "      <td>84.2496</td>\n",
       "      <td>...</td>\n",
       "      <td>163.5739</td>\n",
       "      <td>130.7486</td>\n",
       "      <td>101.7403</td>\n",
       "      <td>82.4231</td>\n",
       "      <td>100.4196</td>\n",
       "      <td>100.1867</td>\n",
       "      <td>74.7210</td>\n",
       "      <td>85.3715</td>\n",
       "      <td>61.1388</td>\n",
       "      <td>76.9265</td>\n",
       "    </tr>\n",
       "    <tr>\n",
       "      <th>TIMM23</th>\n",
       "      <td>848.9397</td>\n",
       "      <td>924.0158</td>\n",
       "      <td>1140.6781</td>\n",
       "      <td>807.1729</td>\n",
       "      <td>562.0037</td>\n",
       "      <td>1342.6174</td>\n",
       "      <td>1148.3315</td>\n",
       "      <td>955.9141</td>\n",
       "      <td>844.5792</td>\n",
       "      <td>1397.9017</td>\n",
       "      <td>...</td>\n",
       "      <td>919.1686</td>\n",
       "      <td>403.4911</td>\n",
       "      <td>918.9533</td>\n",
       "      <td>995.6058</td>\n",
       "      <td>536.7602</td>\n",
       "      <td>873.9790</td>\n",
       "      <td>766.7448</td>\n",
       "      <td>677.7333</td>\n",
       "      <td>1137.3206</td>\n",
       "      <td>565.4335</td>\n",
       "    </tr>\n",
       "  </tbody>\n",
       "</table>\n",
       "<p>5 rows × 517 columns</p>\n",
       "</div>"
      ],
      "text/plain": [
       "              TCGA-05-4244-01  TCGA-05-4249-01  TCGA-05-4250-01  \\\n",
       "Hugo_Symbol                                                       \n",
       "LOC100130426           0.0000           0.0000           0.0000   \n",
       "UBE2Q2P3              10.0113           7.1957           7.2453   \n",
       "UBE2Q2P3              11.2820          12.4436           6.0184   \n",
       "LOC149767             49.5994          90.5117          49.5366   \n",
       "TIMM23               848.9397         924.0158        1140.6781   \n",
       "\n",
       "              TCGA-05-4382-01  TCGA-05-4384-01  TCGA-05-4389-01  \\\n",
       "Hugo_Symbol                                                       \n",
       "LOC100130426           0.0000           0.0000           0.0000   \n",
       "UBE2Q2P3              11.3311           3.2254           4.0000   \n",
       "UBE2Q2P3               7.5740           3.4942          13.7852   \n",
       "LOC149767             82.8303          72.5351          66.3658   \n",
       "TIMM23               807.1729         562.0037        1342.6174   \n",
       "\n",
       "              TCGA-05-4390-01  TCGA-05-4395-01  TCGA-05-4396-01  \\\n",
       "Hugo_Symbol                                                       \n",
       "LOC100130426           0.0000           0.0000           0.0000   \n",
       "UBE2Q2P3               7.1084           3.4360          13.5406   \n",
       "UBE2Q2P3               7.5810          12.1335          16.0273   \n",
       "LOC149767            109.1809          57.0596         108.4155   \n",
       "TIMM23              1148.3315         955.9141         844.5792   \n",
       "\n",
       "              TCGA-05-4397-01  ...  TCGA-NJ-A4YG-01  TCGA-NJ-A4YI-01  \\\n",
       "Hugo_Symbol                    ...                                     \n",
       "LOC100130426           0.0000  ...           0.0000           0.0000   \n",
       "UBE2Q2P3               9.4467  ...          11.7148           3.6657   \n",
       "UBE2Q2P3              10.4318  ...          11.9573           9.7617   \n",
       "LOC149767             84.2496  ...         163.5739         130.7486   \n",
       "TIMM23              1397.9017  ...         919.1686         403.4911   \n",
       "\n",
       "              TCGA-NJ-A4YP-01  TCGA-NJ-A4YQ-01  TCGA-NJ-A55A-01  \\\n",
       "Hugo_Symbol                                                       \n",
       "LOC100130426           0.0000           0.0000           0.0000   \n",
       "UBE2Q2P3               2.3298          16.3214          20.3514   \n",
       "UBE2Q2P3               8.3410           7.5330          17.2393   \n",
       "LOC149767            101.7403          82.4231         100.4196   \n",
       "TIMM23               918.9533         995.6058         536.7602   \n",
       "\n",
       "              TCGA-NJ-A55O-01  TCGA-NJ-A55R-01  TCGA-NJ-A7XG-01  \\\n",
       "Hugo_Symbol                                                       \n",
       "LOC100130426           0.0000           0.0000           0.0000   \n",
       "UBE2Q2P3              15.5193           8.4195          42.9857   \n",
       "UBE2Q2P3              22.9872          10.3226          81.1128   \n",
       "LOC149767            100.1867          74.7210          85.3715   \n",
       "TIMM23               873.9790         766.7448         677.7333   \n",
       "\n",
       "              TCGA-O1-A52J-01  TCGA-S2-AA1A-01  \n",
       "Hugo_Symbol                                     \n",
       "LOC100130426           0.0000           0.0000  \n",
       "UBE2Q2P3              14.0861          20.5338  \n",
       "UBE2Q2P3              24.1914           8.9500  \n",
       "LOC149767             61.1388          76.9265  \n",
       "TIMM23              1137.3206         565.4335  \n",
       "\n",
       "[5 rows x 517 columns]"
      ]
     },
     "execution_count": 9,
     "metadata": {},
     "output_type": "execute_result"
    }
   ],
   "source": [
    "#retornar por padrão as primeiras 5 linhas do dataset sem valores nulos e com Hugo_symbol como chave\n",
    "data_hugo_luad.head()"
   ]
  },
  {
   "cell_type": "code",
   "execution_count": 11,
   "metadata": {},
   "outputs": [
    {
     "data": {
      "text/html": [
       "<div>\n",
       "<style scoped>\n",
       "    .dataframe tbody tr th:only-of-type {\n",
       "        vertical-align: middle;\n",
       "    }\n",
       "\n",
       "    .dataframe tbody tr th {\n",
       "        vertical-align: top;\n",
       "    }\n",
       "\n",
       "    .dataframe thead th {\n",
       "        text-align: right;\n",
       "    }\n",
       "</style>\n",
       "<table border=\"1\" class=\"dataframe\">\n",
       "  <thead>\n",
       "    <tr style=\"text-align: right;\">\n",
       "      <th>Hugo_Symbol</th>\n",
       "      <th>LOC100130426</th>\n",
       "      <th>UBE2Q2P3</th>\n",
       "      <th>UBE2Q2P3</th>\n",
       "      <th>LOC149767</th>\n",
       "      <th>TIMM23</th>\n",
       "      <th>MOXD2</th>\n",
       "      <th>LOC155060</th>\n",
       "      <th>RNU12-2P</th>\n",
       "      <th>SSX9</th>\n",
       "      <th>LOC317712</th>\n",
       "      <th>...</th>\n",
       "      <th>ZXDA</th>\n",
       "      <th>ZXDB</th>\n",
       "      <th>LOC100130182</th>\n",
       "      <th>ZYG11A</th>\n",
       "      <th>ZYG11B</th>\n",
       "      <th>ZYX</th>\n",
       "      <th>FLJ10821</th>\n",
       "      <th>ZZZ3</th>\n",
       "      <th>HUMRTVLH3</th>\n",
       "      <th>AKR1C6P</th>\n",
       "    </tr>\n",
       "  </thead>\n",
       "  <tbody>\n",
       "    <tr>\n",
       "      <th>count</th>\n",
       "      <td>517.000000</td>\n",
       "      <td>517.000000</td>\n",
       "      <td>517.000000</td>\n",
       "      <td>517.000000</td>\n",
       "      <td>517.000000</td>\n",
       "      <td>517.000000</td>\n",
       "      <td>517.000000</td>\n",
       "      <td>517.000000</td>\n",
       "      <td>517.000000</td>\n",
       "      <td>517.0</td>\n",
       "      <td>...</td>\n",
       "      <td>517.000000</td>\n",
       "      <td>517.000000</td>\n",
       "      <td>517.000000</td>\n",
       "      <td>517.000000</td>\n",
       "      <td>517.000000</td>\n",
       "      <td>517.000000</td>\n",
       "      <td>517.000000</td>\n",
       "      <td>517.000000</td>\n",
       "      <td>517.000000</td>\n",
       "      <td>517.000000</td>\n",
       "    </tr>\n",
       "    <tr>\n",
       "      <th>mean</th>\n",
       "      <td>0.019793</td>\n",
       "      <td>12.563599</td>\n",
       "      <td>13.772414</td>\n",
       "      <td>109.191745</td>\n",
       "      <td>921.412556</td>\n",
       "      <td>0.000518</td>\n",
       "      <td>200.965270</td>\n",
       "      <td>0.456712</td>\n",
       "      <td>0.144994</td>\n",
       "      <td>0.0</td>\n",
       "      <td>...</td>\n",
       "      <td>48.018296</td>\n",
       "      <td>383.145637</td>\n",
       "      <td>1082.626088</td>\n",
       "      <td>61.012445</td>\n",
       "      <td>849.987180</td>\n",
       "      <td>4049.562512</td>\n",
       "      <td>1080.205735</td>\n",
       "      <td>710.462033</td>\n",
       "      <td>127.999331</td>\n",
       "      <td>0.176634</td>\n",
       "    </tr>\n",
       "    <tr>\n",
       "      <th>std</th>\n",
       "      <td>0.110964</td>\n",
       "      <td>10.824164</td>\n",
       "      <td>11.507095</td>\n",
       "      <td>54.083375</td>\n",
       "      <td>362.542965</td>\n",
       "      <td>0.011769</td>\n",
       "      <td>156.827547</td>\n",
       "      <td>0.605640</td>\n",
       "      <td>1.625181</td>\n",
       "      <td>0.0</td>\n",
       "      <td>...</td>\n",
       "      <td>21.424549</td>\n",
       "      <td>169.977557</td>\n",
       "      <td>339.329517</td>\n",
       "      <td>74.516301</td>\n",
       "      <td>259.159593</td>\n",
       "      <td>1869.604727</td>\n",
       "      <td>440.005370</td>\n",
       "      <td>319.317913</td>\n",
       "      <td>251.016470</td>\n",
       "      <td>0.896453</td>\n",
       "    </tr>\n",
       "    <tr>\n",
       "      <th>min</th>\n",
       "      <td>0.000000</td>\n",
       "      <td>0.000000</td>\n",
       "      <td>0.000000</td>\n",
       "      <td>36.357000</td>\n",
       "      <td>270.115400</td>\n",
       "      <td>0.000000</td>\n",
       "      <td>11.022000</td>\n",
       "      <td>0.000000</td>\n",
       "      <td>0.000000</td>\n",
       "      <td>0.0</td>\n",
       "      <td>...</td>\n",
       "      <td>8.879000</td>\n",
       "      <td>34.099400</td>\n",
       "      <td>311.314600</td>\n",
       "      <td>0.000000</td>\n",
       "      <td>264.413200</td>\n",
       "      <td>446.043200</td>\n",
       "      <td>183.841200</td>\n",
       "      <td>219.603600</td>\n",
       "      <td>0.685400</td>\n",
       "      <td>0.000000</td>\n",
       "    </tr>\n",
       "    <tr>\n",
       "      <th>25%</th>\n",
       "      <td>0.000000</td>\n",
       "      <td>5.357900</td>\n",
       "      <td>5.888000</td>\n",
       "      <td>78.785300</td>\n",
       "      <td>671.334600</td>\n",
       "      <td>0.000000</td>\n",
       "      <td>89.459200</td>\n",
       "      <td>0.000000</td>\n",
       "      <td>0.000000</td>\n",
       "      <td>0.0</td>\n",
       "      <td>...</td>\n",
       "      <td>34.482800</td>\n",
       "      <td>276.152700</td>\n",
       "      <td>851.610700</td>\n",
       "      <td>5.879200</td>\n",
       "      <td>675.758400</td>\n",
       "      <td>2650.125500</td>\n",
       "      <td>776.395500</td>\n",
       "      <td>548.513500</td>\n",
       "      <td>10.759700</td>\n",
       "      <td>0.000000</td>\n",
       "    </tr>\n",
       "    <tr>\n",
       "      <th>50%</th>\n",
       "      <td>0.000000</td>\n",
       "      <td>10.456700</td>\n",
       "      <td>11.282000</td>\n",
       "      <td>97.173100</td>\n",
       "      <td>848.939700</td>\n",
       "      <td>0.000000</td>\n",
       "      <td>160.488400</td>\n",
       "      <td>0.305600</td>\n",
       "      <td>0.000000</td>\n",
       "      <td>0.0</td>\n",
       "      <td>...</td>\n",
       "      <td>44.308600</td>\n",
       "      <td>346.751700</td>\n",
       "      <td>1040.429600</td>\n",
       "      <td>37.424400</td>\n",
       "      <td>815.834800</td>\n",
       "      <td>3811.870500</td>\n",
       "      <td>1033.582100</td>\n",
       "      <td>663.253200</td>\n",
       "      <td>25.665900</td>\n",
       "      <td>0.000000</td>\n",
       "    </tr>\n",
       "    <tr>\n",
       "      <th>75%</th>\n",
       "      <td>0.000000</td>\n",
       "      <td>16.079700</td>\n",
       "      <td>17.981600</td>\n",
       "      <td>122.073800</td>\n",
       "      <td>1072.048400</td>\n",
       "      <td>0.000000</td>\n",
       "      <td>269.594000</td>\n",
       "      <td>0.746300</td>\n",
       "      <td>0.000000</td>\n",
       "      <td>0.0</td>\n",
       "      <td>...</td>\n",
       "      <td>58.514100</td>\n",
       "      <td>463.612700</td>\n",
       "      <td>1257.618600</td>\n",
       "      <td>86.475300</td>\n",
       "      <td>978.162000</td>\n",
       "      <td>5176.296700</td>\n",
       "      <td>1339.449500</td>\n",
       "      <td>807.746300</td>\n",
       "      <td>128.659200</td>\n",
       "      <td>0.000000</td>\n",
       "    </tr>\n",
       "    <tr>\n",
       "      <th>max</th>\n",
       "      <td>1.328100</td>\n",
       "      <td>84.739200</td>\n",
       "      <td>107.370500</td>\n",
       "      <td>677.255900</td>\n",
       "      <td>2678.614800</td>\n",
       "      <td>0.267600</td>\n",
       "      <td>1477.014100</td>\n",
       "      <td>5.281000</td>\n",
       "      <td>33.737500</td>\n",
       "      <td>0.0</td>\n",
       "      <td>...</td>\n",
       "      <td>217.434200</td>\n",
       "      <td>1749.691600</td>\n",
       "      <td>3016.414100</td>\n",
       "      <td>472.129300</td>\n",
       "      <td>2453.159500</td>\n",
       "      <td>15291.709300</td>\n",
       "      <td>2811.271300</td>\n",
       "      <td>4961.792200</td>\n",
       "      <td>2692.689000</td>\n",
       "      <td>13.407300</td>\n",
       "    </tr>\n",
       "  </tbody>\n",
       "</table>\n",
       "<p>8 rows × 20529 columns</p>\n",
       "</div>"
      ],
      "text/plain": [
       "Hugo_Symbol  LOC100130426    UBE2Q2P3    UBE2Q2P3   LOC149767       TIMM23  \\\n",
       "count          517.000000  517.000000  517.000000  517.000000   517.000000   \n",
       "mean             0.019793   12.563599   13.772414  109.191745   921.412556   \n",
       "std              0.110964   10.824164   11.507095   54.083375   362.542965   \n",
       "min              0.000000    0.000000    0.000000   36.357000   270.115400   \n",
       "25%              0.000000    5.357900    5.888000   78.785300   671.334600   \n",
       "50%              0.000000   10.456700   11.282000   97.173100   848.939700   \n",
       "75%              0.000000   16.079700   17.981600  122.073800  1072.048400   \n",
       "max              1.328100   84.739200  107.370500  677.255900  2678.614800   \n",
       "\n",
       "Hugo_Symbol       MOXD2    LOC155060    RNU12-2P        SSX9  LOC317712  ...  \\\n",
       "count        517.000000   517.000000  517.000000  517.000000      517.0  ...   \n",
       "mean           0.000518   200.965270    0.456712    0.144994        0.0  ...   \n",
       "std            0.011769   156.827547    0.605640    1.625181        0.0  ...   \n",
       "min            0.000000    11.022000    0.000000    0.000000        0.0  ...   \n",
       "25%            0.000000    89.459200    0.000000    0.000000        0.0  ...   \n",
       "50%            0.000000   160.488400    0.305600    0.000000        0.0  ...   \n",
       "75%            0.000000   269.594000    0.746300    0.000000        0.0  ...   \n",
       "max            0.267600  1477.014100    5.281000   33.737500        0.0  ...   \n",
       "\n",
       "Hugo_Symbol        ZXDA         ZXDB  LOC100130182      ZYG11A       ZYG11B  \\\n",
       "count        517.000000   517.000000    517.000000  517.000000   517.000000   \n",
       "mean          48.018296   383.145637   1082.626088   61.012445   849.987180   \n",
       "std           21.424549   169.977557    339.329517   74.516301   259.159593   \n",
       "min            8.879000    34.099400    311.314600    0.000000   264.413200   \n",
       "25%           34.482800   276.152700    851.610700    5.879200   675.758400   \n",
       "50%           44.308600   346.751700   1040.429600   37.424400   815.834800   \n",
       "75%           58.514100   463.612700   1257.618600   86.475300   978.162000   \n",
       "max          217.434200  1749.691600   3016.414100  472.129300  2453.159500   \n",
       "\n",
       "Hugo_Symbol           ZYX     FLJ10821         ZZZ3    HUMRTVLH3     AKR1C6P  \n",
       "count          517.000000   517.000000   517.000000   517.000000  517.000000  \n",
       "mean          4049.562512  1080.205735   710.462033   127.999331    0.176634  \n",
       "std           1869.604727   440.005370   319.317913   251.016470    0.896453  \n",
       "min            446.043200   183.841200   219.603600     0.685400    0.000000  \n",
       "25%           2650.125500   776.395500   548.513500    10.759700    0.000000  \n",
       "50%           3811.870500  1033.582100   663.253200    25.665900    0.000000  \n",
       "75%           5176.296700  1339.449500   807.746300   128.659200    0.000000  \n",
       "max          15291.709300  2811.271300  4961.792200  2692.689000   13.407300  \n",
       "\n",
       "[8 rows x 20529 columns]"
      ]
     },
     "execution_count": 11,
     "metadata": {},
     "output_type": "execute_result"
    }
   ],
   "source": [
    "# Transposta para colocar 1 gene em cada coluna\n",
    "# Describe - análise estatística\n",
    "    # Contagem (count): Número de observações não nulas.\n",
    "    # Média (mean): Média aritmética dos valores.\n",
    "    # Desvio padrão (std): Medida de dispersão dos valores em relação à média.\n",
    "    # Valor mínimo (min): Menor valor na coluna.\n",
    "    # Quartil inferior (25%): Valor abaixo do qual 25% dos dados se encontram.\n",
    "    # Mediana (50%): Valor abaixo do qual 50% dos dados se encontram (também conhecido como segundo quartil).\n",
    "    # Quartil superior (75%): Valor abaixo do qual 75% dos dados se encontram.\n",
    "    # Valor máximo (max): Maior valor na coluna.\n",
    "data_transposta = data_hugo_luad.transpose()\n",
    "data_transposta.describe()"
   ]
  },
  {
   "cell_type": "markdown",
   "metadata": {},
   "source": [
    "### Metadados"
   ]
  },
  {
   "cell_type": "code",
   "execution_count": 12,
   "metadata": {},
   "outputs": [],
   "source": [
    "# Carregar metadados\n",
    "# Selecionou-se a coluna Sample ID como índice porque é a coluna que ambos os datasets têm em comum\n",
    "meta_luad = pd.read_csv(\"luad_tcga_clinical_data.tsv\",sep=\"\\t\",header=0,index_col=2)\n",
    "\n",
    "#Eliminar coluna Study ID por identificar o estudo, que é igual em todas as amostras, sendo por isso irrelevante\n",
    "del meta_luad[\"Study ID\"]"
   ]
  },
  {
   "cell_type": "code",
   "execution_count": 13,
   "metadata": {
    "scrolled": true
   },
   "outputs": [
    {
     "data": {
      "text/plain": [
       "(517, 106)"
      ]
     },
     "execution_count": 13,
     "metadata": {},
     "output_type": "execute_result"
    }
   ],
   "source": [
    "#verificar a dimensão dos metadados\n",
    "meta_luad.shape  ## 517 amostras x 106 variaveis"
   ]
  },
  {
   "cell_type": "code",
   "execution_count": 14,
   "metadata": {},
   "outputs": [
    {
     "data": {
      "text/plain": [
       "515"
      ]
     },
     "execution_count": 14,
     "metadata": {},
     "output_type": "execute_result"
    }
   ],
   "source": [
    "#verificaram-se que havia 515 id paciente únicos, ou seja, há 2 pacientes que têm 2 amostras\n",
    "len(meta_luad[\"Patient ID\"].unique())"
   ]
  },
  {
   "cell_type": "code",
   "execution_count": 15,
   "metadata": {},
   "outputs": [
    {
     "name": "stdout",
     "output_type": "stream",
     "text": [
      "Tipos de atributos (metadados):\n",
      "Patient ID                                                                          object\n",
      "Diagnosis Age                                                                      float64\n",
      "Neoplasm Disease Stage American Joint Committee on Cancer Code                     float64\n",
      "Neoplasm American Joint Committee on Cancer Clinical Distant Metastasis M Stage    float64\n",
      "American Joint Committee on Cancer Metastasis Stage Code                            object\n",
      "                                                                                    ...   \n",
      "Primary Therapy Outcome Success Type                                                object\n",
      "Tumor Site                                                                          object\n",
      "Person Neoplasm Status                                                              object\n",
      "Vial number                                                                         object\n",
      "Patient's Vital Status                                                              object\n",
      "Length: 106, dtype: object\n"
     ]
    }
   ],
   "source": [
    "# verificar o tipo de atributos nos metadados\n",
    "print(\"Tipos de atributos (metadados):\")\n",
    "print(meta_luad.dtypes)"
   ]
  },
  {
   "cell_type": "code",
   "execution_count": 16,
   "metadata": {},
   "outputs": [
    {
     "data": {
      "text/html": [
       "<div>\n",
       "<style scoped>\n",
       "    .dataframe tbody tr th:only-of-type {\n",
       "        vertical-align: middle;\n",
       "    }\n",
       "\n",
       "    .dataframe tbody tr th {\n",
       "        vertical-align: top;\n",
       "    }\n",
       "\n",
       "    .dataframe thead th {\n",
       "        text-align: right;\n",
       "    }\n",
       "</style>\n",
       "<table border=\"1\" class=\"dataframe\">\n",
       "  <thead>\n",
       "    <tr style=\"text-align: right;\">\n",
       "      <th></th>\n",
       "      <th>Patient ID</th>\n",
       "      <th>Diagnosis Age</th>\n",
       "      <th>Neoplasm Disease Stage American Joint Committee on Cancer Code</th>\n",
       "      <th>Neoplasm American Joint Committee on Cancer Clinical Distant Metastasis M Stage</th>\n",
       "      <th>American Joint Committee on Cancer Metastasis Stage Code</th>\n",
       "      <th>American Joint Committee on Cancer Lymph Node Stage Code</th>\n",
       "      <th>American Joint Committee on Cancer Lymph Node Stage Code.1</th>\n",
       "      <th>Neoplasm Disease Lymph Node Stage American Joint Committee on Cancer Code</th>\n",
       "      <th>Neoplasm Disease Stage American Joint Committee on Cancer Code.1</th>\n",
       "      <th>American Joint Committee on Cancer Publication Version Type</th>\n",
       "      <th>...</th>\n",
       "      <th>Adjuvant Postoperative Targeted Therapy Administered Indicator</th>\n",
       "      <th>Time between clamping and freezing</th>\n",
       "      <th>Time between excision and freezing</th>\n",
       "      <th>Tissue Source Site</th>\n",
       "      <th>Patient Smoking History Category</th>\n",
       "      <th>Primary Therapy Outcome Success Type</th>\n",
       "      <th>Tumor Site</th>\n",
       "      <th>Person Neoplasm Status</th>\n",
       "      <th>Vial number</th>\n",
       "      <th>Patient's Vital Status</th>\n",
       "    </tr>\n",
       "    <tr>\n",
       "      <th>Sample ID</th>\n",
       "      <th></th>\n",
       "      <th></th>\n",
       "      <th></th>\n",
       "      <th></th>\n",
       "      <th></th>\n",
       "      <th></th>\n",
       "      <th></th>\n",
       "      <th></th>\n",
       "      <th></th>\n",
       "      <th></th>\n",
       "      <th></th>\n",
       "      <th></th>\n",
       "      <th></th>\n",
       "      <th></th>\n",
       "      <th></th>\n",
       "      <th></th>\n",
       "      <th></th>\n",
       "      <th></th>\n",
       "      <th></th>\n",
       "      <th></th>\n",
       "      <th></th>\n",
       "    </tr>\n",
       "  </thead>\n",
       "  <tbody>\n",
       "    <tr>\n",
       "      <th>TCGA-05-4244-01</th>\n",
       "      <td>TCGA-05-4244</td>\n",
       "      <td>70.0</td>\n",
       "      <td>NaN</td>\n",
       "      <td>NaN</td>\n",
       "      <td>M1</td>\n",
       "      <td>NaN</td>\n",
       "      <td>NaN</td>\n",
       "      <td>N2</td>\n",
       "      <td>Stage IV</td>\n",
       "      <td>6th</td>\n",
       "      <td>...</td>\n",
       "      <td>NaN</td>\n",
       "      <td>NaN</td>\n",
       "      <td>NaN</td>\n",
       "      <td>5</td>\n",
       "      <td>4.0</td>\n",
       "      <td>NaN</td>\n",
       "      <td>Lung</td>\n",
       "      <td>TUMOR FREE</td>\n",
       "      <td>A</td>\n",
       "      <td>Alive</td>\n",
       "    </tr>\n",
       "    <tr>\n",
       "      <th>TCGA-05-4249-01</th>\n",
       "      <td>TCGA-05-4249</td>\n",
       "      <td>67.0</td>\n",
       "      <td>NaN</td>\n",
       "      <td>NaN</td>\n",
       "      <td>M0</td>\n",
       "      <td>NaN</td>\n",
       "      <td>NaN</td>\n",
       "      <td>N0</td>\n",
       "      <td>Stage IB</td>\n",
       "      <td>6th</td>\n",
       "      <td>...</td>\n",
       "      <td>NaN</td>\n",
       "      <td>NaN</td>\n",
       "      <td>NaN</td>\n",
       "      <td>5</td>\n",
       "      <td>3.0</td>\n",
       "      <td>NaN</td>\n",
       "      <td>Lung</td>\n",
       "      <td>TUMOR FREE</td>\n",
       "      <td>A</td>\n",
       "      <td>Alive</td>\n",
       "    </tr>\n",
       "    <tr>\n",
       "      <th>TCGA-05-4250-01</th>\n",
       "      <td>TCGA-05-4250</td>\n",
       "      <td>79.0</td>\n",
       "      <td>NaN</td>\n",
       "      <td>NaN</td>\n",
       "      <td>M0</td>\n",
       "      <td>NaN</td>\n",
       "      <td>NaN</td>\n",
       "      <td>N1</td>\n",
       "      <td>Stage IIIA</td>\n",
       "      <td>6th</td>\n",
       "      <td>...</td>\n",
       "      <td>NaN</td>\n",
       "      <td>NaN</td>\n",
       "      <td>NaN</td>\n",
       "      <td>5</td>\n",
       "      <td>4.0</td>\n",
       "      <td>NaN</td>\n",
       "      <td>Lung</td>\n",
       "      <td>NaN</td>\n",
       "      <td>A</td>\n",
       "      <td>Dead</td>\n",
       "    </tr>\n",
       "    <tr>\n",
       "      <th>TCGA-05-4382-01</th>\n",
       "      <td>TCGA-05-4382</td>\n",
       "      <td>68.0</td>\n",
       "      <td>NaN</td>\n",
       "      <td>NaN</td>\n",
       "      <td>M0</td>\n",
       "      <td>NaN</td>\n",
       "      <td>NaN</td>\n",
       "      <td>N0</td>\n",
       "      <td>Stage IB</td>\n",
       "      <td>6th</td>\n",
       "      <td>...</td>\n",
       "      <td>NaN</td>\n",
       "      <td>NaN</td>\n",
       "      <td>NaN</td>\n",
       "      <td>5</td>\n",
       "      <td>4.0</td>\n",
       "      <td>NaN</td>\n",
       "      <td>Lung</td>\n",
       "      <td>TUMOR FREE</td>\n",
       "      <td>A</td>\n",
       "      <td>Alive</td>\n",
       "    </tr>\n",
       "    <tr>\n",
       "      <th>TCGA-05-4384-01</th>\n",
       "      <td>TCGA-05-4384</td>\n",
       "      <td>66.0</td>\n",
       "      <td>NaN</td>\n",
       "      <td>NaN</td>\n",
       "      <td>M0</td>\n",
       "      <td>NaN</td>\n",
       "      <td>NaN</td>\n",
       "      <td>N2</td>\n",
       "      <td>Stage IIIA</td>\n",
       "      <td>6th</td>\n",
       "      <td>...</td>\n",
       "      <td>NaN</td>\n",
       "      <td>NaN</td>\n",
       "      <td>NaN</td>\n",
       "      <td>5</td>\n",
       "      <td>3.0</td>\n",
       "      <td>NaN</td>\n",
       "      <td>Lung</td>\n",
       "      <td>NaN</td>\n",
       "      <td>A</td>\n",
       "      <td>Alive</td>\n",
       "    </tr>\n",
       "  </tbody>\n",
       "</table>\n",
       "<p>5 rows × 106 columns</p>\n",
       "</div>"
      ],
      "text/plain": [
       "                   Patient ID  Diagnosis Age  \\\n",
       "Sample ID                                      \n",
       "TCGA-05-4244-01  TCGA-05-4244           70.0   \n",
       "TCGA-05-4249-01  TCGA-05-4249           67.0   \n",
       "TCGA-05-4250-01  TCGA-05-4250           79.0   \n",
       "TCGA-05-4382-01  TCGA-05-4382           68.0   \n",
       "TCGA-05-4384-01  TCGA-05-4384           66.0   \n",
       "\n",
       "                 Neoplasm Disease Stage American Joint Committee on Cancer Code  \\\n",
       "Sample ID                                                                         \n",
       "TCGA-05-4244-01                                                NaN                \n",
       "TCGA-05-4249-01                                                NaN                \n",
       "TCGA-05-4250-01                                                NaN                \n",
       "TCGA-05-4382-01                                                NaN                \n",
       "TCGA-05-4384-01                                                NaN                \n",
       "\n",
       "                 Neoplasm American Joint Committee on Cancer Clinical Distant Metastasis M Stage  \\\n",
       "Sample ID                                                                                          \n",
       "TCGA-05-4244-01                                                NaN                                 \n",
       "TCGA-05-4249-01                                                NaN                                 \n",
       "TCGA-05-4250-01                                                NaN                                 \n",
       "TCGA-05-4382-01                                                NaN                                 \n",
       "TCGA-05-4384-01                                                NaN                                 \n",
       "\n",
       "                American Joint Committee on Cancer Metastasis Stage Code  \\\n",
       "Sample ID                                                                  \n",
       "TCGA-05-4244-01                                                 M1         \n",
       "TCGA-05-4249-01                                                 M0         \n",
       "TCGA-05-4250-01                                                 M0         \n",
       "TCGA-05-4382-01                                                 M0         \n",
       "TCGA-05-4384-01                                                 M0         \n",
       "\n",
       "                 American Joint Committee on Cancer Lymph Node Stage Code  \\\n",
       "Sample ID                                                                   \n",
       "TCGA-05-4244-01                                                NaN          \n",
       "TCGA-05-4249-01                                                NaN          \n",
       "TCGA-05-4250-01                                                NaN          \n",
       "TCGA-05-4382-01                                                NaN          \n",
       "TCGA-05-4384-01                                                NaN          \n",
       "\n",
       "                 American Joint Committee on Cancer Lymph Node Stage Code.1  \\\n",
       "Sample ID                                                                     \n",
       "TCGA-05-4244-01                                                NaN            \n",
       "TCGA-05-4249-01                                                NaN            \n",
       "TCGA-05-4250-01                                                NaN            \n",
       "TCGA-05-4382-01                                                NaN            \n",
       "TCGA-05-4384-01                                                NaN            \n",
       "\n",
       "                Neoplasm Disease Lymph Node Stage American Joint Committee on Cancer Code  \\\n",
       "Sample ID                                                                                   \n",
       "TCGA-05-4244-01                                                 N2                          \n",
       "TCGA-05-4249-01                                                 N0                          \n",
       "TCGA-05-4250-01                                                 N1                          \n",
       "TCGA-05-4382-01                                                 N0                          \n",
       "TCGA-05-4384-01                                                 N2                          \n",
       "\n",
       "                Neoplasm Disease Stage American Joint Committee on Cancer Code.1  \\\n",
       "Sample ID                                                                          \n",
       "TCGA-05-4244-01                                           Stage IV                 \n",
       "TCGA-05-4249-01                                           Stage IB                 \n",
       "TCGA-05-4250-01                                         Stage IIIA                 \n",
       "TCGA-05-4382-01                                           Stage IB                 \n",
       "TCGA-05-4384-01                                         Stage IIIA                 \n",
       "\n",
       "                American Joint Committee on Cancer Publication Version Type  \\\n",
       "Sample ID                                                                     \n",
       "TCGA-05-4244-01                                                6th            \n",
       "TCGA-05-4249-01                                                6th            \n",
       "TCGA-05-4250-01                                                6th            \n",
       "TCGA-05-4382-01                                                6th            \n",
       "TCGA-05-4384-01                                                6th            \n",
       "\n",
       "                 ...  \\\n",
       "Sample ID        ...   \n",
       "TCGA-05-4244-01  ...   \n",
       "TCGA-05-4249-01  ...   \n",
       "TCGA-05-4250-01  ...   \n",
       "TCGA-05-4382-01  ...   \n",
       "TCGA-05-4384-01  ...   \n",
       "\n",
       "                Adjuvant Postoperative Targeted Therapy Administered Indicator  \\\n",
       "Sample ID                                                                        \n",
       "TCGA-05-4244-01                                                NaN               \n",
       "TCGA-05-4249-01                                                NaN               \n",
       "TCGA-05-4250-01                                                NaN               \n",
       "TCGA-05-4382-01                                                NaN               \n",
       "TCGA-05-4384-01                                                NaN               \n",
       "\n",
       "                Time between clamping and freezing  \\\n",
       "Sample ID                                            \n",
       "TCGA-05-4244-01                                NaN   \n",
       "TCGA-05-4249-01                                NaN   \n",
       "TCGA-05-4250-01                                NaN   \n",
       "TCGA-05-4382-01                                NaN   \n",
       "TCGA-05-4384-01                                NaN   \n",
       "\n",
       "                Time between excision and freezing  Tissue Source Site  \\\n",
       "Sample ID                                                                \n",
       "TCGA-05-4244-01                                NaN                   5   \n",
       "TCGA-05-4249-01                                NaN                   5   \n",
       "TCGA-05-4250-01                                NaN                   5   \n",
       "TCGA-05-4382-01                                NaN                   5   \n",
       "TCGA-05-4384-01                                NaN                   5   \n",
       "\n",
       "                Patient Smoking History Category  \\\n",
       "Sample ID                                          \n",
       "TCGA-05-4244-01                              4.0   \n",
       "TCGA-05-4249-01                              3.0   \n",
       "TCGA-05-4250-01                              4.0   \n",
       "TCGA-05-4382-01                              4.0   \n",
       "TCGA-05-4384-01                              3.0   \n",
       "\n",
       "                Primary Therapy Outcome Success Type  Tumor Site  \\\n",
       "Sample ID                                                          \n",
       "TCGA-05-4244-01                                  NaN        Lung   \n",
       "TCGA-05-4249-01                                  NaN        Lung   \n",
       "TCGA-05-4250-01                                  NaN        Lung   \n",
       "TCGA-05-4382-01                                  NaN        Lung   \n",
       "TCGA-05-4384-01                                  NaN        Lung   \n",
       "\n",
       "                 Person Neoplasm Status  Vial number  Patient's Vital Status  \n",
       "Sample ID                                                                     \n",
       "TCGA-05-4244-01              TUMOR FREE            A                   Alive  \n",
       "TCGA-05-4249-01              TUMOR FREE            A                   Alive  \n",
       "TCGA-05-4250-01                     NaN            A                    Dead  \n",
       "TCGA-05-4382-01              TUMOR FREE            A                   Alive  \n",
       "TCGA-05-4384-01                     NaN            A                   Alive  \n",
       "\n",
       "[5 rows x 106 columns]"
      ]
     },
     "execution_count": 16,
     "metadata": {},
     "output_type": "execute_result"
    }
   ],
   "source": [
    "#retornar por padrão as primeiras 5 linhas dos metadados\n",
    "meta_luad.head()"
   ]
  },
  {
   "cell_type": "code",
   "execution_count": 17,
   "metadata": {},
   "outputs": [
    {
     "data": {
      "text/html": [
       "<div>\n",
       "<style scoped>\n",
       "    .dataframe tbody tr th:only-of-type {\n",
       "        vertical-align: middle;\n",
       "    }\n",
       "\n",
       "    .dataframe tbody tr th {\n",
       "        vertical-align: top;\n",
       "    }\n",
       "\n",
       "    .dataframe thead th {\n",
       "        text-align: right;\n",
       "    }\n",
       "</style>\n",
       "<table border=\"1\" class=\"dataframe\">\n",
       "  <thead>\n",
       "    <tr style=\"text-align: right;\">\n",
       "      <th></th>\n",
       "      <th>Patient ID</th>\n",
       "      <th>Diagnosis Age</th>\n",
       "      <th>Neoplasm Disease Stage American Joint Committee on Cancer Code</th>\n",
       "      <th>Neoplasm American Joint Committee on Cancer Clinical Distant Metastasis M Stage</th>\n",
       "      <th>American Joint Committee on Cancer Metastasis Stage Code</th>\n",
       "      <th>American Joint Committee on Cancer Lymph Node Stage Code</th>\n",
       "      <th>American Joint Committee on Cancer Lymph Node Stage Code.1</th>\n",
       "      <th>Neoplasm Disease Lymph Node Stage American Joint Committee on Cancer Code</th>\n",
       "      <th>Neoplasm Disease Stage American Joint Committee on Cancer Code.1</th>\n",
       "      <th>American Joint Committee on Cancer Publication Version Type</th>\n",
       "      <th>...</th>\n",
       "      <th>Adjuvant Postoperative Targeted Therapy Administered Indicator</th>\n",
       "      <th>Time between clamping and freezing</th>\n",
       "      <th>Time between excision and freezing</th>\n",
       "      <th>Tissue Source Site</th>\n",
       "      <th>Patient Smoking History Category</th>\n",
       "      <th>Primary Therapy Outcome Success Type</th>\n",
       "      <th>Tumor Site</th>\n",
       "      <th>Person Neoplasm Status</th>\n",
       "      <th>Vial number</th>\n",
       "      <th>Patient's Vital Status</th>\n",
       "    </tr>\n",
       "  </thead>\n",
       "  <tbody>\n",
       "    <tr>\n",
       "      <th>count</th>\n",
       "      <td>517</td>\n",
       "      <td>498.000000</td>\n",
       "      <td>0.0</td>\n",
       "      <td>0.0</td>\n",
       "      <td>513</td>\n",
       "      <td>0.0</td>\n",
       "      <td>0.0</td>\n",
       "      <td>516</td>\n",
       "      <td>509</td>\n",
       "      <td>494</td>\n",
       "      <td>...</td>\n",
       "      <td>154</td>\n",
       "      <td>0.0</td>\n",
       "      <td>0.0</td>\n",
       "      <td>517</td>\n",
       "      <td>503.000000</td>\n",
       "      <td>149</td>\n",
       "      <td>517</td>\n",
       "      <td>419</td>\n",
       "      <td>515</td>\n",
       "      <td>517</td>\n",
       "    </tr>\n",
       "    <tr>\n",
       "      <th>unique</th>\n",
       "      <td>515</td>\n",
       "      <td>NaN</td>\n",
       "      <td>NaN</td>\n",
       "      <td>NaN</td>\n",
       "      <td>5</td>\n",
       "      <td>NaN</td>\n",
       "      <td>NaN</td>\n",
       "      <td>5</td>\n",
       "      <td>9</td>\n",
       "      <td>5</td>\n",
       "      <td>...</td>\n",
       "      <td>2</td>\n",
       "      <td>NaN</td>\n",
       "      <td>NaN</td>\n",
       "      <td>33</td>\n",
       "      <td>NaN</td>\n",
       "      <td>4</td>\n",
       "      <td>1</td>\n",
       "      <td>2</td>\n",
       "      <td>2</td>\n",
       "      <td>2</td>\n",
       "    </tr>\n",
       "    <tr>\n",
       "      <th>top</th>\n",
       "      <td>TCGA-50-5946</td>\n",
       "      <td>NaN</td>\n",
       "      <td>NaN</td>\n",
       "      <td>NaN</td>\n",
       "      <td>M0</td>\n",
       "      <td>NaN</td>\n",
       "      <td>NaN</td>\n",
       "      <td>N0</td>\n",
       "      <td>Stage IB</td>\n",
       "      <td>7th</td>\n",
       "      <td>...</td>\n",
       "      <td>NO</td>\n",
       "      <td>NaN</td>\n",
       "      <td>NaN</td>\n",
       "      <td>55</td>\n",
       "      <td>NaN</td>\n",
       "      <td>Complete Remission/Response</td>\n",
       "      <td>Lung</td>\n",
       "      <td>TUMOR FREE</td>\n",
       "      <td>A</td>\n",
       "      <td>Alive</td>\n",
       "    </tr>\n",
       "    <tr>\n",
       "      <th>freq</th>\n",
       "      <td>2</td>\n",
       "      <td>NaN</td>\n",
       "      <td>NaN</td>\n",
       "      <td>NaN</td>\n",
       "      <td>347</td>\n",
       "      <td>NaN</td>\n",
       "      <td>NaN</td>\n",
       "      <td>333</td>\n",
       "      <td>140</td>\n",
       "      <td>268</td>\n",
       "      <td>...</td>\n",
       "      <td>117</td>\n",
       "      <td>NaN</td>\n",
       "      <td>NaN</td>\n",
       "      <td>91</td>\n",
       "      <td>NaN</td>\n",
       "      <td>128</td>\n",
       "      <td>517</td>\n",
       "      <td>308</td>\n",
       "      <td>512</td>\n",
       "      <td>330</td>\n",
       "    </tr>\n",
       "    <tr>\n",
       "      <th>mean</th>\n",
       "      <td>NaN</td>\n",
       "      <td>65.373494</td>\n",
       "      <td>NaN</td>\n",
       "      <td>NaN</td>\n",
       "      <td>NaN</td>\n",
       "      <td>NaN</td>\n",
       "      <td>NaN</td>\n",
       "      <td>NaN</td>\n",
       "      <td>NaN</td>\n",
       "      <td>NaN</td>\n",
       "      <td>...</td>\n",
       "      <td>NaN</td>\n",
       "      <td>NaN</td>\n",
       "      <td>NaN</td>\n",
       "      <td>NaN</td>\n",
       "      <td>2.813121</td>\n",
       "      <td>NaN</td>\n",
       "      <td>NaN</td>\n",
       "      <td>NaN</td>\n",
       "      <td>NaN</td>\n",
       "      <td>NaN</td>\n",
       "    </tr>\n",
       "    <tr>\n",
       "      <th>std</th>\n",
       "      <td>NaN</td>\n",
       "      <td>9.921273</td>\n",
       "      <td>NaN</td>\n",
       "      <td>NaN</td>\n",
       "      <td>NaN</td>\n",
       "      <td>NaN</td>\n",
       "      <td>NaN</td>\n",
       "      <td>NaN</td>\n",
       "      <td>NaN</td>\n",
       "      <td>NaN</td>\n",
       "      <td>...</td>\n",
       "      <td>NaN</td>\n",
       "      <td>NaN</td>\n",
       "      <td>NaN</td>\n",
       "      <td>NaN</td>\n",
       "      <td>1.084510</td>\n",
       "      <td>NaN</td>\n",
       "      <td>NaN</td>\n",
       "      <td>NaN</td>\n",
       "      <td>NaN</td>\n",
       "      <td>NaN</td>\n",
       "    </tr>\n",
       "    <tr>\n",
       "      <th>min</th>\n",
       "      <td>NaN</td>\n",
       "      <td>38.000000</td>\n",
       "      <td>NaN</td>\n",
       "      <td>NaN</td>\n",
       "      <td>NaN</td>\n",
       "      <td>NaN</td>\n",
       "      <td>NaN</td>\n",
       "      <td>NaN</td>\n",
       "      <td>NaN</td>\n",
       "      <td>NaN</td>\n",
       "      <td>...</td>\n",
       "      <td>NaN</td>\n",
       "      <td>NaN</td>\n",
       "      <td>NaN</td>\n",
       "      <td>NaN</td>\n",
       "      <td>1.000000</td>\n",
       "      <td>NaN</td>\n",
       "      <td>NaN</td>\n",
       "      <td>NaN</td>\n",
       "      <td>NaN</td>\n",
       "      <td>NaN</td>\n",
       "    </tr>\n",
       "    <tr>\n",
       "      <th>25%</th>\n",
       "      <td>NaN</td>\n",
       "      <td>59.000000</td>\n",
       "      <td>NaN</td>\n",
       "      <td>NaN</td>\n",
       "      <td>NaN</td>\n",
       "      <td>NaN</td>\n",
       "      <td>NaN</td>\n",
       "      <td>NaN</td>\n",
       "      <td>NaN</td>\n",
       "      <td>NaN</td>\n",
       "      <td>...</td>\n",
       "      <td>NaN</td>\n",
       "      <td>NaN</td>\n",
       "      <td>NaN</td>\n",
       "      <td>NaN</td>\n",
       "      <td>2.000000</td>\n",
       "      <td>NaN</td>\n",
       "      <td>NaN</td>\n",
       "      <td>NaN</td>\n",
       "      <td>NaN</td>\n",
       "      <td>NaN</td>\n",
       "    </tr>\n",
       "    <tr>\n",
       "      <th>50%</th>\n",
       "      <td>NaN</td>\n",
       "      <td>66.000000</td>\n",
       "      <td>NaN</td>\n",
       "      <td>NaN</td>\n",
       "      <td>NaN</td>\n",
       "      <td>NaN</td>\n",
       "      <td>NaN</td>\n",
       "      <td>NaN</td>\n",
       "      <td>NaN</td>\n",
       "      <td>NaN</td>\n",
       "      <td>...</td>\n",
       "      <td>NaN</td>\n",
       "      <td>NaN</td>\n",
       "      <td>NaN</td>\n",
       "      <td>NaN</td>\n",
       "      <td>3.000000</td>\n",
       "      <td>NaN</td>\n",
       "      <td>NaN</td>\n",
       "      <td>NaN</td>\n",
       "      <td>NaN</td>\n",
       "      <td>NaN</td>\n",
       "    </tr>\n",
       "    <tr>\n",
       "      <th>75%</th>\n",
       "      <td>NaN</td>\n",
       "      <td>72.750000</td>\n",
       "      <td>NaN</td>\n",
       "      <td>NaN</td>\n",
       "      <td>NaN</td>\n",
       "      <td>NaN</td>\n",
       "      <td>NaN</td>\n",
       "      <td>NaN</td>\n",
       "      <td>NaN</td>\n",
       "      <td>NaN</td>\n",
       "      <td>...</td>\n",
       "      <td>NaN</td>\n",
       "      <td>NaN</td>\n",
       "      <td>NaN</td>\n",
       "      <td>NaN</td>\n",
       "      <td>4.000000</td>\n",
       "      <td>NaN</td>\n",
       "      <td>NaN</td>\n",
       "      <td>NaN</td>\n",
       "      <td>NaN</td>\n",
       "      <td>NaN</td>\n",
       "    </tr>\n",
       "    <tr>\n",
       "      <th>max</th>\n",
       "      <td>NaN</td>\n",
       "      <td>88.000000</td>\n",
       "      <td>NaN</td>\n",
       "      <td>NaN</td>\n",
       "      <td>NaN</td>\n",
       "      <td>NaN</td>\n",
       "      <td>NaN</td>\n",
       "      <td>NaN</td>\n",
       "      <td>NaN</td>\n",
       "      <td>NaN</td>\n",
       "      <td>...</td>\n",
       "      <td>NaN</td>\n",
       "      <td>NaN</td>\n",
       "      <td>NaN</td>\n",
       "      <td>NaN</td>\n",
       "      <td>5.000000</td>\n",
       "      <td>NaN</td>\n",
       "      <td>NaN</td>\n",
       "      <td>NaN</td>\n",
       "      <td>NaN</td>\n",
       "      <td>NaN</td>\n",
       "    </tr>\n",
       "  </tbody>\n",
       "</table>\n",
       "<p>11 rows × 106 columns</p>\n",
       "</div>"
      ],
      "text/plain": [
       "          Patient ID  Diagnosis Age  \\\n",
       "count            517     498.000000   \n",
       "unique           515            NaN   \n",
       "top     TCGA-50-5946            NaN   \n",
       "freq               2            NaN   \n",
       "mean             NaN      65.373494   \n",
       "std              NaN       9.921273   \n",
       "min              NaN      38.000000   \n",
       "25%              NaN      59.000000   \n",
       "50%              NaN      66.000000   \n",
       "75%              NaN      72.750000   \n",
       "max              NaN      88.000000   \n",
       "\n",
       "        Neoplasm Disease Stage American Joint Committee on Cancer Code  \\\n",
       "count                                                 0.0                \n",
       "unique                                                NaN                \n",
       "top                                                   NaN                \n",
       "freq                                                  NaN                \n",
       "mean                                                  NaN                \n",
       "std                                                   NaN                \n",
       "min                                                   NaN                \n",
       "25%                                                   NaN                \n",
       "50%                                                   NaN                \n",
       "75%                                                   NaN                \n",
       "max                                                   NaN                \n",
       "\n",
       "        Neoplasm American Joint Committee on Cancer Clinical Distant Metastasis M Stage  \\\n",
       "count                                                 0.0                                 \n",
       "unique                                                NaN                                 \n",
       "top                                                   NaN                                 \n",
       "freq                                                  NaN                                 \n",
       "mean                                                  NaN                                 \n",
       "std                                                   NaN                                 \n",
       "min                                                   NaN                                 \n",
       "25%                                                   NaN                                 \n",
       "50%                                                   NaN                                 \n",
       "75%                                                   NaN                                 \n",
       "max                                                   NaN                                 \n",
       "\n",
       "       American Joint Committee on Cancer Metastasis Stage Code  \\\n",
       "count                                                 513         \n",
       "unique                                                  5         \n",
       "top                                                    M0         \n",
       "freq                                                  347         \n",
       "mean                                                  NaN         \n",
       "std                                                   NaN         \n",
       "min                                                   NaN         \n",
       "25%                                                   NaN         \n",
       "50%                                                   NaN         \n",
       "75%                                                   NaN         \n",
       "max                                                   NaN         \n",
       "\n",
       "        American Joint Committee on Cancer Lymph Node Stage Code  \\\n",
       "count                                                 0.0          \n",
       "unique                                                NaN          \n",
       "top                                                   NaN          \n",
       "freq                                                  NaN          \n",
       "mean                                                  NaN          \n",
       "std                                                   NaN          \n",
       "min                                                   NaN          \n",
       "25%                                                   NaN          \n",
       "50%                                                   NaN          \n",
       "75%                                                   NaN          \n",
       "max                                                   NaN          \n",
       "\n",
       "        American Joint Committee on Cancer Lymph Node Stage Code.1  \\\n",
       "count                                                 0.0            \n",
       "unique                                                NaN            \n",
       "top                                                   NaN            \n",
       "freq                                                  NaN            \n",
       "mean                                                  NaN            \n",
       "std                                                   NaN            \n",
       "min                                                   NaN            \n",
       "25%                                                   NaN            \n",
       "50%                                                   NaN            \n",
       "75%                                                   NaN            \n",
       "max                                                   NaN            \n",
       "\n",
       "       Neoplasm Disease Lymph Node Stage American Joint Committee on Cancer Code  \\\n",
       "count                                                 516                          \n",
       "unique                                                  5                          \n",
       "top                                                    N0                          \n",
       "freq                                                  333                          \n",
       "mean                                                  NaN                          \n",
       "std                                                   NaN                          \n",
       "min                                                   NaN                          \n",
       "25%                                                   NaN                          \n",
       "50%                                                   NaN                          \n",
       "75%                                                   NaN                          \n",
       "max                                                   NaN                          \n",
       "\n",
       "       Neoplasm Disease Stage American Joint Committee on Cancer Code.1  \\\n",
       "count                                                 509                 \n",
       "unique                                                  9                 \n",
       "top                                              Stage IB                 \n",
       "freq                                                  140                 \n",
       "mean                                                  NaN                 \n",
       "std                                                   NaN                 \n",
       "min                                                   NaN                 \n",
       "25%                                                   NaN                 \n",
       "50%                                                   NaN                 \n",
       "75%                                                   NaN                 \n",
       "max                                                   NaN                 \n",
       "\n",
       "       American Joint Committee on Cancer Publication Version Type  ...  \\\n",
       "count                                                 494           ...   \n",
       "unique                                                  5           ...   \n",
       "top                                                   7th           ...   \n",
       "freq                                                  268           ...   \n",
       "mean                                                  NaN           ...   \n",
       "std                                                   NaN           ...   \n",
       "min                                                   NaN           ...   \n",
       "25%                                                   NaN           ...   \n",
       "50%                                                   NaN           ...   \n",
       "75%                                                   NaN           ...   \n",
       "max                                                   NaN           ...   \n",
       "\n",
       "       Adjuvant Postoperative Targeted Therapy Administered Indicator  \\\n",
       "count                                                 154               \n",
       "unique                                                  2               \n",
       "top                                                    NO               \n",
       "freq                                                  117               \n",
       "mean                                                  NaN               \n",
       "std                                                   NaN               \n",
       "min                                                   NaN               \n",
       "25%                                                   NaN               \n",
       "50%                                                   NaN               \n",
       "75%                                                   NaN               \n",
       "max                                                   NaN               \n",
       "\n",
       "       Time between clamping and freezing Time between excision and freezing  \\\n",
       "count                                 0.0                                0.0   \n",
       "unique                                NaN                                NaN   \n",
       "top                                   NaN                                NaN   \n",
       "freq                                  NaN                                NaN   \n",
       "mean                                  NaN                                NaN   \n",
       "std                                   NaN                                NaN   \n",
       "min                                   NaN                                NaN   \n",
       "25%                                   NaN                                NaN   \n",
       "50%                                   NaN                                NaN   \n",
       "75%                                   NaN                                NaN   \n",
       "max                                   NaN                                NaN   \n",
       "\n",
       "        Tissue Source Site Patient Smoking History Category  \\\n",
       "count                  517                       503.000000   \n",
       "unique                  33                              NaN   \n",
       "top                     55                              NaN   \n",
       "freq                    91                              NaN   \n",
       "mean                   NaN                         2.813121   \n",
       "std                    NaN                         1.084510   \n",
       "min                    NaN                         1.000000   \n",
       "25%                    NaN                         2.000000   \n",
       "50%                    NaN                         3.000000   \n",
       "75%                    NaN                         4.000000   \n",
       "max                    NaN                         5.000000   \n",
       "\n",
       "       Primary Therapy Outcome Success Type  Tumor Site  \\\n",
       "count                                   149         517   \n",
       "unique                                    4           1   \n",
       "top             Complete Remission/Response        Lung   \n",
       "freq                                    128         517   \n",
       "mean                                    NaN         NaN   \n",
       "std                                     NaN         NaN   \n",
       "min                                     NaN         NaN   \n",
       "25%                                     NaN         NaN   \n",
       "50%                                     NaN         NaN   \n",
       "75%                                     NaN         NaN   \n",
       "max                                     NaN         NaN   \n",
       "\n",
       "        Person Neoplasm Status  Vial number  Patient's Vital Status  \n",
       "count                      419          515                     517  \n",
       "unique                       2            2                       2  \n",
       "top                 TUMOR FREE            A                   Alive  \n",
       "freq                       308          512                     330  \n",
       "mean                       NaN          NaN                     NaN  \n",
       "std                        NaN          NaN                     NaN  \n",
       "min                        NaN          NaN                     NaN  \n",
       "25%                        NaN          NaN                     NaN  \n",
       "50%                        NaN          NaN                     NaN  \n",
       "75%                        NaN          NaN                     NaN  \n",
       "max                        NaN          NaN                     NaN  \n",
       "\n",
       "[11 rows x 106 columns]"
      ]
     },
     "execution_count": 17,
     "metadata": {},
     "output_type": "execute_result"
    }
   ],
   "source": [
    "# Análise estatística dos metadados\n",
    "meta_luad.describe(include = \"all\")"
   ]
  },
  {
   "cell_type": "code",
   "execution_count": 18,
   "metadata": {
    "scrolled": true
   },
   "outputs": [
    {
     "data": {
      "text/plain": [
       "517"
      ]
     },
     "execution_count": 18,
     "metadata": {},
     "output_type": "execute_result"
    }
   ],
   "source": [
    "# Verificar se os valores ordenados dos linhas de meta_luad são iguais aos valores ordenados das colunas de data_hugo_luad\n",
    "(meta_luad.index.sort_values() == data_hugo_luad.columns.sort_values()).sum()# as duas tabelas são relacionadas pelo Sample ID"
   ]
  },
  {
   "cell_type": "markdown",
   "metadata": {},
   "source": [
    "#### Seleção dos meta-dados mais relevantes"
   ]
  },
  {
   "cell_type": "code",
   "execution_count": 19,
   "metadata": {},
   "outputs": [
    {
     "name": "stdout",
     "output_type": "stream",
     "text": [
      "<bound method NDFrame.head of                  Diagnosis Age  Fraction Genome Altered     Sex  \\\n",
      "Sample ID                                                         \n",
      "TCGA-05-4244-01           70.0                   0.4565    MALE   \n",
      "TCGA-05-4249-01           67.0                   0.2221    Male   \n",
      "TCGA-05-4250-01           79.0                   0.2362  Female   \n",
      "TCGA-05-4382-01           68.0                   0.0854    Male   \n",
      "TCGA-05-4384-01           66.0                   0.0661    Male   \n",
      "...                        ...                      ...     ...   \n",
      "TCGA-NJ-A55O-01           56.0                   0.0194  Female   \n",
      "TCGA-NJ-A55R-01           67.0                   0.0760    Male   \n",
      "TCGA-NJ-A7XG-01           49.0                   0.4205    Male   \n",
      "TCGA-O1-A52J-01           74.0                   0.5443  Female   \n",
      "TCGA-S2-AA1A-01           68.0                   0.0598  Female   \n",
      "\n",
      "                Patient's Vital Status  \\\n",
      "Sample ID                                \n",
      "TCGA-05-4244-01                  Alive   \n",
      "TCGA-05-4249-01                  Alive   \n",
      "TCGA-05-4250-01                   Dead   \n",
      "TCGA-05-4382-01                  Alive   \n",
      "TCGA-05-4384-01                  Alive   \n",
      "...                                ...   \n",
      "TCGA-NJ-A55O-01                  Alive   \n",
      "TCGA-NJ-A55R-01                  Alive   \n",
      "TCGA-NJ-A7XG-01                  Alive   \n",
      "TCGA-O1-A52J-01                   Dead   \n",
      "TCGA-S2-AA1A-01                  Alive   \n",
      "\n",
      "                American Joint Committee on Cancer Tumor Stage Code  \\\n",
      "Sample ID                                                             \n",
      "TCGA-05-4244-01                                                 T2    \n",
      "TCGA-05-4249-01                                                 T2    \n",
      "TCGA-05-4250-01                                                 T3    \n",
      "TCGA-05-4382-01                                                 T2    \n",
      "TCGA-05-4384-01                                                 T2    \n",
      "...                                                            ...    \n",
      "TCGA-NJ-A55O-01                                                T1b    \n",
      "TCGA-NJ-A55R-01                                                T1b    \n",
      "TCGA-NJ-A7XG-01                                                 T4    \n",
      "TCGA-O1-A52J-01                                                 T1    \n",
      "TCGA-S2-AA1A-01                                                T1b    \n",
      "\n",
      "                 Patient Smoking History Category  \\\n",
      "Sample ID                                           \n",
      "TCGA-05-4244-01                               4.0   \n",
      "TCGA-05-4249-01                               3.0   \n",
      "TCGA-05-4250-01                               4.0   \n",
      "TCGA-05-4382-01                               4.0   \n",
      "TCGA-05-4384-01                               3.0   \n",
      "...                                           ...   \n",
      "TCGA-NJ-A55O-01                               4.0   \n",
      "TCGA-NJ-A55R-01                               3.0   \n",
      "TCGA-NJ-A7XG-01                               3.0   \n",
      "TCGA-O1-A52J-01                               3.0   \n",
      "TCGA-S2-AA1A-01                               3.0   \n",
      "\n",
      "                Prior Cancer Diagnosis Occurence  \n",
      "Sample ID                                         \n",
      "TCGA-05-4244-01                               No  \n",
      "TCGA-05-4249-01                               No  \n",
      "TCGA-05-4250-01                               No  \n",
      "TCGA-05-4382-01                              Yes  \n",
      "TCGA-05-4384-01                              Yes  \n",
      "...                                          ...  \n",
      "TCGA-NJ-A55O-01                               No  \n",
      "TCGA-NJ-A55R-01                               No  \n",
      "TCGA-NJ-A7XG-01                               No  \n",
      "TCGA-O1-A52J-01                               No  \n",
      "TCGA-S2-AA1A-01                               No  \n",
      "\n",
      "[517 rows x 7 columns]>\n"
     ]
    }
   ],
   "source": [
    "# Selecionaram-se os meta-dados:\n",
    "# Age diagnosis, Sex, Patient's Vital Status, American Joint Committee on Cancer Tumor Stage Code, Fraction Genome Altered,Patient Smoking History Category\n",
    "\n",
    "new_meta = meta_luad[['Diagnosis Age','Fraction Genome Altered','Sex',\"Patient's Vital Status\",'American Joint Committee on Cancer Tumor Stage Code','Patient Smoking History Category','Prior Cancer Diagnosis Occurence']]\n",
    "print(new_meta.head) "
   ]
  },
  {
   "cell_type": "markdown",
   "metadata": {},
   "source": [
    "**Comentário**\n",
    "\n",
    "No geral a seleção dos meta-dados baseou-se na relevância dada pelo artigo a cada parâmetro, evitando colunas com um elevado número de valores nulos (NA)."
   ]
  },
  {
   "cell_type": "markdown",
   "metadata": {},
   "source": [
    "Tratamento dos valores nulos nos atributos numéricos, substituindo pela média"
   ]
  },
  {
   "cell_type": "code",
   "execution_count": 20,
   "metadata": {},
   "outputs": [
    {
     "name": "stdout",
     "output_type": "stream",
     "text": [
      "0\n",
      "0\n",
      "0\n",
      "0\n",
      "0\n",
      "0\n"
     ]
    },
    {
     "name": "stderr",
     "output_type": "stream",
     "text": [
      "C:\\Users\\pipap\\anaconda3\\lib\\site-packages\\pandas\\core\\generic.py:6245: SettingWithCopyWarning: \n",
      "A value is trying to be set on a copy of a slice from a DataFrame\n",
      "\n",
      "See the caveats in the documentation: https://pandas.pydata.org/pandas-docs/stable/user_guide/indexing.html#returning-a-view-versus-a-copy\n",
      "  self._update_inplace(new_data)\n"
     ]
    }
   ],
   "source": [
    "# Diagnosis Age\n",
    "new_meta['Diagnosis Age'].fillna(new_meta['Diagnosis Age'].mean(),inplace=True)\n",
    "print(new_meta['Diagnosis Age'].isnull().sum())\n",
    "\n",
    "print(new_meta['Sex'].isnull().sum())\n",
    "\n",
    "print(new_meta[\"Prior Cancer Diagnosis Occurence\"].isnull().sum())\n",
    "\n",
    "# Fraction Genome Altered\n",
    "new_meta['Fraction Genome Altered'].fillna(new_meta['Fraction Genome Altered'].mean(),inplace=True)\n",
    "print(new_meta['Fraction Genome Altered'].isnull().sum())\n",
    "\n",
    "print(new_meta['American Joint Committee on Cancer Tumor Stage Code'].isnull().sum())\n",
    "\n",
    "print(new_meta[\"Patient's Vital Status\"].isnull().sum())\n",
    "\n"
   ]
  },
  {
   "cell_type": "code",
   "execution_count": 21,
   "metadata": {},
   "outputs": [
    {
     "name": "stdout",
     "output_type": "stream",
     "text": [
      "0\n"
     ]
    }
   ],
   "source": [
    "new_meta['Patient Smoking History Category'].fillna(new_meta['Patient Smoking History Category'].mode()[0], inplace=True)\n",
    "print(new_meta['Patient Smoking History Category'].isnull().sum())\n",
    "\n"
   ]
  },
  {
   "cell_type": "code",
   "execution_count": 22,
   "metadata": {},
   "outputs": [
    {
     "data": {
      "text/html": [
       "<div>\n",
       "<style scoped>\n",
       "    .dataframe tbody tr th:only-of-type {\n",
       "        vertical-align: middle;\n",
       "    }\n",
       "\n",
       "    .dataframe tbody tr th {\n",
       "        vertical-align: top;\n",
       "    }\n",
       "\n",
       "    .dataframe thead th {\n",
       "        text-align: right;\n",
       "    }\n",
       "</style>\n",
       "<table border=\"1\" class=\"dataframe\">\n",
       "  <thead>\n",
       "    <tr style=\"text-align: right;\">\n",
       "      <th></th>\n",
       "      <th>Diagnosis Age</th>\n",
       "      <th>Fraction Genome Altered</th>\n",
       "      <th>Sex</th>\n",
       "      <th>Patient's Vital Status</th>\n",
       "      <th>American Joint Committee on Cancer Tumor Stage Code</th>\n",
       "      <th>Patient Smoking History Category</th>\n",
       "      <th>Prior Cancer Diagnosis Occurence</th>\n",
       "    </tr>\n",
       "  </thead>\n",
       "  <tbody>\n",
       "    <tr>\n",
       "      <th>count</th>\n",
       "      <td>517.000000</td>\n",
       "      <td>517.000000</td>\n",
       "      <td>517</td>\n",
       "      <td>517</td>\n",
       "      <td>517</td>\n",
       "      <td>517.000000</td>\n",
       "      <td>517</td>\n",
       "    </tr>\n",
       "    <tr>\n",
       "      <th>unique</th>\n",
       "      <td>NaN</td>\n",
       "      <td>NaN</td>\n",
       "      <td>3</td>\n",
       "      <td>2</td>\n",
       "      <td>9</td>\n",
       "      <td>NaN</td>\n",
       "      <td>4</td>\n",
       "    </tr>\n",
       "    <tr>\n",
       "      <th>top</th>\n",
       "      <td>NaN</td>\n",
       "      <td>NaN</td>\n",
       "      <td>Female</td>\n",
       "      <td>Alive</td>\n",
       "      <td>T2</td>\n",
       "      <td>NaN</td>\n",
       "      <td>No</td>\n",
       "    </tr>\n",
       "    <tr>\n",
       "      <th>freq</th>\n",
       "      <td>NaN</td>\n",
       "      <td>NaN</td>\n",
       "      <td>277</td>\n",
       "      <td>330</td>\n",
       "      <td>169</td>\n",
       "      <td>NaN</td>\n",
       "      <td>426</td>\n",
       "    </tr>\n",
       "    <tr>\n",
       "      <th>mean</th>\n",
       "      <td>65.373494</td>\n",
       "      <td>0.264993</td>\n",
       "      <td>NaN</td>\n",
       "      <td>NaN</td>\n",
       "      <td>NaN</td>\n",
       "      <td>2.845261</td>\n",
       "      <td>NaN</td>\n",
       "    </tr>\n",
       "    <tr>\n",
       "      <th>std</th>\n",
       "      <td>9.736900</td>\n",
       "      <td>0.189946</td>\n",
       "      <td>NaN</td>\n",
       "      <td>NaN</td>\n",
       "      <td>NaN</td>\n",
       "      <td>1.086939</td>\n",
       "      <td>NaN</td>\n",
       "    </tr>\n",
       "    <tr>\n",
       "      <th>min</th>\n",
       "      <td>38.000000</td>\n",
       "      <td>0.000000</td>\n",
       "      <td>NaN</td>\n",
       "      <td>NaN</td>\n",
       "      <td>NaN</td>\n",
       "      <td>1.000000</td>\n",
       "      <td>NaN</td>\n",
       "    </tr>\n",
       "    <tr>\n",
       "      <th>25%</th>\n",
       "      <td>59.000000</td>\n",
       "      <td>0.104600</td>\n",
       "      <td>NaN</td>\n",
       "      <td>NaN</td>\n",
       "      <td>NaN</td>\n",
       "      <td>2.000000</td>\n",
       "      <td>NaN</td>\n",
       "    </tr>\n",
       "    <tr>\n",
       "      <th>50%</th>\n",
       "      <td>66.000000</td>\n",
       "      <td>0.237000</td>\n",
       "      <td>NaN</td>\n",
       "      <td>NaN</td>\n",
       "      <td>NaN</td>\n",
       "      <td>3.000000</td>\n",
       "      <td>NaN</td>\n",
       "    </tr>\n",
       "    <tr>\n",
       "      <th>75%</th>\n",
       "      <td>72.000000</td>\n",
       "      <td>0.399200</td>\n",
       "      <td>NaN</td>\n",
       "      <td>NaN</td>\n",
       "      <td>NaN</td>\n",
       "      <td>4.000000</td>\n",
       "      <td>NaN</td>\n",
       "    </tr>\n",
       "    <tr>\n",
       "      <th>max</th>\n",
       "      <td>88.000000</td>\n",
       "      <td>0.801300</td>\n",
       "      <td>NaN</td>\n",
       "      <td>NaN</td>\n",
       "      <td>NaN</td>\n",
       "      <td>5.000000</td>\n",
       "      <td>NaN</td>\n",
       "    </tr>\n",
       "  </tbody>\n",
       "</table>\n",
       "</div>"
      ],
      "text/plain": [
       "        Diagnosis Age  Fraction Genome Altered     Sex Patient's Vital Status  \\\n",
       "count      517.000000               517.000000     517                    517   \n",
       "unique            NaN                      NaN       3                      2   \n",
       "top               NaN                      NaN  Female                  Alive   \n",
       "freq              NaN                      NaN     277                    330   \n",
       "mean        65.373494                 0.264993     NaN                    NaN   \n",
       "std          9.736900                 0.189946     NaN                    NaN   \n",
       "min         38.000000                 0.000000     NaN                    NaN   \n",
       "25%         59.000000                 0.104600     NaN                    NaN   \n",
       "50%         66.000000                 0.237000     NaN                    NaN   \n",
       "75%         72.000000                 0.399200     NaN                    NaN   \n",
       "max         88.000000                 0.801300     NaN                    NaN   \n",
       "\n",
       "       American Joint Committee on Cancer Tumor Stage Code  \\\n",
       "count                                                 517    \n",
       "unique                                                  9    \n",
       "top                                                    T2    \n",
       "freq                                                  169    \n",
       "mean                                                  NaN    \n",
       "std                                                   NaN    \n",
       "min                                                   NaN    \n",
       "25%                                                   NaN    \n",
       "50%                                                   NaN    \n",
       "75%                                                   NaN    \n",
       "max                                                   NaN    \n",
       "\n",
       "        Patient Smoking History Category Prior Cancer Diagnosis Occurence  \n",
       "count                         517.000000                              517  \n",
       "unique                               NaN                                4  \n",
       "top                                  NaN                               No  \n",
       "freq                                 NaN                              426  \n",
       "mean                            2.845261                              NaN  \n",
       "std                             1.086939                              NaN  \n",
       "min                             1.000000                              NaN  \n",
       "25%                             2.000000                              NaN  \n",
       "50%                             3.000000                              NaN  \n",
       "75%                             4.000000                              NaN  \n",
       "max                             5.000000                              NaN  "
      ]
     },
     "execution_count": 22,
     "metadata": {},
     "output_type": "execute_result"
    }
   ],
   "source": [
    "# Analisar os novos metadados\n",
    "new_meta.describe(include = \"all\")"
   ]
  },
  {
   "cell_type": "markdown",
   "metadata": {},
   "source": [
    "#### Gráficos exploratórios"
   ]
  },
  {
   "cell_type": "code",
   "execution_count": 23,
   "metadata": {},
   "outputs": [
    {
     "data": {
      "text/plain": [
       "Text(0.5, 1.0, 'Percentagem sobre o estado dos pacientes')"
      ]
     },
     "execution_count": 23,
     "metadata": {},
     "output_type": "execute_result"
    },
    {
     "data": {
      "image/png": "[encoded data removed]",
      "text/plain": [
       "<Figure size 432x288 with 1 Axes>"
      ]
     },
     "metadata": {},
     "output_type": "display_data"
    }
   ],
   "source": [
    "new_meta.groupby(\"Patient's Vital Status\").size().plot.pie(autopct='%.0f%%')\n",
    "plt.title('Percentagem sobre o estado dos pacientes')"
   ]
  },
  {
   "cell_type": "code",
   "execution_count": 24,
   "metadata": {},
   "outputs": [
    {
     "data": {
      "image/png": "[encoded data removed]",
      "text/plain": [
       "<Figure size 432x288 with 1 Axes>"
      ]
     },
     "metadata": {
      "needs_background": "light"
     },
     "output_type": "display_data"
    }
   ],
   "source": [
    "# Criar bins de 0.05\n",
    "bins = np.arange(0, new_meta['Fraction Genome Altered'].max() + 0.05, 0.05)\n",
    "\n",
    "# Agrupar os dados em bins e contar o tamanho de cada grupo\n",
    "fga_groups = pd.cut(new_meta['Fraction Genome Altered'], bins=bins)\n",
    "grouped_data = new_meta.groupby(fga_groups).size()\n",
    "\n",
    "# Criar o gráfico de barras\n",
    "grouped_data.plot.bar()\n",
    "plt.title('Fraction Genome Altered (Grouped in 0.05 Intervals)')\n",
    "plt.xlabel('Fraction Genome Altered Intervals')\n",
    "plt.ylabel('Count')\n",
    "plt.show()"
   ]
  },
  {
   "cell_type": "code",
   "execution_count": 25,
   "metadata": {},
   "outputs": [
    {
     "data": {
      "image/png": "[encoded data removed]",
      "text/plain": [
       "<Figure size 432x288 with 1 Axes>"
      ]
     },
     "metadata": {
      "needs_background": "light"
     },
     "output_type": "display_data"
    }
   ],
   "source": [
    "#new_meta.groupby('American Joint Committee on Cancer Tumor Stage Code').size().plot.pie(autopct='%.0f%%')\n",
    "#plt.title('American Joint Committee on Cancer Tumor Stage Code')\n",
    "new_meta.groupby('American Joint Committee on Cancer Tumor Stage Code').size().plot.bar()\n",
    "plt.title('American Joint Committee on Cancer Tumor Stage Code')\n",
    "plt.show()"
   ]
  },
  {
   "cell_type": "code",
   "execution_count": 26,
   "metadata": {},
   "outputs": [
    {
     "data": {
      "image/png": "[encoded data removed]",
      "text/plain": [
       "<Figure size 432x288 with 1 Axes>"
      ]
     },
     "metadata": {
      "needs_background": "light"
     },
     "output_type": "display_data"
    }
   ],
   "source": [
    "new_meta.groupby('Patient Smoking History Category').size().plot.bar()\n",
    "plt.title('Patient Smoking History Category')\n",
    "plt.show()"
   ]
  },
  {
   "cell_type": "code",
   "execution_count": 27,
   "metadata": {},
   "outputs": [
    {
     "data": {
      "image/png": "[encoded data removed]",
      "text/plain": [
       "<Figure size 432x288 with 1 Axes>"
      ]
     },
     "metadata": {
      "needs_background": "light"
     },
     "output_type": "display_data"
    }
   ],
   "source": [
    "# Criar bins de 5 em 5 anos\n",
    "bins = np.arange(0, new_meta['Diagnosis Age'].max() + 5, 5)\n",
    "\n",
    "# Agrupar as idades nos bins e contar o tamanho de cada grupo\n",
    "age_groups = pd.cut(new_meta['Diagnosis Age'], bins=bins)\n",
    "grouped_data = new_meta.groupby(age_groups).size()\n",
    "\n",
    "# Criar o gráfico de barras\n",
    "grouped_data.plot.bar()\n",
    "plt.title('Diagnosis Age (Grouped in 5-Year Intervals)')\n",
    "plt.xlabel('Age Intervals')\n",
    "plt.ylabel('Count')\n",
    "plt.show()\n",
    "# Histograma das idades\n",
    "#new_meta['Diagnosis Age'].hist()\n",
    "#plt.xlabel('Idade')\n",
    "#plt.ylabel('Quantidade')\n",
    "#plt.title('Distribuição das idades presentes no estudo')\n",
    "#plt.show()"
   ]
  },
  {
   "cell_type": "code",
   "execution_count": 28,
   "metadata": {},
   "outputs": [
    {
     "name": "stderr",
     "output_type": "stream",
     "text": [
      "<ipython-input-28-4497ba082875>:2: SettingWithCopyWarning: \n",
      "A value is trying to be set on a copy of a slice from a DataFrame.\n",
      "Try using .loc[row_indexer,col_indexer] = value instead\n",
      "\n",
      "See the caveats in the documentation: https://pandas.pydata.org/pandas-docs/stable/user_guide/indexing.html#returning-a-view-versus-a-copy\n",
      "  new_meta['Sex']=new_meta['Sex'].replace(['MALE'],'Male')\n"
     ]
    }
   ],
   "source": [
    "# substituir um dado para ficar em concordância com os restantes sex\n",
    "new_meta['Sex']=new_meta['Sex'].replace(['MALE'],'Male')"
   ]
  },
  {
   "cell_type": "code",
   "execution_count": 29,
   "metadata": {},
   "outputs": [
    {
     "data": {
      "text/plain": [
       "Text(0.5, 1.0, 'Percentagem dos géneros')"
      ]
     },
     "execution_count": 29,
     "metadata": {},
     "output_type": "execute_result"
    },
    {
     "data": {
      "image/png": "[encoded data removed]",
      "text/plain": [
       "<Figure size 432x288 with 1 Axes>"
      ]
     },
     "metadata": {},
     "output_type": "display_data"
    }
   ],
   "source": [
    "# Percentagens de homens e mulheres presentes no estudo\n",
    "new_meta.groupby(\"Sex\").size().plot.pie(autopct='%.0f%%')\n",
    "plt.title('Percentagem dos géneros')\n"
   ]
  },
  {
   "cell_type": "code",
   "execution_count": 30,
   "metadata": {},
   "outputs": [
    {
     "data": {
      "text/plain": [
       "Text(0.5, 1.0, 'Percentagem da ocorrência prévia de cancro')"
      ]
     },
     "execution_count": 30,
     "metadata": {},
     "output_type": "execute_result"
    },
    {
     "data": {
      "image/png": "[encoded data removed]",
      "text/plain": [
       "<Figure size 432x288 with 1 Axes>"
      ]
     },
     "metadata": {},
     "output_type": "display_data"
    }
   ],
   "source": [
    "new_meta.groupby(\"Prior Cancer Diagnosis Occurence\").size().plot.pie(autopct='%.0f%%')\n",
    "plt.title('Percentagem da ocorrência prévia de cancro')"
   ]
  },
  {
   "cell_type": "code",
   "execution_count": 31,
   "metadata": {},
   "outputs": [
    {
     "data": {
      "image/png": "[encoded data removed]",
      "text/plain": [
       "<Figure size 1152x864 with 3 Axes>"
      ]
     },
     "metadata": {
      "needs_background": "light"
     },
     "output_type": "display_data"
    }
   ],
   "source": [
    "def plot_correlation(cat_1, cat_2):\n",
    "    plt.figure(figsize=(16, 12)) # tamanho do grafico\n",
    "    #categorical_columns = ['Sex', 'American Joint Committee on Cancer Tumor Stage Code', 'Patient Smoking History Category']\n",
    "    colors = ['blue', 'orange', 'red', 'purple','green', 'yellow', 'pink', 'black', 'brown']\n",
    "    for i, column in enumerate(cat_1, 1):\n",
    "        plt.subplot(2, 2, i)\n",
    "        crosstab_data = pd.crosstab(index=new_meta[column], columns=new_meta[cat_2])\n",
    "        crosstab_data.plot(kind=\"bar\", stacked=False, color=colors, ax=plt.gca())\n",
    "        plt.xlabel(column)\n",
    "        plt.ylabel('Count')\n",
    "    plt.tight_layout()\n",
    "    plt.show()\n",
    "    \n",
    "plot_correlation(['Sex', 'American Joint Committee on Cancer Tumor Stage Code', 'Patient Smoking History Category'], \"Patient's Vital Status\")\n"
   ]
  },
  {
   "cell_type": "code",
   "execution_count": 32,
   "metadata": {},
   "outputs": [
    {
     "data": {
      "image/png": "[encoded data removed]",
      "text/plain": [
       "<Figure size 1152x864 with 3 Axes>"
      ]
     },
     "metadata": {
      "needs_background": "light"
     },
     "output_type": "display_data"
    }
   ],
   "source": [
    "plot_correlation(['Sex', \"Patient's Vital Status\", 'Patient Smoking History Category'], 'American Joint Committee on Cancer Tumor Stage Code')"
   ]
  },
  {
   "cell_type": "code",
   "execution_count": 33,
   "metadata": {},
   "outputs": [
    {
     "name": "stderr",
     "output_type": "stream",
     "text": [
      "<ipython-input-33-e604ca2836f6>:2: SettingWithCopyWarning: \n",
      "A value is trying to be set on a copy of a slice from a DataFrame.\n",
      "Try using .loc[row_indexer,col_indexer] = value instead\n",
      "\n",
      "See the caveats in the documentation: https://pandas.pydata.org/pandas-docs/stable/user_guide/indexing.html#returning-a-view-versus-a-copy\n",
      "  new_meta[\"Patient's Vital Status\"] = new_meta[\"Patient's Vital Status\"].astype('category').cat.codes\n",
      "<ipython-input-33-e604ca2836f6>:5: SettingWithCopyWarning: \n",
      "A value is trying to be set on a copy of a slice from a DataFrame.\n",
      "Try using .loc[row_indexer,col_indexer] = value instead\n",
      "\n",
      "See the caveats in the documentation: https://pandas.pydata.org/pandas-docs/stable/user_guide/indexing.html#returning-a-view-versus-a-copy\n",
      "  new_meta['Diagnosis Age Group'] = pd.cut(new_meta['Diagnosis Age'], bins=range(0, 100, 5), include_lowest=True, right=False)\n"
     ]
    },
    {
     "data": {
      "image/png": "[encoded data removed]",
      "text/plain": [
       "<Figure size 432x288 with 1 Axes>"
      ]
     },
     "metadata": {
      "needs_background": "light"
     },
     "output_type": "display_data"
    }
   ],
   "source": [
    "#Conversão dos dados categoricos em numericos para o grafico ?\n",
    "new_meta[\"Patient's Vital Status\"] = new_meta[\"Patient's Vital Status\"].astype('category').cat.codes\n",
    "\n",
    "# Intervalos de 5 anos para a 'Diagnosis Age'\n",
    "new_meta['Diagnosis Age Group'] = pd.cut(new_meta['Diagnosis Age'], bins=range(0, 100, 5), include_lowest=True, right=False)\n",
    "\n",
    "# Agrupar dados e contar ocorrência de cada combinação\n",
    "grouped_data = new_meta.groupby(['Diagnosis Age Group', \"Patient's Vital Status\"]).size().unstack()\n",
    "\n",
    "# Plot\n",
    "grouped_data.plot(kind='bar', color=['blue', 'orange'], width=0.8)\n",
    "\n",
    "# Título e identificacao dos eixos\n",
    "plt.title('Relação entre Diagnosis Age e Patient\\'s Vital Status')\n",
    "plt.xlabel('Diagnosis Age Group (Intervalos de 5 anos)')\n",
    "plt.ylabel('Count')\n",
    "\n",
    "# Legenda\n",
    "plt.legend([\"Alive\", \"Dead\"], loc=\"upper right\")\n",
    "\n",
    "plt.show()"
   ]
  },
  {
   "cell_type": "code",
   "execution_count": 34,
   "metadata": {},
   "outputs": [
    {
     "data": {
      "image/png": "[encoded data removed]",
      "text/plain": [
       "<Figure size 864x576 with 1 Axes>"
      ]
     },
     "metadata": {
      "needs_background": "light"
     },
     "output_type": "display_data"
    }
   ],
   "source": [
    "\n",
    "#new_meta[\"Patient's Vital Status\"] = new_meta[\"Patient's Vital Status\"].astype('category').cat.codes\n",
    "\n",
    "# Intervalos de 0.05 para a 'Fraction Genome Altered'\n",
    "# arange permitE passos decimais\n",
    "bins = np.arange(0, 100, 0.05)\n",
    "\n",
    "# Agrupar em bins e contar o tamanho de cada grupo\n",
    "fga_groups = pd.cut(new_meta['Fraction Genome Altered'], bins=bins, include_lowest=True, right=False)\n",
    "grouped_data = new_meta.groupby(fga_groups).size()\n",
    "\n",
    "# Tamanho da figura\n",
    "plt.figure(figsize=(12, 8))\n",
    "\n",
    "# Plot\n",
    "grouped_data.plot(kind='bar', color=['blue', 'orange'], width=0.8)\n",
    "\n",
    "# Título e identificacao dos eixos\n",
    "plt.title('Relação entre Fraction Genome Altered e Patient\\'s Vital Status')\n",
    "plt.xlabel('Fraction Genome Altered Group (Intervalos de 0.05)')\n",
    "plt.ylabel('Count')\n",
    "\n",
    "# Legenda\n",
    "plt.legend([\"Alive\", \"Dead\"], loc=\"upper right\")\n",
    "\n",
    "plt.show()"
   ]
  },
  {
   "cell_type": "code",
   "execution_count": 35,
   "metadata": {},
   "outputs": [
    {
     "data": {
      "image/png": "[encoded data removed]",
      "text/plain": [
       "<Figure size 432x288 with 1 Axes>"
      ]
     },
     "metadata": {
      "needs_background": "light"
     },
     "output_type": "display_data"
    }
   ],
   "source": [
    "from matplotlib import pyplot\n",
    "\n",
    "# Filtrar os pacientes que faleceram\n",
    "deceased_patients = new_meta[new_meta[\"Patient's Vital Status\"] == 0]\n",
    "\n",
    "# Extrair dados relevantes\n",
    "OS = deceased_patients['Diagnosis Age'].values\n",
    "TD = deceased_patients['Patient Smoking History Category'].values\n",
    "\n",
    "# Plot\n",
    "pyplot.scatter(TD, OS)\n",
    "pyplot.xlabel('Histórico de Tabagismo do Paciente')\n",
    "pyplot.ylabel('Idade no Diagnóstico')\n",
    "pyplot.title('Relação entre Idade no Diagnóstico e Histórico de Tabagismo para Pacientes Falecidos')\n",
    "\n",
    "# Ajustar a escala dos eixos\n",
    "#pyplot.xlim(min(TD), max(TD))  # Define os limites do eixo x com base nos dados\n",
    "#pyplot.ylim(min(OS), max(OS))  # Define os limites do eixo y com base nos dados\n",
    "\n",
    "pyplot.show()"
   ]
  },
  {
   "cell_type": "markdown",
   "metadata": {},
   "source": [
    "## Etapa 2\n",
    "### Técnicas de redução de dimensionalidade\n",
    "\n",
    "Para filtrar os seus dados (ao nível dos genes), poderá usar, tal como visto nas aulas, duas estratégias: por variabilidade (e.g. VarianceThreshold) removendo genes que variam pouco – neste caso não depende de nenhuma variável de metadados; por testes \n",
    "estatísticos univariados, que selecionam os genes que variam mais entre grupos criados pelos valores de uma variável de metadados (e.g. SelectPercentile ou SelectKBest, com método f-classif, neste caso usando t-test ou ANOVA, dependendo do número de classes da variável de metadados).\n",
    "\n",
    "#### Variabilidade\n",
    "Este método foi selecionado pois se adequa a dados com baixa variância e não depende de nenhuma variável dos meta-dados."
   ]
  },
  {
   "cell_type": "code",
   "execution_count": 36,
   "metadata": {},
   "outputs": [
    {
     "name": "stdout",
     "output_type": "stream",
     "text": [
      "(517, 20529)\n"
     ]
    }
   ],
   "source": [
    "# Colocar o dataset como apenas a matriz dos valores\n",
    "data = data_transposta.values\n",
    "print(data.shape)"
   ]
  },
  {
   "cell_type": "code",
   "execution_count": 37,
   "metadata": {},
   "outputs": [
    {
     "name": "stdout",
     "output_type": "stream",
     "text": [
      "Dados de expressão genética:\n",
      "Número de genes: (20529,)\n",
      "Média da Variância: 14004342.851514589\n"
     ]
    }
   ],
   "source": [
    "print('Dados de expressão genética:')\n",
    "# calcular a variância para gene\n",
    "variances = data.var(axis = 0)\n",
    "print('Número de genes:', variances.shape)\n",
    "\n",
    "# média\n",
    "medvar = variances.mean() \n",
    "print('Média da Variância:', medvar)"
   ]
  },
  {
   "cell_type": "code",
   "execution_count": 38,
   "metadata": {},
   "outputs": [
    {
     "name": "stdout",
     "output_type": "stream",
     "text": [
      "Desvio Padrão: 5100.288514458408\n"
     ]
    }
   ],
   "source": [
    "# desvio padrão\n",
    "std = data.std()\n",
    "medstd = std.mean()\n",
    "print('Desvio Padrão:', medstd)"
   ]
  },
  {
   "cell_type": "code",
   "execution_count": 39,
   "metadata": {},
   "outputs": [
    {
     "data": {
      "image/png": "[encoded data removed]",
      "text/plain": [
       "<Figure size 432x288 with 1 Axes>"
      ]
     },
     "metadata": {
      "needs_background": "light"
     },
     "output_type": "display_data"
    }
   ],
   "source": [
    "plt.hist(variances, bins = 5)\n",
    "plt.xlabel('Variâncias')\n",
    "plt.ylabel('Densidade de probabilidade')\n",
    "plt.title('Histograma das variâncias')\n",
    "plt.show()"
   ]
  },
  {
   "cell_type": "markdown",
   "metadata": {},
   "source": [
    "O único pico à esquerda, indica uma distribuição assimétrica positiva. Isto significa que a maior parte dos genes tem pouca variação, ou seja, tem características semelhantes.\n",
    "\n",
    "Dúvida..."
   ]
  },
  {
   "cell_type": "markdown",
   "metadata": {},
   "source": [
    "#### Filtração dos dados"
   ]
  },
  {
   "cell_type": "code",
   "execution_count": 40,
   "metadata": {},
   "outputs": [],
   "source": [
    "from sklearn.feature_selection import VarianceThreshold"
   ]
  },
  {
   "cell_type": "code",
   "execution_count": 41,
   "metadata": {},
   "outputs": [
    {
     "name": "stdout",
     "output_type": "stream",
     "text": [
      "(517, 306)\n"
     ]
    }
   ],
   "source": [
    "sel = VarianceThreshold(threshold=medvar*3) #por variabilidade, removendo os genes de pouca variância\n",
    "input_filt = sel.fit_transform(data) \n",
    "print(input_filt.shape)"
   ]
  },
  {
   "cell_type": "markdown",
   "metadata": {},
   "source": [
    "Como previsto pela distribuição assimétrica, o filtro removeu grande parte dos genes, passando de 20529 para 306 genes. Os 306 genes são os que apresentam maior variância, portanto a sua compreensão trará mais vantagens para a análise."
   ]
  },
  {
   "cell_type": "code",
   "execution_count": 42,
   "metadata": {},
   "outputs": [
    {
     "name": "stdout",
     "output_type": "stream",
     "text": [
      "Dados mais relevantes de expressão genética:\n",
      "Número de genes: (306,)\n",
      "Média da Variância: 889978068.7234744\n",
      "Desvio Padrão: 36245.131712638205\n"
     ]
    }
   ],
   "source": [
    "print('Dados mais relevantes de expressão genética:')\n",
    "# variância, o input neste caso consiste nos dados filtrados\n",
    "variances = input_filt.var(axis = 0)\n",
    "print('Número de genes:', variances.shape)\n",
    "\n",
    "medvar = variances.mean()\n",
    "print('Média da Variância:', medvar)\n",
    "\n",
    "# desvio padrão, o input neste caso consiste nos dados filtrados\n",
    "std_new = input_filt.std()\n",
    "print('Desvio Padrão:',std_new)"
   ]
  },
  {
   "cell_type": "markdown",
   "metadata": {},
   "source": [
    "Como se pode verificar, a variancia aumentou significativamente, provando-se a eficácia do filtro. O valor mais elevado de variância permite chegar a conclusões mais interessantes a nível de investigação."
   ]
  },
  {
   "cell_type": "markdown",
   "metadata": {},
   "source": [
    "## Análise Multivariada não supervisionada"
   ]
  },
  {
   "cell_type": "markdown",
   "metadata": {},
   "source": [
    "### PCA - Principal Component Analysis"
   ]
  },
  {
   "cell_type": "code",
   "execution_count": 43,
   "metadata": {},
   "outputs": [],
   "source": [
    "from sklearn import preprocessing"
   ]
  },
  {
   "cell_type": "code",
   "execution_count": 44,
   "metadata": {},
   "outputs": [
    {
     "name": "stdout",
     "output_type": "stream",
     "text": [
      "Media:  6.557391146823342e-18\n",
      "Desvio padrao:  0.9999999999999999\n"
     ]
    }
   ],
   "source": [
    "# Fazer standardização dos dados\n",
    "# Este método (PCA) é sensível à escala dos dados, sendo necessário normalizá-los.\n",
    "# Assim, pretende-se que estes tenham média zero e desvio padrão igual a 1.\n",
    "input_sc = preprocessing.scale(input_filt)\n",
    "print(\"Media: \", input_sc.mean())\n",
    "print(\"Desvio padrao: \", input_sc.std())"
   ]
  },
  {
   "cell_type": "markdown",
   "metadata": {},
   "source": [
    "Verificou-se, assim uma média e um desvio padrão próximos do pretendido."
   ]
  },
  {
   "cell_type": "code",
   "execution_count": 45,
   "metadata": {},
   "outputs": [],
   "source": [
    "from sklearn.decomposition import PCA"
   ]
  },
  {
   "cell_type": "code",
   "execution_count": 46,
   "metadata": {},
   "outputs": [
    {
     "name": "stdout",
     "output_type": "stream",
     "text": [
      "Variância explicada: [0.15100994 0.06476635 0.05952286 0.03647153 0.03366649 0.02777834\n",
      " 0.0231497  0.02157771 0.02001419 0.01934107 0.0146376  0.01373559\n",
      " 0.0117068  0.01144074 0.01053757 0.00990868 0.00971833 0.00961106\n",
      " 0.0093456  0.00913811]\n"
     ]
    },
    {
     "data": {
      "text/plain": [
       "0.5670782710366491"
      ]
     },
     "execution_count": 46,
     "metadata": {},
     "output_type": "execute_result"
    }
   ],
   "source": [
    "pca = PCA(n_components=20)\n",
    "X_r = pca.fit(input_sc).transform(input_sc)\n",
    "print('Variância explicada: %s'% str(pca.explained_variance_ratio_))\n",
    "#retorna um array da variância explicada por cada componente principal\n",
    "#cada elem do array representa a proporção da variância do conjunto de dados que é atribuída a um componente principal específico.\n",
    "\n",
    "pca.explained_variance_ratio_.sum()"
   ]
  },
  {
   "cell_type": "code",
   "execution_count": 47,
   "metadata": {},
   "outputs": [
    {
     "data": {
      "image/png": "[encoded data removed]",
      "text/plain": [
       "<Figure size 432x288 with 1 Axes>"
      ]
     },
     "metadata": {
      "needs_background": "light"
     },
     "output_type": "display_data"
    }
   ],
   "source": [
    "#representação gráfica da variância explicada por PCA\n",
    "n = 20\n",
    "\n",
    "plt.bar(range(n), pca.explained_variance_ratio_*100)\n",
    "plt.xticks(range(n), ['PC'+str(i) for i in range(1,n+1)],rotation=45, ha='right')\n",
    "plt.title(\"Variância explicada por PC\")\n",
    "plt.ylabel(\"Percentagem\")\n",
    "plt.show()"
   ]
  },
  {
   "cell_type": "markdown",
   "metadata": {},
   "source": [
    "explicação:\n",
    "\n",
    "->"
   ]
  },
  {
   "cell_type": "code",
   "execution_count": 53,
   "metadata": {},
   "outputs": [
    {
     "data": {
      "image/png": "[encoded data removed]",
      "text/plain": [
       "<Figure size 432x288 with 1 Axes>"
      ]
     },
     "metadata": {
      "needs_background": "light"
     },
     "output_type": "display_data"
    }
   ],
   "source": [
    "#PCA- scatter relativo ao Estado de Vitalidade do paciente\n",
    "\n",
    "#output_status = new_meta.iloc[:,3]\n",
    "output_status = new_meta[\"Patient's Vital Status\"]\n",
    "\n",
    "plt.figure()\n",
    "for c, name in zip(\"rgb\", [0, 1]):\n",
    "    plt.scatter(X_r[output_status == name, 0], X_r[output_status == name, 1], c=c, label=name)\n",
    "plt.legend()\n",
    "plt.title('Dataset ALL - scores plot PCA')\n",
    "plt.show()\n",
    "\n",
    "\n",
    "# Mudar 0-> alive; 1-> Dead\n"
   ]
  },
  {
   "cell_type": "code",
   "execution_count": 54,
   "metadata": {},
   "outputs": [
    {
     "data": {
      "image/png": "[encoded data removed]",
      "text/plain": [
       "<Figure size 432x288 with 1 Axes>"
      ]
     },
     "metadata": {
      "needs_background": "light"
     },
     "output_type": "display_data"
    }
   ],
   "source": [
    "#PCA- scatter relativo ao \n",
    "\n",
    "\n",
    "\n",
    "#new_meta = meta_luad[['Diagnosis Age','Fraction Genome Altered','Sex',\"Patient's Vital Status\",\n",
    "#                     'American Joint Committee on Cancer Tumor Stage Code',\n",
    "#                    'Patient Smoking History Category','Prior Cancer Diagnosis Occurence']]\n",
    "\n",
    "output_stage = new_meta[\"American Joint Committee on Cancer Tumor Stage Code\"]\n",
    "cores=('blue', 'orange', 'red', 'purple','green', 'yellow', 'pink', 'black', 'brown')\n",
    "labels=('T1','T1a','T1b','T2','T2a','T2b','T3','T4','TX')\n",
    "plt.figure()\n",
    "for c, name in zip(cores,labels):\n",
    "    plt.scatter(X_r[output_stage == name, 0], X_r[output_stage == name, 1], c=c, label=name)\n",
    "plt.legend()\n",
    "plt.title('Dataset ALL - scores plot PCA')\n",
    "plt.show()\n"
   ]
  },
  {
   "cell_type": "code",
   "execution_count": 50,
   "metadata": {},
   "outputs": [],
   "source": [
    "from scipy.cluster.hierarchy import dendrogram, linkage"
   ]
  },
  {
   "cell_type": "markdown",
   "metadata": {},
   "source": []
  },
  {
   "cell_type": "code",
   "execution_count": 56,
   "metadata": {},
   "outputs": [
    {
     "ename": "KeyError",
     "evalue": "'1'",
     "output_type": "error",
     "traceback": [
      "\u001b[1;31m---------------------------------------------------------------------------\u001b[0m",
      "\u001b[1;31mKeyError\u001b[0m                                  Traceback (most recent call last)",
      "\u001b[1;32m<ipython-input-56-5d16cbbce96d>\u001b[0m in \u001b[0;36m<module>\u001b[1;34m\u001b[0m\n\u001b[0;32m     18\u001b[0m \u001b[0mxlbls\u001b[0m \u001b[1;33m=\u001b[0m \u001b[0max\u001b[0m\u001b[1;33m.\u001b[0m\u001b[0mget_xmajorticklabels\u001b[0m\u001b[1;33m(\u001b[0m\u001b[1;33m)\u001b[0m\u001b[1;33m\u001b[0m\u001b[1;33m\u001b[0m\u001b[0m\n\u001b[0;32m     19\u001b[0m \u001b[1;32mfor\u001b[0m \u001b[0mlbl\u001b[0m \u001b[1;32min\u001b[0m \u001b[0mxlbls\u001b[0m\u001b[1;33m:\u001b[0m\u001b[1;33m\u001b[0m\u001b[1;33m\u001b[0m\u001b[0m\n\u001b[1;32m---> 20\u001b[1;33m     \u001b[0mlbl\u001b[0m\u001b[1;33m.\u001b[0m\u001b[0mset_color\u001b[0m\u001b[1;33m(\u001b[0m\u001b[0mlabel_colors\u001b[0m\u001b[1;33m[\u001b[0m\u001b[0mlbl\u001b[0m\u001b[1;33m.\u001b[0m\u001b[0mget_text\u001b[0m\u001b[1;33m(\u001b[0m\u001b[1;33m)\u001b[0m\u001b[1;33m]\u001b[0m\u001b[1;33m)\u001b[0m\u001b[1;33m\u001b[0m\u001b[1;33m\u001b[0m\u001b[0m\n\u001b[0m\u001b[0;32m     21\u001b[0m \u001b[1;33m\u001b[0m\u001b[0m\n\u001b[0;32m     22\u001b[0m \u001b[0mplt\u001b[0m\u001b[1;33m.\u001b[0m\u001b[0mshow\u001b[0m\u001b[1;33m(\u001b[0m\u001b[1;33m)\u001b[0m\u001b[1;33m\u001b[0m\u001b[1;33m\u001b[0m\u001b[0m\n",
      "\u001b[1;31mKeyError\u001b[0m: '1'"
     ]
    },
    {
     "data": {
      "image/png": "[encoded data removed]",
      "text/plain": [
       "<Figure size 1800x720 with 1 Axes>"
      ]
     },
     "metadata": {
      "needs_background": "light"
     },
     "output_type": "display_data"
    }
   ],
   "source": [
    "# Dendograma relacionado com o Status\n",
    "Z = linkage(input_sc, method='ward', metric='euclidean')\n",
    "\n",
    "# calculate full dendrogram\n",
    "plt.figure(figsize=(25, 10))\n",
    "dendrogram(\n",
    "    Z,\n",
    "    labels=list(output_status),\n",
    "    leaf_rotation=90.,  # rotates the x axis labels\n",
    "    leaf_font_size=8.,  # font size for the x axis labels\n",
    ")\n",
    "\n",
    "plt.title('Hierarchical Clustering Dendrogram')\n",
    "plt.ylabel('distance')\n",
    "\n",
    "label_colors = {1: 'g', 0: 'r'}\n",
    "ax = plt.gca()\n",
    "xlbls = ax.get_xmajorticklabels()\n",
    "for lbl in xlbls:\n",
    "    lbl.set_color(label_colors[lbl.get_text()])\n",
    "\n",
    "plt.show()"
   ]
  },
  {
   "cell_type": "code",
   "execution_count": null,
   "metadata": {},
   "outputs": [],
   "source": []
  },
  {
   "cell_type": "code",
   "execution_count": null,
   "metadata": {},
   "outputs": [],
   "source": []
  },
  {
   "cell_type": "markdown",
   "metadata": {},
   "source": [
    "## Etapa 3\n",
    "\n",
    "Comparar e analisar o comportamento dos modelos: Random Forest, K Neighbours, SVMs Linear Kernel e Logistic Regression.\n",
    "    O modelo Random Forest elabora árvores de decisão aleatórias, testa-as, selecionando atributos random e seleciona a mais eficaz, utiliza o out-of-bag error de modo a evitar overfitting.\n",
    "    O modelo K Neighbours/lazy learning calcula os k exemplos mais semelhantes e a partir destes obtém a classe que se pretende.\n",
    "    O modelo SVMs RBF Kernerl tem como objetivo encontrar o hiperplano que melhor separa duas classes no espaço de características. Para tal, utiliza uma função radial baseada nos vetores de suporte (que definem as fronteiras de decisão).\n",
    "    O modelo Logistic Regression usa modelos de regressão para classificação binária, interpretando os outputs do modelo para extrair uma classe.\n",
    "    \n",
    "Divisão de dados para treino e teste.\n",
    "\n",
    "Análise da eficácia de cada modelo e comparação entre modelos.\n",
    "Análise da influência da percentagem de valores de treino e teste na eficácia dos modelos."
   ]
  },
  {
   "cell_type": "markdown",
   "metadata": {},
   "source": []
  }
 ],
 "metadata": {
  "kernelspec": {
   "display_name": "Python 3",
   "language": "python",
   "name": "python3"
  },
  "language_info": {
   "codemirror_mode": {
    "name": "ipython",
    "version": 3
   },
   "file_extension": ".py",
   "mimetype": "text/x-python",
   "name": "python",
   "nbconvert_exporter": "python",
   "pygments_lexer": "ipython3",
   "version": "3.8.3"
  }
 },
 "nbformat": 4,
 "nbformat_minor": 4
}
