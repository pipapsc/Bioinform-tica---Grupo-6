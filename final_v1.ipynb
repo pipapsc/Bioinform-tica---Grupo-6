{
 "cells": [
  {
   "cell_type": "markdown",
   "metadata": {},
   "source": [
    "# Dataset 2\n"
   ]
  },
  {
   "cell_type": "markdown",
   "metadata": {},
   "source": [
    "## Etapa 1\n",
    "\n",
    "Começou-se por carregar os dados e metadados. De seguida analisaram-se as suas dimensões (20531 genes para 517 amostras de 515 \n",
    "pacientes, onde dois apresentam duas amostras), e identificaram-se os tipos de atributos em cada um e fez-se um pequena analise estatística para uma melhor perceção inicial dos datasets.\n",
    "\n",
    "Nos dados de expressão genética verificou-se a existência de 2 valores nulos na primeira coluna (_HUGO Symbol- Human Genome Organization_ ) seguindo-se a sua remoção, passando para uma dimensão de 20529 genes. Relativamente aos metadados, removeu-se uma coluna por redundância e selecionaram-se as colunas mais relevantes para utilizar na análise, segundo o valor dado às mesmas no artigo e evitando colunas com um elevado número de valores nulos (NaN), destas os valores em falta foram substituídos pela média ou moda dos atributos. Foram selecionados _Diagnosis Age (float), Fraction Genome Altered (float), Sex (object), Patient's Vital Status (object)_ e _American Joint Committee on Cancer Tumor Stage Code (object)_ com estágios T1 a T4, onde T1 é uma lesão confinada ao órgão de origem e T4 uma lesão massiva ou que invade diretamente outro órgão ou víscera, nervos, artérias ou osso. Também se selecionou _Patient Smoking History Category (float)_ , com valores de 1 a 5, cujo o primeiro, por exemplo, corresponde a uma pessoa que na altura da entrevista não fumava e fumou menos de 100 cigarros na sua vida. O atributo _Person Neoplasm Status (object)_, também selecionado, identifica se o paciente tem ou não tumor e o _Prior Cancer Diagnosis Occurence (object)_ . Estas variáveis foram melhor exploradas, com diferentes representações gráficas.\n"
   ]
  },
  {
   "cell_type": "code",
   "execution_count": 1,
   "metadata": {},
   "outputs": [],
   "source": [
    "import pandas as pd\n",
    "import matplotlib.pyplot as plt\n",
    "import numpy as np\n",
    "import warnings\n",
    "warnings.filterwarnings('ignore')"
   ]
  },
  {
   "cell_type": "markdown",
   "metadata": {},
   "source": [
    "### Dados RNAseq"
   ]
  },
  {
   "cell_type": "code",
   "execution_count": 2,
   "metadata": {},
   "outputs": [],
   "source": [
    "# Carregar o dataset, colocou-se o Entrez_Gene_Id como coluna índice\n",
    "data_luad = pd.read_csv(\"data_RNA_Seq_v2_expression_median.txt\",sep=\"\\t\",index_col=1)"
   ]
  },
  {
   "cell_type": "code",
   "execution_count": 3,
   "metadata": {},
   "outputs": [
    {
     "data": {
      "text/plain": [
       "(20531, 518)"
      ]
     },
     "execution_count": 3,
     "metadata": {},
     "output_type": "execute_result"
    }
   ],
   "source": [
    "# Verificar a dimensão do dataset\n",
    "data_luad.shape"
   ]
  },
  {
   "cell_type": "code",
   "execution_count": 4,
   "metadata": {
    "scrolled": true
   },
   "outputs": [
    {
     "name": "stdout",
     "output_type": "stream",
     "text": [
      "Tipos de atributos (dados):\n",
      "Hugo_Symbol         object\n",
      "TCGA-05-4244-01    float64\n",
      "TCGA-05-4249-01    float64\n",
      "TCGA-05-4250-01    float64\n",
      "TCGA-05-4382-01    float64\n",
      "                    ...   \n",
      "TCGA-NJ-A55O-01    float64\n",
      "TCGA-NJ-A55R-01    float64\n",
      "TCGA-NJ-A7XG-01    float64\n",
      "TCGA-O1-A52J-01    float64\n",
      "TCGA-S2-AA1A-01    float64\n",
      "Length: 518, dtype: object\n"
     ]
    }
   ],
   "source": [
    "# Verificar o tipo de atributos nos dados\n",
    "print(\"Tipos de atributos (dados):\")\n",
    "print(data_luad.dtypes)"
   ]
  },
  {
   "cell_type": "code",
   "execution_count": 5,
   "metadata": {},
   "outputs": [
    {
     "data": {
      "text/html": [
       "<div>\n",
       "<style scoped>\n",
       "    .dataframe tbody tr th:only-of-type {\n",
       "        vertical-align: middle;\n",
       "    }\n",
       "\n",
       "    .dataframe tbody tr th {\n",
       "        vertical-align: top;\n",
       "    }\n",
       "\n",
       "    .dataframe thead th {\n",
       "        text-align: right;\n",
       "    }\n",
       "</style>\n",
       "<table border=\"1\" class=\"dataframe\">\n",
       "  <thead>\n",
       "    <tr style=\"text-align: right;\">\n",
       "      <th></th>\n",
       "      <th>Hugo_Symbol</th>\n",
       "      <th>TCGA-05-4244-01</th>\n",
       "      <th>TCGA-05-4249-01</th>\n",
       "      <th>TCGA-05-4250-01</th>\n",
       "      <th>TCGA-05-4382-01</th>\n",
       "      <th>TCGA-05-4384-01</th>\n",
       "      <th>TCGA-05-4389-01</th>\n",
       "      <th>TCGA-05-4390-01</th>\n",
       "      <th>TCGA-05-4395-01</th>\n",
       "      <th>TCGA-05-4396-01</th>\n",
       "      <th>...</th>\n",
       "      <th>TCGA-NJ-A4YG-01</th>\n",
       "      <th>TCGA-NJ-A4YI-01</th>\n",
       "      <th>TCGA-NJ-A4YP-01</th>\n",
       "      <th>TCGA-NJ-A4YQ-01</th>\n",
       "      <th>TCGA-NJ-A55A-01</th>\n",
       "      <th>TCGA-NJ-A55O-01</th>\n",
       "      <th>TCGA-NJ-A55R-01</th>\n",
       "      <th>TCGA-NJ-A7XG-01</th>\n",
       "      <th>TCGA-O1-A52J-01</th>\n",
       "      <th>TCGA-S2-AA1A-01</th>\n",
       "    </tr>\n",
       "    <tr>\n",
       "      <th>Entrez_Gene_Id</th>\n",
       "      <th></th>\n",
       "      <th></th>\n",
       "      <th></th>\n",
       "      <th></th>\n",
       "      <th></th>\n",
       "      <th></th>\n",
       "      <th></th>\n",
       "      <th></th>\n",
       "      <th></th>\n",
       "      <th></th>\n",
       "      <th></th>\n",
       "      <th></th>\n",
       "      <th></th>\n",
       "      <th></th>\n",
       "      <th></th>\n",
       "      <th></th>\n",
       "      <th></th>\n",
       "      <th></th>\n",
       "      <th></th>\n",
       "      <th></th>\n",
       "      <th></th>\n",
       "    </tr>\n",
       "  </thead>\n",
       "  <tbody>\n",
       "    <tr>\n",
       "      <th>100130426</th>\n",
       "      <td>LOC100130426</td>\n",
       "      <td>0.0000</td>\n",
       "      <td>0.0000</td>\n",
       "      <td>0.0000</td>\n",
       "      <td>0.0000</td>\n",
       "      <td>0.0000</td>\n",
       "      <td>0.0000</td>\n",
       "      <td>0.0000</td>\n",
       "      <td>0.0000</td>\n",
       "      <td>0.0000</td>\n",
       "      <td>...</td>\n",
       "      <td>0.0000</td>\n",
       "      <td>0.0000</td>\n",
       "      <td>0.0000</td>\n",
       "      <td>0.0000</td>\n",
       "      <td>0.0000</td>\n",
       "      <td>0.0000</td>\n",
       "      <td>0.0000</td>\n",
       "      <td>0.0000</td>\n",
       "      <td>0.0000</td>\n",
       "      <td>0.0000</td>\n",
       "    </tr>\n",
       "    <tr>\n",
       "      <th>100133144</th>\n",
       "      <td>UBE2Q2P3</td>\n",
       "      <td>10.0113</td>\n",
       "      <td>7.1957</td>\n",
       "      <td>7.2453</td>\n",
       "      <td>11.3311</td>\n",
       "      <td>3.2254</td>\n",
       "      <td>4.0000</td>\n",
       "      <td>7.1084</td>\n",
       "      <td>3.4360</td>\n",
       "      <td>13.5406</td>\n",
       "      <td>...</td>\n",
       "      <td>11.7148</td>\n",
       "      <td>3.6657</td>\n",
       "      <td>2.3298</td>\n",
       "      <td>16.3214</td>\n",
       "      <td>20.3514</td>\n",
       "      <td>15.5193</td>\n",
       "      <td>8.4195</td>\n",
       "      <td>42.9857</td>\n",
       "      <td>14.0861</td>\n",
       "      <td>20.5338</td>\n",
       "    </tr>\n",
       "    <tr>\n",
       "      <th>100134869</th>\n",
       "      <td>UBE2Q2P3</td>\n",
       "      <td>11.2820</td>\n",
       "      <td>12.4436</td>\n",
       "      <td>6.0184</td>\n",
       "      <td>7.5740</td>\n",
       "      <td>3.4942</td>\n",
       "      <td>13.7852</td>\n",
       "      <td>7.5810</td>\n",
       "      <td>12.1335</td>\n",
       "      <td>16.0273</td>\n",
       "      <td>...</td>\n",
       "      <td>11.9573</td>\n",
       "      <td>9.7617</td>\n",
       "      <td>8.3410</td>\n",
       "      <td>7.5330</td>\n",
       "      <td>17.2393</td>\n",
       "      <td>22.9872</td>\n",
       "      <td>10.3226</td>\n",
       "      <td>81.1128</td>\n",
       "      <td>24.1914</td>\n",
       "      <td>8.9500</td>\n",
       "    </tr>\n",
       "    <tr>\n",
       "      <th>10357</th>\n",
       "      <td>LOC149767</td>\n",
       "      <td>49.5994</td>\n",
       "      <td>90.5117</td>\n",
       "      <td>49.5366</td>\n",
       "      <td>82.8303</td>\n",
       "      <td>72.5351</td>\n",
       "      <td>66.3658</td>\n",
       "      <td>109.1809</td>\n",
       "      <td>57.0596</td>\n",
       "      <td>108.4155</td>\n",
       "      <td>...</td>\n",
       "      <td>163.5739</td>\n",
       "      <td>130.7486</td>\n",
       "      <td>101.7403</td>\n",
       "      <td>82.4231</td>\n",
       "      <td>100.4196</td>\n",
       "      <td>100.1867</td>\n",
       "      <td>74.7210</td>\n",
       "      <td>85.3715</td>\n",
       "      <td>61.1388</td>\n",
       "      <td>76.9265</td>\n",
       "    </tr>\n",
       "    <tr>\n",
       "      <th>10431</th>\n",
       "      <td>TIMM23</td>\n",
       "      <td>848.9397</td>\n",
       "      <td>924.0158</td>\n",
       "      <td>1140.6781</td>\n",
       "      <td>807.1729</td>\n",
       "      <td>562.0037</td>\n",
       "      <td>1342.6174</td>\n",
       "      <td>1148.3315</td>\n",
       "      <td>955.9141</td>\n",
       "      <td>844.5792</td>\n",
       "      <td>...</td>\n",
       "      <td>919.1686</td>\n",
       "      <td>403.4911</td>\n",
       "      <td>918.9533</td>\n",
       "      <td>995.6058</td>\n",
       "      <td>536.7602</td>\n",
       "      <td>873.9790</td>\n",
       "      <td>766.7448</td>\n",
       "      <td>677.7333</td>\n",
       "      <td>1137.3206</td>\n",
       "      <td>565.4335</td>\n",
       "    </tr>\n",
       "  </tbody>\n",
       "</table>\n",
       "<p>5 rows × 518 columns</p>\n",
       "</div>"
      ],
      "text/plain": [
       "                 Hugo_Symbol  TCGA-05-4244-01  TCGA-05-4249-01  \\\n",
       "Entrez_Gene_Id                                                   \n",
       "100130426       LOC100130426           0.0000           0.0000   \n",
       "100133144           UBE2Q2P3          10.0113           7.1957   \n",
       "100134869           UBE2Q2P3          11.2820          12.4436   \n",
       "10357              LOC149767          49.5994          90.5117   \n",
       "10431                 TIMM23         848.9397         924.0158   \n",
       "\n",
       "                TCGA-05-4250-01  TCGA-05-4382-01  TCGA-05-4384-01  \\\n",
       "Entrez_Gene_Id                                                      \n",
       "100130426                0.0000           0.0000           0.0000   \n",
       "100133144                7.2453          11.3311           3.2254   \n",
       "100134869                6.0184           7.5740           3.4942   \n",
       "10357                   49.5366          82.8303          72.5351   \n",
       "10431                 1140.6781         807.1729         562.0037   \n",
       "\n",
       "                TCGA-05-4389-01  TCGA-05-4390-01  TCGA-05-4395-01  \\\n",
       "Entrez_Gene_Id                                                      \n",
       "100130426                0.0000           0.0000           0.0000   \n",
       "100133144                4.0000           7.1084           3.4360   \n",
       "100134869               13.7852           7.5810          12.1335   \n",
       "10357                   66.3658         109.1809          57.0596   \n",
       "10431                 1342.6174        1148.3315         955.9141   \n",
       "\n",
       "                TCGA-05-4396-01  ...  TCGA-NJ-A4YG-01  TCGA-NJ-A4YI-01  \\\n",
       "Entrez_Gene_Id                   ...                                     \n",
       "100130426                0.0000  ...           0.0000           0.0000   \n",
       "100133144               13.5406  ...          11.7148           3.6657   \n",
       "100134869               16.0273  ...          11.9573           9.7617   \n",
       "10357                  108.4155  ...         163.5739         130.7486   \n",
       "10431                  844.5792  ...         919.1686         403.4911   \n",
       "\n",
       "                TCGA-NJ-A4YP-01  TCGA-NJ-A4YQ-01  TCGA-NJ-A55A-01  \\\n",
       "Entrez_Gene_Id                                                      \n",
       "100130426                0.0000           0.0000           0.0000   \n",
       "100133144                2.3298          16.3214          20.3514   \n",
       "100134869                8.3410           7.5330          17.2393   \n",
       "10357                  101.7403          82.4231         100.4196   \n",
       "10431                  918.9533         995.6058         536.7602   \n",
       "\n",
       "                TCGA-NJ-A55O-01  TCGA-NJ-A55R-01  TCGA-NJ-A7XG-01  \\\n",
       "Entrez_Gene_Id                                                      \n",
       "100130426                0.0000           0.0000           0.0000   \n",
       "100133144               15.5193           8.4195          42.9857   \n",
       "100134869               22.9872          10.3226          81.1128   \n",
       "10357                  100.1867          74.7210          85.3715   \n",
       "10431                  873.9790         766.7448         677.7333   \n",
       "\n",
       "                TCGA-O1-A52J-01  TCGA-S2-AA1A-01  \n",
       "Entrez_Gene_Id                                    \n",
       "100130426                0.0000           0.0000  \n",
       "100133144               14.0861          20.5338  \n",
       "100134869               24.1914           8.9500  \n",
       "10357                   61.1388          76.9265  \n",
       "10431                 1137.3206         565.4335  \n",
       "\n",
       "[5 rows x 518 columns]"
      ]
     },
     "execution_count": 5,
     "metadata": {},
     "output_type": "execute_result"
    }
   ],
   "source": [
    "#retornar por padrão as primeiras 5 linhas do dataset\n",
    "data_luad.head()"
   ]
  },
  {
   "cell_type": "code",
   "execution_count": 6,
   "metadata": {},
   "outputs": [
    {
     "data": {
      "text/plain": [
       "2"
      ]
     },
     "execution_count": 6,
     "metadata": {},
     "output_type": "execute_result"
    }
   ],
   "source": [
    "#Selecionar a coluna HUGO_Symbol (coluna 0) (Human Genome Organization) e quantificar valores nulos\n",
    "data_luad.iloc[:,0].isnull().sum() # HUGO - valores nulos"
   ]
  },
  {
   "cell_type": "code",
   "execution_count": 7,
   "metadata": {},
   "outputs": [],
   "source": [
    "#Tratamento de valores nulos\n",
    "\n",
    "#Remover linhas com Hugo Symbol como NaN (not a number)\n",
    "data_hugo_luad = data_luad[data_luad.notna()['Hugo_Symbol']] \n",
    "\n",
    "#Definir o Hugo_symbol como id do gene, sendo removida a coluna anterior (Entrez_Gene_Id), visto que era informação repetida. \n",
    "data_hugo_luad = data_hugo_luad.set_index(\"Hugo_Symbol\", drop=True) #drop=true significa que a coluna Hugo_symbol é um índice não considerado uma coluna"
   ]
  },
  {
   "cell_type": "code",
   "execution_count": 8,
   "metadata": {},
   "outputs": [
    {
     "data": {
      "text/plain": [
       "(20529, 517)"
      ]
     },
     "execution_count": 8,
     "metadata": {},
     "output_type": "execute_result"
    }
   ],
   "source": [
    "#Verificar a dimensão do dataset sem valores nulos\n",
    "data_hugo_luad.shape  # 20529 genes e 517 amostras (cada coluna é uma amostra) a coluna index não é contabilizada"
   ]
  },
  {
   "cell_type": "code",
   "execution_count": 9,
   "metadata": {
    "scrolled": true
   },
   "outputs": [
    {
     "data": {
      "text/html": [
       "<div>\n",
       "<style scoped>\n",
       "    .dataframe tbody tr th:only-of-type {\n",
       "        vertical-align: middle;\n",
       "    }\n",
       "\n",
       "    .dataframe tbody tr th {\n",
       "        vertical-align: top;\n",
       "    }\n",
       "\n",
       "    .dataframe thead th {\n",
       "        text-align: right;\n",
       "    }\n",
       "</style>\n",
       "<table border=\"1\" class=\"dataframe\">\n",
       "  <thead>\n",
       "    <tr style=\"text-align: right;\">\n",
       "      <th></th>\n",
       "      <th>TCGA-05-4244-01</th>\n",
       "      <th>TCGA-05-4249-01</th>\n",
       "      <th>TCGA-05-4250-01</th>\n",
       "      <th>TCGA-05-4382-01</th>\n",
       "      <th>TCGA-05-4384-01</th>\n",
       "      <th>TCGA-05-4389-01</th>\n",
       "      <th>TCGA-05-4390-01</th>\n",
       "      <th>TCGA-05-4395-01</th>\n",
       "      <th>TCGA-05-4396-01</th>\n",
       "      <th>TCGA-05-4397-01</th>\n",
       "      <th>...</th>\n",
       "      <th>TCGA-NJ-A4YG-01</th>\n",
       "      <th>TCGA-NJ-A4YI-01</th>\n",
       "      <th>TCGA-NJ-A4YP-01</th>\n",
       "      <th>TCGA-NJ-A4YQ-01</th>\n",
       "      <th>TCGA-NJ-A55A-01</th>\n",
       "      <th>TCGA-NJ-A55O-01</th>\n",
       "      <th>TCGA-NJ-A55R-01</th>\n",
       "      <th>TCGA-NJ-A7XG-01</th>\n",
       "      <th>TCGA-O1-A52J-01</th>\n",
       "      <th>TCGA-S2-AA1A-01</th>\n",
       "    </tr>\n",
       "    <tr>\n",
       "      <th>Hugo_Symbol</th>\n",
       "      <th></th>\n",
       "      <th></th>\n",
       "      <th></th>\n",
       "      <th></th>\n",
       "      <th></th>\n",
       "      <th></th>\n",
       "      <th></th>\n",
       "      <th></th>\n",
       "      <th></th>\n",
       "      <th></th>\n",
       "      <th></th>\n",
       "      <th></th>\n",
       "      <th></th>\n",
       "      <th></th>\n",
       "      <th></th>\n",
       "      <th></th>\n",
       "      <th></th>\n",
       "      <th></th>\n",
       "      <th></th>\n",
       "      <th></th>\n",
       "      <th></th>\n",
       "    </tr>\n",
       "  </thead>\n",
       "  <tbody>\n",
       "    <tr>\n",
       "      <th>LOC100130426</th>\n",
       "      <td>0.0000</td>\n",
       "      <td>0.0000</td>\n",
       "      <td>0.0000</td>\n",
       "      <td>0.0000</td>\n",
       "      <td>0.0000</td>\n",
       "      <td>0.0000</td>\n",
       "      <td>0.0000</td>\n",
       "      <td>0.0000</td>\n",
       "      <td>0.0000</td>\n",
       "      <td>0.0000</td>\n",
       "      <td>...</td>\n",
       "      <td>0.0000</td>\n",
       "      <td>0.0000</td>\n",
       "      <td>0.0000</td>\n",
       "      <td>0.0000</td>\n",
       "      <td>0.0000</td>\n",
       "      <td>0.0000</td>\n",
       "      <td>0.0000</td>\n",
       "      <td>0.0000</td>\n",
       "      <td>0.0000</td>\n",
       "      <td>0.0000</td>\n",
       "    </tr>\n",
       "    <tr>\n",
       "      <th>UBE2Q2P3</th>\n",
       "      <td>10.0113</td>\n",
       "      <td>7.1957</td>\n",
       "      <td>7.2453</td>\n",
       "      <td>11.3311</td>\n",
       "      <td>3.2254</td>\n",
       "      <td>4.0000</td>\n",
       "      <td>7.1084</td>\n",
       "      <td>3.4360</td>\n",
       "      <td>13.5406</td>\n",
       "      <td>9.4467</td>\n",
       "      <td>...</td>\n",
       "      <td>11.7148</td>\n",
       "      <td>3.6657</td>\n",
       "      <td>2.3298</td>\n",
       "      <td>16.3214</td>\n",
       "      <td>20.3514</td>\n",
       "      <td>15.5193</td>\n",
       "      <td>8.4195</td>\n",
       "      <td>42.9857</td>\n",
       "      <td>14.0861</td>\n",
       "      <td>20.5338</td>\n",
       "    </tr>\n",
       "    <tr>\n",
       "      <th>UBE2Q2P3</th>\n",
       "      <td>11.2820</td>\n",
       "      <td>12.4436</td>\n",
       "      <td>6.0184</td>\n",
       "      <td>7.5740</td>\n",
       "      <td>3.4942</td>\n",
       "      <td>13.7852</td>\n",
       "      <td>7.5810</td>\n",
       "      <td>12.1335</td>\n",
       "      <td>16.0273</td>\n",
       "      <td>10.4318</td>\n",
       "      <td>...</td>\n",
       "      <td>11.9573</td>\n",
       "      <td>9.7617</td>\n",
       "      <td>8.3410</td>\n",
       "      <td>7.5330</td>\n",
       "      <td>17.2393</td>\n",
       "      <td>22.9872</td>\n",
       "      <td>10.3226</td>\n",
       "      <td>81.1128</td>\n",
       "      <td>24.1914</td>\n",
       "      <td>8.9500</td>\n",
       "    </tr>\n",
       "    <tr>\n",
       "      <th>LOC149767</th>\n",
       "      <td>49.5994</td>\n",
       "      <td>90.5117</td>\n",
       "      <td>49.5366</td>\n",
       "      <td>82.8303</td>\n",
       "      <td>72.5351</td>\n",
       "      <td>66.3658</td>\n",
       "      <td>109.1809</td>\n",
       "      <td>57.0596</td>\n",
       "      <td>108.4155</td>\n",
       "      <td>84.2496</td>\n",
       "      <td>...</td>\n",
       "      <td>163.5739</td>\n",
       "      <td>130.7486</td>\n",
       "      <td>101.7403</td>\n",
       "      <td>82.4231</td>\n",
       "      <td>100.4196</td>\n",
       "      <td>100.1867</td>\n",
       "      <td>74.7210</td>\n",
       "      <td>85.3715</td>\n",
       "      <td>61.1388</td>\n",
       "      <td>76.9265</td>\n",
       "    </tr>\n",
       "    <tr>\n",
       "      <th>TIMM23</th>\n",
       "      <td>848.9397</td>\n",
       "      <td>924.0158</td>\n",
       "      <td>1140.6781</td>\n",
       "      <td>807.1729</td>\n",
       "      <td>562.0037</td>\n",
       "      <td>1342.6174</td>\n",
       "      <td>1148.3315</td>\n",
       "      <td>955.9141</td>\n",
       "      <td>844.5792</td>\n",
       "      <td>1397.9017</td>\n",
       "      <td>...</td>\n",
       "      <td>919.1686</td>\n",
       "      <td>403.4911</td>\n",
       "      <td>918.9533</td>\n",
       "      <td>995.6058</td>\n",
       "      <td>536.7602</td>\n",
       "      <td>873.9790</td>\n",
       "      <td>766.7448</td>\n",
       "      <td>677.7333</td>\n",
       "      <td>1137.3206</td>\n",
       "      <td>565.4335</td>\n",
       "    </tr>\n",
       "  </tbody>\n",
       "</table>\n",
       "<p>5 rows × 517 columns</p>\n",
       "</div>"
      ],
      "text/plain": [
       "              TCGA-05-4244-01  TCGA-05-4249-01  TCGA-05-4250-01  \\\n",
       "Hugo_Symbol                                                       \n",
       "LOC100130426           0.0000           0.0000           0.0000   \n",
       "UBE2Q2P3              10.0113           7.1957           7.2453   \n",
       "UBE2Q2P3              11.2820          12.4436           6.0184   \n",
       "LOC149767             49.5994          90.5117          49.5366   \n",
       "TIMM23               848.9397         924.0158        1140.6781   \n",
       "\n",
       "              TCGA-05-4382-01  TCGA-05-4384-01  TCGA-05-4389-01  \\\n",
       "Hugo_Symbol                                                       \n",
       "LOC100130426           0.0000           0.0000           0.0000   \n",
       "UBE2Q2P3              11.3311           3.2254           4.0000   \n",
       "UBE2Q2P3               7.5740           3.4942          13.7852   \n",
       "LOC149767             82.8303          72.5351          66.3658   \n",
       "TIMM23               807.1729         562.0037        1342.6174   \n",
       "\n",
       "              TCGA-05-4390-01  TCGA-05-4395-01  TCGA-05-4396-01  \\\n",
       "Hugo_Symbol                                                       \n",
       "LOC100130426           0.0000           0.0000           0.0000   \n",
       "UBE2Q2P3               7.1084           3.4360          13.5406   \n",
       "UBE2Q2P3               7.5810          12.1335          16.0273   \n",
       "LOC149767            109.1809          57.0596         108.4155   \n",
       "TIMM23              1148.3315         955.9141         844.5792   \n",
       "\n",
       "              TCGA-05-4397-01  ...  TCGA-NJ-A4YG-01  TCGA-NJ-A4YI-01  \\\n",
       "Hugo_Symbol                    ...                                     \n",
       "LOC100130426           0.0000  ...           0.0000           0.0000   \n",
       "UBE2Q2P3               9.4467  ...          11.7148           3.6657   \n",
       "UBE2Q2P3              10.4318  ...          11.9573           9.7617   \n",
       "LOC149767             84.2496  ...         163.5739         130.7486   \n",
       "TIMM23              1397.9017  ...         919.1686         403.4911   \n",
       "\n",
       "              TCGA-NJ-A4YP-01  TCGA-NJ-A4YQ-01  TCGA-NJ-A55A-01  \\\n",
       "Hugo_Symbol                                                       \n",
       "LOC100130426           0.0000           0.0000           0.0000   \n",
       "UBE2Q2P3               2.3298          16.3214          20.3514   \n",
       "UBE2Q2P3               8.3410           7.5330          17.2393   \n",
       "LOC149767            101.7403          82.4231         100.4196   \n",
       "TIMM23               918.9533         995.6058         536.7602   \n",
       "\n",
       "              TCGA-NJ-A55O-01  TCGA-NJ-A55R-01  TCGA-NJ-A7XG-01  \\\n",
       "Hugo_Symbol                                                       \n",
       "LOC100130426           0.0000           0.0000           0.0000   \n",
       "UBE2Q2P3              15.5193           8.4195          42.9857   \n",
       "UBE2Q2P3              22.9872          10.3226          81.1128   \n",
       "LOC149767            100.1867          74.7210          85.3715   \n",
       "TIMM23               873.9790         766.7448         677.7333   \n",
       "\n",
       "              TCGA-O1-A52J-01  TCGA-S2-AA1A-01  \n",
       "Hugo_Symbol                                     \n",
       "LOC100130426           0.0000           0.0000  \n",
       "UBE2Q2P3              14.0861          20.5338  \n",
       "UBE2Q2P3              24.1914           8.9500  \n",
       "LOC149767             61.1388          76.9265  \n",
       "TIMM23              1137.3206         565.4335  \n",
       "\n",
       "[5 rows x 517 columns]"
      ]
     },
     "execution_count": 9,
     "metadata": {},
     "output_type": "execute_result"
    }
   ],
   "source": [
    "#Retornar as primeiras 5 linhas do dataset sem valores nulos e com Hugo_symbol como chave\n",
    "data_hugo_luad.head()"
   ]
  },
  {
   "cell_type": "code",
   "execution_count": 10,
   "metadata": {},
   "outputs": [
    {
     "data": {
      "text/html": [
       "<div>\n",
       "<style scoped>\n",
       "    .dataframe tbody tr th:only-of-type {\n",
       "        vertical-align: middle;\n",
       "    }\n",
       "\n",
       "    .dataframe tbody tr th {\n",
       "        vertical-align: top;\n",
       "    }\n",
       "\n",
       "    .dataframe thead th {\n",
       "        text-align: right;\n",
       "    }\n",
       "</style>\n",
       "<table border=\"1\" class=\"dataframe\">\n",
       "  <thead>\n",
       "    <tr style=\"text-align: right;\">\n",
       "      <th></th>\n",
       "      <th>Sample ID</th>\n",
       "      <th>LOC100130426</th>\n",
       "      <th>UBE2Q2P3</th>\n",
       "      <th>UBE2Q2P3</th>\n",
       "      <th>LOC149767</th>\n",
       "      <th>TIMM23</th>\n",
       "      <th>MOXD2</th>\n",
       "      <th>LOC155060</th>\n",
       "      <th>RNU12-2P</th>\n",
       "      <th>SSX9</th>\n",
       "      <th>...</th>\n",
       "      <th>ZXDA</th>\n",
       "      <th>ZXDB</th>\n",
       "      <th>LOC100130182</th>\n",
       "      <th>ZYG11A</th>\n",
       "      <th>ZYG11B</th>\n",
       "      <th>ZYX</th>\n",
       "      <th>FLJ10821</th>\n",
       "      <th>ZZZ3</th>\n",
       "      <th>HUMRTVLH3</th>\n",
       "      <th>AKR1C6P</th>\n",
       "    </tr>\n",
       "  </thead>\n",
       "  <tbody>\n",
       "    <tr>\n",
       "      <th>0</th>\n",
       "      <td>TCGA-05-4244-01</td>\n",
       "      <td>0.0</td>\n",
       "      <td>10.0113</td>\n",
       "      <td>11.2820</td>\n",
       "      <td>49.5994</td>\n",
       "      <td>848.9397</td>\n",
       "      <td>0.0</td>\n",
       "      <td>345.2308</td>\n",
       "      <td>1.0472</td>\n",
       "      <td>0.0000</td>\n",
       "      <td>...</td>\n",
       "      <td>39.7940</td>\n",
       "      <td>292.5212</td>\n",
       "      <td>959.2460</td>\n",
       "      <td>0.6981</td>\n",
       "      <td>1088.0531</td>\n",
       "      <td>2837.9440</td>\n",
       "      <td>871.2802</td>\n",
       "      <td>575.2683</td>\n",
       "      <td>6.6323</td>\n",
       "      <td>0.0</td>\n",
       "    </tr>\n",
       "    <tr>\n",
       "      <th>1</th>\n",
       "      <td>TCGA-05-4249-01</td>\n",
       "      <td>0.0</td>\n",
       "      <td>7.1957</td>\n",
       "      <td>12.4436</td>\n",
       "      <td>90.5117</td>\n",
       "      <td>924.0158</td>\n",
       "      <td>0.0</td>\n",
       "      <td>145.2025</td>\n",
       "      <td>1.6098</td>\n",
       "      <td>0.0000</td>\n",
       "      <td>...</td>\n",
       "      <td>62.1376</td>\n",
       "      <td>493.5597</td>\n",
       "      <td>1179.3275</td>\n",
       "      <td>20.2833</td>\n",
       "      <td>787.5061</td>\n",
       "      <td>2351.2500</td>\n",
       "      <td>1138.1170</td>\n",
       "      <td>690.2752</td>\n",
       "      <td>179.9738</td>\n",
       "      <td>0.0</td>\n",
       "    </tr>\n",
       "    <tr>\n",
       "      <th>2</th>\n",
       "      <td>TCGA-05-4250-01</td>\n",
       "      <td>0.0</td>\n",
       "      <td>7.2453</td>\n",
       "      <td>6.0184</td>\n",
       "      <td>49.5366</td>\n",
       "      <td>1140.6781</td>\n",
       "      <td>0.0</td>\n",
       "      <td>51.7284</td>\n",
       "      <td>0.0000</td>\n",
       "      <td>0.0000</td>\n",
       "      <td>...</td>\n",
       "      <td>60.0182</td>\n",
       "      <td>365.4149</td>\n",
       "      <td>843.9028</td>\n",
       "      <td>26.5274</td>\n",
       "      <td>475.1720</td>\n",
       "      <td>5437.4534</td>\n",
       "      <td>1170.5214</td>\n",
       "      <td>532.8691</td>\n",
       "      <td>6.3003</td>\n",
       "      <td>0.0</td>\n",
       "    </tr>\n",
       "    <tr>\n",
       "      <th>3</th>\n",
       "      <td>TCGA-05-4382-01</td>\n",
       "      <td>0.0</td>\n",
       "      <td>11.3311</td>\n",
       "      <td>7.5740</td>\n",
       "      <td>82.8303</td>\n",
       "      <td>807.1729</td>\n",
       "      <td>0.0</td>\n",
       "      <td>240.0221</td>\n",
       "      <td>0.4786</td>\n",
       "      <td>0.2393</td>\n",
       "      <td>...</td>\n",
       "      <td>40.4424</td>\n",
       "      <td>346.7517</td>\n",
       "      <td>946.6872</td>\n",
       "      <td>64.8514</td>\n",
       "      <td>908.1593</td>\n",
       "      <td>6770.1537</td>\n",
       "      <td>1169.2401</td>\n",
       "      <td>663.8297</td>\n",
       "      <td>35.1777</td>\n",
       "      <td>0.0</td>\n",
       "    </tr>\n",
       "    <tr>\n",
       "      <th>4</th>\n",
       "      <td>TCGA-05-4384-01</td>\n",
       "      <td>0.0</td>\n",
       "      <td>3.2254</td>\n",
       "      <td>3.4942</td>\n",
       "      <td>72.5351</td>\n",
       "      <td>562.0037</td>\n",
       "      <td>0.0</td>\n",
       "      <td>274.2822</td>\n",
       "      <td>0.6109</td>\n",
       "      <td>0.0000</td>\n",
       "      <td>...</td>\n",
       "      <td>80.0244</td>\n",
       "      <td>563.2254</td>\n",
       "      <td>1320.7086</td>\n",
       "      <td>7.9414</td>\n",
       "      <td>778.8638</td>\n",
       "      <td>3341.4783</td>\n",
       "      <td>1737.3244</td>\n",
       "      <td>723.2743</td>\n",
       "      <td>378.1307</td>\n",
       "      <td>0.0</td>\n",
       "    </tr>\n",
       "  </tbody>\n",
       "</table>\n",
       "<p>5 rows × 20530 columns</p>\n",
       "</div>"
      ],
      "text/plain": [
       "         Sample ID  LOC100130426  UBE2Q2P3  UBE2Q2P3  LOC149767     TIMM23  \\\n",
       "0  TCGA-05-4244-01           0.0   10.0113   11.2820    49.5994   848.9397   \n",
       "1  TCGA-05-4249-01           0.0    7.1957   12.4436    90.5117   924.0158   \n",
       "2  TCGA-05-4250-01           0.0    7.2453    6.0184    49.5366  1140.6781   \n",
       "3  TCGA-05-4382-01           0.0   11.3311    7.5740    82.8303   807.1729   \n",
       "4  TCGA-05-4384-01           0.0    3.2254    3.4942    72.5351   562.0037   \n",
       "\n",
       "   MOXD2  LOC155060  RNU12-2P    SSX9  ...     ZXDA      ZXDB  LOC100130182  \\\n",
       "0    0.0   345.2308    1.0472  0.0000  ...  39.7940  292.5212      959.2460   \n",
       "1    0.0   145.2025    1.6098  0.0000  ...  62.1376  493.5597     1179.3275   \n",
       "2    0.0    51.7284    0.0000  0.0000  ...  60.0182  365.4149      843.9028   \n",
       "3    0.0   240.0221    0.4786  0.2393  ...  40.4424  346.7517      946.6872   \n",
       "4    0.0   274.2822    0.6109  0.0000  ...  80.0244  563.2254     1320.7086   \n",
       "\n",
       "    ZYG11A     ZYG11B        ZYX   FLJ10821      ZZZ3  HUMRTVLH3  AKR1C6P  \n",
       "0   0.6981  1088.0531  2837.9440   871.2802  575.2683     6.6323      0.0  \n",
       "1  20.2833   787.5061  2351.2500  1138.1170  690.2752   179.9738      0.0  \n",
       "2  26.5274   475.1720  5437.4534  1170.5214  532.8691     6.3003      0.0  \n",
       "3  64.8514   908.1593  6770.1537  1169.2401  663.8297    35.1777      0.0  \n",
       "4   7.9414   778.8638  3341.4783  1737.3244  723.2743   378.1307      0.0  \n",
       "\n",
       "[5 rows x 20530 columns]"
      ]
     },
     "execution_count": 10,
     "metadata": {},
     "output_type": "execute_result"
    }
   ],
   "source": [
    "# Transposta para colocar 1 gene em cada coluna\n",
    "data_transposta = data_hugo_luad.transpose()\n",
    "\n",
    "# Converte o índice atual numa coluna comum no DataFrame\n",
    "data_transposta = data_transposta.reset_index()\n",
    "\n",
    "# Nomear essa coluna Sample ID para posterior merge \n",
    "data_transposta.rename(columns={'index': 'Sample ID'}, inplace=True)\n",
    "\n",
    "# Retirar o nome da coluna índice (Hugo_Symbol)\n",
    "data_transposta = data_transposta.rename_axis(None, axis=1)\n",
    "\n",
    "#Verificar\n",
    "data_transposta.head()"
   ]
  },
  {
   "cell_type": "code",
   "execution_count": 11,
   "metadata": {},
   "outputs": [
    {
     "data": {
      "text/plain": [
       "Index(['Sample ID', 'LOC100130426', 'UBE2Q2P3', 'UBE2Q2P3', 'LOC149767',\n",
       "       'TIMM23', 'MOXD2', 'LOC155060', 'RNU12-2P', 'SSX9',\n",
       "       ...\n",
       "       'ZXDA', 'ZXDB', 'LOC100130182', 'ZYG11A', 'ZYG11B', 'ZYX', 'FLJ10821',\n",
       "       'ZZZ3', 'HUMRTVLH3', 'AKR1C6P'],\n",
       "      dtype='object', length=20530)"
      ]
     },
     "execution_count": 11,
     "metadata": {},
     "output_type": "execute_result"
    }
   ],
   "source": [
    "#verificar pelas colunas\n",
    "data_transposta.columns"
   ]
  },
  {
   "cell_type": "code",
   "execution_count": 12,
   "metadata": {},
   "outputs": [
    {
     "data": {
      "text/html": [
       "<div>\n",
       "<style scoped>\n",
       "    .dataframe tbody tr th:only-of-type {\n",
       "        vertical-align: middle;\n",
       "    }\n",
       "\n",
       "    .dataframe tbody tr th {\n",
       "        vertical-align: top;\n",
       "    }\n",
       "\n",
       "    .dataframe thead th {\n",
       "        text-align: right;\n",
       "    }\n",
       "</style>\n",
       "<table border=\"1\" class=\"dataframe\">\n",
       "  <thead>\n",
       "    <tr style=\"text-align: right;\">\n",
       "      <th></th>\n",
       "      <th>Sample ID</th>\n",
       "      <th>LOC100130426</th>\n",
       "      <th>UBE2Q2P3</th>\n",
       "      <th>UBE2Q2P3</th>\n",
       "      <th>LOC149767</th>\n",
       "      <th>TIMM23</th>\n",
       "      <th>MOXD2</th>\n",
       "      <th>LOC155060</th>\n",
       "      <th>RNU12-2P</th>\n",
       "      <th>SSX9</th>\n",
       "      <th>...</th>\n",
       "      <th>ZXDA</th>\n",
       "      <th>ZXDB</th>\n",
       "      <th>LOC100130182</th>\n",
       "      <th>ZYG11A</th>\n",
       "      <th>ZYG11B</th>\n",
       "      <th>ZYX</th>\n",
       "      <th>FLJ10821</th>\n",
       "      <th>ZZZ3</th>\n",
       "      <th>HUMRTVLH3</th>\n",
       "      <th>AKR1C6P</th>\n",
       "    </tr>\n",
       "  </thead>\n",
       "  <tbody>\n",
       "    <tr>\n",
       "      <th>count</th>\n",
       "      <td>517</td>\n",
       "      <td>517.000000</td>\n",
       "      <td>517.000000</td>\n",
       "      <td>517.000000</td>\n",
       "      <td>517.000000</td>\n",
       "      <td>517.000000</td>\n",
       "      <td>517.000000</td>\n",
       "      <td>517.000000</td>\n",
       "      <td>517.000000</td>\n",
       "      <td>517.000000</td>\n",
       "      <td>...</td>\n",
       "      <td>517.000000</td>\n",
       "      <td>517.000000</td>\n",
       "      <td>517.000000</td>\n",
       "      <td>517.000000</td>\n",
       "      <td>517.000000</td>\n",
       "      <td>517.000000</td>\n",
       "      <td>517.000000</td>\n",
       "      <td>517.000000</td>\n",
       "      <td>517.000000</td>\n",
       "      <td>517.000000</td>\n",
       "    </tr>\n",
       "    <tr>\n",
       "      <th>unique</th>\n",
       "      <td>517</td>\n",
       "      <td>NaN</td>\n",
       "      <td>NaN</td>\n",
       "      <td>NaN</td>\n",
       "      <td>NaN</td>\n",
       "      <td>NaN</td>\n",
       "      <td>NaN</td>\n",
       "      <td>NaN</td>\n",
       "      <td>NaN</td>\n",
       "      <td>NaN</td>\n",
       "      <td>...</td>\n",
       "      <td>NaN</td>\n",
       "      <td>NaN</td>\n",
       "      <td>NaN</td>\n",
       "      <td>NaN</td>\n",
       "      <td>NaN</td>\n",
       "      <td>NaN</td>\n",
       "      <td>NaN</td>\n",
       "      <td>NaN</td>\n",
       "      <td>NaN</td>\n",
       "      <td>NaN</td>\n",
       "    </tr>\n",
       "    <tr>\n",
       "      <th>top</th>\n",
       "      <td>TCGA-50-5939-01</td>\n",
       "      <td>NaN</td>\n",
       "      <td>NaN</td>\n",
       "      <td>NaN</td>\n",
       "      <td>NaN</td>\n",
       "      <td>NaN</td>\n",
       "      <td>NaN</td>\n",
       "      <td>NaN</td>\n",
       "      <td>NaN</td>\n",
       "      <td>NaN</td>\n",
       "      <td>...</td>\n",
       "      <td>NaN</td>\n",
       "      <td>NaN</td>\n",
       "      <td>NaN</td>\n",
       "      <td>NaN</td>\n",
       "      <td>NaN</td>\n",
       "      <td>NaN</td>\n",
       "      <td>NaN</td>\n",
       "      <td>NaN</td>\n",
       "      <td>NaN</td>\n",
       "      <td>NaN</td>\n",
       "    </tr>\n",
       "    <tr>\n",
       "      <th>freq</th>\n",
       "      <td>1</td>\n",
       "      <td>NaN</td>\n",
       "      <td>NaN</td>\n",
       "      <td>NaN</td>\n",
       "      <td>NaN</td>\n",
       "      <td>NaN</td>\n",
       "      <td>NaN</td>\n",
       "      <td>NaN</td>\n",
       "      <td>NaN</td>\n",
       "      <td>NaN</td>\n",
       "      <td>...</td>\n",
       "      <td>NaN</td>\n",
       "      <td>NaN</td>\n",
       "      <td>NaN</td>\n",
       "      <td>NaN</td>\n",
       "      <td>NaN</td>\n",
       "      <td>NaN</td>\n",
       "      <td>NaN</td>\n",
       "      <td>NaN</td>\n",
       "      <td>NaN</td>\n",
       "      <td>NaN</td>\n",
       "    </tr>\n",
       "    <tr>\n",
       "      <th>mean</th>\n",
       "      <td>NaN</td>\n",
       "      <td>0.019793</td>\n",
       "      <td>12.563599</td>\n",
       "      <td>13.772414</td>\n",
       "      <td>109.191745</td>\n",
       "      <td>921.412556</td>\n",
       "      <td>0.000518</td>\n",
       "      <td>200.965270</td>\n",
       "      <td>0.456712</td>\n",
       "      <td>0.144994</td>\n",
       "      <td>...</td>\n",
       "      <td>48.018296</td>\n",
       "      <td>383.145637</td>\n",
       "      <td>1082.626088</td>\n",
       "      <td>61.012445</td>\n",
       "      <td>849.987180</td>\n",
       "      <td>4049.562512</td>\n",
       "      <td>1080.205735</td>\n",
       "      <td>710.462033</td>\n",
       "      <td>127.999331</td>\n",
       "      <td>0.176634</td>\n",
       "    </tr>\n",
       "    <tr>\n",
       "      <th>std</th>\n",
       "      <td>NaN</td>\n",
       "      <td>0.110964</td>\n",
       "      <td>10.824164</td>\n",
       "      <td>11.507095</td>\n",
       "      <td>54.083375</td>\n",
       "      <td>362.542965</td>\n",
       "      <td>0.011769</td>\n",
       "      <td>156.827547</td>\n",
       "      <td>0.605640</td>\n",
       "      <td>1.625181</td>\n",
       "      <td>...</td>\n",
       "      <td>21.424549</td>\n",
       "      <td>169.977557</td>\n",
       "      <td>339.329517</td>\n",
       "      <td>74.516301</td>\n",
       "      <td>259.159593</td>\n",
       "      <td>1869.604727</td>\n",
       "      <td>440.005370</td>\n",
       "      <td>319.317913</td>\n",
       "      <td>251.016470</td>\n",
       "      <td>0.896453</td>\n",
       "    </tr>\n",
       "    <tr>\n",
       "      <th>min</th>\n",
       "      <td>NaN</td>\n",
       "      <td>0.000000</td>\n",
       "      <td>0.000000</td>\n",
       "      <td>0.000000</td>\n",
       "      <td>36.357000</td>\n",
       "      <td>270.115400</td>\n",
       "      <td>0.000000</td>\n",
       "      <td>11.022000</td>\n",
       "      <td>0.000000</td>\n",
       "      <td>0.000000</td>\n",
       "      <td>...</td>\n",
       "      <td>8.879000</td>\n",
       "      <td>34.099400</td>\n",
       "      <td>311.314600</td>\n",
       "      <td>0.000000</td>\n",
       "      <td>264.413200</td>\n",
       "      <td>446.043200</td>\n",
       "      <td>183.841200</td>\n",
       "      <td>219.603600</td>\n",
       "      <td>0.685400</td>\n",
       "      <td>0.000000</td>\n",
       "    </tr>\n",
       "    <tr>\n",
       "      <th>25%</th>\n",
       "      <td>NaN</td>\n",
       "      <td>0.000000</td>\n",
       "      <td>5.357900</td>\n",
       "      <td>5.888000</td>\n",
       "      <td>78.785300</td>\n",
       "      <td>671.334600</td>\n",
       "      <td>0.000000</td>\n",
       "      <td>89.459200</td>\n",
       "      <td>0.000000</td>\n",
       "      <td>0.000000</td>\n",
       "      <td>...</td>\n",
       "      <td>34.482800</td>\n",
       "      <td>276.152700</td>\n",
       "      <td>851.610700</td>\n",
       "      <td>5.879200</td>\n",
       "      <td>675.758400</td>\n",
       "      <td>2650.125500</td>\n",
       "      <td>776.395500</td>\n",
       "      <td>548.513500</td>\n",
       "      <td>10.759700</td>\n",
       "      <td>0.000000</td>\n",
       "    </tr>\n",
       "    <tr>\n",
       "      <th>50%</th>\n",
       "      <td>NaN</td>\n",
       "      <td>0.000000</td>\n",
       "      <td>10.456700</td>\n",
       "      <td>11.282000</td>\n",
       "      <td>97.173100</td>\n",
       "      <td>848.939700</td>\n",
       "      <td>0.000000</td>\n",
       "      <td>160.488400</td>\n",
       "      <td>0.305600</td>\n",
       "      <td>0.000000</td>\n",
       "      <td>...</td>\n",
       "      <td>44.308600</td>\n",
       "      <td>346.751700</td>\n",
       "      <td>1040.429600</td>\n",
       "      <td>37.424400</td>\n",
       "      <td>815.834800</td>\n",
       "      <td>3811.870500</td>\n",
       "      <td>1033.582100</td>\n",
       "      <td>663.253200</td>\n",
       "      <td>25.665900</td>\n",
       "      <td>0.000000</td>\n",
       "    </tr>\n",
       "    <tr>\n",
       "      <th>75%</th>\n",
       "      <td>NaN</td>\n",
       "      <td>0.000000</td>\n",
       "      <td>16.079700</td>\n",
       "      <td>17.981600</td>\n",
       "      <td>122.073800</td>\n",
       "      <td>1072.048400</td>\n",
       "      <td>0.000000</td>\n",
       "      <td>269.594000</td>\n",
       "      <td>0.746300</td>\n",
       "      <td>0.000000</td>\n",
       "      <td>...</td>\n",
       "      <td>58.514100</td>\n",
       "      <td>463.612700</td>\n",
       "      <td>1257.618600</td>\n",
       "      <td>86.475300</td>\n",
       "      <td>978.162000</td>\n",
       "      <td>5176.296700</td>\n",
       "      <td>1339.449500</td>\n",
       "      <td>807.746300</td>\n",
       "      <td>128.659200</td>\n",
       "      <td>0.000000</td>\n",
       "    </tr>\n",
       "    <tr>\n",
       "      <th>max</th>\n",
       "      <td>NaN</td>\n",
       "      <td>1.328100</td>\n",
       "      <td>84.739200</td>\n",
       "      <td>107.370500</td>\n",
       "      <td>677.255900</td>\n",
       "      <td>2678.614800</td>\n",
       "      <td>0.267600</td>\n",
       "      <td>1477.014100</td>\n",
       "      <td>5.281000</td>\n",
       "      <td>33.737500</td>\n",
       "      <td>...</td>\n",
       "      <td>217.434200</td>\n",
       "      <td>1749.691600</td>\n",
       "      <td>3016.414100</td>\n",
       "      <td>472.129300</td>\n",
       "      <td>2453.159500</td>\n",
       "      <td>15291.709300</td>\n",
       "      <td>2811.271300</td>\n",
       "      <td>4961.792200</td>\n",
       "      <td>2692.689000</td>\n",
       "      <td>13.407300</td>\n",
       "    </tr>\n",
       "  </tbody>\n",
       "</table>\n",
       "<p>11 rows × 20530 columns</p>\n",
       "</div>"
      ],
      "text/plain": [
       "              Sample ID  LOC100130426    UBE2Q2P3    UBE2Q2P3   LOC149767  \\\n",
       "count               517    517.000000  517.000000  517.000000  517.000000   \n",
       "unique              517           NaN         NaN         NaN         NaN   \n",
       "top     TCGA-50-5939-01           NaN         NaN         NaN         NaN   \n",
       "freq                  1           NaN         NaN         NaN         NaN   \n",
       "mean                NaN      0.019793   12.563599   13.772414  109.191745   \n",
       "std                 NaN      0.110964   10.824164   11.507095   54.083375   \n",
       "min                 NaN      0.000000    0.000000    0.000000   36.357000   \n",
       "25%                 NaN      0.000000    5.357900    5.888000   78.785300   \n",
       "50%                 NaN      0.000000   10.456700   11.282000   97.173100   \n",
       "75%                 NaN      0.000000   16.079700   17.981600  122.073800   \n",
       "max                 NaN      1.328100   84.739200  107.370500  677.255900   \n",
       "\n",
       "             TIMM23       MOXD2    LOC155060    RNU12-2P        SSX9  ...  \\\n",
       "count    517.000000  517.000000   517.000000  517.000000  517.000000  ...   \n",
       "unique          NaN         NaN          NaN         NaN         NaN  ...   \n",
       "top             NaN         NaN          NaN         NaN         NaN  ...   \n",
       "freq            NaN         NaN          NaN         NaN         NaN  ...   \n",
       "mean     921.412556    0.000518   200.965270    0.456712    0.144994  ...   \n",
       "std      362.542965    0.011769   156.827547    0.605640    1.625181  ...   \n",
       "min      270.115400    0.000000    11.022000    0.000000    0.000000  ...   \n",
       "25%      671.334600    0.000000    89.459200    0.000000    0.000000  ...   \n",
       "50%      848.939700    0.000000   160.488400    0.305600    0.000000  ...   \n",
       "75%     1072.048400    0.000000   269.594000    0.746300    0.000000  ...   \n",
       "max     2678.614800    0.267600  1477.014100    5.281000   33.737500  ...   \n",
       "\n",
       "              ZXDA         ZXDB  LOC100130182      ZYG11A       ZYG11B  \\\n",
       "count   517.000000   517.000000    517.000000  517.000000   517.000000   \n",
       "unique         NaN          NaN           NaN         NaN          NaN   \n",
       "top            NaN          NaN           NaN         NaN          NaN   \n",
       "freq           NaN          NaN           NaN         NaN          NaN   \n",
       "mean     48.018296   383.145637   1082.626088   61.012445   849.987180   \n",
       "std      21.424549   169.977557    339.329517   74.516301   259.159593   \n",
       "min       8.879000    34.099400    311.314600    0.000000   264.413200   \n",
       "25%      34.482800   276.152700    851.610700    5.879200   675.758400   \n",
       "50%      44.308600   346.751700   1040.429600   37.424400   815.834800   \n",
       "75%      58.514100   463.612700   1257.618600   86.475300   978.162000   \n",
       "max     217.434200  1749.691600   3016.414100  472.129300  2453.159500   \n",
       "\n",
       "                 ZYX     FLJ10821         ZZZ3    HUMRTVLH3     AKR1C6P  \n",
       "count     517.000000   517.000000   517.000000   517.000000  517.000000  \n",
       "unique           NaN          NaN          NaN          NaN         NaN  \n",
       "top              NaN          NaN          NaN          NaN         NaN  \n",
       "freq             NaN          NaN          NaN          NaN         NaN  \n",
       "mean     4049.562512  1080.205735   710.462033   127.999331    0.176634  \n",
       "std      1869.604727   440.005370   319.317913   251.016470    0.896453  \n",
       "min       446.043200   183.841200   219.603600     0.685400    0.000000  \n",
       "25%      2650.125500   776.395500   548.513500    10.759700    0.000000  \n",
       "50%      3811.870500  1033.582100   663.253200    25.665900    0.000000  \n",
       "75%      5176.296700  1339.449500   807.746300   128.659200    0.000000  \n",
       "max     15291.709300  2811.271300  4961.792200  2692.689000   13.407300  \n",
       "\n",
       "[11 rows x 20530 columns]"
      ]
     },
     "execution_count": 12,
     "metadata": {},
     "output_type": "execute_result"
    }
   ],
   "source": [
    "# Breve analise estatistica\n",
    "data_transposta.describe(include = \"all\")"
   ]
  },
  {
   "cell_type": "markdown",
   "metadata": {},
   "source": [
    "__Describe: Análise estatística__\n",
    "* Contagem (count): Número de observações não nulas.\n",
    "* Média (mean): Média aritmética dos valores.\n",
    "* Desvio padrão (std): Medida de dispersão dos valores em relação à média.\n",
    "* Valor mínimo (min): Menor valor na coluna.\n",
    "* Quartil inferior (25%): Valor abaixo do qual 25% dos dados se encontram.\n",
    "* Mediana (50%): Valor abaixo do qual 50% dos dados se encontram (também conhecido como segundo quartil).\n",
    "* Quartil superior (75%): Valor abaixo do qual 75% dos dados se encontram.\n",
    "* Valor máximo (max): Maior valor na coluna."
   ]
  },
  {
   "cell_type": "markdown",
   "metadata": {},
   "source": [
    "### Metadados"
   ]
  },
  {
   "cell_type": "code",
   "execution_count": 13,
   "metadata": {},
   "outputs": [],
   "source": [
    "# Carregar metadados\n",
    "# Selecionou-se a coluna Sample ID como índice porque é a coluna que ambos os datasets têm em comum\n",
    "meta_luad = pd.read_csv(\"luad_tcga_clinical_data.tsv\",sep=\"\\t\",header=0,index_col=2)\n",
    "\n",
    "#Eliminar coluna Study ID por identificar o estudo, que é igual em todas as amostras, sendo por isso irrelevante\n",
    "del meta_luad[\"Study ID\"]"
   ]
  },
  {
   "cell_type": "code",
   "execution_count": 14,
   "metadata": {
    "scrolled": true
   },
   "outputs": [
    {
     "data": {
      "text/plain": [
       "(517, 106)"
      ]
     },
     "execution_count": 14,
     "metadata": {},
     "output_type": "execute_result"
    }
   ],
   "source": [
    "#Verificar a dimensão dos metadados\n",
    "meta_luad.shape  ## 517 amostras x 106 variaveis"
   ]
  },
  {
   "cell_type": "code",
   "execution_count": 15,
   "metadata": {},
   "outputs": [
    {
     "data": {
      "text/html": [
       "<div>\n",
       "<style scoped>\n",
       "    .dataframe tbody tr th:only-of-type {\n",
       "        vertical-align: middle;\n",
       "    }\n",
       "\n",
       "    .dataframe tbody tr th {\n",
       "        vertical-align: top;\n",
       "    }\n",
       "\n",
       "    .dataframe thead th {\n",
       "        text-align: right;\n",
       "    }\n",
       "</style>\n",
       "<table border=\"1\" class=\"dataframe\">\n",
       "  <thead>\n",
       "    <tr style=\"text-align: right;\">\n",
       "      <th></th>\n",
       "      <th>Patient ID</th>\n",
       "      <th>Diagnosis Age</th>\n",
       "      <th>Neoplasm Disease Stage American Joint Committee on Cancer Code</th>\n",
       "      <th>Neoplasm American Joint Committee on Cancer Clinical Distant Metastasis M Stage</th>\n",
       "      <th>American Joint Committee on Cancer Metastasis Stage Code</th>\n",
       "      <th>American Joint Committee on Cancer Lymph Node Stage Code</th>\n",
       "      <th>American Joint Committee on Cancer Lymph Node Stage Code.1</th>\n",
       "      <th>Neoplasm Disease Lymph Node Stage American Joint Committee on Cancer Code</th>\n",
       "      <th>Neoplasm Disease Stage American Joint Committee on Cancer Code.1</th>\n",
       "      <th>American Joint Committee on Cancer Publication Version Type</th>\n",
       "      <th>...</th>\n",
       "      <th>Adjuvant Postoperative Targeted Therapy Administered Indicator</th>\n",
       "      <th>Time between clamping and freezing</th>\n",
       "      <th>Time between excision and freezing</th>\n",
       "      <th>Tissue Source Site</th>\n",
       "      <th>Patient Smoking History Category</th>\n",
       "      <th>Primary Therapy Outcome Success Type</th>\n",
       "      <th>Tumor Site</th>\n",
       "      <th>Person Neoplasm Status</th>\n",
       "      <th>Vial number</th>\n",
       "      <th>Patient's Vital Status</th>\n",
       "    </tr>\n",
       "    <tr>\n",
       "      <th>Sample ID</th>\n",
       "      <th></th>\n",
       "      <th></th>\n",
       "      <th></th>\n",
       "      <th></th>\n",
       "      <th></th>\n",
       "      <th></th>\n",
       "      <th></th>\n",
       "      <th></th>\n",
       "      <th></th>\n",
       "      <th></th>\n",
       "      <th></th>\n",
       "      <th></th>\n",
       "      <th></th>\n",
       "      <th></th>\n",
       "      <th></th>\n",
       "      <th></th>\n",
       "      <th></th>\n",
       "      <th></th>\n",
       "      <th></th>\n",
       "      <th></th>\n",
       "      <th></th>\n",
       "    </tr>\n",
       "  </thead>\n",
       "  <tbody>\n",
       "    <tr>\n",
       "      <th>TCGA-05-4244-01</th>\n",
       "      <td>TCGA-05-4244</td>\n",
       "      <td>70.0</td>\n",
       "      <td>NaN</td>\n",
       "      <td>NaN</td>\n",
       "      <td>M1</td>\n",
       "      <td>NaN</td>\n",
       "      <td>NaN</td>\n",
       "      <td>N2</td>\n",
       "      <td>Stage IV</td>\n",
       "      <td>6th</td>\n",
       "      <td>...</td>\n",
       "      <td>NaN</td>\n",
       "      <td>NaN</td>\n",
       "      <td>NaN</td>\n",
       "      <td>5</td>\n",
       "      <td>4.0</td>\n",
       "      <td>NaN</td>\n",
       "      <td>Lung</td>\n",
       "      <td>TUMOR FREE</td>\n",
       "      <td>A</td>\n",
       "      <td>Alive</td>\n",
       "    </tr>\n",
       "    <tr>\n",
       "      <th>TCGA-05-4249-01</th>\n",
       "      <td>TCGA-05-4249</td>\n",
       "      <td>67.0</td>\n",
       "      <td>NaN</td>\n",
       "      <td>NaN</td>\n",
       "      <td>M0</td>\n",
       "      <td>NaN</td>\n",
       "      <td>NaN</td>\n",
       "      <td>N0</td>\n",
       "      <td>Stage IB</td>\n",
       "      <td>6th</td>\n",
       "      <td>...</td>\n",
       "      <td>NaN</td>\n",
       "      <td>NaN</td>\n",
       "      <td>NaN</td>\n",
       "      <td>5</td>\n",
       "      <td>3.0</td>\n",
       "      <td>NaN</td>\n",
       "      <td>Lung</td>\n",
       "      <td>TUMOR FREE</td>\n",
       "      <td>A</td>\n",
       "      <td>Alive</td>\n",
       "    </tr>\n",
       "    <tr>\n",
       "      <th>TCGA-05-4250-01</th>\n",
       "      <td>TCGA-05-4250</td>\n",
       "      <td>79.0</td>\n",
       "      <td>NaN</td>\n",
       "      <td>NaN</td>\n",
       "      <td>M0</td>\n",
       "      <td>NaN</td>\n",
       "      <td>NaN</td>\n",
       "      <td>N1</td>\n",
       "      <td>Stage IIIA</td>\n",
       "      <td>6th</td>\n",
       "      <td>...</td>\n",
       "      <td>NaN</td>\n",
       "      <td>NaN</td>\n",
       "      <td>NaN</td>\n",
       "      <td>5</td>\n",
       "      <td>4.0</td>\n",
       "      <td>NaN</td>\n",
       "      <td>Lung</td>\n",
       "      <td>NaN</td>\n",
       "      <td>A</td>\n",
       "      <td>Dead</td>\n",
       "    </tr>\n",
       "    <tr>\n",
       "      <th>TCGA-05-4382-01</th>\n",
       "      <td>TCGA-05-4382</td>\n",
       "      <td>68.0</td>\n",
       "      <td>NaN</td>\n",
       "      <td>NaN</td>\n",
       "      <td>M0</td>\n",
       "      <td>NaN</td>\n",
       "      <td>NaN</td>\n",
       "      <td>N0</td>\n",
       "      <td>Stage IB</td>\n",
       "      <td>6th</td>\n",
       "      <td>...</td>\n",
       "      <td>NaN</td>\n",
       "      <td>NaN</td>\n",
       "      <td>NaN</td>\n",
       "      <td>5</td>\n",
       "      <td>4.0</td>\n",
       "      <td>NaN</td>\n",
       "      <td>Lung</td>\n",
       "      <td>TUMOR FREE</td>\n",
       "      <td>A</td>\n",
       "      <td>Alive</td>\n",
       "    </tr>\n",
       "    <tr>\n",
       "      <th>TCGA-05-4384-01</th>\n",
       "      <td>TCGA-05-4384</td>\n",
       "      <td>66.0</td>\n",
       "      <td>NaN</td>\n",
       "      <td>NaN</td>\n",
       "      <td>M0</td>\n",
       "      <td>NaN</td>\n",
       "      <td>NaN</td>\n",
       "      <td>N2</td>\n",
       "      <td>Stage IIIA</td>\n",
       "      <td>6th</td>\n",
       "      <td>...</td>\n",
       "      <td>NaN</td>\n",
       "      <td>NaN</td>\n",
       "      <td>NaN</td>\n",
       "      <td>5</td>\n",
       "      <td>3.0</td>\n",
       "      <td>NaN</td>\n",
       "      <td>Lung</td>\n",
       "      <td>NaN</td>\n",
       "      <td>A</td>\n",
       "      <td>Alive</td>\n",
       "    </tr>\n",
       "  </tbody>\n",
       "</table>\n",
       "<p>5 rows × 106 columns</p>\n",
       "</div>"
      ],
      "text/plain": [
       "                   Patient ID  Diagnosis Age  \\\n",
       "Sample ID                                      \n",
       "TCGA-05-4244-01  TCGA-05-4244           70.0   \n",
       "TCGA-05-4249-01  TCGA-05-4249           67.0   \n",
       "TCGA-05-4250-01  TCGA-05-4250           79.0   \n",
       "TCGA-05-4382-01  TCGA-05-4382           68.0   \n",
       "TCGA-05-4384-01  TCGA-05-4384           66.0   \n",
       "\n",
       "                 Neoplasm Disease Stage American Joint Committee on Cancer Code  \\\n",
       "Sample ID                                                                         \n",
       "TCGA-05-4244-01                                                NaN                \n",
       "TCGA-05-4249-01                                                NaN                \n",
       "TCGA-05-4250-01                                                NaN                \n",
       "TCGA-05-4382-01                                                NaN                \n",
       "TCGA-05-4384-01                                                NaN                \n",
       "\n",
       "                 Neoplasm American Joint Committee on Cancer Clinical Distant Metastasis M Stage  \\\n",
       "Sample ID                                                                                          \n",
       "TCGA-05-4244-01                                                NaN                                 \n",
       "TCGA-05-4249-01                                                NaN                                 \n",
       "TCGA-05-4250-01                                                NaN                                 \n",
       "TCGA-05-4382-01                                                NaN                                 \n",
       "TCGA-05-4384-01                                                NaN                                 \n",
       "\n",
       "                American Joint Committee on Cancer Metastasis Stage Code  \\\n",
       "Sample ID                                                                  \n",
       "TCGA-05-4244-01                                                 M1         \n",
       "TCGA-05-4249-01                                                 M0         \n",
       "TCGA-05-4250-01                                                 M0         \n",
       "TCGA-05-4382-01                                                 M0         \n",
       "TCGA-05-4384-01                                                 M0         \n",
       "\n",
       "                 American Joint Committee on Cancer Lymph Node Stage Code  \\\n",
       "Sample ID                                                                   \n",
       "TCGA-05-4244-01                                                NaN          \n",
       "TCGA-05-4249-01                                                NaN          \n",
       "TCGA-05-4250-01                                                NaN          \n",
       "TCGA-05-4382-01                                                NaN          \n",
       "TCGA-05-4384-01                                                NaN          \n",
       "\n",
       "                 American Joint Committee on Cancer Lymph Node Stage Code.1  \\\n",
       "Sample ID                                                                     \n",
       "TCGA-05-4244-01                                                NaN            \n",
       "TCGA-05-4249-01                                                NaN            \n",
       "TCGA-05-4250-01                                                NaN            \n",
       "TCGA-05-4382-01                                                NaN            \n",
       "TCGA-05-4384-01                                                NaN            \n",
       "\n",
       "                Neoplasm Disease Lymph Node Stage American Joint Committee on Cancer Code  \\\n",
       "Sample ID                                                                                   \n",
       "TCGA-05-4244-01                                                 N2                          \n",
       "TCGA-05-4249-01                                                 N0                          \n",
       "TCGA-05-4250-01                                                 N1                          \n",
       "TCGA-05-4382-01                                                 N0                          \n",
       "TCGA-05-4384-01                                                 N2                          \n",
       "\n",
       "                Neoplasm Disease Stage American Joint Committee on Cancer Code.1  \\\n",
       "Sample ID                                                                          \n",
       "TCGA-05-4244-01                                           Stage IV                 \n",
       "TCGA-05-4249-01                                           Stage IB                 \n",
       "TCGA-05-4250-01                                         Stage IIIA                 \n",
       "TCGA-05-4382-01                                           Stage IB                 \n",
       "TCGA-05-4384-01                                         Stage IIIA                 \n",
       "\n",
       "                American Joint Committee on Cancer Publication Version Type  \\\n",
       "Sample ID                                                                     \n",
       "TCGA-05-4244-01                                                6th            \n",
       "TCGA-05-4249-01                                                6th            \n",
       "TCGA-05-4250-01                                                6th            \n",
       "TCGA-05-4382-01                                                6th            \n",
       "TCGA-05-4384-01                                                6th            \n",
       "\n",
       "                 ...  \\\n",
       "Sample ID        ...   \n",
       "TCGA-05-4244-01  ...   \n",
       "TCGA-05-4249-01  ...   \n",
       "TCGA-05-4250-01  ...   \n",
       "TCGA-05-4382-01  ...   \n",
       "TCGA-05-4384-01  ...   \n",
       "\n",
       "                Adjuvant Postoperative Targeted Therapy Administered Indicator  \\\n",
       "Sample ID                                                                        \n",
       "TCGA-05-4244-01                                                NaN               \n",
       "TCGA-05-4249-01                                                NaN               \n",
       "TCGA-05-4250-01                                                NaN               \n",
       "TCGA-05-4382-01                                                NaN               \n",
       "TCGA-05-4384-01                                                NaN               \n",
       "\n",
       "                Time between clamping and freezing  \\\n",
       "Sample ID                                            \n",
       "TCGA-05-4244-01                                NaN   \n",
       "TCGA-05-4249-01                                NaN   \n",
       "TCGA-05-4250-01                                NaN   \n",
       "TCGA-05-4382-01                                NaN   \n",
       "TCGA-05-4384-01                                NaN   \n",
       "\n",
       "                Time between excision and freezing  Tissue Source Site  \\\n",
       "Sample ID                                                                \n",
       "TCGA-05-4244-01                                NaN                   5   \n",
       "TCGA-05-4249-01                                NaN                   5   \n",
       "TCGA-05-4250-01                                NaN                   5   \n",
       "TCGA-05-4382-01                                NaN                   5   \n",
       "TCGA-05-4384-01                                NaN                   5   \n",
       "\n",
       "                Patient Smoking History Category  \\\n",
       "Sample ID                                          \n",
       "TCGA-05-4244-01                              4.0   \n",
       "TCGA-05-4249-01                              3.0   \n",
       "TCGA-05-4250-01                              4.0   \n",
       "TCGA-05-4382-01                              4.0   \n",
       "TCGA-05-4384-01                              3.0   \n",
       "\n",
       "                Primary Therapy Outcome Success Type  Tumor Site  \\\n",
       "Sample ID                                                          \n",
       "TCGA-05-4244-01                                  NaN        Lung   \n",
       "TCGA-05-4249-01                                  NaN        Lung   \n",
       "TCGA-05-4250-01                                  NaN        Lung   \n",
       "TCGA-05-4382-01                                  NaN        Lung   \n",
       "TCGA-05-4384-01                                  NaN        Lung   \n",
       "\n",
       "                 Person Neoplasm Status  Vial number  Patient's Vital Status  \n",
       "Sample ID                                                                     \n",
       "TCGA-05-4244-01              TUMOR FREE            A                   Alive  \n",
       "TCGA-05-4249-01              TUMOR FREE            A                   Alive  \n",
       "TCGA-05-4250-01                     NaN            A                    Dead  \n",
       "TCGA-05-4382-01              TUMOR FREE            A                   Alive  \n",
       "TCGA-05-4384-01                     NaN            A                   Alive  \n",
       "\n",
       "[5 rows x 106 columns]"
      ]
     },
     "execution_count": 15,
     "metadata": {},
     "output_type": "execute_result"
    }
   ],
   "source": [
    "#Retornar as primeiras 5 linhas dos metadados\n",
    "meta_luad.head()"
   ]
  },
  {
   "cell_type": "code",
   "execution_count": 16,
   "metadata": {},
   "outputs": [
    {
     "data": {
      "text/html": [
       "<div>\n",
       "<style scoped>\n",
       "    .dataframe tbody tr th:only-of-type {\n",
       "        vertical-align: middle;\n",
       "    }\n",
       "\n",
       "    .dataframe tbody tr th {\n",
       "        vertical-align: top;\n",
       "    }\n",
       "\n",
       "    .dataframe thead th {\n",
       "        text-align: right;\n",
       "    }\n",
       "</style>\n",
       "<table border=\"1\" class=\"dataframe\">\n",
       "  <thead>\n",
       "    <tr style=\"text-align: right;\">\n",
       "      <th></th>\n",
       "      <th>Patient ID</th>\n",
       "      <th>Diagnosis Age</th>\n",
       "      <th>Neoplasm Disease Stage American Joint Committee on Cancer Code</th>\n",
       "      <th>Neoplasm American Joint Committee on Cancer Clinical Distant Metastasis M Stage</th>\n",
       "      <th>American Joint Committee on Cancer Metastasis Stage Code</th>\n",
       "      <th>American Joint Committee on Cancer Lymph Node Stage Code</th>\n",
       "      <th>American Joint Committee on Cancer Lymph Node Stage Code.1</th>\n",
       "      <th>Neoplasm Disease Lymph Node Stage American Joint Committee on Cancer Code</th>\n",
       "      <th>Neoplasm Disease Stage American Joint Committee on Cancer Code.1</th>\n",
       "      <th>American Joint Committee on Cancer Publication Version Type</th>\n",
       "      <th>...</th>\n",
       "      <th>Adjuvant Postoperative Targeted Therapy Administered Indicator</th>\n",
       "      <th>Time between clamping and freezing</th>\n",
       "      <th>Time between excision and freezing</th>\n",
       "      <th>Tissue Source Site</th>\n",
       "      <th>Patient Smoking History Category</th>\n",
       "      <th>Primary Therapy Outcome Success Type</th>\n",
       "      <th>Tumor Site</th>\n",
       "      <th>Person Neoplasm Status</th>\n",
       "      <th>Vial number</th>\n",
       "      <th>Patient's Vital Status</th>\n",
       "    </tr>\n",
       "  </thead>\n",
       "  <tbody>\n",
       "    <tr>\n",
       "      <th>count</th>\n",
       "      <td>517</td>\n",
       "      <td>498.000000</td>\n",
       "      <td>0.0</td>\n",
       "      <td>0.0</td>\n",
       "      <td>513</td>\n",
       "      <td>0.0</td>\n",
       "      <td>0.0</td>\n",
       "      <td>516</td>\n",
       "      <td>509</td>\n",
       "      <td>494</td>\n",
       "      <td>...</td>\n",
       "      <td>154</td>\n",
       "      <td>0.0</td>\n",
       "      <td>0.0</td>\n",
       "      <td>517</td>\n",
       "      <td>503.000000</td>\n",
       "      <td>149</td>\n",
       "      <td>517</td>\n",
       "      <td>419</td>\n",
       "      <td>515</td>\n",
       "      <td>517</td>\n",
       "    </tr>\n",
       "    <tr>\n",
       "      <th>unique</th>\n",
       "      <td>515</td>\n",
       "      <td>NaN</td>\n",
       "      <td>NaN</td>\n",
       "      <td>NaN</td>\n",
       "      <td>5</td>\n",
       "      <td>NaN</td>\n",
       "      <td>NaN</td>\n",
       "      <td>5</td>\n",
       "      <td>9</td>\n",
       "      <td>5</td>\n",
       "      <td>...</td>\n",
       "      <td>2</td>\n",
       "      <td>NaN</td>\n",
       "      <td>NaN</td>\n",
       "      <td>33</td>\n",
       "      <td>NaN</td>\n",
       "      <td>4</td>\n",
       "      <td>1</td>\n",
       "      <td>2</td>\n",
       "      <td>2</td>\n",
       "      <td>2</td>\n",
       "    </tr>\n",
       "    <tr>\n",
       "      <th>top</th>\n",
       "      <td>TCGA-50-5946</td>\n",
       "      <td>NaN</td>\n",
       "      <td>NaN</td>\n",
       "      <td>NaN</td>\n",
       "      <td>M0</td>\n",
       "      <td>NaN</td>\n",
       "      <td>NaN</td>\n",
       "      <td>N0</td>\n",
       "      <td>Stage IB</td>\n",
       "      <td>7th</td>\n",
       "      <td>...</td>\n",
       "      <td>NO</td>\n",
       "      <td>NaN</td>\n",
       "      <td>NaN</td>\n",
       "      <td>55</td>\n",
       "      <td>NaN</td>\n",
       "      <td>Complete Remission/Response</td>\n",
       "      <td>Lung</td>\n",
       "      <td>TUMOR FREE</td>\n",
       "      <td>A</td>\n",
       "      <td>Alive</td>\n",
       "    </tr>\n",
       "    <tr>\n",
       "      <th>freq</th>\n",
       "      <td>2</td>\n",
       "      <td>NaN</td>\n",
       "      <td>NaN</td>\n",
       "      <td>NaN</td>\n",
       "      <td>347</td>\n",
       "      <td>NaN</td>\n",
       "      <td>NaN</td>\n",
       "      <td>333</td>\n",
       "      <td>140</td>\n",
       "      <td>268</td>\n",
       "      <td>...</td>\n",
       "      <td>117</td>\n",
       "      <td>NaN</td>\n",
       "      <td>NaN</td>\n",
       "      <td>91</td>\n",
       "      <td>NaN</td>\n",
       "      <td>128</td>\n",
       "      <td>517</td>\n",
       "      <td>308</td>\n",
       "      <td>512</td>\n",
       "      <td>330</td>\n",
       "    </tr>\n",
       "    <tr>\n",
       "      <th>mean</th>\n",
       "      <td>NaN</td>\n",
       "      <td>65.373494</td>\n",
       "      <td>NaN</td>\n",
       "      <td>NaN</td>\n",
       "      <td>NaN</td>\n",
       "      <td>NaN</td>\n",
       "      <td>NaN</td>\n",
       "      <td>NaN</td>\n",
       "      <td>NaN</td>\n",
       "      <td>NaN</td>\n",
       "      <td>...</td>\n",
       "      <td>NaN</td>\n",
       "      <td>NaN</td>\n",
       "      <td>NaN</td>\n",
       "      <td>NaN</td>\n",
       "      <td>2.813121</td>\n",
       "      <td>NaN</td>\n",
       "      <td>NaN</td>\n",
       "      <td>NaN</td>\n",
       "      <td>NaN</td>\n",
       "      <td>NaN</td>\n",
       "    </tr>\n",
       "    <tr>\n",
       "      <th>std</th>\n",
       "      <td>NaN</td>\n",
       "      <td>9.921273</td>\n",
       "      <td>NaN</td>\n",
       "      <td>NaN</td>\n",
       "      <td>NaN</td>\n",
       "      <td>NaN</td>\n",
       "      <td>NaN</td>\n",
       "      <td>NaN</td>\n",
       "      <td>NaN</td>\n",
       "      <td>NaN</td>\n",
       "      <td>...</td>\n",
       "      <td>NaN</td>\n",
       "      <td>NaN</td>\n",
       "      <td>NaN</td>\n",
       "      <td>NaN</td>\n",
       "      <td>1.084510</td>\n",
       "      <td>NaN</td>\n",
       "      <td>NaN</td>\n",
       "      <td>NaN</td>\n",
       "      <td>NaN</td>\n",
       "      <td>NaN</td>\n",
       "    </tr>\n",
       "    <tr>\n",
       "      <th>min</th>\n",
       "      <td>NaN</td>\n",
       "      <td>38.000000</td>\n",
       "      <td>NaN</td>\n",
       "      <td>NaN</td>\n",
       "      <td>NaN</td>\n",
       "      <td>NaN</td>\n",
       "      <td>NaN</td>\n",
       "      <td>NaN</td>\n",
       "      <td>NaN</td>\n",
       "      <td>NaN</td>\n",
       "      <td>...</td>\n",
       "      <td>NaN</td>\n",
       "      <td>NaN</td>\n",
       "      <td>NaN</td>\n",
       "      <td>NaN</td>\n",
       "      <td>1.000000</td>\n",
       "      <td>NaN</td>\n",
       "      <td>NaN</td>\n",
       "      <td>NaN</td>\n",
       "      <td>NaN</td>\n",
       "      <td>NaN</td>\n",
       "    </tr>\n",
       "    <tr>\n",
       "      <th>25%</th>\n",
       "      <td>NaN</td>\n",
       "      <td>59.000000</td>\n",
       "      <td>NaN</td>\n",
       "      <td>NaN</td>\n",
       "      <td>NaN</td>\n",
       "      <td>NaN</td>\n",
       "      <td>NaN</td>\n",
       "      <td>NaN</td>\n",
       "      <td>NaN</td>\n",
       "      <td>NaN</td>\n",
       "      <td>...</td>\n",
       "      <td>NaN</td>\n",
       "      <td>NaN</td>\n",
       "      <td>NaN</td>\n",
       "      <td>NaN</td>\n",
       "      <td>2.000000</td>\n",
       "      <td>NaN</td>\n",
       "      <td>NaN</td>\n",
       "      <td>NaN</td>\n",
       "      <td>NaN</td>\n",
       "      <td>NaN</td>\n",
       "    </tr>\n",
       "    <tr>\n",
       "      <th>50%</th>\n",
       "      <td>NaN</td>\n",
       "      <td>66.000000</td>\n",
       "      <td>NaN</td>\n",
       "      <td>NaN</td>\n",
       "      <td>NaN</td>\n",
       "      <td>NaN</td>\n",
       "      <td>NaN</td>\n",
       "      <td>NaN</td>\n",
       "      <td>NaN</td>\n",
       "      <td>NaN</td>\n",
       "      <td>...</td>\n",
       "      <td>NaN</td>\n",
       "      <td>NaN</td>\n",
       "      <td>NaN</td>\n",
       "      <td>NaN</td>\n",
       "      <td>3.000000</td>\n",
       "      <td>NaN</td>\n",
       "      <td>NaN</td>\n",
       "      <td>NaN</td>\n",
       "      <td>NaN</td>\n",
       "      <td>NaN</td>\n",
       "    </tr>\n",
       "    <tr>\n",
       "      <th>75%</th>\n",
       "      <td>NaN</td>\n",
       "      <td>72.750000</td>\n",
       "      <td>NaN</td>\n",
       "      <td>NaN</td>\n",
       "      <td>NaN</td>\n",
       "      <td>NaN</td>\n",
       "      <td>NaN</td>\n",
       "      <td>NaN</td>\n",
       "      <td>NaN</td>\n",
       "      <td>NaN</td>\n",
       "      <td>...</td>\n",
       "      <td>NaN</td>\n",
       "      <td>NaN</td>\n",
       "      <td>NaN</td>\n",
       "      <td>NaN</td>\n",
       "      <td>4.000000</td>\n",
       "      <td>NaN</td>\n",
       "      <td>NaN</td>\n",
       "      <td>NaN</td>\n",
       "      <td>NaN</td>\n",
       "      <td>NaN</td>\n",
       "    </tr>\n",
       "    <tr>\n",
       "      <th>max</th>\n",
       "      <td>NaN</td>\n",
       "      <td>88.000000</td>\n",
       "      <td>NaN</td>\n",
       "      <td>NaN</td>\n",
       "      <td>NaN</td>\n",
       "      <td>NaN</td>\n",
       "      <td>NaN</td>\n",
       "      <td>NaN</td>\n",
       "      <td>NaN</td>\n",
       "      <td>NaN</td>\n",
       "      <td>...</td>\n",
       "      <td>NaN</td>\n",
       "      <td>NaN</td>\n",
       "      <td>NaN</td>\n",
       "      <td>NaN</td>\n",
       "      <td>5.000000</td>\n",
       "      <td>NaN</td>\n",
       "      <td>NaN</td>\n",
       "      <td>NaN</td>\n",
       "      <td>NaN</td>\n",
       "      <td>NaN</td>\n",
       "    </tr>\n",
       "  </tbody>\n",
       "</table>\n",
       "<p>11 rows × 106 columns</p>\n",
       "</div>"
      ],
      "text/plain": [
       "          Patient ID  Diagnosis Age  \\\n",
       "count            517     498.000000   \n",
       "unique           515            NaN   \n",
       "top     TCGA-50-5946            NaN   \n",
       "freq               2            NaN   \n",
       "mean             NaN      65.373494   \n",
       "std              NaN       9.921273   \n",
       "min              NaN      38.000000   \n",
       "25%              NaN      59.000000   \n",
       "50%              NaN      66.000000   \n",
       "75%              NaN      72.750000   \n",
       "max              NaN      88.000000   \n",
       "\n",
       "        Neoplasm Disease Stage American Joint Committee on Cancer Code  \\\n",
       "count                                                 0.0                \n",
       "unique                                                NaN                \n",
       "top                                                   NaN                \n",
       "freq                                                  NaN                \n",
       "mean                                                  NaN                \n",
       "std                                                   NaN                \n",
       "min                                                   NaN                \n",
       "25%                                                   NaN                \n",
       "50%                                                   NaN                \n",
       "75%                                                   NaN                \n",
       "max                                                   NaN                \n",
       "\n",
       "        Neoplasm American Joint Committee on Cancer Clinical Distant Metastasis M Stage  \\\n",
       "count                                                 0.0                                 \n",
       "unique                                                NaN                                 \n",
       "top                                                   NaN                                 \n",
       "freq                                                  NaN                                 \n",
       "mean                                                  NaN                                 \n",
       "std                                                   NaN                                 \n",
       "min                                                   NaN                                 \n",
       "25%                                                   NaN                                 \n",
       "50%                                                   NaN                                 \n",
       "75%                                                   NaN                                 \n",
       "max                                                   NaN                                 \n",
       "\n",
       "       American Joint Committee on Cancer Metastasis Stage Code  \\\n",
       "count                                                 513         \n",
       "unique                                                  5         \n",
       "top                                                    M0         \n",
       "freq                                                  347         \n",
       "mean                                                  NaN         \n",
       "std                                                   NaN         \n",
       "min                                                   NaN         \n",
       "25%                                                   NaN         \n",
       "50%                                                   NaN         \n",
       "75%                                                   NaN         \n",
       "max                                                   NaN         \n",
       "\n",
       "        American Joint Committee on Cancer Lymph Node Stage Code  \\\n",
       "count                                                 0.0          \n",
       "unique                                                NaN          \n",
       "top                                                   NaN          \n",
       "freq                                                  NaN          \n",
       "mean                                                  NaN          \n",
       "std                                                   NaN          \n",
       "min                                                   NaN          \n",
       "25%                                                   NaN          \n",
       "50%                                                   NaN          \n",
       "75%                                                   NaN          \n",
       "max                                                   NaN          \n",
       "\n",
       "        American Joint Committee on Cancer Lymph Node Stage Code.1  \\\n",
       "count                                                 0.0            \n",
       "unique                                                NaN            \n",
       "top                                                   NaN            \n",
       "freq                                                  NaN            \n",
       "mean                                                  NaN            \n",
       "std                                                   NaN            \n",
       "min                                                   NaN            \n",
       "25%                                                   NaN            \n",
       "50%                                                   NaN            \n",
       "75%                                                   NaN            \n",
       "max                                                   NaN            \n",
       "\n",
       "       Neoplasm Disease Lymph Node Stage American Joint Committee on Cancer Code  \\\n",
       "count                                                 516                          \n",
       "unique                                                  5                          \n",
       "top                                                    N0                          \n",
       "freq                                                  333                          \n",
       "mean                                                  NaN                          \n",
       "std                                                   NaN                          \n",
       "min                                                   NaN                          \n",
       "25%                                                   NaN                          \n",
       "50%                                                   NaN                          \n",
       "75%                                                   NaN                          \n",
       "max                                                   NaN                          \n",
       "\n",
       "       Neoplasm Disease Stage American Joint Committee on Cancer Code.1  \\\n",
       "count                                                 509                 \n",
       "unique                                                  9                 \n",
       "top                                              Stage IB                 \n",
       "freq                                                  140                 \n",
       "mean                                                  NaN                 \n",
       "std                                                   NaN                 \n",
       "min                                                   NaN                 \n",
       "25%                                                   NaN                 \n",
       "50%                                                   NaN                 \n",
       "75%                                                   NaN                 \n",
       "max                                                   NaN                 \n",
       "\n",
       "       American Joint Committee on Cancer Publication Version Type  ...  \\\n",
       "count                                                 494           ...   \n",
       "unique                                                  5           ...   \n",
       "top                                                   7th           ...   \n",
       "freq                                                  268           ...   \n",
       "mean                                                  NaN           ...   \n",
       "std                                                   NaN           ...   \n",
       "min                                                   NaN           ...   \n",
       "25%                                                   NaN           ...   \n",
       "50%                                                   NaN           ...   \n",
       "75%                                                   NaN           ...   \n",
       "max                                                   NaN           ...   \n",
       "\n",
       "       Adjuvant Postoperative Targeted Therapy Administered Indicator  \\\n",
       "count                                                 154               \n",
       "unique                                                  2               \n",
       "top                                                    NO               \n",
       "freq                                                  117               \n",
       "mean                                                  NaN               \n",
       "std                                                   NaN               \n",
       "min                                                   NaN               \n",
       "25%                                                   NaN               \n",
       "50%                                                   NaN               \n",
       "75%                                                   NaN               \n",
       "max                                                   NaN               \n",
       "\n",
       "       Time between clamping and freezing Time between excision and freezing  \\\n",
       "count                                 0.0                                0.0   \n",
       "unique                                NaN                                NaN   \n",
       "top                                   NaN                                NaN   \n",
       "freq                                  NaN                                NaN   \n",
       "mean                                  NaN                                NaN   \n",
       "std                                   NaN                                NaN   \n",
       "min                                   NaN                                NaN   \n",
       "25%                                   NaN                                NaN   \n",
       "50%                                   NaN                                NaN   \n",
       "75%                                   NaN                                NaN   \n",
       "max                                   NaN                                NaN   \n",
       "\n",
       "        Tissue Source Site Patient Smoking History Category  \\\n",
       "count                  517                       503.000000   \n",
       "unique                  33                              NaN   \n",
       "top                     55                              NaN   \n",
       "freq                    91                              NaN   \n",
       "mean                   NaN                         2.813121   \n",
       "std                    NaN                         1.084510   \n",
       "min                    NaN                         1.000000   \n",
       "25%                    NaN                         2.000000   \n",
       "50%                    NaN                         3.000000   \n",
       "75%                    NaN                         4.000000   \n",
       "max                    NaN                         5.000000   \n",
       "\n",
       "       Primary Therapy Outcome Success Type  Tumor Site  \\\n",
       "count                                   149         517   \n",
       "unique                                    4           1   \n",
       "top             Complete Remission/Response        Lung   \n",
       "freq                                    128         517   \n",
       "mean                                    NaN         NaN   \n",
       "std                                     NaN         NaN   \n",
       "min                                     NaN         NaN   \n",
       "25%                                     NaN         NaN   \n",
       "50%                                     NaN         NaN   \n",
       "75%                                     NaN         NaN   \n",
       "max                                     NaN         NaN   \n",
       "\n",
       "        Person Neoplasm Status  Vial number  Patient's Vital Status  \n",
       "count                      419          515                     517  \n",
       "unique                       2            2                       2  \n",
       "top                 TUMOR FREE            A                   Alive  \n",
       "freq                       308          512                     330  \n",
       "mean                       NaN          NaN                     NaN  \n",
       "std                        NaN          NaN                     NaN  \n",
       "min                        NaN          NaN                     NaN  \n",
       "25%                        NaN          NaN                     NaN  \n",
       "50%                        NaN          NaN                     NaN  \n",
       "75%                        NaN          NaN                     NaN  \n",
       "max                        NaN          NaN                     NaN  \n",
       "\n",
       "[11 rows x 106 columns]"
      ]
     },
     "execution_count": 16,
     "metadata": {},
     "output_type": "execute_result"
    }
   ],
   "source": [
    "#Análise estatística dos metadados\n",
    "meta_luad.describe(include = \"all\")"
   ]
  },
  {
   "cell_type": "markdown",
   "metadata": {},
   "source": [
    "Verificou-se a existência de 515 ID paciente únicos, ou seja, há 2 pacientes que têm 2 amostras."
   ]
  },
  {
   "cell_type": "markdown",
   "metadata": {},
   "source": [
    "#### Verificação de correspondência\n",
    "Verificar se os valores ordenados das linhas (índices = id das amostras) de \"meta_luad\" são iguais aos valores ordenados das colunas de \"data_hugo_luad\" ."
   ]
  },
  {
   "cell_type": "code",
   "execution_count": 17,
   "metadata": {
    "scrolled": true
   },
   "outputs": [
    {
     "data": {
      "text/plain": [
       "517"
      ]
     },
     "execution_count": 17,
     "metadata": {},
     "output_type": "execute_result"
    }
   ],
   "source": [
    "(meta_luad.index.sort_values() == data_hugo_luad.columns.sort_values()).sum()"
   ]
  },
  {
   "cell_type": "markdown",
   "metadata": {},
   "source": [
    "Isto permitiu concluir que as duas tabelas são relacionadas pelo Sample ID."
   ]
  },
  {
   "cell_type": "markdown",
   "metadata": {},
   "source": [
    "#### Seleção dos meta-dados mais relevantes\n",
    "\n",
    "Selecionaram-se os meta-dados:\n",
    "\n",
    "_Age diagnosis, Sex, Patient's Vital Status, American Joint Committee on Cancer Tumor Stage Code, Fraction Genome Altered, Patient Smoking History Category, Person Neoplasm Status_, _Prior Cancer Diagnosis Occurence_\n",
    "\n",
    "No geral, a seleção dos meta-dados baseou-se na relevância dada pelo artigo a cada parâmetro, evitando colunas com um elevado número de valores nulos (NaN)."
   ]
  },
  {
   "cell_type": "code",
   "execution_count": 18,
   "metadata": {},
   "outputs": [
    {
     "name": "stdout",
     "output_type": "stream",
     "text": [
      "<bound method NDFrame.head of                  Diagnosis Age  Fraction Genome Altered     Sex  \\\n",
      "Sample ID                                                         \n",
      "TCGA-05-4244-01           70.0                   0.4565    MALE   \n",
      "TCGA-05-4249-01           67.0                   0.2221    Male   \n",
      "TCGA-05-4250-01           79.0                   0.2362  Female   \n",
      "TCGA-05-4382-01           68.0                   0.0854    Male   \n",
      "TCGA-05-4384-01           66.0                   0.0661    Male   \n",
      "...                        ...                      ...     ...   \n",
      "TCGA-NJ-A55O-01           56.0                   0.0194  Female   \n",
      "TCGA-NJ-A55R-01           67.0                   0.0760    Male   \n",
      "TCGA-NJ-A7XG-01           49.0                   0.4205    Male   \n",
      "TCGA-O1-A52J-01           74.0                   0.5443  Female   \n",
      "TCGA-S2-AA1A-01           68.0                   0.0598  Female   \n",
      "\n",
      "                Patient's Vital Status  \\\n",
      "Sample ID                                \n",
      "TCGA-05-4244-01                  Alive   \n",
      "TCGA-05-4249-01                  Alive   \n",
      "TCGA-05-4250-01                   Dead   \n",
      "TCGA-05-4382-01                  Alive   \n",
      "TCGA-05-4384-01                  Alive   \n",
      "...                                ...   \n",
      "TCGA-NJ-A55O-01                  Alive   \n",
      "TCGA-NJ-A55R-01                  Alive   \n",
      "TCGA-NJ-A7XG-01                  Alive   \n",
      "TCGA-O1-A52J-01                   Dead   \n",
      "TCGA-S2-AA1A-01                  Alive   \n",
      "\n",
      "                American Joint Committee on Cancer Tumor Stage Code  \\\n",
      "Sample ID                                                             \n",
      "TCGA-05-4244-01                                                 T2    \n",
      "TCGA-05-4249-01                                                 T2    \n",
      "TCGA-05-4250-01                                                 T3    \n",
      "TCGA-05-4382-01                                                 T2    \n",
      "TCGA-05-4384-01                                                 T2    \n",
      "...                                                            ...    \n",
      "TCGA-NJ-A55O-01                                                T1b    \n",
      "TCGA-NJ-A55R-01                                                T1b    \n",
      "TCGA-NJ-A7XG-01                                                 T4    \n",
      "TCGA-O1-A52J-01                                                 T1    \n",
      "TCGA-S2-AA1A-01                                                T1b    \n",
      "\n",
      "                 Patient Smoking History Category Person Neoplasm Status  \\\n",
      "Sample ID                                                                  \n",
      "TCGA-05-4244-01                               4.0             TUMOR FREE   \n",
      "TCGA-05-4249-01                               3.0             TUMOR FREE   \n",
      "TCGA-05-4250-01                               4.0                    NaN   \n",
      "TCGA-05-4382-01                               4.0             TUMOR FREE   \n",
      "TCGA-05-4384-01                               3.0                    NaN   \n",
      "...                                           ...                    ...   \n",
      "TCGA-NJ-A55O-01                               4.0             TUMOR FREE   \n",
      "TCGA-NJ-A55R-01                               3.0             TUMOR FREE   \n",
      "TCGA-NJ-A7XG-01                               3.0             WITH TUMOR   \n",
      "TCGA-O1-A52J-01                               3.0             WITH TUMOR   \n",
      "TCGA-S2-AA1A-01                               3.0             TUMOR FREE   \n",
      "\n",
      "                Prior Cancer Diagnosis Occurence  \n",
      "Sample ID                                         \n",
      "TCGA-05-4244-01                               No  \n",
      "TCGA-05-4249-01                               No  \n",
      "TCGA-05-4250-01                               No  \n",
      "TCGA-05-4382-01                              Yes  \n",
      "TCGA-05-4384-01                              Yes  \n",
      "...                                          ...  \n",
      "TCGA-NJ-A55O-01                               No  \n",
      "TCGA-NJ-A55R-01                               No  \n",
      "TCGA-NJ-A7XG-01                               No  \n",
      "TCGA-O1-A52J-01                               No  \n",
      "TCGA-S2-AA1A-01                               No  \n",
      "\n",
      "[517 rows x 8 columns]>\n"
     ]
    }
   ],
   "source": [
    "new_meta = meta_luad[['Diagnosis Age','Fraction Genome Altered','Sex',\"Patient's Vital Status\",'American Joint Committee on Cancer Tumor Stage Code','Patient Smoking History Category', 'Person Neoplasm Status', 'Prior Cancer Diagnosis Occurence']]\n",
    "print(new_meta.head) "
   ]
  },
  {
   "cell_type": "code",
   "execution_count": 19,
   "metadata": {},
   "outputs": [],
   "source": [
    "#colocar Sample ID como coluna comum\n",
    "new_meta = new_meta.reset_index()"
   ]
  },
  {
   "cell_type": "code",
   "execution_count": 20,
   "metadata": {},
   "outputs": [
    {
     "data": {
      "text/plain": [
       "Sample ID                                               object\n",
       "Diagnosis Age                                          float64\n",
       "Fraction Genome Altered                                float64\n",
       "Sex                                                     object\n",
       "Patient's Vital Status                                  object\n",
       "American Joint Committee on Cancer Tumor Stage Code     object\n",
       "Patient Smoking History Category                       float64\n",
       "Person Neoplasm Status                                  object\n",
       "Prior Cancer Diagnosis Occurence                        object\n",
       "dtype: object"
      ]
     },
     "execution_count": 20,
     "metadata": {},
     "output_type": "execute_result"
    }
   ],
   "source": [
    "#Verificar atributos dos novos meta-dados\n",
    "new_meta.dtypes"
   ]
  },
  {
   "cell_type": "code",
   "execution_count": 24,
   "metadata": {
    "scrolled": true
   },
   "outputs": [],
   "source": [
    "#Conversão dos dados de Patient Smoking History Category de float para categórico\n",
    "\n",
    "# Patient Smoking History Category\n",
    "new_meta['Patient Smoking History Category'] = new_meta['Patient Smoking History Category'].astype('category') \n",
    "\n",
    "#Conversão dos dados de Patient's Vital Status para inteiro\n",
    "new_meta[\"Person Neoplasm Status\"] = new_meta[\"Person Neoplasm Status\"].replace([\"WITH TUMOR\"],1)\n",
    "new_meta[\"Person Neoplasm Status\"] = new_meta[\"Person Neoplasm Status\"].replace([\"TUMOR FREE\"],0)\n",
    "\n",
    "# Substituição para ficar em concordância com os restantes sex\n",
    "new_meta['Sex'] = new_meta['Sex'].replace(['MALE'],'Male')"
   ]
  },
  {
   "cell_type": "markdown",
   "metadata": {},
   "source": [
    "#### Tratamento dos valores nulos nos atributos numéricos\n",
    "Verificar quais as colunas que possuem valores nulos."
   ]
  },
  {
   "cell_type": "code",
   "execution_count": 25,
   "metadata": {},
   "outputs": [
    {
     "name": "stdout",
     "output_type": "stream",
     "text": [
      "19\n",
      "3\n",
      "14\n",
      "98\n",
      "0\n",
      "0\n",
      "0\n",
      "0\n"
     ]
    }
   ],
   "source": [
    "print(new_meta['Diagnosis Age'].isnull().sum())\n",
    "print(new_meta['Fraction Genome Altered'].isnull().sum())\n",
    "print(new_meta['Patient Smoking History Category'].isnull().sum())\n",
    "print(new_meta['Person Neoplasm Status'].isnull().sum())\n",
    "print(new_meta['Sex'].isnull().sum())\n",
    "print(new_meta[\"Prior Cancer Diagnosis Occurence\"].isnull().sum())\n",
    "print(new_meta['American Joint Committee on Cancer Tumor Stage Code'].isnull().sum())\n",
    "print(new_meta[\"Patient's Vital Status\"].isnull().sum())"
   ]
  },
  {
   "cell_type": "markdown",
   "metadata": {},
   "source": [
    "Nos atributos numéricos substituiram-se os valores nulos pela média e confirmou-se a sua substituição."
   ]
  },
  {
   "cell_type": "code",
   "execution_count": 26,
   "metadata": {},
   "outputs": [
    {
     "name": "stdout",
     "output_type": "stream",
     "text": [
      "0\n",
      "0\n"
     ]
    }
   ],
   "source": [
    "# Diagnosis Age\n",
    "new_meta['Diagnosis Age'].fillna(new_meta['Diagnosis Age'].mean(),inplace=True)\n",
    "print(new_meta['Diagnosis Age'].isnull().sum())\n",
    "\n",
    "# Fraction Genome Altered\n",
    "new_meta['Fraction Genome Altered'].fillna(new_meta['Fraction Genome Altered'].mean(),inplace=True)\n",
    "print(new_meta['Fraction Genome Altered'].isnull().sum())"
   ]
  },
  {
   "cell_type": "markdown",
   "metadata": {},
   "source": [
    "Substituiram-se os valores nulos pela moda, por se tratarem de atributos categóricos e confirmou-se a sua substituição."
   ]
  },
  {
   "cell_type": "code",
   "execution_count": 27,
   "metadata": {},
   "outputs": [
    {
     "name": "stdout",
     "output_type": "stream",
     "text": [
      "0\n",
      "0\n"
     ]
    }
   ],
   "source": [
    "#Patient Smoking History Category \n",
    "new_meta['Patient Smoking History Category'].fillna(new_meta['Patient Smoking History Category'].mode()[0], inplace=True)\n",
    "print(new_meta['Patient Smoking History Category'].isnull().sum())\n",
    "\n",
    "#Person Neoplasm Status (apesar de se ter passado o tipo de dados para inteiros, pretende-se que os valores sejam apenas 0 ou 1)\n",
    "new_meta['Person Neoplasm Status'].fillna(new_meta['Person Neoplasm Status'].mode()[0], inplace=True)\n",
    "print(new_meta['Person Neoplasm Status'].isnull().sum())"
   ]
  },
  {
   "cell_type": "code",
   "execution_count": 28,
   "metadata": {
    "scrolled": true
   },
   "outputs": [
    {
     "data": {
      "text/html": [
       "<div>\n",
       "<style scoped>\n",
       "    .dataframe tbody tr th:only-of-type {\n",
       "        vertical-align: middle;\n",
       "    }\n",
       "\n",
       "    .dataframe tbody tr th {\n",
       "        vertical-align: top;\n",
       "    }\n",
       "\n",
       "    .dataframe thead th {\n",
       "        text-align: right;\n",
       "    }\n",
       "</style>\n",
       "<table border=\"1\" class=\"dataframe\">\n",
       "  <thead>\n",
       "    <tr style=\"text-align: right;\">\n",
       "      <th></th>\n",
       "      <th>Sample ID</th>\n",
       "      <th>Diagnosis Age</th>\n",
       "      <th>Fraction Genome Altered</th>\n",
       "      <th>Sex</th>\n",
       "      <th>Patient's Vital Status</th>\n",
       "      <th>American Joint Committee on Cancer Tumor Stage Code</th>\n",
       "      <th>Patient Smoking History Category</th>\n",
       "      <th>Person Neoplasm Status</th>\n",
       "      <th>Prior Cancer Diagnosis Occurence</th>\n",
       "    </tr>\n",
       "  </thead>\n",
       "  <tbody>\n",
       "    <tr>\n",
       "      <th>count</th>\n",
       "      <td>517</td>\n",
       "      <td>517.000000</td>\n",
       "      <td>517.000000</td>\n",
       "      <td>517</td>\n",
       "      <td>517</td>\n",
       "      <td>517</td>\n",
       "      <td>517.0</td>\n",
       "      <td>517.000000</td>\n",
       "      <td>517</td>\n",
       "    </tr>\n",
       "    <tr>\n",
       "      <th>unique</th>\n",
       "      <td>517</td>\n",
       "      <td>NaN</td>\n",
       "      <td>NaN</td>\n",
       "      <td>2</td>\n",
       "      <td>2</td>\n",
       "      <td>9</td>\n",
       "      <td>5.0</td>\n",
       "      <td>NaN</td>\n",
       "      <td>4</td>\n",
       "    </tr>\n",
       "    <tr>\n",
       "      <th>top</th>\n",
       "      <td>TCGA-50-5939-01</td>\n",
       "      <td>NaN</td>\n",
       "      <td>NaN</td>\n",
       "      <td>Female</td>\n",
       "      <td>Alive</td>\n",
       "      <td>T2</td>\n",
       "      <td>4.0</td>\n",
       "      <td>NaN</td>\n",
       "      <td>No</td>\n",
       "    </tr>\n",
       "    <tr>\n",
       "      <th>freq</th>\n",
       "      <td>1</td>\n",
       "      <td>NaN</td>\n",
       "      <td>NaN</td>\n",
       "      <td>277</td>\n",
       "      <td>330</td>\n",
       "      <td>169</td>\n",
       "      <td>183.0</td>\n",
       "      <td>NaN</td>\n",
       "      <td>426</td>\n",
       "    </tr>\n",
       "    <tr>\n",
       "      <th>mean</th>\n",
       "      <td>NaN</td>\n",
       "      <td>65.373494</td>\n",
       "      <td>0.264993</td>\n",
       "      <td>NaN</td>\n",
       "      <td>NaN</td>\n",
       "      <td>NaN</td>\n",
       "      <td>NaN</td>\n",
       "      <td>0.214700</td>\n",
       "      <td>NaN</td>\n",
       "    </tr>\n",
       "    <tr>\n",
       "      <th>std</th>\n",
       "      <td>NaN</td>\n",
       "      <td>9.736900</td>\n",
       "      <td>0.189946</td>\n",
       "      <td>NaN</td>\n",
       "      <td>NaN</td>\n",
       "      <td>NaN</td>\n",
       "      <td>NaN</td>\n",
       "      <td>0.411012</td>\n",
       "      <td>NaN</td>\n",
       "    </tr>\n",
       "    <tr>\n",
       "      <th>min</th>\n",
       "      <td>NaN</td>\n",
       "      <td>38.000000</td>\n",
       "      <td>0.000000</td>\n",
       "      <td>NaN</td>\n",
       "      <td>NaN</td>\n",
       "      <td>NaN</td>\n",
       "      <td>NaN</td>\n",
       "      <td>0.000000</td>\n",
       "      <td>NaN</td>\n",
       "    </tr>\n",
       "    <tr>\n",
       "      <th>25%</th>\n",
       "      <td>NaN</td>\n",
       "      <td>59.000000</td>\n",
       "      <td>0.104600</td>\n",
       "      <td>NaN</td>\n",
       "      <td>NaN</td>\n",
       "      <td>NaN</td>\n",
       "      <td>NaN</td>\n",
       "      <td>0.000000</td>\n",
       "      <td>NaN</td>\n",
       "    </tr>\n",
       "    <tr>\n",
       "      <th>50%</th>\n",
       "      <td>NaN</td>\n",
       "      <td>66.000000</td>\n",
       "      <td>0.237000</td>\n",
       "      <td>NaN</td>\n",
       "      <td>NaN</td>\n",
       "      <td>NaN</td>\n",
       "      <td>NaN</td>\n",
       "      <td>0.000000</td>\n",
       "      <td>NaN</td>\n",
       "    </tr>\n",
       "    <tr>\n",
       "      <th>75%</th>\n",
       "      <td>NaN</td>\n",
       "      <td>72.000000</td>\n",
       "      <td>0.399200</td>\n",
       "      <td>NaN</td>\n",
       "      <td>NaN</td>\n",
       "      <td>NaN</td>\n",
       "      <td>NaN</td>\n",
       "      <td>0.000000</td>\n",
       "      <td>NaN</td>\n",
       "    </tr>\n",
       "    <tr>\n",
       "      <th>max</th>\n",
       "      <td>NaN</td>\n",
       "      <td>88.000000</td>\n",
       "      <td>0.801300</td>\n",
       "      <td>NaN</td>\n",
       "      <td>NaN</td>\n",
       "      <td>NaN</td>\n",
       "      <td>NaN</td>\n",
       "      <td>1.000000</td>\n",
       "      <td>NaN</td>\n",
       "    </tr>\n",
       "  </tbody>\n",
       "</table>\n",
       "</div>"
      ],
      "text/plain": [
       "              Sample ID  Diagnosis Age  Fraction Genome Altered     Sex  \\\n",
       "count               517     517.000000               517.000000     517   \n",
       "unique              517            NaN                      NaN       2   \n",
       "top     TCGA-50-5939-01            NaN                      NaN  Female   \n",
       "freq                  1            NaN                      NaN     277   \n",
       "mean                NaN      65.373494                 0.264993     NaN   \n",
       "std                 NaN       9.736900                 0.189946     NaN   \n",
       "min                 NaN      38.000000                 0.000000     NaN   \n",
       "25%                 NaN      59.000000                 0.104600     NaN   \n",
       "50%                 NaN      66.000000                 0.237000     NaN   \n",
       "75%                 NaN      72.000000                 0.399200     NaN   \n",
       "max                 NaN      88.000000                 0.801300     NaN   \n",
       "\n",
       "       Patient's Vital Status  \\\n",
       "count                     517   \n",
       "unique                      2   \n",
       "top                     Alive   \n",
       "freq                      330   \n",
       "mean                      NaN   \n",
       "std                       NaN   \n",
       "min                       NaN   \n",
       "25%                       NaN   \n",
       "50%                       NaN   \n",
       "75%                       NaN   \n",
       "max                       NaN   \n",
       "\n",
       "       American Joint Committee on Cancer Tumor Stage Code  \\\n",
       "count                                                 517    \n",
       "unique                                                  9    \n",
       "top                                                    T2    \n",
       "freq                                                  169    \n",
       "mean                                                  NaN    \n",
       "std                                                   NaN    \n",
       "min                                                   NaN    \n",
       "25%                                                   NaN    \n",
       "50%                                                   NaN    \n",
       "75%                                                   NaN    \n",
       "max                                                   NaN    \n",
       "\n",
       "        Patient Smoking History Category  Person Neoplasm Status  \\\n",
       "count                              517.0              517.000000   \n",
       "unique                               5.0                     NaN   \n",
       "top                                  4.0                     NaN   \n",
       "freq                               183.0                     NaN   \n",
       "mean                                 NaN                0.214700   \n",
       "std                                  NaN                0.411012   \n",
       "min                                  NaN                0.000000   \n",
       "25%                                  NaN                0.000000   \n",
       "50%                                  NaN                0.000000   \n",
       "75%                                  NaN                0.000000   \n",
       "max                                  NaN                1.000000   \n",
       "\n",
       "       Prior Cancer Diagnosis Occurence  \n",
       "count                               517  \n",
       "unique                                4  \n",
       "top                                  No  \n",
       "freq                                426  \n",
       "mean                                NaN  \n",
       "std                                 NaN  \n",
       "min                                 NaN  \n",
       "25%                                 NaN  \n",
       "50%                                 NaN  \n",
       "75%                                 NaN  \n",
       "max                                 NaN  "
      ]
     },
     "execution_count": 28,
     "metadata": {},
     "output_type": "execute_result"
    }
   ],
   "source": [
    "# Analisar os novos metadados\n",
    "new_meta.describe(include = \"all\")"
   ]
  },
  {
   "cell_type": "markdown",
   "metadata": {},
   "source": [
    "#### Gráficos exploratórios"
   ]
  },
  {
   "cell_type": "markdown",
   "metadata": {},
   "source": [
    "Os gráficos elaborados permitem a visualização da distribuição dos meta-dados."
   ]
  },
  {
   "cell_type": "code",
   "execution_count": 29,
   "metadata": {},
   "outputs": [
    {
     "data": {
      "text/plain": [
       "Text(0.5, 1.0, 'Percentagem sobre o estado vital')"
      ]
     },
     "execution_count": 29,
     "metadata": {},
     "output_type": "execute_result"
    },
    {
     "data": {
      "image/png": "[encoded data removed]",
      "text/plain": [
       "<Figure size 432x288 with 1 Axes>"
      ]
     },
     "metadata": {},
     "output_type": "display_data"
    }
   ],
   "source": [
    "#Percentagem de Alive e Dead\n",
    "new_meta.groupby(\"Patient's Vital Status\").size().plot.pie(autopct='%.0f%%')\n",
    "plt.title('Percentagem sobre o estado vital')"
   ]
  },
  {
   "cell_type": "markdown",
   "metadata": {},
   "source": [
    "Do gráfico acima, retira-se que mais de metade dos indivíduos está vivo."
   ]
  },
  {
   "cell_type": "code",
   "execution_count": 30,
   "metadata": {},
   "outputs": [
    {
     "data": {
      "image/png": "[encoded data removed]",
      "text/plain": [
       "<Figure size 432x288 with 1 Axes>"
      ]
     },
     "metadata": {
      "needs_background": "light"
     },
     "output_type": "display_data"
    }
   ],
   "source": [
    "#Fraction Genome Altered\n",
    "# Criar bins de 0.05\n",
    "bins = np.arange(0, new_meta['Fraction Genome Altered'].max() + 0.05, 0.05)\n",
    "\n",
    "# Agrupar os dados em bins e contar o tamanho de cada grupo\n",
    "fga_groups = pd.cut(new_meta['Fraction Genome Altered'], bins=bins)\n",
    "grouped_data = new_meta.groupby(fga_groups).size()\n",
    "\n",
    "# Criar o gráfico de barras\n",
    "grouped_data.plot.bar()\n",
    "plt.title('Fração de Genoma Alterado Agrupada em Intervalos de 0.05 ')\n",
    "plt.xlabel('Fração de Genoma Alterado')\n",
    "plt.ylabel('Quantidade')\n",
    "plt.show()"
   ]
  },
  {
   "cell_type": "markdown",
   "metadata": {},
   "source": [
    "Quanto menor a fração de genoma alterado, maior a quantidade de indivíduos."
   ]
  },
  {
   "cell_type": "code",
   "execution_count": 31,
   "metadata": {},
   "outputs": [
    {
     "data": {
      "image/png": "[encoded data removed]",
      "text/plain": [
       "<Figure size 432x288 with 1 Axes>"
      ]
     },
     "metadata": {
      "needs_background": "light"
     },
     "output_type": "display_data"
    }
   ],
   "source": [
    "# American Joint Committee on Cancer Tumor Stage Code\n",
    "new_meta.groupby('American Joint Committee on Cancer Tumor Stage Code').size().plot.bar()\n",
    "plt.title('American Joint Committee on Cancer Tumor Stage Code')\n",
    "plt.xlabel('Estádios AJCC')\n",
    "plt.ylabel('Número de Pacientes')\n",
    "plt.show()"
   ]
  },
  {
   "attachments": {
    "image-2.png": {
     "image/png": "[encoded data removed]"
    }
   },
   "cell_type": "markdown",
   "metadata": {},
   "source": [
    "![image-2.png](attachment:image-2.png)\n",
    "\n",
    "Verifica-se que o estadio AJCC mais comum é o T2."
   ]
  },
  {
   "cell_type": "code",
   "execution_count": 32,
   "metadata": {},
   "outputs": [
    {
     "data": {
      "image/png": "[encoded data removed]",
      "text/plain": [
       "<Figure size 432x288 with 1 Axes>"
      ]
     },
     "metadata": {
      "needs_background": "light"
     },
     "output_type": "display_data"
    }
   ],
   "source": [
    "# Patient Smoking History Category\n",
    "new_meta.groupby('Patient Smoking History Category').size().plot.bar()\n",
    "plt.title('Historial de Fumador')\n",
    "plt.xlabel('Categorias')\n",
    "plt.ylabel('Número de Pacientes')\n",
    "\n",
    "plt.xticks(rotation=0)  # Gira os rótulos para ficarem na horizontal\n",
    "plt.xticks(range(len(new_meta['Patient Smoking History Category'].cat.categories)),\n",
    "           new_meta['Patient Smoking History Category'].cat.categories)\n",
    "\n",
    "plt.show()\n"
   ]
  },
  {
   "cell_type": "markdown",
   "metadata": {},
   "source": [
    "Neste gráfico, as categorias têm os respetivos significados:\n",
    "* 1- o paciente fumou menos de 100 cigarros ao longo da vida\n",
    "* 2- o paciente é atualmente fumador, incluindo diariamente e ocasionalmente\n",
    "* 3- o paciente é um ex fumador, tendo deixado há mais de 15 anos\n",
    "* 4- o paciente é um ex fumador, tendo deixado há menos de 15 anos\n",
    "* 5- o paciente é um ex fumador, não se sabendo quando deixou de fumar\n",
    "\n",
    "Desta forma, é possível afirmar que a categoria 4 é a que possui um maior registo de pessoas."
   ]
  },
  {
   "cell_type": "code",
   "execution_count": 33,
   "metadata": {},
   "outputs": [
    {
     "data": {
      "image/png": "[encoded data removed]",
      "text/plain": [
       "<Figure size 432x288 with 1 Axes>"
      ]
     },
     "metadata": {
      "needs_background": "light"
     },
     "output_type": "display_data"
    }
   ],
   "source": [
    "# Diagnosis Age\n",
    "# Criar bins de 5 em 5 anos\n",
    "bins = np.arange(new_meta['Diagnosis Age'].min() - 10, new_meta['Diagnosis Age'].max() + 10, 5)\n",
    "\n",
    "# Agrupar as idades nos bins e contar o tamanho de cada grupo\n",
    "age_groups = pd.cut(new_meta['Diagnosis Age'], bins=bins)\n",
    "grouped_data = new_meta.groupby(age_groups).size()\n",
    "\n",
    "# Criar o gráfico de barras\n",
    "grouped_data.plot.bar()\n",
    "plt.title('Idade de diagnóstico de 5 em 5 anos')\n",
    "plt.xlabel('Idades')\n",
    "plt.ylabel('Número de Pacientes')\n",
    "\n",
    "plt.show()\n"
   ]
  },
  {
   "cell_type": "markdown",
   "metadata": {},
   "source": [
    "Da análise da distribuição da faixa etária retirou-se que existe um grande número de sujeitos entre os 58 e 73 anos."
   ]
  },
  {
   "cell_type": "code",
   "execution_count": 34,
   "metadata": {},
   "outputs": [
    {
     "data": {
      "text/plain": [
       "Text(0.5, 1.0, 'Percentagem dos géneros')"
      ]
     },
     "execution_count": 34,
     "metadata": {},
     "output_type": "execute_result"
    },
    {
     "data": {
      "image/png": "[encoded data removed]",
      "text/plain": [
       "<Figure size 432x288 with 1 Axes>"
      ]
     },
     "metadata": {},
     "output_type": "display_data"
    }
   ],
   "source": [
    "# Percentagens de homens e mulheres presentes no estudo\n",
    "new_meta.groupby(\"Sex\").size().plot.pie(autopct='%.0f%%')\n",
    "plt.title('Percentagem dos géneros')"
   ]
  },
  {
   "cell_type": "markdown",
   "metadata": {},
   "source": [
    "O número de mulheres presentes no estudo é superior ao de homens."
   ]
  },
  {
   "cell_type": "code",
   "execution_count": 35,
   "metadata": {},
   "outputs": [
    {
     "data": {
      "text/plain": [
       "Text(0.5, 1.0, 'Percentagem da ocorrência prévia de cancro')"
      ]
     },
     "execution_count": 35,
     "metadata": {},
     "output_type": "execute_result"
    },
    {
     "data": {
      "image/png": "[encoded data removed]",
      "text/plain": [
       "<Figure size 432x288 with 1 Axes>"
      ]
     },
     "metadata": {},
     "output_type": "display_data"
    }
   ],
   "source": [
    "# Prior Cancer Diagnosis Occurence\n",
    "new_meta.groupby(\"Prior Cancer Diagnosis Occurence\").size().plot.pie(autopct='%.0f%%')\n",
    "plt.title('Percentagem da ocorrência prévia de cancro')"
   ]
  },
  {
   "cell_type": "markdown",
   "metadata": {},
   "source": [
    "A maioria dos participantes não apresenta historial de ocorrência de tumor."
   ]
  },
  {
   "cell_type": "code",
   "execution_count": 36,
   "metadata": {},
   "outputs": [
    {
     "data": {
      "text/plain": [
       "Text(0.5, 1.0, 'Percentagem da ocorrência de cancro')"
      ]
     },
     "execution_count": 36,
     "metadata": {},
     "output_type": "execute_result"
    },
    {
     "data": {
      "image/png": "[encoded data removed]",
      "text/plain": [
       "<Figure size 432x288 with 1 Axes>"
      ]
     },
     "metadata": {},
     "output_type": "display_data"
    }
   ],
   "source": [
    "#Person Neoplasm Status\n",
    "new_meta.groupby(\"Person Neoplasm Status\").size().plot.pie(autopct='%.0f%%')\n",
    "plt.title('Percentagem da ocorrência de cancro')\n",
    "#0 significa não ter cancro\n",
    "#1 significa ter cancro"
   ]
  },
  {
   "cell_type": "markdown",
   "metadata": {},
   "source": [
    "Dos participantes no estudo, apenas 21% tem tumor. Este desiquilíbrio de classes vai influenciar as previsões da etapa 3."
   ]
  },
  {
   "cell_type": "markdown",
   "metadata": {},
   "source": [
    "__Os gráficos seguintes permitem analisar a correlação entre atributos.__"
   ]
  },
  {
   "cell_type": "code",
   "execution_count": 37,
   "metadata": {},
   "outputs": [
    {
     "data": {
      "text/plain": [
       "<matplotlib.axes._subplots.AxesSubplot at 0x2e893e56f10>"
      ]
     },
     "execution_count": 37,
     "metadata": {},
     "output_type": "execute_result"
    },
    {
     "data": {
      "image/png": "[encoded data removed]",
      "text/plain": [
       "<Figure size 432x288 with 1 Axes>"
      ]
     },
     "metadata": {},
     "output_type": "display_data"
    }
   ],
   "source": [
    "# Percentagens dos géneros com tumor\n",
    "tumor = new_meta[new_meta[\"Person Neoplasm Status\"] == 1]\n",
    "result = tumor.groupby('Sex').size()\n",
    "grafico = result.plot.pie(autopct='%.0f%%')\n",
    "plt.title('Percentagem dos géneros com tumor')\n",
    "\n",
    "grafico"
   ]
  },
  {
   "cell_type": "markdown",
   "metadata": {},
   "source": [
    "A incidência de tumor é mais prevalente nas mulheres."
   ]
  },
  {
   "cell_type": "code",
   "execution_count": 38,
   "metadata": {},
   "outputs": [
    {
     "data": {
      "text/plain": [
       "<matplotlib.axes._subplots.AxesSubplot at 0x2e893e91eb0>"
      ]
     },
     "execution_count": 38,
     "metadata": {},
     "output_type": "execute_result"
    },
    {
     "data": {
      "image/png": "[encoded data removed]",
      "text/plain": [
       "<Figure size 432x288 with 1 Axes>"
      ]
     },
     "metadata": {},
     "output_type": "display_data"
    }
   ],
   "source": [
    "# Percentagens do historial de fumador com cancro\n",
    "tumor = new_meta[new_meta[\"Person Neoplasm Status\"] == 1]\n",
    "result = tumor.groupby('Patient Smoking History Category').size()\n",
    "grafico = result.plot.pie(autopct='%.0f%%')\n",
    "plt.title('Percentagem do historial de fumador com tumor')\n",
    "\n",
    "grafico"
   ]
  },
  {
   "cell_type": "markdown",
   "metadata": {},
   "source": [
    "Após a observação do gráfico, conclui-se que a categoria 4 é a que detém um maior número de pacientes com tumor."
   ]
  },
  {
   "cell_type": "code",
   "execution_count": 39,
   "metadata": {},
   "outputs": [
    {
     "data": {
      "image/png": "[encoded data removed]",
      "text/plain": [
       "<Figure size 720x720 with 4 Axes>"
      ]
     },
     "metadata": {
      "needs_background": "light"
     },
     "output_type": "display_data"
    }
   ],
   "source": [
    "# Função para obtenção de graficos de barra\n",
    "def plot_correlation(cat_1, cat_2):\n",
    "    num_plots = len(cat_1)\n",
    "    num_cols = 2  # Número de gráficos por linha\n",
    "    num_rows = (num_plots + num_cols - 1) // num_cols  # Calcular o número necessário de linhas\n",
    "\n",
    "    plt.figure(figsize=(10, 10))\n",
    "    colors = ['blue', 'orange', 'red', 'purple', 'green', 'yellow', 'pink', 'black', 'brown']\n",
    "\n",
    "    for i, column in enumerate(cat_1, 1):\n",
    "        plt.subplot(num_rows, num_cols, i)\n",
    "        crosstab_data = pd.crosstab(index=new_meta[column], columns=new_meta[cat_2])\n",
    "        crosstab_data.plot(kind=\"bar\", stacked=False, color=colors, ax=plt.gca())\n",
    "        plt.xlabel(column)\n",
    "        plt.ylabel('Contagem')\n",
    "\n",
    "    plt.tight_layout()\n",
    "    plt.show()\n",
    "\n",
    "# Comparar a existência ou não de tumor com diferentes atributos\n",
    "plot_correlation(['Sex', 'Patient Smoking History Category', 'Prior Cancer Diagnosis Occurence',  \"Patient's Vital Status\"], \"Person Neoplasm Status\")"
   ]
  },
  {
   "cell_type": "markdown",
   "metadata": {},
   "source": [
    "Pela análise dos gráficos:\n",
    "* Não se verificam diferenças notáveis entre a ocorrência de tumor nos 2 géneros\n",
    "* A maioria dos pacientes com tumor está na categoria 4 de historial de fumador\n",
    "* Dos pacientes com tumor, a maioria não aprensenta historial de cancro\n",
    "* A maioria dos pacientes com tumor, acabaram por falecer"
   ]
  },
  {
   "cell_type": "code",
   "execution_count": 40,
   "metadata": {},
   "outputs": [
    {
     "data": {
      "image/png": "[encoded data removed]",
      "text/plain": [
       "<Figure size 720x720 with 3 Axes>"
      ]
     },
     "metadata": {
      "needs_background": "light"
     },
     "output_type": "display_data"
    }
   ],
   "source": [
    "# Comparar os estádios da doença com diferentes atributos\n",
    "plot_correlation(['Sex', \"Patient's Vital Status\", 'Patient Smoking History Category'], 'American Joint Committee on Cancer Tumor Stage Code')"
   ]
  },
  {
   "cell_type": "markdown",
   "metadata": {},
   "source": [
    "Pela análise dos gráficos:\n",
    "* Extrai-se que as mulheres apresentam uma maior incidência de tumores de extensão e/ou dimensão inferior\n",
    "* A taxa de sobrevivência é menor em tumores de maior extensão e/ou dimensão e no que não dá para ser avaliado\n",
    "* Quanto maior a categoria de fumador, maior a ocorrência de tumores, à exceção da categoria 5\n"
   ]
  },
  {
   "cell_type": "code",
   "execution_count": 41,
   "metadata": {},
   "outputs": [
    {
     "data": {
      "image/png": "[encoded data removed]",
      "text/plain": [
       "<Figure size 432x288 with 1 Axes>"
      ]
     },
     "metadata": {
      "needs_background": "light"
     },
     "output_type": "display_data"
    }
   ],
   "source": [
    "# Agrupar dados e contar ocorrência de cada combinação\n",
    "grouped_data = new_meta.groupby([age_groups, \"Person Neoplasm Status\"]).size().unstack()\n",
    "\n",
    "# Plot\n",
    "grouped_data.plot(kind='bar', color=['blue', 'orange'], width=0.8)\n",
    "\n",
    "# Título e identificacao dos eixos\n",
    "plt.title('Relação entre Idade e o diagnóstico')\n",
    "plt.xlabel('Idade de diagnóstico de 5 em 5')\n",
    "plt.ylabel('Número de pacientes')\n",
    "\n",
    "# Legenda\n",
    "plt.legend([\"Sem tumor\", \"Com tumor\"], loc=\"upper right\")\n",
    "\n",
    "plt.show()"
   ]
  },
  {
   "cell_type": "markdown",
   "metadata": {},
   "source": [
    "A ocorrência do tumor prevalece entre os 58 e 73, assim como o número de pacientes. Desta forma, não foi possível concluir acerca do mesmo."
   ]
  },
  {
   "cell_type": "code",
   "execution_count": 42,
   "metadata": {
    "scrolled": true
   },
   "outputs": [
    {
     "data": {
      "text/plain": [
       "<Figure size 864x576 with 0 Axes>"
      ]
     },
     "metadata": {},
     "output_type": "display_data"
    },
    {
     "data": {
      "image/png": "[encoded data removed]",
      "text/plain": [
       "<Figure size 432x288 with 1 Axes>"
      ]
     },
     "metadata": {
      "needs_background": "light"
     },
     "output_type": "display_data"
    }
   ],
   "source": [
    "# Intervalos de 0.05 para a 'Fraction Genome Altered'\n",
    "# arange permite passos decimais\n",
    "bins = np.arange(0, 1.05, 0.05)\n",
    "\n",
    "# Agrupar em bins e contar o tamanho de cada grupo\n",
    "group_fraction = pd.cut(new_meta['Fraction Genome Altered'], bins=bins, include_lowest=True, right=False)\n",
    "grouped_data = new_meta.groupby([group_fraction, \"Person Neoplasm Status\"]).size().unstack()\n",
    "\n",
    "\n",
    "# Tamanho da figura\n",
    "plt.figure(figsize=(12, 8))\n",
    "\n",
    "# Plot\n",
    "grouped_data.plot(kind='bar', color=['blue', 'orange'], width=0.8)\n",
    "\n",
    "# Título e identificacao dos eixos\n",
    "plt.title('Relação entre Fração de Genoma Alterado e ocorrência de tumor')\n",
    "plt.xlabel('Fração do Genoma Alterado de 0.05 em 0.05')\n",
    "plt.ylabel('Número de Pacientes')\n",
    "\n",
    "# Legenda\n",
    "plt.legend([\"Sem tumor\", \"Com tumor\"], loc=\"upper right\")\n",
    "\n",
    "plt.show()"
   ]
  },
  {
   "cell_type": "markdown",
   "metadata": {},
   "source": [
    "Através do gráfico, não foi possível estabelecer nenhuma relação entre a fração de genoma alterado e a ocorrência de tumor."
   ]
  },
  {
   "cell_type": "code",
   "execution_count": 43,
   "metadata": {},
   "outputs": [
    {
     "data": {
      "image/png": "[encoded data removed]",
      "text/plain": [
       "<Figure size 432x288 with 1 Axes>"
      ]
     },
     "metadata": {
      "needs_background": "light"
     },
     "output_type": "display_data"
    }
   ],
   "source": [
    "# Filtrar os pacientes que faleceram\n",
    "deceased_patients = new_meta[new_meta['Person Neoplasm Status'] == 1]\n",
    "\n",
    "# Extrair dados relevantes\n",
    "OS = deceased_patients['Diagnosis Age'].values\n",
    "TD = deceased_patients['Patient Smoking History Category'].values\n",
    "\n",
    "# Plot\n",
    "plt.scatter(TD, OS)\n",
    "plt.xlabel('Histórico de Tabagismo do Paciente')\n",
    "plt.ylabel('Idade no Diagnóstico')\n",
    "plt.title('Relação entre Idade no Diagnóstico e Histórico de Tabagismo para Pacientes com Tumor')\n",
    "\n",
    "plt.show()"
   ]
  },
  {
   "cell_type": "markdown",
   "metadata": {},
   "source": [
    "Como verificado anteriormente, a presença de tumor associa-se ao aumento de idade e da categoria de historial de fumador, à exceção da categoria 5."
   ]
  },
  {
   "cell_type": "markdown",
   "metadata": {},
   "source": [
    "## Etapa 2\n",
    "\n",
    "Na etapa 2, explorou-se a correlação entre a expressão genética dos diferentes genes e a coluna objetivo, _Person Neoplam Status_, listando-se os 30 melhores e piores resultados, para servirem como dados de entrada nos processos de aprendizagem, visando uma melhor performance destes.\n",
    "\n",
    "Para a filtragem de dados, verificou-se, primeiramente, a variância dos mesmos, observando-se que estes tinham baixa variabilidade, explorando-se, de seguida, 2 métodos de filtragem distintos _SelectPercentile_ e _VarianceThreshold_.\n",
    "\n",
    "Seguidamente, uniu-se e normalizou-se os dados resultantes da correlação e da redução por variabilidade, a fim de formar um conjunto mais completo de dados para a aprendizagem.\n",
    "\n",
    "Por fim, na aprendizagem não supervisionada, aplicaram-se técnicas de redução de dimensionalidade, _PCA (Principal Component Analysis)_, de _clustering_ hierárquico e de _K-means clustering_.\n"
   ]
  },
  {
   "cell_type": "code",
   "execution_count": 44,
   "metadata": {},
   "outputs": [],
   "source": [
    "from sklearn.feature_selection import VarianceThreshold, SelectPercentile, f_classif\n",
    "from sklearn import preprocessing\n",
    "from sklearn.decomposition import PCA\n",
    "from scipy.cluster.hierarchy import dendrogram, linkage\n",
    "from sklearn.cluster import AgglomerativeClustering, KMeans"
   ]
  },
  {
   "cell_type": "markdown",
   "metadata": {},
   "source": [
    "#### Correlação\n",
    "\n",
    "Retorna os 30 genes correlacionados com a coluna objetivo, ou seja, _Person Neoplasm Status_."
   ]
  },
  {
   "cell_type": "code",
   "execution_count": 45,
   "metadata": {},
   "outputs": [],
   "source": [
    "# Merge de data_transposta e new_meta pela coluna Sample ID\n",
    "# Merge à esquerda, ou seja, mantendo os valores do primeiro df e adicionando apenas a coluna do segundo df\n",
    "data_transposta = pd.merge(data_transposta, new_meta[['Sample ID', 'Person Neoplasm Status']], on='Sample ID', how='left')"
   ]
  },
  {
   "cell_type": "code",
   "execution_count": 46,
   "metadata": {},
   "outputs": [
    {
     "data": {
      "text/plain": [
       "Index(['LOC100130426', 'UBE2Q2P3', 'UBE2Q2P3', 'LOC149767', 'TIMM23', 'MOXD2',\n",
       "       'LOC155060', 'RNU12-2P', 'SSX9', 'LOC317712',\n",
       "       ...\n",
       "       'ZXDB', 'LOC100130182', 'ZYG11A', 'ZYG11B', 'ZYX', 'FLJ10821', 'ZZZ3',\n",
       "       'HUMRTVLH3', 'AKR1C6P', 'Person Neoplasm Status'],\n",
       "      dtype='object', length=20530)"
      ]
     },
     "execution_count": 46,
     "metadata": {},
     "output_type": "execute_result"
    }
   ],
   "source": [
    "# Variável criada apenas para correlação, sendo necessario retirar a coluna Sample ID devido ao formato\n",
    "data_transposta_test = data_transposta.drop(columns='Sample ID')\n",
    "\n",
    "# Verificar\n",
    "data_transposta_test.columns"
   ]
  },
  {
   "cell_type": "code",
   "execution_count": 47,
   "metadata": {},
   "outputs": [],
   "source": [
    "# Matriz de correlação \n",
    "corr_matrix = data_transposta_test.corr()\n",
    "\n",
    "# Visualizar matriz em série\n",
    "top_corr = corr_matrix.unstack()\n",
    "\n",
    "# Evitar correlação entre o proprio gene\n",
    "top_corr = top_corr[top_corr != 1] "
   ]
  },
  {
   "cell_type": "code",
   "execution_count": 48,
   "metadata": {},
   "outputs": [
    {
     "name": "stdout",
     "output_type": "stream",
     "text": [
      "LOC285696       0.222353\n",
      "LINC00592       0.197707\n",
      "LOC439963       0.193796\n",
      "KRT18           0.192893\n",
      "OPN3            0.192631\n",
      "SLC7A5          0.191482\n",
      "BASP1           0.188579\n",
      "SNORD94         0.186650\n",
      "SNORA78         0.184394\n",
      "XRCC5           0.182317\n",
      "TMOD3           0.181272\n",
      "RRM2            0.179966\n",
      "FSGS1           0.177879\n",
      "PROCR           0.177585\n",
      "RFC3            0.175996\n",
      "FSCN1           0.175539\n",
      "LOC115042       0.173409\n",
      "OR1F10          0.173051\n",
      "LOC100505888    0.172249\n",
      "MT2A            0.172133\n",
      "LOC88851        0.170164\n",
      "LOC101928538    0.170046\n",
      "LDLRAD3         0.168868\n",
      "UCN2            0.168601\n",
      "ANLN            0.168593\n",
      "NCL             0.168380\n",
      "ATP2B1          0.166515\n",
      "PRHOXNB         0.165243\n",
      "BCAR3           0.165028\n",
      "EKV             0.163801\n",
      "dtype: float64\n"
     ]
    }
   ],
   "source": [
    "# Top 30 melhores\n",
    "top_30_corr = top_corr['Person Neoplasm Status'].nlargest(30) \n",
    "\n",
    "print(top_30_corr)"
   ]
  },
  {
   "cell_type": "code",
   "execution_count": 49,
   "metadata": {},
   "outputs": [
    {
     "name": "stdout",
     "output_type": "stream",
     "text": [
      "CHRNA6         -0.175269\n",
      "LRRC37A16P     -0.153292\n",
      "LOC221402      -0.152585\n",
      "FAM117A        -0.149851\n",
      "TRMT10B        -0.147966\n",
      "HCFC2          -0.147453\n",
      "MLLT6          -0.146946\n",
      "ZBTB5          -0.146182\n",
      "RD             -0.145261\n",
      "TMEM63A        -0.140906\n",
      "ZNF763         -0.140864\n",
      "ADCY6          -0.140828\n",
      "CORO2A         -0.139451\n",
      "ZNF44          -0.139139\n",
      "ZNF564         -0.138572\n",
      "PPFIBP2        -0.138349\n",
      "FICD           -0.137830\n",
      "SIRT4          -0.136230\n",
      "LOC100131231   -0.135947\n",
      "LOC100294335   -0.135101\n",
      "CBX7           -0.134947\n",
      "GGT3           -0.134519\n",
      "KCNA3          -0.133616\n",
      "C6orf95        -0.133542\n",
      "LOC112990      -0.133282\n",
      "ATG4A          -0.133205\n",
      "KRTAP5-AS1     -0.133187\n",
      "LOC158014      -0.132021\n",
      "HSCATHEP       -0.131913\n",
      "ACAD8          -0.131591\n",
      "dtype: float64\n"
     ]
    }
   ],
   "source": [
    "#Top 30 piores\n",
    "top_down_30_corr = top_corr[\"Person Neoplasm Status\"].nsmallest(30)\n",
    "\n",
    "print(top_down_30_corr)\n"
   ]
  },
  {
   "cell_type": "markdown",
   "metadata": {},
   "source": [
    "#### Variabilidade do data_transposta"
   ]
  },
  {
   "cell_type": "code",
   "execution_count": 50,
   "metadata": {},
   "outputs": [
    {
     "data": {
      "text/plain": [
       "Index(['LOC100130426', 'UBE2Q2P3', 'UBE2Q2P3', 'LOC149767', 'TIMM23', 'MOXD2',\n",
       "       'LOC155060', 'RNU12-2P', 'SSX9', 'LOC317712',\n",
       "       ...\n",
       "       'ZXDA', 'ZXDB', 'LOC100130182', 'ZYG11A', 'ZYG11B', 'ZYX', 'FLJ10821',\n",
       "       'ZZZ3', 'HUMRTVLH3', 'AKR1C6P'],\n",
       "      dtype='object', length=20529)"
      ]
     },
     "execution_count": 50,
     "metadata": {},
     "output_type": "execute_result"
    }
   ],
   "source": [
    "# auxiliar = data_transposta sem Sample ID e sem Coluna Objetivo para os proximos passos\n",
    "aux = data_transposta_test.drop(columns=\"Person Neoplasm Status\")\n",
    "\n",
    "# Verificar\n",
    "aux.columns"
   ]
  },
  {
   "cell_type": "code",
   "execution_count": 51,
   "metadata": {},
   "outputs": [
    {
     "name": "stdout",
     "output_type": "stream",
     "text": [
      "(517, 20529)\n"
     ]
    }
   ],
   "source": [
    "# Colocar o dataset como apenas a matriz dos valores\n",
    "data = aux.values\n",
    "print(data.shape)"
   ]
  },
  {
   "cell_type": "code",
   "execution_count": 52,
   "metadata": {},
   "outputs": [
    {
     "name": "stdout",
     "output_type": "stream",
     "text": [
      "Dados de expressão genética\n",
      "Número de genes: 20529\n",
      "Média da Variância: 14004342.851514589\n",
      "Desvio Padrão: 5100.288514458409\n"
     ]
    }
   ],
   "source": [
    "print('Dados de expressão genética')\n",
    "\n",
    "# Calcular a variância para cada gene\n",
    "variances = data.var(axis=0)\n",
    "num_genes = variances.shape[0]\n",
    "print('Número de genes:', f'{num_genes:}')\n",
    "\n",
    "# Média\n",
    "medvar = variances.mean() \n",
    "print('Média da Variância:', medvar)\n",
    "\n",
    "# Desvio padrão\n",
    "std = data.std()\n",
    "medstd = std.mean()\n",
    "print('Desvio Padrão:', medstd)"
   ]
  },
  {
   "cell_type": "code",
   "execution_count": 53,
   "metadata": {},
   "outputs": [
    {
     "data": {
      "image/png": "[encoded data removed]",
      "text/plain": [
       "<Figure size 432x288 with 1 Axes>"
      ]
     },
     "metadata": {
      "needs_background": "light"
     },
     "output_type": "display_data"
    }
   ],
   "source": [
    "plt.hist(variances, bins = 5)\n",
    "plt.xlabel('Variâncias')\n",
    "plt.ylabel('Densidade de probabilidade')\n",
    "plt.title('Histograma das variâncias')\n",
    "plt.show()"
   ]
  },
  {
   "cell_type": "markdown",
   "metadata": {},
   "source": [
    "O único pico à esquerda, indica uma distribuição assimétrica positiva. Isto significa que a maior parte dos genes tem pouca variabilidade, ou seja, tem características semelhantes."
   ]
  },
  {
   "cell_type": "markdown",
   "metadata": {},
   "source": [
    "#### Filtragem dos dados"
   ]
  },
  {
   "cell_type": "markdown",
   "metadata": {},
   "source": [
    "* Percentil"
   ]
  },
  {
   "cell_type": "code",
   "execution_count": 54,
   "metadata": {},
   "outputs": [
    {
     "name": "stdout",
     "output_type": "stream",
     "text": [
      "Index(['RNU12-2P', 'A2M', 'AAMP', 'ABCA2', 'HSA275973', 'ABCA6', 'ABCC2',\n",
      "       'ABCD1', 'ABCD2', 'ABCE1',\n",
      "       ...\n",
      "       'ZNF836', 'ZNF844', 'LOC641907', 'ZNRF3', 'ZP3', 'ZSWIM3', 'ZWILCH',\n",
      "       'ZWINT', 'LOC100130182', 'FLJ10821'],\n",
      "      dtype='object', length=1835)\n"
     ]
    }
   ],
   "source": [
    "# Seleção dos genes com p < 0.01, comparando com o output pretendido, Vivo ou Falecido\n",
    "\n",
    "selector = SelectPercentile(f_classif, percentile=10)\n",
    "\n",
    "# Criar output_status \n",
    "output_status = new_meta[\"Patient's Vital Status\"]\n",
    "\n",
    "selector.fit_transform(aux, output_status)\n",
    "genes_status = np.where(selector.pvalues_ < 0.01)\n",
    "\n",
    "print(aux.columns[genes_status])"
   ]
  },
  {
   "cell_type": "code",
   "execution_count": 55,
   "metadata": {},
   "outputs": [
    {
     "name": "stdout",
     "output_type": "stream",
     "text": [
      "Index(['ABCF1', 'ACAD8', 'ACOT7', 'LOC115571', 'FSGS1', 'ADAMTS15',\n",
      "       'LOC345667', 'ADCY6', 'ADRA1B', 'AGFG1',\n",
      "       ...\n",
      "       'ZNF564', 'ZNF574', 'FLJ20813', 'LOC112990', 'LOC101805489', 'ZNF763',\n",
      "       'ZNF782', 'ZNF791', 'ZWILCH', 'ZWINT'],\n",
      "      dtype='object', length=651)\n"
     ]
    }
   ],
   "source": [
    "# Seleção dos genes com p < 0.01, comparando com o output pretendido, Paciente com ou sem tumor\n",
    "\n",
    "selector = SelectPercentile(f_classif, percentile=10)\n",
    "\n",
    "output_tumor = new_meta[\"Person Neoplasm Status\"]\n",
    "selector.fit_transform(aux, output_tumor)\n",
    "genes_status = np.where(selector.pvalues_ < 0.01)\n",
    "\n",
    "print(aux.columns[genes_status])"
   ]
  },
  {
   "cell_type": "markdown",
   "metadata": {},
   "source": [
    "A técnica teve uma melhor filtragem, com a coluna objetivo _Person Neoplasm Status_ , onde foram selecionados as expressões genéticas que apresentavam diferenças estatisticamente significativas."
   ]
  },
  {
   "cell_type": "markdown",
   "metadata": {},
   "source": [
    "* Variance Threshold"
   ]
  },
  {
   "cell_type": "code",
   "execution_count": 56,
   "metadata": {},
   "outputs": [
    {
     "name": "stdout",
     "output_type": "stream",
     "text": [
      "(517, 306)\n"
     ]
    }
   ],
   "source": [
    "# Filtragem por variabilidade, removendo os genes de pouca variância\n",
    "sel = VarianceThreshold(threshold=medvar*3) \n",
    "input_filt = sel.fit_transform(aux) \n",
    "print(input_filt.shape)"
   ]
  },
  {
   "cell_type": "code",
   "execution_count": 57,
   "metadata": {},
   "outputs": [
    {
     "name": "stdout",
     "output_type": "stream",
     "text": [
      "Dados mais relevantes de expressão genética:\n",
      "Número de genes: 306\n",
      "Média da Variância: 889978068.7234744\n",
      "Desvio Padrão: 36245.131712638205\n"
     ]
    }
   ],
   "source": [
    "# Verificação dos valores de variância dos dados filtrados, input_filt\n",
    "\n",
    "print('Dados mais relevantes de expressão genética:')\n",
    "\n",
    "# Variância\n",
    "variances = input_filt.var(axis = 0)\n",
    "num_genes = variances.shape[0]\n",
    "print('Número de genes:', f'{num_genes:}')\n",
    "\n",
    "# Média\n",
    "medvar = variances.mean()\n",
    "print('Média da Variância:', medvar)\n",
    "\n",
    "# Desvio padrão\n",
    "std_new = input_filt.std()\n",
    "print('Desvio Padrão:',std_new)"
   ]
  },
  {
   "cell_type": "markdown",
   "metadata": {},
   "source": [
    "Como previsto pela distribuição assimétrica, o filtro removeu grande parte dos genes, passando de 20529 para 306 genes. Os 306 genes são os que apresentam maior variância, portanto a sua compreensão trará mais vantagens para a análise.\n",
    "\n",
    "Como se pode verificar, a variância aumentou significativamente, provando-se a eficácia do filtro. Um valor mais elevado de variância permite chegar a conclusões mais interessantes a nível de investigação.\n",
    "\n",
    "Assim, seguiu-se para os próximos passos com os resultados do método __Variance Threshold__ , pois se adequa a dados com baixa variância e não depende de nenhuma variável dos meta-dados."
   ]
  },
  {
   "cell_type": "markdown",
   "metadata": {},
   "source": [
    "__Junção dos genes resultantes das correlações e da variância__"
   ]
  },
  {
   "cell_type": "code",
   "execution_count": 58,
   "metadata": {},
   "outputs": [],
   "source": [
    "# Transformar em DataFrame o input_filt\n",
    "df_input = pd.DataFrame(input_filt, columns=aux.columns[sel.get_support()])"
   ]
  },
  {
   "cell_type": "code",
   "execution_count": 59,
   "metadata": {},
   "outputs": [
    {
     "data": {
      "text/plain": [
       "0      TCGA-05-4244-01\n",
       "1      TCGA-05-4249-01\n",
       "2      TCGA-05-4250-01\n",
       "3      TCGA-05-4382-01\n",
       "4      TCGA-05-4384-01\n",
       "            ...       \n",
       "512    TCGA-NJ-A55O-01\n",
       "513    TCGA-NJ-A55R-01\n",
       "514    TCGA-NJ-A7XG-01\n",
       "515    TCGA-O1-A52J-01\n",
       "516    TCGA-S2-AA1A-01\n",
       "Name: Sample ID, Length: 517, dtype: object"
      ]
     },
     "execution_count": 59,
     "metadata": {},
     "output_type": "execute_result"
    }
   ],
   "source": [
    "# Acrescentar a coluna Sample ID\n",
    "df_input['Sample ID'] = data_transposta['Sample ID']\n",
    "\n",
    "# Verificar\n",
    "df_input['Sample ID']"
   ]
  },
  {
   "cell_type": "code",
   "execution_count": 60,
   "metadata": {},
   "outputs": [],
   "source": [
    "# Junção dos tops correlação, caso nao estejam já filtrados, a partir de merge pelo Sample Id\n",
    "for i in top_30_corr.index:\n",
    "    if i not in df_input.columns :\n",
    "        df_input = pd.merge(df_input, data_transposta[['Sample ID', i]], on='Sample ID', how='left')\n",
    "\n",
    "for i in top_down_30_corr.index:\n",
    "    if i not in df_input.columns :\n",
    "        df_input = pd.merge(df_input, data_transposta[['Sample ID', i]], on='Sample ID', how='left')"
   ]
  },
  {
   "cell_type": "code",
   "execution_count": 61,
   "metadata": {},
   "outputs": [
    {
     "data": {
      "text/plain": [
       "Index(['A2M', 'LOC115571', 'DFNA26', 'ADAM6', 'AEBP1', 'AGR2', 'AHNAKRS',\n",
       "       'AKR1B11', 'AKR1C1', 'TDD',\n",
       "       ...\n",
       "       'CBX7', 'GGT3', 'KCNA3', 'C6orf95', 'LOC112990', 'ATG4A', 'KRTAP5-AS1',\n",
       "       'LOC158014', 'HSCATHEP', 'ACAD8'],\n",
       "      dtype='object', length=364)"
      ]
     },
     "execution_count": 61,
     "metadata": {},
     "output_type": "execute_result"
    }
   ],
   "source": [
    "# Verificar colunas existentes\n",
    "df_input.columns"
   ]
  },
  {
   "cell_type": "markdown",
   "metadata": {},
   "source": [
    "Verificou-se que foram adicionados mais 57 genes das correlações que não estavam previamente nos genes resultantes da variância (total de colunas = 306 genes da variância + 1 coluna 'Sample ID' + 57 genes adicionados pela correlação)."
   ]
  },
  {
   "cell_type": "markdown",
   "metadata": {},
   "source": [
    "#### Normalização"
   ]
  },
  {
   "cell_type": "code",
   "execution_count": 62,
   "metadata": {},
   "outputs": [
    {
     "name": "stdout",
     "output_type": "stream",
     "text": [
      "Index(['A2M', 'LOC115571', 'DFNA26', 'ADAM6', 'AEBP1', 'AGR2', 'AHNAKRS',\n",
      "       'AKR1B11', 'AKR1C1', 'TDD',\n",
      "       ...\n",
      "       'CBX7', 'GGT3', 'KCNA3', 'C6orf95', 'LOC112990', 'ATG4A', 'KRTAP5-AS1',\n",
      "       'LOC158014', 'HSCATHEP', 'ACAD8'],\n",
      "      dtype='object', length=363)\n"
     ]
    }
   ],
   "source": [
    "# Remoção da Coluna Sample ID de modo a permitir a normalização\n",
    "df_input = df_input.drop(columns = 'Sample ID')\n",
    "\n",
    "# Armazenamento do nome das colunas para passos posteriores\n",
    "colunas = df_input.columns\n",
    "\n",
    "# Verificar\n",
    "print(colunas)"
   ]
  },
  {
   "cell_type": "code",
   "execution_count": 63,
   "metadata": {},
   "outputs": [
    {
     "name": "stdout",
     "output_type": "stream",
     "text": [
      "Media:  6.455314696841658e-18\n",
      "Desvio padrao:  0.9999999999999999\n"
     ]
    }
   ],
   "source": [
    "# Normalizar as expressões dos genes\n",
    "input = preprocessing.scale(df_input)\n",
    "\n",
    "# Verificar se tem média zero e desvio padrão igual a 1.\n",
    "print(\"Media: \", input.mean())\n",
    "print(\"Desvio padrao: \", input.std())"
   ]
  },
  {
   "cell_type": "markdown",
   "metadata": {},
   "source": [
    "## Aprendizagem não supervisionada"
   ]
  },
  {
   "cell_type": "markdown",
   "metadata": {},
   "source": [
    "### PCA - Principal Component Analysis"
   ]
  },
  {
   "cell_type": "code",
   "execution_count": 64,
   "metadata": {},
   "outputs": [
    {
     "name": "stdout",
     "output_type": "stream",
     "text": [
      "Variância explicada: [0.13020728 0.07073351 0.0596461  0.03474073 0.03189588 0.02687885\n",
      " 0.02210329 0.02101681 0.01904602 0.01887088 0.01471238 0.01395444\n",
      " 0.01308086 0.01171465 0.01021364 0.01001446 0.00951232 0.00918203\n",
      " 0.00874637 0.00843882]\n"
     ]
    },
    {
     "data": {
      "text/plain": [
       "0.5447093149666115"
      ]
     },
     "execution_count": 64,
     "metadata": {},
     "output_type": "execute_result"
    }
   ],
   "source": [
    "# Retorna um array da variância explicada por cada componente principal\n",
    "# Cada elem do array representa a proporção da variância do conjunto de dados que é atribuída a um componente principal específico.\n",
    "pca = PCA(n_components=20)\n",
    "X_r = pca.fit(input).transform(input)\n",
    "\n",
    "print('Variância explicada: %s'% str(pca.explained_variance_ratio_))\n",
    "\n",
    "pca.explained_variance_ratio_.sum()"
   ]
  },
  {
   "cell_type": "code",
   "execution_count": 65,
   "metadata": {},
   "outputs": [
    {
     "data": {
      "image/png": "[encoded data removed]",
      "text/plain": [
       "<Figure size 432x288 with 1 Axes>"
      ]
     },
     "metadata": {
      "needs_background": "light"
     },
     "output_type": "display_data"
    }
   ],
   "source": [
    "# Representação gráfica da variância explicada por PCA\n",
    "n = 20\n",
    "\n",
    "plt.bar(range(n), pca.explained_variance_ratio_*100)\n",
    "plt.xticks(range(n), ['PC'+str(i) for i in range(1,n+1)],rotation=45, ha='right')\n",
    "plt.title(\"Variância explicada por PC\")\n",
    "plt.ylabel(\"Percentagem\")\n",
    "plt.show()"
   ]
  },
  {
   "cell_type": "markdown",
   "metadata": {},
   "source": [
    "O primeiro componente principal é o que explica uma maior variância dos dados, cerca de 15%. Posteriormente, a percentagem explicada pelos restantes componentes principais decresce."
   ]
  },
  {
   "cell_type": "code",
   "execution_count": 66,
   "metadata": {},
   "outputs": [
    {
     "data": {
      "image/png": "[encoded data removed]",
      "text/plain": [
       "<Figure size 432x288 with 1 Axes>"
      ]
     },
     "metadata": {
      "needs_background": "light"
     },
     "output_type": "display_data"
    }
   ],
   "source": [
    "# PCA- scatter relativo ao Estado de Vitalidade do paciente\n",
    "\n",
    "cores = ('Green','Red')\n",
    "labels = ('Alive','Dead')\n",
    "labels_names = ('Vivo','Falecido')\n",
    "plt.figure()\n",
    "\n",
    "for c, name, labels_names in zip(cores, labels, labels_names):\n",
    "    plt.scatter(X_r[output_status == name, 0], X_r[output_status == name, 1], c=c, label = labels_names)\n",
    "plt.legend()\n",
    "plt.title('Dataset ALL - scores plot PCA')\n",
    "plt.show()\n"
   ]
  },
  {
   "cell_type": "code",
   "execution_count": 67,
   "metadata": {},
   "outputs": [
    {
     "data": {
      "image/png": "[encoded data removed]",
      "text/plain": [
       "<Figure size 432x288 with 1 Axes>"
      ]
     },
     "metadata": {
      "needs_background": "light"
     },
     "output_type": "display_data"
    }
   ],
   "source": [
    "# PCA- scatter relativo ao Estadios\n",
    "\n",
    "# Definição do output_stage\n",
    "output_stage = new_meta[\"American Joint Committee on Cancer Tumor Stage Code\"]\n",
    "\n",
    "cores=('blue', 'orange', 'red', 'purple','green', 'yellow', 'pink', 'black', 'brown')\n",
    "labels=('T1','T1a','T1b','T2','T2a','T2b','T3','T4','TX')\n",
    "plt.figure()\n",
    "for c, name in zip(cores,labels):\n",
    "    plt.scatter(X_r[output_stage == name, 0], X_r[output_stage == name, 1], c=c, label=name)\n",
    "plt.legend()\n",
    "plt.title('Dataset ALL - scores plot PCA')\n",
    "plt.show()\n"
   ]
  },
  {
   "cell_type": "code",
   "execution_count": 68,
   "metadata": {},
   "outputs": [
    {
     "data": {
      "image/png": "[encoded data removed]",
      "text/plain": [
       "<Figure size 432x288 with 1 Axes>"
      ]
     },
     "metadata": {
      "needs_background": "light"
     },
     "output_type": "display_data"
    }
   ],
   "source": [
    "# PCA- scatter relativo a ter ou nao tumor\n",
    "cores=('blue', 'orange')\n",
    "labels=(0,1)\n",
    "labels_nomes = ('Tumor Free','With Tumor')\n",
    "plt.figure()\n",
    "for c, name, labels_nomes in zip(cores, labels, labels_nomes):\n",
    "    plt.scatter(X_r[output_tumor == name, 0], X_r[output_tumor == name, 1], c=c, label = labels_nomes)\n",
    "plt.legend()\n",
    "plt.title('Dataset ALL - scores plot PCA')\n",
    "plt.show()\n"
   ]
  },
  {
   "cell_type": "markdown",
   "metadata": {},
   "source": [
    "O método PCA não permitiu visualizar distribuições distintas dos dados face às diferentes categorias selecionadas."
   ]
  },
  {
   "cell_type": "markdown",
   "metadata": {},
   "source": [
    "#### Dendograma de Cluster Hierárquico"
   ]
  },
  {
   "cell_type": "code",
   "execution_count": 69,
   "metadata": {},
   "outputs": [
    {
     "ename": "KeyError",
     "evalue": "'0.0'",
     "output_type": "error",
     "traceback": [
      "\u001b[1;31m---------------------------------------------------------------------------\u001b[0m",
      "\u001b[1;31mKeyError\u001b[0m                                  Traceback (most recent call last)",
      "\u001b[1;32m<ipython-input-69-3853c008f290>\u001b[0m in \u001b[0;36m<module>\u001b[1;34m\u001b[0m\n\u001b[0;32m     18\u001b[0m \u001b[0mxlbls\u001b[0m \u001b[1;33m=\u001b[0m \u001b[0max\u001b[0m\u001b[1;33m.\u001b[0m\u001b[0mget_xmajorticklabels\u001b[0m\u001b[1;33m(\u001b[0m\u001b[1;33m)\u001b[0m\u001b[1;33m\u001b[0m\u001b[1;33m\u001b[0m\u001b[0m\n\u001b[0;32m     19\u001b[0m \u001b[1;32mfor\u001b[0m \u001b[0mlbl\u001b[0m \u001b[1;32min\u001b[0m \u001b[0mxlbls\u001b[0m\u001b[1;33m:\u001b[0m\u001b[1;33m\u001b[0m\u001b[1;33m\u001b[0m\u001b[0m\n\u001b[1;32m---> 20\u001b[1;33m     \u001b[0mlbl\u001b[0m\u001b[1;33m.\u001b[0m\u001b[0mset_color\u001b[0m\u001b[1;33m(\u001b[0m\u001b[0mlabel_colors\u001b[0m\u001b[1;33m[\u001b[0m\u001b[0mlbl\u001b[0m\u001b[1;33m.\u001b[0m\u001b[0mget_text\u001b[0m\u001b[1;33m(\u001b[0m\u001b[1;33m)\u001b[0m\u001b[1;33m]\u001b[0m\u001b[1;33m)\u001b[0m\u001b[1;33m\u001b[0m\u001b[1;33m\u001b[0m\u001b[0m\n\u001b[0m\u001b[0;32m     21\u001b[0m \u001b[1;33m\u001b[0m\u001b[0m\n\u001b[0;32m     22\u001b[0m \u001b[0mplt\u001b[0m\u001b[1;33m.\u001b[0m\u001b[0mshow\u001b[0m\u001b[1;33m(\u001b[0m\u001b[1;33m)\u001b[0m\u001b[1;33m\u001b[0m\u001b[1;33m\u001b[0m\u001b[0m\n",
      "\u001b[1;31mKeyError\u001b[0m: '0.0'"
     ]
    },
    {
     "data": {
      "image/png": "[encoded data removed]",
      "text/plain": [
       "<Figure size 1800x720 with 1 Axes>"
      ]
     },
     "metadata": {
      "needs_background": "light"
     },
     "output_type": "display_data"
    }
   ],
   "source": [
    "# Dendograma relacionado com o Tumor\n",
    "Z = linkage(input, method='ward', metric='euclidean')\n",
    "\n",
    "# Calcular Dendograma\n",
    "plt.figure(figsize=(25, 10))\n",
    "dendrogram(\n",
    "    Z,\n",
    "    labels=list(output_tumor),\n",
    "    leaf_rotation=90., \n",
    "    leaf_font_size=8., \n",
    ")\n",
    "\n",
    "plt.title('Hierarchical Clustering Dendrogram')\n",
    "plt.ylabel('distance')\n",
    "\n",
    "label_colors = {'1': 'red', '0': 'black'}\n",
    "ax = plt.gca()\n",
    "xlbls = ax.get_xmajorticklabels()\n",
    "for lbl in xlbls:\n",
    "    lbl.set_color(label_colors[lbl.get_text()])\n",
    "\n",
    "plt.show()"
   ]
  },
  {
   "cell_type": "markdown",
   "metadata": {},
   "source": [
    "Os genes foram divididos em 2 grandes grupos principais, dos quais um deles apresenta uma divisão noutros 2 grandes grupos.\n",
    "Os diagnósticos ter ou não tumor, não ficaram nitidamente separados em grupos distintos."
   ]
  },
  {
   "cell_type": "markdown",
   "metadata": {},
   "source": [
    "### Clustering Hierárquico"
   ]
  },
  {
   "cell_type": "code",
   "execution_count": 70,
   "metadata": {},
   "outputs": [
    {
     "data": {
      "text/html": [
       "<div>\n",
       "<style scoped>\n",
       "    .dataframe tbody tr th:only-of-type {\n",
       "        vertical-align: middle;\n",
       "    }\n",
       "\n",
       "    .dataframe tbody tr th {\n",
       "        vertical-align: top;\n",
       "    }\n",
       "\n",
       "    .dataframe thead th {\n",
       "        text-align: right;\n",
       "    }\n",
       "</style>\n",
       "<table border=\"1\" class=\"dataframe\">\n",
       "  <thead>\n",
       "    <tr style=\"text-align: right;\">\n",
       "      <th>col_0</th>\n",
       "      <th>0</th>\n",
       "      <th>1</th>\n",
       "    </tr>\n",
       "    <tr>\n",
       "      <th>Patient's Vital Status</th>\n",
       "      <th></th>\n",
       "      <th></th>\n",
       "    </tr>\n",
       "  </thead>\n",
       "  <tbody>\n",
       "    <tr>\n",
       "      <th>Alive</th>\n",
       "      <td>317</td>\n",
       "      <td>13</td>\n",
       "    </tr>\n",
       "    <tr>\n",
       "      <th>Dead</th>\n",
       "      <td>181</td>\n",
       "      <td>6</td>\n",
       "    </tr>\n",
       "  </tbody>\n",
       "</table>\n",
       "</div>"
      ],
      "text/plain": [
       "col_0                     0   1\n",
       "Patient's Vital Status         \n",
       "Alive                   317  13\n",
       "Dead                    181   6"
      ]
     },
     "execution_count": 70,
     "metadata": {},
     "output_type": "execute_result"
    }
   ],
   "source": [
    "# Clustering hierárquico para vivo ou falecido\n",
    "hclust = AgglomerativeClustering(n_clusters=2, affinity=\"euclidean\", linkage=\"ward\")\n",
    "hclust.fit(input)\n",
    "\n",
    "res_hc = hclust.labels_\n",
    "pd.crosstab(output_status, res_hc)"
   ]
  },
  {
   "cell_type": "markdown",
   "metadata": {},
   "source": [
    "Não foi possível obter clusters que separem eficazmente as amostras entre vivos ou mortos, como era de esperar pelo gráfico obtido por PCA referente ao estado vital. "
   ]
  },
  {
   "cell_type": "code",
   "execution_count": 71,
   "metadata": {},
   "outputs": [
    {
     "data": {
      "text/html": [
       "<div>\n",
       "<style scoped>\n",
       "    .dataframe tbody tr th:only-of-type {\n",
       "        vertical-align: middle;\n",
       "    }\n",
       "\n",
       "    .dataframe tbody tr th {\n",
       "        vertical-align: top;\n",
       "    }\n",
       "\n",
       "    .dataframe thead th {\n",
       "        text-align: right;\n",
       "    }\n",
       "</style>\n",
       "<table border=\"1\" class=\"dataframe\">\n",
       "  <thead>\n",
       "    <tr style=\"text-align: right;\">\n",
       "      <th>col_0</th>\n",
       "      <th>0</th>\n",
       "      <th>1</th>\n",
       "    </tr>\n",
       "    <tr>\n",
       "      <th>Person Neoplasm Status</th>\n",
       "      <th></th>\n",
       "      <th></th>\n",
       "    </tr>\n",
       "  </thead>\n",
       "  <tbody>\n",
       "    <tr>\n",
       "      <th>0.0</th>\n",
       "      <td>390</td>\n",
       "      <td>16</td>\n",
       "    </tr>\n",
       "    <tr>\n",
       "      <th>1.0</th>\n",
       "      <td>108</td>\n",
       "      <td>3</td>\n",
       "    </tr>\n",
       "  </tbody>\n",
       "</table>\n",
       "</div>"
      ],
      "text/plain": [
       "col_0                     0   1\n",
       "Person Neoplasm Status         \n",
       "0.0                     390  16\n",
       "1.0                     108   3"
      ]
     },
     "execution_count": 71,
     "metadata": {},
     "output_type": "execute_result"
    }
   ],
   "source": [
    "# Clustering hierárquico para tumor ou não\n",
    "clust = AgglomerativeClustering(n_clusters=2, affinity=\"euclidean\", linkage=\"ward\")\n",
    "clust.fit(input)\n",
    "\n",
    "res = clust.labels_\n",
    "pd.crosstab(output_tumor, res)"
   ]
  },
  {
   "cell_type": "markdown",
   "metadata": {},
   "source": [
    "Não foi possível obter clusters que separem eficazmente as amostras entre possuir ou não tumor, como era de esperar pelo gráfico obtido por PCA referente ao _Person Neoplasm Status_. "
   ]
  },
  {
   "cell_type": "code",
   "execution_count": 72,
   "metadata": {},
   "outputs": [
    {
     "data": {
      "text/html": [
       "<div>\n",
       "<style scoped>\n",
       "    .dataframe tbody tr th:only-of-type {\n",
       "        vertical-align: middle;\n",
       "    }\n",
       "\n",
       "    .dataframe tbody tr th {\n",
       "        vertical-align: top;\n",
       "    }\n",
       "\n",
       "    .dataframe thead th {\n",
       "        text-align: right;\n",
       "    }\n",
       "</style>\n",
       "<table border=\"1\" class=\"dataframe\">\n",
       "  <thead>\n",
       "    <tr style=\"text-align: right;\">\n",
       "      <th>col_0</th>\n",
       "      <th>0</th>\n",
       "      <th>1</th>\n",
       "      <th>2</th>\n",
       "      <th>3</th>\n",
       "      <th>4</th>\n",
       "      <th>5</th>\n",
       "      <th>6</th>\n",
       "      <th>7</th>\n",
       "      <th>8</th>\n",
       "    </tr>\n",
       "    <tr>\n",
       "      <th>American Joint Committee on Cancer Tumor Stage Code</th>\n",
       "      <th></th>\n",
       "      <th></th>\n",
       "      <th></th>\n",
       "      <th></th>\n",
       "      <th></th>\n",
       "      <th></th>\n",
       "      <th></th>\n",
       "      <th></th>\n",
       "      <th></th>\n",
       "    </tr>\n",
       "  </thead>\n",
       "  <tbody>\n",
       "    <tr>\n",
       "      <th>T1</th>\n",
       "      <td>12</td>\n",
       "      <td>18</td>\n",
       "      <td>23</td>\n",
       "      <td>0</td>\n",
       "      <td>4</td>\n",
       "      <td>0</td>\n",
       "      <td>2</td>\n",
       "      <td>4</td>\n",
       "      <td>5</td>\n",
       "    </tr>\n",
       "    <tr>\n",
       "      <th>T1a</th>\n",
       "      <td>6</td>\n",
       "      <td>7</td>\n",
       "      <td>25</td>\n",
       "      <td>0</td>\n",
       "      <td>3</td>\n",
       "      <td>0</td>\n",
       "      <td>2</td>\n",
       "      <td>4</td>\n",
       "      <td>0</td>\n",
       "    </tr>\n",
       "    <tr>\n",
       "      <th>T1b</th>\n",
       "      <td>6</td>\n",
       "      <td>14</td>\n",
       "      <td>23</td>\n",
       "      <td>0</td>\n",
       "      <td>5</td>\n",
       "      <td>0</td>\n",
       "      <td>2</td>\n",
       "      <td>1</td>\n",
       "      <td>4</td>\n",
       "    </tr>\n",
       "    <tr>\n",
       "      <th>T2</th>\n",
       "      <td>37</td>\n",
       "      <td>43</td>\n",
       "      <td>34</td>\n",
       "      <td>6</td>\n",
       "      <td>12</td>\n",
       "      <td>1</td>\n",
       "      <td>9</td>\n",
       "      <td>15</td>\n",
       "      <td>12</td>\n",
       "    </tr>\n",
       "    <tr>\n",
       "      <th>T2a</th>\n",
       "      <td>11</td>\n",
       "      <td>16</td>\n",
       "      <td>30</td>\n",
       "      <td>0</td>\n",
       "      <td>3</td>\n",
       "      <td>0</td>\n",
       "      <td>2</td>\n",
       "      <td>11</td>\n",
       "      <td>9</td>\n",
       "    </tr>\n",
       "    <tr>\n",
       "      <th>T2b</th>\n",
       "      <td>2</td>\n",
       "      <td>10</td>\n",
       "      <td>8</td>\n",
       "      <td>1</td>\n",
       "      <td>2</td>\n",
       "      <td>1</td>\n",
       "      <td>0</td>\n",
       "      <td>3</td>\n",
       "      <td>0</td>\n",
       "    </tr>\n",
       "    <tr>\n",
       "      <th>T3</th>\n",
       "      <td>8</td>\n",
       "      <td>10</td>\n",
       "      <td>11</td>\n",
       "      <td>4</td>\n",
       "      <td>3</td>\n",
       "      <td>0</td>\n",
       "      <td>0</td>\n",
       "      <td>8</td>\n",
       "      <td>3</td>\n",
       "    </tr>\n",
       "    <tr>\n",
       "      <th>T4</th>\n",
       "      <td>2</td>\n",
       "      <td>3</td>\n",
       "      <td>3</td>\n",
       "      <td>2</td>\n",
       "      <td>2</td>\n",
       "      <td>0</td>\n",
       "      <td>0</td>\n",
       "      <td>6</td>\n",
       "      <td>1</td>\n",
       "    </tr>\n",
       "    <tr>\n",
       "      <th>TX</th>\n",
       "      <td>0</td>\n",
       "      <td>0</td>\n",
       "      <td>2</td>\n",
       "      <td>0</td>\n",
       "      <td>0</td>\n",
       "      <td>0</td>\n",
       "      <td>0</td>\n",
       "      <td>1</td>\n",
       "      <td>0</td>\n",
       "    </tr>\n",
       "  </tbody>\n",
       "</table>\n",
       "</div>"
      ],
      "text/plain": [
       "col_0                                                0   1   2  3   4  5  6  \\\n",
       "American Joint Committee on Cancer Tumor Stage ...                            \n",
       "T1                                                  12  18  23  0   4  0  2   \n",
       "T1a                                                  6   7  25  0   3  0  2   \n",
       "T1b                                                  6  14  23  0   5  0  2   \n",
       "T2                                                  37  43  34  6  12  1  9   \n",
       "T2a                                                 11  16  30  0   3  0  2   \n",
       "T2b                                                  2  10   8  1   2  1  0   \n",
       "T3                                                   8  10  11  4   3  0  0   \n",
       "T4                                                   2   3   3  2   2  0  0   \n",
       "TX                                                   0   0   2  0   0  0  0   \n",
       "\n",
       "col_0                                                7   8  \n",
       "American Joint Committee on Cancer Tumor Stage ...          \n",
       "T1                                                   4   5  \n",
       "T1a                                                  4   0  \n",
       "T1b                                                  1   4  \n",
       "T2                                                  15  12  \n",
       "T2a                                                 11   9  \n",
       "T2b                                                  3   0  \n",
       "T3                                                   8   3  \n",
       "T4                                                   6   1  \n",
       "TX                                                   1   0  "
      ]
     },
     "execution_count": 72,
     "metadata": {},
     "output_type": "execute_result"
    }
   ],
   "source": [
    "# Clustering hierárquico para diferentes estadios\n",
    "clu = AgglomerativeClustering(n_clusters=9, affinity=\"euclidean\", linkage=\"ward\")\n",
    "clu.fit(input)\n",
    "\n",
    "res = clu.labels_\n",
    "pd.crosstab(output_stage, res)"
   ]
  },
  {
   "cell_type": "markdown",
   "metadata": {},
   "source": [
    "Não foi possível obter clusters que separem eficazmente as amostras entre os diferentes estadios, como era de esperar pelo gráfico obtido por PCA referente aos estadios do tumor. "
   ]
  },
  {
   "cell_type": "code",
   "execution_count": 73,
   "metadata": {},
   "outputs": [
    {
     "data": {
      "text/html": [
       "<div>\n",
       "<style scoped>\n",
       "    .dataframe tbody tr th:only-of-type {\n",
       "        vertical-align: middle;\n",
       "    }\n",
       "\n",
       "    .dataframe tbody tr th {\n",
       "        vertical-align: top;\n",
       "    }\n",
       "\n",
       "    .dataframe thead th {\n",
       "        text-align: right;\n",
       "    }\n",
       "</style>\n",
       "<table border=\"1\" class=\"dataframe\">\n",
       "  <thead>\n",
       "    <tr style=\"text-align: right;\">\n",
       "      <th>col_0</th>\n",
       "      <th>0</th>\n",
       "      <th>1</th>\n",
       "    </tr>\n",
       "    <tr>\n",
       "      <th>Sex</th>\n",
       "      <th></th>\n",
       "      <th></th>\n",
       "    </tr>\n",
       "  </thead>\n",
       "  <tbody>\n",
       "    <tr>\n",
       "      <th>Female</th>\n",
       "      <td>269</td>\n",
       "      <td>8</td>\n",
       "    </tr>\n",
       "    <tr>\n",
       "      <th>Male</th>\n",
       "      <td>229</td>\n",
       "      <td>11</td>\n",
       "    </tr>\n",
       "  </tbody>\n",
       "</table>\n",
       "</div>"
      ],
      "text/plain": [
       "col_0     0   1\n",
       "Sex            \n",
       "Female  269   8\n",
       "Male    229  11"
      ]
     },
     "execution_count": 73,
     "metadata": {},
     "output_type": "execute_result"
    }
   ],
   "source": [
    "# Clustering hierárquico para diferentes sexos\n",
    "c = AgglomerativeClustering(n_clusters=2, affinity=\"euclidean\", linkage=\"ward\")\n",
    "c.fit(input)\n",
    "\n",
    "output_sex = new_meta['Sex']\n",
    "\n",
    "res = c.labels_\n",
    "pd.crosstab(output_sex, res)"
   ]
  },
  {
   "cell_type": "markdown",
   "metadata": {},
   "source": [
    "Não foi possível obter clusters que separem eficazmente as amostras entre géneros."
   ]
  },
  {
   "cell_type": "markdown",
   "metadata": {},
   "source": [
    "### K-Means"
   ]
  },
  {
   "cell_type": "code",
   "execution_count": 74,
   "metadata": {},
   "outputs": [
    {
     "data": {
      "text/html": [
       "<div>\n",
       "<style scoped>\n",
       "    .dataframe tbody tr th:only-of-type {\n",
       "        vertical-align: middle;\n",
       "    }\n",
       "\n",
       "    .dataframe tbody tr th {\n",
       "        vertical-align: top;\n",
       "    }\n",
       "\n",
       "    .dataframe thead th {\n",
       "        text-align: right;\n",
       "    }\n",
       "</style>\n",
       "<table border=\"1\" class=\"dataframe\">\n",
       "  <thead>\n",
       "    <tr style=\"text-align: right;\">\n",
       "      <th>col_0</th>\n",
       "      <th>0</th>\n",
       "      <th>1</th>\n",
       "    </tr>\n",
       "    <tr>\n",
       "      <th>Patient's Vital Status</th>\n",
       "      <th></th>\n",
       "      <th></th>\n",
       "    </tr>\n",
       "  </thead>\n",
       "  <tbody>\n",
       "    <tr>\n",
       "      <th>Alive</th>\n",
       "      <td>31</td>\n",
       "      <td>299</td>\n",
       "    </tr>\n",
       "    <tr>\n",
       "      <th>Dead</th>\n",
       "      <td>28</td>\n",
       "      <td>159</td>\n",
       "    </tr>\n",
       "  </tbody>\n",
       "</table>\n",
       "</div>"
      ],
      "text/plain": [
       "col_0                    0    1\n",
       "Patient's Vital Status         \n",
       "Alive                   31  299\n",
       "Dead                    28  159"
      ]
     },
     "execution_count": 74,
     "metadata": {},
     "output_type": "execute_result"
    }
   ],
   "source": [
    "# Relacionar com vivo e falecido\n",
    "kmeans_est = KMeans(init='random', n_clusters=2, n_init = 100)\n",
    "res_kmeans = kmeans_est.fit(input).predict(input)\n",
    "\n",
    "pd.crosstab(output_status, res_kmeans)"
   ]
  },
  {
   "cell_type": "markdown",
   "metadata": {},
   "source": [
    "Não foi possível obter clusters que separem eficazmente as amostras entre o resultado vivo ou morto."
   ]
  },
  {
   "cell_type": "code",
   "execution_count": 75,
   "metadata": {},
   "outputs": [
    {
     "data": {
      "text/html": [
       "<div>\n",
       "<style scoped>\n",
       "    .dataframe tbody tr th:only-of-type {\n",
       "        vertical-align: middle;\n",
       "    }\n",
       "\n",
       "    .dataframe tbody tr th {\n",
       "        vertical-align: top;\n",
       "    }\n",
       "\n",
       "    .dataframe thead th {\n",
       "        text-align: right;\n",
       "    }\n",
       "</style>\n",
       "<table border=\"1\" class=\"dataframe\">\n",
       "  <thead>\n",
       "    <tr style=\"text-align: right;\">\n",
       "      <th>col_0</th>\n",
       "      <th>0</th>\n",
       "      <th>1</th>\n",
       "      <th>2</th>\n",
       "      <th>3</th>\n",
       "      <th>4</th>\n",
       "      <th>5</th>\n",
       "      <th>6</th>\n",
       "      <th>7</th>\n",
       "      <th>8</th>\n",
       "    </tr>\n",
       "    <tr>\n",
       "      <th>American Joint Committee on Cancer Tumor Stage Code</th>\n",
       "      <th></th>\n",
       "      <th></th>\n",
       "      <th></th>\n",
       "      <th></th>\n",
       "      <th></th>\n",
       "      <th></th>\n",
       "      <th></th>\n",
       "      <th></th>\n",
       "      <th></th>\n",
       "    </tr>\n",
       "  </thead>\n",
       "  <tbody>\n",
       "    <tr>\n",
       "      <th>T1</th>\n",
       "      <td>4</td>\n",
       "      <td>5</td>\n",
       "      <td>13</td>\n",
       "      <td>2</td>\n",
       "      <td>23</td>\n",
       "      <td>7</td>\n",
       "      <td>7</td>\n",
       "      <td>0</td>\n",
       "      <td>7</td>\n",
       "    </tr>\n",
       "    <tr>\n",
       "      <th>T1a</th>\n",
       "      <td>0</td>\n",
       "      <td>2</td>\n",
       "      <td>8</td>\n",
       "      <td>3</td>\n",
       "      <td>22</td>\n",
       "      <td>2</td>\n",
       "      <td>4</td>\n",
       "      <td>0</td>\n",
       "      <td>6</td>\n",
       "    </tr>\n",
       "    <tr>\n",
       "      <th>T1b</th>\n",
       "      <td>6</td>\n",
       "      <td>1</td>\n",
       "      <td>8</td>\n",
       "      <td>1</td>\n",
       "      <td>24</td>\n",
       "      <td>1</td>\n",
       "      <td>2</td>\n",
       "      <td>1</td>\n",
       "      <td>11</td>\n",
       "    </tr>\n",
       "    <tr>\n",
       "      <th>T2</th>\n",
       "      <td>13</td>\n",
       "      <td>6</td>\n",
       "      <td>42</td>\n",
       "      <td>13</td>\n",
       "      <td>24</td>\n",
       "      <td>18</td>\n",
       "      <td>12</td>\n",
       "      <td>4</td>\n",
       "      <td>37</td>\n",
       "    </tr>\n",
       "    <tr>\n",
       "      <th>T2a</th>\n",
       "      <td>7</td>\n",
       "      <td>3</td>\n",
       "      <td>31</td>\n",
       "      <td>6</td>\n",
       "      <td>17</td>\n",
       "      <td>4</td>\n",
       "      <td>5</td>\n",
       "      <td>0</td>\n",
       "      <td>9</td>\n",
       "    </tr>\n",
       "    <tr>\n",
       "      <th>T2b</th>\n",
       "      <td>1</td>\n",
       "      <td>0</td>\n",
       "      <td>6</td>\n",
       "      <td>0</td>\n",
       "      <td>6</td>\n",
       "      <td>1</td>\n",
       "      <td>1</td>\n",
       "      <td>1</td>\n",
       "      <td>11</td>\n",
       "    </tr>\n",
       "    <tr>\n",
       "      <th>T3</th>\n",
       "      <td>3</td>\n",
       "      <td>1</td>\n",
       "      <td>14</td>\n",
       "      <td>2</td>\n",
       "      <td>10</td>\n",
       "      <td>4</td>\n",
       "      <td>5</td>\n",
       "      <td>0</td>\n",
       "      <td>8</td>\n",
       "    </tr>\n",
       "    <tr>\n",
       "      <th>T4</th>\n",
       "      <td>2</td>\n",
       "      <td>2</td>\n",
       "      <td>4</td>\n",
       "      <td>2</td>\n",
       "      <td>2</td>\n",
       "      <td>3</td>\n",
       "      <td>1</td>\n",
       "      <td>0</td>\n",
       "      <td>3</td>\n",
       "    </tr>\n",
       "    <tr>\n",
       "      <th>TX</th>\n",
       "      <td>0</td>\n",
       "      <td>0</td>\n",
       "      <td>1</td>\n",
       "      <td>0</td>\n",
       "      <td>2</td>\n",
       "      <td>0</td>\n",
       "      <td>0</td>\n",
       "      <td>0</td>\n",
       "      <td>0</td>\n",
       "    </tr>\n",
       "  </tbody>\n",
       "</table>\n",
       "</div>"
      ],
      "text/plain": [
       "col_0                                                0  1   2   3   4   5   6  \\\n",
       "American Joint Committee on Cancer Tumor Stage ...                              \n",
       "T1                                                   4  5  13   2  23   7   7   \n",
       "T1a                                                  0  2   8   3  22   2   4   \n",
       "T1b                                                  6  1   8   1  24   1   2   \n",
       "T2                                                  13  6  42  13  24  18  12   \n",
       "T2a                                                  7  3  31   6  17   4   5   \n",
       "T2b                                                  1  0   6   0   6   1   1   \n",
       "T3                                                   3  1  14   2  10   4   5   \n",
       "T4                                                   2  2   4   2   2   3   1   \n",
       "TX                                                   0  0   1   0   2   0   0   \n",
       "\n",
       "col_0                                               7   8  \n",
       "American Joint Committee on Cancer Tumor Stage ...         \n",
       "T1                                                  0   7  \n",
       "T1a                                                 0   6  \n",
       "T1b                                                 1  11  \n",
       "T2                                                  4  37  \n",
       "T2a                                                 0   9  \n",
       "T2b                                                 1  11  \n",
       "T3                                                  0   8  \n",
       "T4                                                  0   3  \n",
       "TX                                                  0   0  "
      ]
     },
     "execution_count": 75,
     "metadata": {},
     "output_type": "execute_result"
    }
   ],
   "source": [
    "# relacionar com estadios\n",
    "kmeans_est = KMeans(init='random', n_clusters=9, n_init = 100)\n",
    "res_kmeans = kmeans_est.fit(input).predict(input)\n",
    "\n",
    "pd.crosstab(output_stage, res_kmeans)"
   ]
  },
  {
   "cell_type": "markdown",
   "metadata": {},
   "source": [
    "Não foi possível obter clusters que separem eficazmente as amostras entre os diferentes estadios."
   ]
  },
  {
   "cell_type": "code",
   "execution_count": 76,
   "metadata": {},
   "outputs": [
    {
     "data": {
      "text/html": [
       "<div>\n",
       "<style scoped>\n",
       "    .dataframe tbody tr th:only-of-type {\n",
       "        vertical-align: middle;\n",
       "    }\n",
       "\n",
       "    .dataframe tbody tr th {\n",
       "        vertical-align: top;\n",
       "    }\n",
       "\n",
       "    .dataframe thead th {\n",
       "        text-align: right;\n",
       "    }\n",
       "</style>\n",
       "<table border=\"1\" class=\"dataframe\">\n",
       "  <thead>\n",
       "    <tr style=\"text-align: right;\">\n",
       "      <th>col_0</th>\n",
       "      <th>0</th>\n",
       "      <th>1</th>\n",
       "    </tr>\n",
       "    <tr>\n",
       "      <th>Person Neoplasm Status</th>\n",
       "      <th></th>\n",
       "      <th></th>\n",
       "    </tr>\n",
       "  </thead>\n",
       "  <tbody>\n",
       "    <tr>\n",
       "      <th>0.0</th>\n",
       "      <td>41</td>\n",
       "      <td>365</td>\n",
       "    </tr>\n",
       "    <tr>\n",
       "      <th>1.0</th>\n",
       "      <td>18</td>\n",
       "      <td>93</td>\n",
       "    </tr>\n",
       "  </tbody>\n",
       "</table>\n",
       "</div>"
      ],
      "text/plain": [
       "col_0                    0    1\n",
       "Person Neoplasm Status         \n",
       "0.0                     41  365\n",
       "1.0                     18   93"
      ]
     },
     "execution_count": 76,
     "metadata": {},
     "output_type": "execute_result"
    }
   ],
   "source": [
    "# relacionar com tumor\n",
    "kmeans_est = KMeans(init='random', n_clusters=2, n_init = 100)\n",
    "res_kmeans = kmeans_est.fit(input).predict(input)\n",
    "\n",
    "pd.crosstab(output_tumor, res_kmeans)"
   ]
  },
  {
   "cell_type": "markdown",
   "metadata": {},
   "source": [
    "Mais uma vez, não se verificaram clusters que separem eficazmente os diagnósticos."
   ]
  },
  {
   "cell_type": "markdown",
   "metadata": {},
   "source": [
    "__Conclusão de aprendizagem não supervisionada:__\n",
    "\n",
    "Os dados não apresentam diferenças notáveis que permitam separá-los em grupos que se associem a parâmetros distintos, como diagnósticos ou _outcomes_ de saúde. "
   ]
  },
  {
   "cell_type": "markdown",
   "metadata": {},
   "source": [
    "## Etapa 3\n",
    "\n",
    "A previsão do output_tumor, ou seja, ter ou não tumor, foi efetuada a partir de dois input diferentes, o primeiro contém apenas os dados de expressão genética, enquanto o segundo inclui também meta-dados.\n",
    "\n",
    "Divisão de 70% dos dados para treino e 30% para teste.\n",
    "\n",
    "Comparar e analisar o comportamento dos modelos: _Random Forest, K Neighbours, SVMs RBF Kernel e Logistic Regression_.\n",
    "* O modelo _Random Forest_ elabora árvores de decisão aleatórias, testa-as, selecionando atributos random e seleciona a mais eficaz, utiliza o out-of-bag error de modo a evitar _overfitting_.\n",
    "* O modelo _K Neighbours/lazy learning_ calcula os k exemplos mais semelhantes e a partir destes obtém a classe que se pretende.\n",
    "* O modelo _SVMs RBF Kernerl_ tem como objetivo encontrar o hiperplano que melhor separa duas classes no espaço de características. Para tal, utiliza uma função radial baseada nos vetores de suporte (que definem as fronteiras de decisão).\n",
    "* O modelo _Logistic Regression_ usa modelos de regressão para classificação binária, interpretando os outputs do modelo para extrair uma classe.\n",
    "    \n",
    "Aplicou-se o _Grid Search_ a cada um dos modelos utilizados, este identifica os melhores parâmetros do modelo, de modo a melhorar a sua _accuracy_.\n",
    "\n",
    "Análise da eficácia de cada modelo e comparação entre modelos através da _accuracy_ , _f1-score_ , média das pontuações de validação cruzada e matriz de confusão."
   ]
  },
  {
   "cell_type": "code",
   "execution_count": 77,
   "metadata": {},
   "outputs": [],
   "source": [
    "from sklearn.model_selection import train_test_split\n",
    "from sklearn.ensemble import RandomForestClassifier\n",
    "from sklearn.neighbors import KNeighborsClassifier\n",
    "from sklearn import svm\n",
    "from sklearn import linear_model\n",
    "from sklearn.metrics import accuracy_score, f1_score, confusion_matrix, recall_score, precision_score\n",
    "from sklearn.model_selection import cross_val_score\n",
    "from sklearn.model_selection import GridSearchCV\n",
    "import seaborn as sns"
   ]
  },
  {
   "cell_type": "code",
   "execution_count": 78,
   "metadata": {},
   "outputs": [
    {
     "data": {
      "text/plain": [
       "Index(['A2M', 'LOC115571', 'DFNA26', 'ADAM6', 'AEBP1', 'AGR2', 'AHNAKRS',\n",
       "       'AKR1B11', 'AKR1C1', 'TDD',\n",
       "       ...\n",
       "       'CBX7', 'GGT3', 'KCNA3', 'C6orf95', 'LOC112990', 'ATG4A', 'KRTAP5-AS1',\n",
       "       'LOC158014', 'HSCATHEP', 'ACAD8'],\n",
       "      dtype='object', length=363)"
      ]
     },
     "execution_count": 78,
     "metadata": {},
     "output_type": "execute_result"
    }
   ],
   "source": [
    "# Selecionar a classe de output\n",
    "output_class = output_tumor.values\n",
    "\n",
    "# Transformar o input em DataFrame para aprendizagem supervisionada\n",
    "input_super_v1 = pd.DataFrame(input, columns = colunas)\n",
    "\n",
    "# Verificar\n",
    "input_super_v1.columns"
   ]
  },
  {
   "cell_type": "markdown",
   "metadata": {},
   "source": [
    "__Previsão recorrendo apenas à expressão genética__"
   ]
  },
  {
   "cell_type": "code",
   "execution_count": 79,
   "metadata": {},
   "outputs": [],
   "source": [
    "# Definir a percentagem de dados usados para treino (70%) e para teste (30%)\n",
    "X_train_v1, X_test_v1, Y_train_v1, Y_test_v1= train_test_split(input_super_v1, output_class, test_size=0.3, random_state=32)"
   ]
  },
  {
   "cell_type": "code",
   "execution_count": 80,
   "metadata": {},
   "outputs": [
    {
     "name": "stdout",
     "output_type": "stream",
     "text": [
      "(361, 363)\n",
      "(361,)\n",
      "(156, 363)\n",
      "(156,)\n"
     ]
    }
   ],
   "source": [
    "# Verificar\n",
    "print(X_train_v1.shape)\n",
    "print(Y_train_v1.shape)\n",
    "\n",
    "print(X_test_v1.shape)\n",
    "print(Y_test_v1.shape)"
   ]
  },
  {
   "cell_type": "markdown",
   "metadata": {},
   "source": [
    "* __Modelo: Random Forest__"
   ]
  },
  {
   "cell_type": "code",
   "execution_count": 81,
   "metadata": {},
   "outputs": [
    {
     "name": "stdout",
     "output_type": "stream",
     "text": [
      "Accuracy:  0.8141025641025641\n",
      "Sensibilidade:  0.8141025641025641\n",
      "Precisão:  0.8027159244264508\n",
      "F1-score:  0.1714285714285714\n",
      "Média das pontuações de validação cruzada: 0.7755327245053272\n"
     ]
    }
   ],
   "source": [
    "rf_model_v1 = RandomForestClassifier(n_estimators=100)\n",
    "rf_model_v1 = rf_model_v1.fit(X_train_v1, Y_train_v1)\n",
    "prev_rf_v1 = rf_model_v1.predict(X_test_v1)\n",
    "\n",
    "print(\"Accuracy: \", accuracy_score(Y_test_v1, prev_rf_v1) )\n",
    "print(\"Sensibilidade: \", recall_score(Y_test_v1, prev_rf_v1, average = 'weighted'))\n",
    "print(\"Precisão: \", precision_score(Y_test_v1, prev_rf_v1, average = 'weighted'))\n",
    "print(\"F1-score: \", f1_score(Y_test_v1, prev_rf_v1, pos_label = 1) )\n",
    "print(\"Média das pontuações de validação cruzada:\", cross_val_score(rf_model_v1, X_train_v1, Y_train_v1, cv = 5).mean())"
   ]
  },
  {
   "cell_type": "code",
   "execution_count": 82,
   "metadata": {
    "scrolled": true
   },
   "outputs": [
    {
     "data": {
      "image/png": "[encoded data removed]",
      "text/plain": [
       "<Figure size 576x432 with 1 Axes>"
      ]
     },
     "metadata": {
      "needs_background": "light"
     },
     "output_type": "display_data"
    }
   ],
   "source": [
    "# Matriz de Confusão\n",
    "conf_matrix = confusion_matrix(Y_test_v1, prev_rf_v1)\n",
    "\n",
    "# Visualizar a matriz de confusão usando seaborn\n",
    "plt.figure(figsize=(8, 6))\n",
    "sns.heatmap(conf_matrix, annot=True, fmt=\"d\", cmap=\"Blues\", cbar=False,\n",
    "            xticklabels=['Negativo', 'Positivo'], yticklabels=['Negativo', 'Positivo'])\n",
    "plt.xlabel('Previsto')\n",
    "plt.ylabel('Real')\n",
    "plt.title('Matriz de Confusão')\n",
    "plt.show()"
   ]
  },
  {
   "cell_type": "markdown",
   "metadata": {},
   "source": [
    "O modelo obteve uma _accuracy_ de 81%, uma sensibilidade de 81%, uma precisão de 80%, e uma média de pontuações da validação cruzada de 78%, e tendo um número de falsos negativos (FN) extremamente elevado relativamente aos verdadeiros positivos. O número de falsos positivos (FP) pode ser considerado baixo. Verifica-se também um baixo _F1-score_ , que pode indicar dificuldade em equilibrar precisão e _recall_. Assim, o modelo tem pouca capacidade de prever a ocorrência de tumor, devido ao elevado número de indivíduos sem tumor nos dados face aos com tumor."
   ]
  },
  {
   "cell_type": "code",
   "execution_count": 83,
   "metadata": {},
   "outputs": [
    {
     "name": "stdout",
     "output_type": "stream",
     "text": [
      "Melhores Parâmetros: {'max_depth': 10, 'min_samples_split': 2, 'n_estimators': 50}\n",
      "Accuracy: 0.8141025641025641\n",
      "Sensibilidade:  0.8141025641025641\n",
      "Precisão:  0.7895299145299145\n",
      "F1-score: 0.2162162162162162\n",
      "Matriz de Confusão: [[123   2]\n",
      " [ 27   4]]\n",
      "Média das pontuações de validação cruzada: 0.7811263318112632\n"
     ]
    }
   ],
   "source": [
    "# Definir os parâmetros para pesquisa\n",
    "param_grid = {\n",
    "    'n_estimators': [50, 100, 200],\n",
    "    'max_depth': [None, 10, 20],\n",
    "    'min_samples_split': [2, 5]\n",
    "}\n",
    "\n",
    "# Criar o modelo \n",
    "rf_v1 = RandomForestClassifier()\n",
    "\n",
    "# Criar o objeto GridSearchCV\n",
    "grid_search = GridSearchCV(estimator=rf_v1, param_grid=param_grid, cv=5, scoring='accuracy', n_jobs=-1)\n",
    "\n",
    "# Ajustar a pesquisa aos dados\n",
    "grid_search.fit(X_train_v1, Y_train_v1)\n",
    "\n",
    "# Mostrar os melhores parâmetros\n",
    "print(\"Melhores Parâmetros:\", grid_search.best_params_)\n",
    "\n",
    "# Obter o melhor modelo\n",
    "melhor_rf_modelo_v1 = grid_search.best_estimator_\n",
    "\n",
    "# Usar o melhor modelo para prever\n",
    "prev_rf_v1 = melhor_rf_modelo_v1.predict(X_test_v1)\n",
    "\n",
    "# Métricas de avaliação\n",
    "print(\"Accuracy:\", accuracy_score(Y_test_v1, prev_rf_v1))\n",
    "print(\"Sensibilidade: \", recall_score(Y_test_v1, prev_rf_v1, average = 'weighted'))\n",
    "print(\"Precisão: \", precision_score(Y_test_v1, prev_rf_v1, average = 'weighted'))\n",
    "print(\"F1-score:\", f1_score(Y_test_v1, prev_rf_v1, pos_label=1))\n",
    "print(\"Matriz de Confusão:\", confusion_matrix(Y_test_v1, prev_rf_v1))\n",
    "print(\"Média das pontuações de validação cruzada:\", cross_val_score(melhor_rf_modelo_v1, X_train_v1, Y_train_v1, cv = 5).mean())"
   ]
  },
  {
   "cell_type": "markdown",
   "metadata": {},
   "source": [
    "O _Grid Search_ não teve o impacto pretendido no modelo."
   ]
  },
  {
   "cell_type": "markdown",
   "metadata": {},
   "source": [
    "__Features mais importantes do modelo__"
   ]
  },
  {
   "cell_type": "code",
   "execution_count": 84,
   "metadata": {},
   "outputs": [
    {
     "name": "stdout",
     "output_type": "stream",
     "text": [
      "Variable: LOC285696            Importance: 0.02\n",
      "Variable: TMOD3                Importance: 0.02\n",
      "Variable: ANXA2                Importance: 0.01\n",
      "Variable: CCT2                 Importance: 0.01\n",
      "Variable: COL4A1               Importance: 0.01\n",
      "Variable: LOC130203            Importance: 0.01\n",
      "Variable: LOC154189            Importance: 0.01\n",
      "Variable: ERRFI1               Importance: 0.01\n",
      "Variable: FTH1                 Importance: 0.01\n",
      "Variable: GLUL                 Importance: 0.01\n",
      "Variable: AS                   Importance: 0.01\n",
      "Variable: HLA-C                Importance: 0.01\n",
      "Variable: HSPA1A               Importance: 0.01\n",
      "Variable: HSPA10               Importance: 0.01\n",
      "Variable: IGFBP3               Importance: 0.01\n",
      "Variable: IGFBP5               Importance: 0.01\n",
      "Variable: KRT5                 Importance: 0.01\n",
      "Variable: LOC115042            Importance: 0.01\n",
      "Variable: LAMC2                Importance: 0.01\n",
      "Variable: MUC5B                Importance: 0.01\n",
      "Variable: OS9                  Importance: 0.01\n",
      "Variable: EBS1                 Importance: 0.01\n",
      "Variable: RPLP0                Importance: 0.01\n",
      "Variable: S100A11              Importance: 0.01\n",
      "Variable: SDC4                 Importance: 0.01\n",
      "Variable: SFTP1                Importance: 0.01\n",
      "Variable: SFTPB                Importance: 0.01\n",
      "Variable: TGM2                 Importance: 0.01\n",
      "Variable: LOC100130862         Importance: 0.01\n",
      "Variable: LOC157584            Importance: 0.01\n",
      "Variable: LOC439963            Importance: 0.01\n",
      "Variable: SLC7A5               Importance: 0.01\n",
      "Variable: SNORD94              Importance: 0.01\n",
      "Variable: SNORA78              Importance: 0.01\n",
      "Variable: XRCC5                Importance: 0.01\n",
      "Variable: FSGS1                Importance: 0.01\n",
      "Variable: UCN2                 Importance: 0.01\n",
      "Variable: NCL                  Importance: 0.01\n",
      "Variable: BCAR3                Importance: 0.01\n",
      "Variable: EKV                  Importance: 0.01\n",
      "Variable: TRMT10B              Importance: 0.01\n",
      "Variable: ZBTB5                Importance: 0.01\n",
      "Variable: SIRT4                Importance: 0.01\n",
      "Variable: A2M                  Importance: 0.0\n",
      "Variable: LOC115571            Importance: 0.0\n",
      "Variable: DFNA26               Importance: 0.0\n",
      "Variable: ADAM6                Importance: 0.0\n",
      "Variable: AEBP1                Importance: 0.0\n",
      "Variable: AGR2                 Importance: 0.0\n",
      "Variable: AHNAKRS              Importance: 0.0\n",
      "Variable: AKR1B11              Importance: 0.0\n",
      "Variable: AKR1C1               Importance: 0.0\n",
      "Variable: TDD                  Importance: 0.0\n",
      "Variable: HSD17B5              Importance: 0.0\n",
      "Variable: ALB                  Importance: 0.0\n",
      "Variable: ALDH1A1              Importance: 0.0\n",
      "Variable: ALDH3A1              Importance: 0.0\n",
      "Variable: LOC115339            Importance: 0.0\n",
      "Variable: ANXA1                Importance: 0.0\n",
      "Variable: APLP2                Importance: 0.0\n",
      "Variable: AD2                  Importance: 0.0\n",
      "Variable: APP                  Importance: 0.0\n",
      "Variable: CO                   Importance: 0.0\n",
      "Variable: LOC116088            Importance: 0.0\n",
      "Variable: LOC56921             Importance: 0.0\n",
      "Variable: LOC148767            Importance: 0.0\n",
      "Variable: LOC127872            Importance: 0.0\n",
      "Variable: B2M                  Importance: 0.0\n",
      "Variable: LU                   Importance: 0.0\n",
      "Variable: BGN                  Importance: 0.0\n",
      "Variable: C16ORF89             Importance: 0.0\n",
      "Variable: BPIFB1               Importance: 0.0\n",
      "Variable: C3                   Importance: 0.0\n",
      "Variable: C4A                  Importance: 0.0\n",
      "Variable: C4BPA                Importance: 0.0\n",
      "Variable: C8ORF4               Importance: 0.0\n",
      "Variable: LOC87044             Importance: 0.0\n",
      "Variable: CALM2                Importance: 0.0\n",
      "Variable: CALR                 Importance: 0.0\n",
      "Variable: CANX                 Importance: 0.0\n",
      "Variable: CAPZA2               Importance: 0.0\n",
      "Variable: CBR1                 Importance: 0.0\n",
      "Variable: CD24                 Importance: 0.0\n",
      "Variable: CD55                 Importance: 0.0\n",
      "Variable: MIC11                Importance: 0.0\n",
      "Variable: CD63                 Importance: 0.0\n",
      "Variable: CD74                 Importance: 0.0\n",
      "Variable: CEACAM5              Importance: 0.0\n",
      "Variable: CEACAM6              Importance: 0.0\n",
      "Variable: CES2                 Importance: 0.0\n",
      "Variable: CFB                  Importance: 0.0\n",
      "Variable: CHGB                 Importance: 0.0\n",
      "Variable: GP39                 Importance: 0.0\n",
      "Variable: SFTA5                Importance: 0.0\n",
      "Variable: CLU                  Importance: 0.0\n",
      "Variable: OI4                  Importance: 0.0\n",
      "Variable: COL1A2               Importance: 0.0\n",
      "Variable: COL3A1               Importance: 0.0\n",
      "Variable: COL4A2               Importance: 0.0\n",
      "Variable: COL5A1               Importance: 0.0\n",
      "Variable: COL6A2               Importance: 0.0\n",
      "Variable: COL6A3               Importance: 0.0\n",
      "Variable: CPD                  Importance: 0.0\n",
      "Variable: CPM                  Importance: 0.0\n",
      "Variable: CP                   Importance: 0.0\n",
      "Variable: CRABP2               Importance: 0.0\n",
      "Variable: CRLF1                Importance: 0.0\n",
      "Variable: CTSB                 Importance: 0.0\n",
      "Variable: LOC196214            Importance: 0.0\n",
      "Variable: CTSE                 Importance: 0.0\n",
      "Variable: CTSH                 Importance: 0.0\n",
      "Variable: CUL4A                Importance: 0.0\n",
      "Variable: CXCL14               Importance: 0.0\n",
      "Variable: CYP2B7P              Importance: 0.0\n",
      "Variable: DCN                  Importance: 0.0\n",
      "Variable: DCE                  Importance: 0.0\n",
      "Variable: LOC100130706         Importance: 0.0\n",
      "Variable: DPCR1                Importance: 0.0\n",
      "Variable: DUSP1                Importance: 0.0\n",
      "Variable: EEF1A1L14            Importance: 0.0\n",
      "Variable: EEF1G                Importance: 0.0\n",
      "Variable: EEF2                 Importance: 0.0\n",
      "Variable: ENO1                 Importance: 0.0\n",
      "Variable: EPHX1                Importance: 0.0\n",
      "Variable: ERBB2                Importance: 0.0\n",
      "Variable: EZR                  Importance: 0.0\n",
      "Variable: FASN                 Importance: 0.0\n",
      "Variable: FGA                  Importance: 0.0\n",
      "Variable: FGB                  Importance: 0.0\n",
      "Variable: FGG                  Importance: 0.0\n",
      "Variable: LOC100131857         Importance: 0.0\n",
      "Variable: FN1                  Importance: 0.0\n",
      "Variable: FOS                  Importance: 0.0\n",
      "Variable: PRO2760              Importance: 0.0\n",
      "Variable: FURIN                Importance: 0.0\n",
      "Variable: GAPDH                Importance: 0.0\n",
      "Variable: PHP1B                Importance: 0.0\n",
      "Variable: GNB2L1               Importance: 0.0\n",
      "Variable: GPNMB                Importance: 0.0\n",
      "Variable: GPX3                 Importance: 0.0\n",
      "Variable: GSN                  Importance: 0.0\n",
      "Variable: GSTP1                Importance: 0.0\n",
      "Variable: MGC4485              Importance: 0.0\n",
      "Variable: LOC100133382         Importance: 0.0\n",
      "Variable: LOC221511            Importance: 0.0\n",
      "Variable: LOC221518            Importance: 0.0\n",
      "Variable: HLA-DRA              Importance: 0.0\n",
      "Variable: HLA-DRB1             Importance: 0.0\n",
      "Variable: HLA-DRB5             Importance: 0.0\n",
      "Variable: HMGB3                Importance: 0.0\n",
      "Variable: HOPX                 Importance: 0.0\n",
      "Variable: HPGD                 Importance: 0.0\n",
      "Variable: HP                   Importance: 0.0\n",
      "Variable: HSPCAL4              Importance: 0.0\n",
      "Variable: LOC154342            Importance: 0.0\n",
      "Variable: HSP90B1              Importance: 0.0\n",
      "Variable: HSPA5                Importance: 0.0\n",
      "Variable: CMT2F                Importance: 0.0\n",
      "Variable: ICAM1                Importance: 0.0\n",
      "Variable: IFI6                 Importance: 0.0\n",
      "Variable: IGF2                 Importance: 0.0\n",
      "Variable: IGFBP2               Importance: 0.0\n",
      "Variable: JCHAIN               Importance: 0.0\n",
      "Variable: MSK18                Importance: 0.0\n",
      "Variable: LOC143058            Importance: 0.0\n",
      "Variable: ITLN1                Importance: 0.0\n",
      "Variable: PCHC1                Importance: 0.0\n",
      "Variable: KRT18                Importance: 0.0\n",
      "Variable: KRT19                Importance: 0.0\n",
      "Variable: LOC93086             Importance: 0.0\n",
      "Variable: KRT7                 Importance: 0.0\n",
      "Variable: LAMB3                Importance: 0.0\n",
      "Variable: LAMP1                Importance: 0.0\n",
      "Variable: LCN2                 Importance: 0.0\n",
      "Variable: LDHA                 Importance: 0.0\n",
      "Variable: LDHB                 Importance: 0.0\n",
      "Variable: LGALS1               Importance: 0.0\n",
      "Variable: LGALS3BP             Importance: 0.0\n",
      "Variable: BMS1P20              Importance: 0.0\n",
      "Variable: LOC100128216         Importance: 0.0\n",
      "Variable: LTF                  Importance: 0.0\n",
      "Variable: LUM                  Importance: 0.0\n",
      "Variable: LY6E                 Importance: 0.0\n",
      "Variable: LYZ                  Importance: 0.0\n",
      "Variable: MET                  Importance: 0.0\n",
      "Variable: MMP11                Importance: 0.0\n",
      "Variable: LOC115169            Importance: 0.0\n",
      "Variable: MMP2                 Importance: 0.0\n",
      "Variable: MSLN                 Importance: 0.0\n",
      "Variable: MSMB                 Importance: 0.0\n",
      "Variable: MSN                  Importance: 0.0\n",
      "Variable: LOC115186            Importance: 0.0\n",
      "Variable: MUC6                 Importance: 0.0\n",
      "Variable: DFNA17               Importance: 0.0\n",
      "Variable: MYL6                 Importance: 0.0\n",
      "Variable: NAPSA                Importance: 0.0\n",
      "Variable: LRRC75A-AS1          Importance: 0.0\n",
      "Variable: HMSNL                Importance: 0.0\n",
      "Variable: LOC100292444         Importance: 0.0\n",
      "Variable: NPC2                 Importance: 0.0\n",
      "Variable: NQO1                 Importance: 0.0\n",
      "Variable: NTS                  Importance: 0.0\n",
      "Variable: ODC1                 Importance: 0.0\n",
      "Variable: ERBA2L               Importance: 0.0\n",
      "Variable: PABPC2               Importance: 0.0\n",
      "Variable: PCSK1                Importance: 0.0\n",
      "Variable: PCSK2                Importance: 0.0\n",
      "Variable: PDIA3                Importance: 0.0\n",
      "Variable: LOC115497            Importance: 0.0\n",
      "Variable: PGC                  Importance: 0.0\n",
      "Variable: PGK1                 Importance: 0.0\n",
      "Variable: PIGR                 Importance: 0.0\n",
      "Variable: PKM                  Importance: 0.0\n",
      "Variable: PLAT                 Importance: 0.0\n",
      "Variable: PLD3                 Importance: 0.0\n",
      "Variable: PLS3                 Importance: 0.0\n",
      "Variable: BPIFA1               Importance: 0.0\n",
      "Variable: PPIB                 Importance: 0.0\n",
      "Variable: PRDX1                Importance: 0.0\n",
      "Variable: PRG4                 Importance: 0.0\n",
      "Variable: PSAP                 Importance: 0.0\n",
      "Variable: REG4                 Importance: 0.0\n",
      "Variable: RNASE1               Importance: 0.0\n",
      "Variable: RPL10A               Importance: 0.0\n",
      "Variable: RPL10                Importance: 0.0\n",
      "Variable: RPL11                Importance: 0.0\n",
      "Variable: RPL12                Importance: 0.0\n",
      "Variable: RPL13A               Importance: 0.0\n",
      "Variable: RPL13                Importance: 0.0\n",
      "Variable: RPL15                Importance: 0.0\n",
      "Variable: RPL18                Importance: 0.0\n",
      "Variable: RPL19                Importance: 0.0\n",
      "Variable: RPL24                Importance: 0.0\n",
      "Variable: RPL26                Importance: 0.0\n",
      "Variable: RPL27A               Importance: 0.0\n",
      "Variable: RPL27                Importance: 0.0\n",
      "Variable: RPL28                Importance: 0.0\n",
      "Variable: RPL29                Importance: 0.0\n",
      "Variable: RPL30                Importance: 0.0\n",
      "Variable: RPL31                Importance: 0.0\n",
      "Variable: RPL32                Importance: 0.0\n",
      "Variable: RPL35                Importance: 0.0\n",
      "Variable: RPL37A               Importance: 0.0\n",
      "Variable: RPL37                Importance: 0.0\n",
      "Variable: RPL3                 Importance: 0.0\n",
      "Variable: RPL41                Importance: 0.0\n",
      "Variable: RPL4                 Importance: 0.0\n",
      "Variable: LOC115268            Importance: 0.0\n",
      "Variable: RPL7A                Importance: 0.0\n",
      "Variable: LOC115159            Importance: 0.0\n",
      "Variable: RPLP1                Importance: 0.0\n",
      "Variable: RPS10                Importance: 0.0\n",
      "Variable: RPS11                Importance: 0.0\n",
      "Variable: RPS12                Importance: 0.0\n",
      "Variable: RPS14                Importance: 0.0\n",
      "Variable: RPS15A               Importance: 0.0\n",
      "Variable: RPS16                Importance: 0.0\n",
      "Variable: RPS17                Importance: 0.0\n",
      "Variable: RPS18                Importance: 0.0\n",
      "Variable: DBA                  Importance: 0.0\n",
      "Variable: RPS20                Importance: 0.0\n",
      "Variable: RPS21                Importance: 0.0\n",
      "Variable: RPS24                Importance: 0.0\n",
      "Variable: LOC124057            Importance: 0.0\n",
      "Variable: RPS3                 Importance: 0.0\n",
      "Variable: RPS4X                Importance: 0.0\n",
      "Variable: RPS5                 Importance: 0.0\n",
      "Variable: LOC92956             Importance: 0.0\n",
      "Variable: RPS7                 Importance: 0.0\n",
      "Variable: RPS8                 Importance: 0.0\n",
      "Variable: RPS9                 Importance: 0.0\n",
      "Variable: RPSAP58              Importance: 0.0\n",
      "Variable: S100A10              Importance: 0.0\n",
      "Variable: PRA                  Importance: 0.0\n",
      "Variable: S100A8               Importance: 0.0\n",
      "Variable: S100A9               Importance: 0.0\n",
      "Variable: S100P                Importance: 0.0\n",
      "Variable: SCDOS                Importance: 0.0\n",
      "Variable: SCGB1A1              Importance: 0.0\n",
      "Variable: SCGB3A1              Importance: 0.0\n",
      "Variable: SCGB3A2              Importance: 0.0\n",
      "Variable: SCNN1A               Importance: 0.0\n",
      "Variable: SDC1                 Importance: 0.0\n",
      "Variable: SERPINA1             Importance: 0.0\n",
      "Variable: LOC644676            Importance: 0.0\n",
      "Variable: SFTPC                Importance: 0.0\n",
      "Variable: SFTPD                Importance: 0.0\n",
      "Variable: LOC133217            Importance: 0.0\n",
      "Variable: SLPI                 Importance: 0.0\n",
      "Variable: SPARC                Importance: 0.0\n",
      "Variable: SPINK1               Importance: 0.0\n",
      "Variable: LOC100130414         Importance: 0.0\n",
      "Variable: SPP1                 Importance: 0.0\n",
      "Variable: OSIL                 Importance: 0.0\n",
      "Variable: SUSD2                Importance: 0.0\n",
      "Variable: TAGLN2               Importance: 0.0\n",
      "Variable: TFF2                 Importance: 0.0\n",
      "Variable: TFF3                 Importance: 0.0\n",
      "Variable: TFPI2                Importance: 0.0\n",
      "Variable: TF                   Importance: 0.0\n",
      "Variable: TGFBI                Importance: 0.0\n",
      "Variable: THBS1                Importance: 0.0\n",
      "Variable: TIMP1                Importance: 0.0\n",
      "Variable: TIMP3                Importance: 0.0\n",
      "Variable: TKT                  Importance: 0.0\n",
      "Variable: TM4SF1               Importance: 0.0\n",
      "Variable: TMBIM6               Importance: 0.0\n",
      "Variable: TMSB10               Importance: 0.0\n",
      "Variable: TMSB4XP8             Importance: 0.0\n",
      "Variable: TNC                  Importance: 0.0\n",
      "Variable: TPT1                 Importance: 0.0\n",
      "Variable: LOC88851             Importance: 0.0\n",
      "Variable: TXNIP                Importance: 0.0\n",
      "Variable: TXNRD1               Importance: 0.0\n",
      "Variable: UBC                  Importance: 0.0\n",
      "Variable: VIM                  Importance: 0.0\n",
      "Variable: WARS                 Importance: 0.0\n",
      "Variable: WFDC2                Importance: 0.0\n",
      "Variable: XBP1                 Importance: 0.0\n",
      "Variable: XIST                 Importance: 0.0\n",
      "Variable: YWHAD                Importance: 0.0\n",
      "Variable: LINC00592            Importance: 0.0\n",
      "Variable: OPN3                 Importance: 0.0\n",
      "Variable: BASP1                Importance: 0.0\n",
      "Variable: RRM2                 Importance: 0.0\n",
      "Variable: PROCR                Importance: 0.0\n",
      "Variable: RFC3                 Importance: 0.0\n",
      "Variable: FSCN1                Importance: 0.0\n",
      "Variable: OR1F10               Importance: 0.0\n",
      "Variable: LOC100505888         Importance: 0.0\n",
      "Variable: MT2A                 Importance: 0.0\n",
      "Variable: LOC101928538         Importance: 0.0\n",
      "Variable: LDLRAD3              Importance: 0.0\n",
      "Variable: ANLN                 Importance: 0.0\n",
      "Variable: ATP2B1               Importance: 0.0\n",
      "Variable: PRHOXNB              Importance: 0.0\n",
      "Variable: CHRNA6               Importance: 0.0\n",
      "Variable: LRRC37A16P           Importance: 0.0\n",
      "Variable: LOC221402            Importance: 0.0\n",
      "Variable: FAM117A              Importance: 0.0\n",
      "Variable: HCFC2                Importance: 0.0\n",
      "Variable: MLLT6                Importance: 0.0\n",
      "Variable: RD                   Importance: 0.0\n",
      "Variable: TMEM63A              Importance: 0.0\n",
      "Variable: ZNF763               Importance: 0.0\n",
      "Variable: ADCY6                Importance: 0.0\n",
      "Variable: CORO2A               Importance: 0.0\n",
      "Variable: ZNF44                Importance: 0.0\n",
      "Variable: ZNF564               Importance: 0.0\n",
      "Variable: PPFIBP2              Importance: 0.0\n",
      "Variable: FICD                 Importance: 0.0\n",
      "Variable: LOC100131231         Importance: 0.0\n",
      "Variable: LOC100294335         Importance: 0.0\n",
      "Variable: CBX7                 Importance: 0.0\n",
      "Variable: GGT3                 Importance: 0.0\n",
      "Variable: KCNA3                Importance: 0.0\n",
      "Variable: C6orf95              Importance: 0.0\n",
      "Variable: LOC112990            Importance: 0.0\n",
      "Variable: ATG4A                Importance: 0.0\n",
      "Variable: KRTAP5-AS1           Importance: 0.0\n",
      "Variable: LOC158014            Importance: 0.0\n",
      "Variable: HSCATHEP             Importance: 0.0\n",
      "Variable: ACAD8                Importance: 0.0\n"
     ]
    }
   ],
   "source": [
    "# Importâncias numéricas das features\n",
    "importances = list(melhor_rf_modelo_v1.feature_importances_)\n",
    "\n",
    "# Lista das colunas\n",
    "random_forest_list = list(input_super_v1.columns)\n",
    "\n",
    "# Fatores com importância\n",
    "feature_importances = [(feature, round(importance, 2)) for feature, importance in zip(random_forest_list, importances)]\n",
    "\n",
    "# Ordenar features da mais importante para a menos importante\n",
    "feature_importances = sorted(feature_importances, key = lambda x: x[1], reverse = True)\n",
    "\n",
    "# Mostrar as importâncias das features\n",
    "[print('Variable: {:20} Importance: {}'.format(*pair)) for pair in feature_importances];\n"
   ]
  },
  {
   "cell_type": "markdown",
   "metadata": {},
   "source": [
    "O gene que demonstrou maior importância na previsão foi o LOC285691  com um valor de 0.02, este está associado ao processo de transcrição por RNA polimerase III, e por sua vez disfunções neste processo poderão levar ao desenvolvimento de adenocarcinoma. Outros 36 genes apresentaram uma importância de 0,01. Este conjunto engloba proto-oncogenes, genes relacionados com a regulação do crescimento e proliferação celular, genes responsáveis pela regulação da expressão genética, bem como pelos processos de transcrição, tradução, e, ainda replicação do DNA, genes associados à regulação do sistema imunológico e resposta inflamatória."
   ]
  },
  {
   "cell_type": "markdown",
   "metadata": {},
   "source": [
    "* __Modelo: K Neighbours__"
   ]
  },
  {
   "cell_type": "code",
   "execution_count": 85,
   "metadata": {},
   "outputs": [
    {
     "name": "stdout",
     "output_type": "stream",
     "text": [
      "Accuracy:  0.782051282051282\n",
      "Sensibilidade:  0.782051282051282\n",
      "Precisão:  0.7148962148962149\n",
      "F1-score:  0.15000000000000002\n",
      "Média das pontuações de validação cruzada: 0.7533866057838661\n"
     ]
    }
   ],
   "source": [
    "knn_model_v1 = KNeighborsClassifier()\n",
    "\n",
    "knn_model_v1 = knn_model_v1.fit(X_train_v1, Y_train_v1)\n",
    "prev_knn_v1 = knn_model_v1.predict(X_test_v1)\n",
    "\n",
    "print(\"Accuracy: \", accuracy_score(Y_test_v1, prev_knn_v1) )\n",
    "print(\"Sensibilidade: \", recall_score(Y_test_v1, prev_knn_v1, average = 'weighted'))\n",
    "print(\"Precisão: \", precision_score(Y_test_v1, prev_knn_v1, average = 'weighted'))\n",
    "print(\"F1-score: \", f1_score(Y_test_v1, prev_knn_v1, pos_label = 1) )\n",
    "print (\"Média das pontuações de validação cruzada:\",cross_val_score( knn_model_v1, X_train_v1, Y_train_v1, cv = 5).mean())"
   ]
  },
  {
   "cell_type": "code",
   "execution_count": 86,
   "metadata": {},
   "outputs": [
    {
     "data": {
      "image/png": "[encoded data removed]",
      "text/plain": [
       "<Figure size 576x432 with 1 Axes>"
      ]
     },
     "metadata": {
      "needs_background": "light"
     },
     "output_type": "display_data"
    }
   ],
   "source": [
    "# Matriz de Confusão\n",
    "conf_matrix = confusion_matrix(Y_test_v1, prev_knn_v1)\n",
    "\n",
    "# Visualizar a matriz de confusão usando seaborn\n",
    "plt.figure(figsize=(8, 6))\n",
    "sns.heatmap(conf_matrix, annot=True, fmt=\"d\", cmap=\"Blues\", cbar=False,\n",
    "            xticklabels=['Negativo', 'Positivo'], yticklabels=['Negativo', 'Positivo'])\n",
    "plt.xlabel('Previsto')\n",
    "plt.ylabel('Real')\n",
    "plt.title('Matriz de Confusão')\n",
    "plt.show()"
   ]
  },
  {
   "cell_type": "markdown",
   "metadata": {},
   "source": [
    "O modelo tem uma _accuracy_ de 78%, uma sensibilidade de 78%, uma precisão de 71%, uma média das pontuações de validação cruzada de 75%, porém constata-se um número elevado de FN(28)."
   ]
  },
  {
   "cell_type": "code",
   "execution_count": 87,
   "metadata": {},
   "outputs": [
    {
     "name": "stdout",
     "output_type": "stream",
     "text": [
      "Melhores Parâmetros: {'n_neighbors': 7, 'p': 1, 'weights': 'uniform'}\n",
      "Accuracy: 0.8141025641025641\n",
      "Sensibilidade:  0.8141025641025641\n",
      "Precisão:  0.8491092241092242\n",
      "F1-score: 0.12121212121212122\n",
      "Matriz de Confusão: [[125   0]\n",
      " [ 29   2]]\n",
      "Accuracy com validação cruzada: 0.7618340943683408\n"
     ]
    }
   ],
   "source": [
    "# Definir os parâmetros para pesquisa\n",
    "param_grid = {\n",
    "    'n_neighbors': [3, 5, 7],  # Valores possíveis para o número de vizinhos\n",
    "    'weights': ['uniform', 'distance'],  # Peso dos vizinhos (uniforme ou por distância)\n",
    "    'p': [1, 2]  # Parâmetro de potência para a métrica de distância (1 para Manhattan, 2 para Euclidiana)\n",
    "}\n",
    "\n",
    "# Criar o modelo \n",
    "knn_v1 = KNeighborsClassifier()\n",
    "\n",
    "# Criar o objeto GridSearchCV\n",
    "grid_search = GridSearchCV(estimator=knn_v1, param_grid=param_grid, cv=5, scoring='accuracy', n_jobs=-1)\n",
    "\n",
    "# Ajustar a pesquisa aos dados\n",
    "grid_search.fit(X_train_v1, Y_train_v1)\n",
    "\n",
    "# Mostrar os melhores parâmetros\n",
    "print(\"Melhores Parâmetros:\", grid_search.best_params_)\n",
    "\n",
    "# Obter o melhor modelo\n",
    "melhor_knn_modelo_v1 = grid_search.best_estimator_\n",
    "\n",
    "# Usar o melhor modelo para prever\n",
    "prev_knn_v1 = melhor_knn_modelo_v1.predict(X_test_v1)\n",
    "\n",
    "# Métricas de avaliação\n",
    "print(\"Accuracy:\", accuracy_score(Y_test_v1, prev_knn_v1))\n",
    "print(\"Sensibilidade: \", recall_score(Y_test_v1, prev_knn_v1, average = 'weighted'))\n",
    "print(\"Precisão: \", precision_score(Y_test_v1, prev_knn_v1, average = 'weighted'))\n",
    "print(\"F1-score:\", f1_score(Y_test_v1, prev_knn_v1, pos_label=1))\n",
    "print(\"Matriz de Confusão:\", confusion_matrix(Y_test_v1, prev_knn_v1))\n",
    "print(\"Accuracy com validação cruzada:\", cross_val_score(melhor_knn_modelo_v1, X_train_v1, Y_train_v1, cv = 5).mean())"
   ]
  },
  {
   "cell_type": "markdown",
   "metadata": {},
   "source": [
    "O _Grid Search_ selecionou os melhores valores para os parâmetros do modelo, resultando numa melhoria moderada das métricas de avaliação. Contudo permanece uma fraca previsão da classe menos representada, ou seja, indivíduos com tumor."
   ]
  },
  {
   "cell_type": "markdown",
   "metadata": {},
   "source": [
    "* __Modelo: SVMs RBF Kernel__"
   ]
  },
  {
   "cell_type": "code",
   "execution_count": 88,
   "metadata": {},
   "outputs": [
    {
     "name": "stdout",
     "output_type": "stream",
     "text": [
      "Accuracy:  0.7628205128205128\n",
      "Sensibilidade:  0.7628205128205128\n",
      "Precisão:  0.7145718864468865\n",
      "F1-score:  0.2127659574468085\n",
      "Média das pontuações de validação cruzada: 0.7229071537290715\n"
     ]
    }
   ],
   "source": [
    "svm_model_v1 = svm.SVC(gamma=0.001, C=100.)\n",
    "\n",
    "svm_model_v1 = svm_model_v1.fit(X_train_v1, Y_train_v1)\n",
    "prev_svm_v1 = svm_model_v1.predict(X_test_v1)\n",
    "\n",
    "print(\"Accuracy: \", accuracy_score(Y_test_v1, prev_svm_v1) )\n",
    "print(\"Sensibilidade: \", recall_score(Y_test_v1, prev_svm_v1, average = 'weighted'))\n",
    "print(\"Precisão: \", precision_score(Y_test_v1, prev_svm_v1, average = 'weighted'))\n",
    "print(\"F1-score: \", f1_score(Y_test_v1, prev_svm_v1, pos_label = 1))\n",
    "print (\"Média das pontuações de validação cruzada:\", cross_val_score(svm_model_v1, X_train_v1, Y_train_v1, cv = 5).mean())"
   ]
  },
  {
   "cell_type": "code",
   "execution_count": 89,
   "metadata": {},
   "outputs": [
    {
     "data": {
      "image/png": "[encoded data removed]",
      "text/plain": [
       "<Figure size 576x432 with 1 Axes>"
      ]
     },
     "metadata": {
      "needs_background": "light"
     },
     "output_type": "display_data"
    }
   ],
   "source": [
    "# Matriz de Confusão\n",
    "conf_matrix = confusion_matrix(Y_test_v1, prev_svm_v1)\n",
    "\n",
    "# Visualizar a matriz de confusão usando seaborn\n",
    "plt.figure(figsize=(8, 6))\n",
    "sns.heatmap(conf_matrix, annot=True, fmt=\"d\", cmap=\"Blues\", cbar=False,\n",
    "            xticklabels=['Negativo', 'Positivo'], yticklabels=['Negativo', 'Positivo'])\n",
    "plt.xlabel('Previsto')\n",
    "plt.ylabel('Real')\n",
    "plt.title('Matriz de Confusão')\n",
    "plt.show()"
   ]
  },
  {
   "cell_type": "markdown",
   "metadata": {},
   "source": [
    "O modelo apresenta uma _accuracy_ de 76%, uma sensibilidade de 76%, uma precisão de 71%, uma média das pontuações de validação cruzada de 72%, porém constata-se novamente um número de FN superior ao de verdadeiros positivos (VP)."
   ]
  },
  {
   "cell_type": "code",
   "execution_count": 90,
   "metadata": {},
   "outputs": [
    {
     "name": "stdout",
     "output_type": "stream",
     "text": [
      "Melhores Parâmetros: {'C': 1, 'gamma': 'auto', 'kernel': 'sigmoid'}\n",
      "Accuracy:  0.8012820512820513\n",
      "Sensibilidade:  0.8012820512820513\n",
      "Precisão:  0.7544611919611919\n",
      "F1-score:  0.20512820512820512\n",
      "Matriz de Confusão: [[121   4]\n",
      " [ 27   4]]\n",
      "Média das pontuações de validação cruzada: 0.7839421613394217\n"
     ]
    }
   ],
   "source": [
    "# Definir os parâmetros para pesquisa\n",
    "param_grid = {\n",
    "    'C': [0.1, 1, 10], #C (parâmetro de regularização)\n",
    "    'kernel': ['linear', 'rbf', 'poly', 'sigmoid'],\n",
    "    'gamma': ['scale', 'auto', 0.1, 1],\n",
    "}\n",
    "\n",
    "# Criar o modelo \n",
    "svm_v1 = svm.SVC()\n",
    "\n",
    "# Criar o objeto GridSearchCV\n",
    "grid_search = GridSearchCV(estimator=svm_v1, param_grid=param_grid, cv=5, scoring='accuracy', n_jobs=-1)\n",
    "\n",
    "# Ajustar a pesquisa aos dados\n",
    "grid_search.fit(X_train_v1, Y_train_v1)\n",
    "\n",
    "# Mostrar os melhores parâmetros\n",
    "print(\"Melhores Parâmetros:\", grid_search.best_params_)\n",
    "\n",
    "# Obter o melhor modelo\n",
    "melhor_svm_modelo_v1 = grid_search.best_estimator_\n",
    "\n",
    "# Usar o melhor modelo para prever\n",
    "prev_svm_v1 = melhor_svm_modelo_v1.predict(X_test_v1)\n",
    "\n",
    "# Métricas de avaliação\n",
    "print(\"Accuracy: \", accuracy_score(Y_test_v1, prev_svm_v1) )\n",
    "print(\"Sensibilidade: \", recall_score(Y_test_v1, prev_svm_v1, average = 'weighted'))\n",
    "print(\"Precisão: \", precision_score(Y_test_v1, prev_svm_v1, average = 'weighted'))\n",
    "print(\"F1-score: \", f1_score(Y_test_v1, prev_svm_v1, pos_label = 1))\n",
    "print(\"Matriz de Confusão:\", confusion_matrix(Y_test_v1, prev_svm_v1))\n",
    "print(\"Média das pontuações de validação cruzada:\", cross_val_score(melhor_svm_modelo_v1, X_train_v1, Y_train_v1, cv = 5).mean())"
   ]
  },
  {
   "cell_type": "markdown",
   "metadata": {},
   "source": [
    "Verificou-se uma melhoria ligeira das métricas de avaliação. A seleção dos melhores parâmetros para o modelo resultou na alteração de _SVMs RBF_ para _sigmoid_."
   ]
  },
  {
   "cell_type": "markdown",
   "metadata": {},
   "source": [
    "* __Modelo: Regressão Logística__"
   ]
  },
  {
   "cell_type": "code",
   "execution_count": 91,
   "metadata": {},
   "outputs": [
    {
     "name": "stdout",
     "output_type": "stream",
     "text": [
      "Accuracy:  0.7243589743589743\n",
      "Sensibilidade:  0.7243589743589743\n",
      "Precisão:  0.7470350419725977\n",
      "F1-score:  0.3768115942028986\n",
      "Média das pontuações de validação cruzada: 0.6951293759512938\n"
     ]
    }
   ],
   "source": [
    "logistic_model_v1 = linear_model.LogisticRegression(solver = \"liblinear\", multi_class = \"auto\")\n",
    "\n",
    "logistic_model_v1 = logistic_model_v1.fit(X_train_v1, Y_train_v1)\n",
    "prev_lm_v1 = logistic_model_v1.predict(X_test_v1)\n",
    "\n",
    "print(\"Accuracy: \", accuracy_score(Y_test_v1, prev_lm_v1) )\n",
    "print(\"Sensibilidade: \", recall_score(Y_test_v1, prev_lm_v1, average = 'weighted'))\n",
    "print(\"Precisão: \", precision_score(Y_test_v1, prev_lm_v1, average = 'weighted'))\n",
    "print(\"F1-score: \", f1_score(Y_test_v1, prev_lm_v1, pos_label = 1))\n",
    "print(\"Média das pontuações de validação cruzada:\", cross_val_score(logistic_model_v1, X_train_v1, Y_train_v1, cv = 5).mean())"
   ]
  },
  {
   "cell_type": "code",
   "execution_count": 92,
   "metadata": {
    "scrolled": false
   },
   "outputs": [
    {
     "data": {
      "image/png": "[encoded data removed]",
      "text/plain": [
       "<Figure size 576x432 with 1 Axes>"
      ]
     },
     "metadata": {
      "needs_background": "light"
     },
     "output_type": "display_data"
    }
   ],
   "source": [
    "# Matriz de Confusão\n",
    "conf_matrix = confusion_matrix(Y_test_v1, prev_lm_v1)\n",
    "\n",
    "# Visualizar a matriz de confusão usando seaborn\n",
    "plt.figure(figsize=(8, 6))\n",
    "sns.heatmap(conf_matrix, annot=True, fmt=\"d\", cmap=\"Blues\", cbar=False,\n",
    "            xticklabels=['Negativo', 'Positivo'], yticklabels=['Negativo', 'Positivo'])\n",
    "plt.xlabel('Previsto')\n",
    "plt.ylabel('Real')\n",
    "plt.title('Matriz de Confusão')\n",
    "plt.show()"
   ]
  },
  {
   "cell_type": "markdown",
   "metadata": {},
   "source": [
    "Com uma _accuracy_ de 72%, uma sensibilidade de 72%, uma precisão de 75%, uma média das pontuações de validação cruzada de 70%.\n",
    "Este modelo apresenta um número mais equilibrado de FN relativamente aos VP, no entanto o número de FP aumentou face aos restantes modelos."
   ]
  },
  {
   "cell_type": "code",
   "execution_count": 93,
   "metadata": {},
   "outputs": [
    {
     "name": "stdout",
     "output_type": "stream",
     "text": [
      "Melhores Parâmetros: {'C': 0.01, 'max_iter': 100, 'penalty': 'l2', 'solver': 'saga'}\n",
      "Accuracy:  0.7948717948717948\n",
      "Sensibilidade:  0.7948717948717948\n",
      "Precisão:  0.7424268852840281\n",
      "F1-score:  0.19999999999999998\n",
      "Matriz de Confusão: [[120   5]\n",
      " [ 27   4]]\n",
      "Média das pontuações de validação cruzada: 0.7921613394216134\n"
     ]
    }
   ],
   "source": [
    "# Definir os parâmetros para pesquisa\n",
    "param_grid = {\n",
    "    'C': [0.001, 0.01, 0.1, 1, 10, 100],\n",
    "    'penalty': ['l1', 'l2', 'elasticnet'],\n",
    "    'solver': ['liblinear', 'newton-cg', 'lbfgs', 'sag', 'saga'],\n",
    "    'max_iter': [100, 200, 300],\n",
    "}\n",
    "\n",
    "# Criar o modelo \n",
    "logistic_v1 = linear_model.LogisticRegression()\n",
    "\n",
    "# Criar o objeto GridSearchCV\n",
    "grid_search = GridSearchCV(estimator=logistic_v1, param_grid=param_grid, cv=5, scoring='accuracy', n_jobs=-1)\n",
    "\n",
    "# Ajustar a pesquisa aos dados\n",
    "grid_search.fit(X_train_v1, Y_train_v1)\n",
    "\n",
    "# Mostrar os melhores parâmetros\n",
    "print(\"Melhores Parâmetros:\", grid_search.best_params_)\n",
    "\n",
    "# Obter o melhor modelo\n",
    "melhor_lm_modelo_v1 = grid_search.best_estimator_\n",
    "\n",
    "# Usar o melhor modelo para prever\n",
    "prev_lm_v1 = melhor_lm_modelo_v1.predict(X_test_v1)\n",
    "\n",
    "# Métricas de avaliação\n",
    "print(\"Accuracy: \", accuracy_score(Y_test_v1, prev_lm_v1) )\n",
    "print(\"Sensibilidade: \", recall_score(Y_test_v1, prev_lm_v1, average = 'weighted'))\n",
    "print(\"Precisão: \", precision_score(Y_test_v1, prev_lm_v1, average = 'weighted'))\n",
    "print(\"F1-score: \", f1_score(Y_test_v1, prev_lm_v1, pos_label = 1))\n",
    "print(\"Matriz de Confusão:\", confusion_matrix(Y_test_v1, prev_lm_v1))\n",
    "print(\"Média das pontuações de validação cruzada:\", cross_val_score(melhor_lm_modelo_v1, X_train_v1, Y_train_v1, cv = 5).mean())"
   ]
  },
  {
   "cell_type": "markdown",
   "metadata": {},
   "source": [
    "A aplicação do _Grid Search_ resultou num aumento da sensibilidade, dado que a previsão dos casos negativos foi melhor, verificando-se, no entanto, uma diminuição da precisão pela pior previsão dos casos positivos."
   ]
  },
  {
   "cell_type": "markdown",
   "metadata": {},
   "source": [
    "__Previsão recorrendo aos meta-dados__"
   ]
  },
  {
   "cell_type": "code",
   "execution_count": 95,
   "metadata": {},
   "outputs": [
    {
     "data": {
      "text/plain": [
       "Index(['A2M', 'LOC115571', 'DFNA26', 'ADAM6', 'AEBP1', 'AGR2', 'AHNAKRS',\n",
       "       'AKR1B11', 'AKR1C1', 'TDD',\n",
       "       ...\n",
       "       'ATG4A', 'KRTAP5-AS1', 'LOC158014', 'HSCATHEP', 'ACAD8',\n",
       "       'Diagnosis Age', 'Fraction Genome Altered', 'Sex',\n",
       "       'Patient Smoking History Category', 'Prior Cancer Diagnosis Occurence'],\n",
       "      dtype='object', length=368)"
      ]
     },
     "execution_count": 95,
     "metadata": {},
     "output_type": "execute_result"
    }
   ],
   "source": [
    "# Transformar o input em DataFrame para aprendizagem supervisionada\n",
    "input_super_v2 = pd.DataFrame(input, columns = colunas)\n",
    "\n",
    "# Acrescentar a coluna Sample ID para merge\n",
    "input_super_v2['Sample ID'] = data_transposta['Sample ID']\n",
    "\n",
    "# Acrescentar o output aos dados de entrada\n",
    "input_super_v2 = pd.merge(input_super_v2, new_meta[['Sample ID', 'Diagnosis Age','Fraction Genome Altered','Sex','Patient Smoking History Category', 'Prior Cancer Diagnosis Occurence']], on='Sample ID', how='left')\n",
    "\n",
    "# Retirar Sample ID para ser possível aplicar os algoritmos de aprendizagem supervisionada\n",
    "input_super_v2 = input_super_v2.drop(columns=['Sample ID'])\n",
    "\n",
    "# Verificar\n",
    "input_super_v2.columns"
   ]
  },
  {
   "cell_type": "code",
   "execution_count": 96,
   "metadata": {},
   "outputs": [],
   "source": [
    "# Alteração dos atributos para números inteiros, consoante a categoria\n",
    "column_mapping = {\n",
    "    'Sex': {'Female': 0, 'Male': 1},\n",
    "    #'American Joint Committee on Cancer Tumor Stage Code': {'T1': 0, 'T1a': 1, 'T1b': 2, 'T2': 3, 'T2a': 4, 'T2b': 5, 'T3': 6, 'T4': 7, 'TX': 8},\n",
    "    'Prior Cancer Diagnosis Occurence': {'No': 0, 'Yes': 1, 'Yes, History of Prior Malignancy': 2, 'Yes, History of Synchronous/Bilateral Malignancy': 3},\n",
    "    #\"Patient's Vital Status\": {'Alive': 0, 'Dead': 1}\n",
    "    }\n",
    "\n",
    "for column, mapping in column_mapping.items():\n",
    "    input_super_v2[column] = input_super_v2[column].map(mapping)"
   ]
  },
  {
   "cell_type": "code",
   "execution_count": 97,
   "metadata": {},
   "outputs": [
    {
     "data": {
      "text/html": [
       "<div>\n",
       "<style scoped>\n",
       "    .dataframe tbody tr th:only-of-type {\n",
       "        vertical-align: middle;\n",
       "    }\n",
       "\n",
       "    .dataframe tbody tr th {\n",
       "        vertical-align: top;\n",
       "    }\n",
       "\n",
       "    .dataframe thead th {\n",
       "        text-align: right;\n",
       "    }\n",
       "</style>\n",
       "<table border=\"1\" class=\"dataframe\">\n",
       "  <thead>\n",
       "    <tr style=\"text-align: right;\">\n",
       "      <th></th>\n",
       "      <th>A2M</th>\n",
       "      <th>LOC115571</th>\n",
       "      <th>DFNA26</th>\n",
       "      <th>ADAM6</th>\n",
       "      <th>AEBP1</th>\n",
       "      <th>AGR2</th>\n",
       "      <th>AHNAKRS</th>\n",
       "      <th>AKR1B11</th>\n",
       "      <th>AKR1C1</th>\n",
       "      <th>TDD</th>\n",
       "      <th>...</th>\n",
       "      <th>ATG4A</th>\n",
       "      <th>KRTAP5-AS1</th>\n",
       "      <th>LOC158014</th>\n",
       "      <th>HSCATHEP</th>\n",
       "      <th>ACAD8</th>\n",
       "      <th>Diagnosis Age</th>\n",
       "      <th>Fraction Genome Altered</th>\n",
       "      <th>Sex</th>\n",
       "      <th>Patient Smoking History Category</th>\n",
       "      <th>Prior Cancer Diagnosis Occurence</th>\n",
       "    </tr>\n",
       "  </thead>\n",
       "  <tbody>\n",
       "    <tr>\n",
       "      <th>0</th>\n",
       "      <td>-0.694495</td>\n",
       "      <td>0.368049</td>\n",
       "      <td>-0.673908</td>\n",
       "      <td>-0.775496</td>\n",
       "      <td>-0.866084</td>\n",
       "      <td>-0.468940</td>\n",
       "      <td>-0.409719</td>\n",
       "      <td>-0.270531</td>\n",
       "      <td>-0.402759</td>\n",
       "      <td>-0.394669</td>\n",
       "      <td>...</td>\n",
       "      <td>2.639469</td>\n",
       "      <td>0.199832</td>\n",
       "      <td>-0.701733</td>\n",
       "      <td>-0.182642</td>\n",
       "      <td>-0.790871</td>\n",
       "      <td>70.0</td>\n",
       "      <td>0.4565</td>\n",
       "      <td>1</td>\n",
       "      <td>4.0</td>\n",
       "      <td>0</td>\n",
       "    </tr>\n",
       "    <tr>\n",
       "      <th>1</th>\n",
       "      <td>0.090745</td>\n",
       "      <td>-0.414867</td>\n",
       "      <td>0.336099</td>\n",
       "      <td>-0.352138</td>\n",
       "      <td>-0.483044</td>\n",
       "      <td>-0.641452</td>\n",
       "      <td>-0.663629</td>\n",
       "      <td>-0.261507</td>\n",
       "      <td>-0.403675</td>\n",
       "      <td>-0.396966</td>\n",
       "      <td>...</td>\n",
       "      <td>-0.427082</td>\n",
       "      <td>-0.622573</td>\n",
       "      <td>0.675025</td>\n",
       "      <td>-0.734256</td>\n",
       "      <td>0.393939</td>\n",
       "      <td>67.0</td>\n",
       "      <td>0.2221</td>\n",
       "      <td>1</td>\n",
       "      <td>3.0</td>\n",
       "      <td>0</td>\n",
       "    </tr>\n",
       "    <tr>\n",
       "      <th>2</th>\n",
       "      <td>-0.343200</td>\n",
       "      <td>1.079723</td>\n",
       "      <td>3.483304</td>\n",
       "      <td>-0.723176</td>\n",
       "      <td>-0.061989</td>\n",
       "      <td>-0.591180</td>\n",
       "      <td>0.237627</td>\n",
       "      <td>-0.270546</td>\n",
       "      <td>-0.402501</td>\n",
       "      <td>-0.397032</td>\n",
       "      <td>...</td>\n",
       "      <td>-0.839482</td>\n",
       "      <td>-0.224492</td>\n",
       "      <td>0.522695</td>\n",
       "      <td>-0.132853</td>\n",
       "      <td>-0.551553</td>\n",
       "      <td>79.0</td>\n",
       "      <td>0.2362</td>\n",
       "      <td>0</td>\n",
       "      <td>4.0</td>\n",
       "      <td>0</td>\n",
       "    </tr>\n",
       "    <tr>\n",
       "      <th>3</th>\n",
       "      <td>-0.027348</td>\n",
       "      <td>1.473808</td>\n",
       "      <td>-0.009011</td>\n",
       "      <td>0.346945</td>\n",
       "      <td>2.068672</td>\n",
       "      <td>-0.551320</td>\n",
       "      <td>-0.096633</td>\n",
       "      <td>-0.270812</td>\n",
       "      <td>-0.403340</td>\n",
       "      <td>-0.393609</td>\n",
       "      <td>...</td>\n",
       "      <td>-0.829871</td>\n",
       "      <td>-0.077465</td>\n",
       "      <td>-0.207462</td>\n",
       "      <td>2.370230</td>\n",
       "      <td>0.463329</td>\n",
       "      <td>68.0</td>\n",
       "      <td>0.0854</td>\n",
       "      <td>1</td>\n",
       "      <td>4.0</td>\n",
       "      <td>1</td>\n",
       "    </tr>\n",
       "    <tr>\n",
       "      <th>4</th>\n",
       "      <td>1.209226</td>\n",
       "      <td>-0.826279</td>\n",
       "      <td>-1.286733</td>\n",
       "      <td>-0.681410</td>\n",
       "      <td>-0.392626</td>\n",
       "      <td>-0.248461</td>\n",
       "      <td>0.619153</td>\n",
       "      <td>-0.129995</td>\n",
       "      <td>2.448338</td>\n",
       "      <td>2.783949</td>\n",
       "      <td>...</td>\n",
       "      <td>-1.062722</td>\n",
       "      <td>1.283246</td>\n",
       "      <td>-0.359327</td>\n",
       "      <td>-0.323349</td>\n",
       "      <td>0.083773</td>\n",
       "      <td>66.0</td>\n",
       "      <td>0.0661</td>\n",
       "      <td>1</td>\n",
       "      <td>3.0</td>\n",
       "      <td>1</td>\n",
       "    </tr>\n",
       "  </tbody>\n",
       "</table>\n",
       "<p>5 rows × 368 columns</p>\n",
       "</div>"
      ],
      "text/plain": [
       "        A2M  LOC115571    DFNA26     ADAM6     AEBP1      AGR2   AHNAKRS  \\\n",
       "0 -0.694495   0.368049 -0.673908 -0.775496 -0.866084 -0.468940 -0.409719   \n",
       "1  0.090745  -0.414867  0.336099 -0.352138 -0.483044 -0.641452 -0.663629   \n",
       "2 -0.343200   1.079723  3.483304 -0.723176 -0.061989 -0.591180  0.237627   \n",
       "3 -0.027348   1.473808 -0.009011  0.346945  2.068672 -0.551320 -0.096633   \n",
       "4  1.209226  -0.826279 -1.286733 -0.681410 -0.392626 -0.248461  0.619153   \n",
       "\n",
       "    AKR1B11    AKR1C1       TDD  ...     ATG4A  KRTAP5-AS1  LOC158014  \\\n",
       "0 -0.270531 -0.402759 -0.394669  ...  2.639469    0.199832  -0.701733   \n",
       "1 -0.261507 -0.403675 -0.396966  ... -0.427082   -0.622573   0.675025   \n",
       "2 -0.270546 -0.402501 -0.397032  ... -0.839482   -0.224492   0.522695   \n",
       "3 -0.270812 -0.403340 -0.393609  ... -0.829871   -0.077465  -0.207462   \n",
       "4 -0.129995  2.448338  2.783949  ... -1.062722    1.283246  -0.359327   \n",
       "\n",
       "   HSCATHEP     ACAD8  Diagnosis Age  Fraction Genome Altered  Sex  \\\n",
       "0 -0.182642 -0.790871           70.0                   0.4565    1   \n",
       "1 -0.734256  0.393939           67.0                   0.2221    1   \n",
       "2 -0.132853 -0.551553           79.0                   0.2362    0   \n",
       "3  2.370230  0.463329           68.0                   0.0854    1   \n",
       "4 -0.323349  0.083773           66.0                   0.0661    1   \n",
       "\n",
       "   Patient Smoking History Category  Prior Cancer Diagnosis Occurence  \n",
       "0                               4.0                                 0  \n",
       "1                               3.0                                 0  \n",
       "2                               4.0                                 0  \n",
       "3                               4.0                                 1  \n",
       "4                               3.0                                 1  \n",
       "\n",
       "[5 rows x 368 columns]"
      ]
     },
     "execution_count": 97,
     "metadata": {},
     "output_type": "execute_result"
    }
   ],
   "source": [
    "# Verificar\n",
    "input_super_v2.head()"
   ]
  },
  {
   "cell_type": "code",
   "execution_count": 98,
   "metadata": {},
   "outputs": [],
   "source": [
    "# 30% para teste\n",
    "X_train, X_test, Y_train, Y_test= train_test_split(input_super_v2, output_class, test_size=0.3, random_state=32, stratify=output_class)"
   ]
  },
  {
   "cell_type": "code",
   "execution_count": 99,
   "metadata": {},
   "outputs": [
    {
     "name": "stdout",
     "output_type": "stream",
     "text": [
      "(361, 368)\n",
      "(361,)\n",
      "(156, 368)\n",
      "(156,)\n"
     ]
    }
   ],
   "source": [
    "# Verificar\n",
    "print(X_train.shape)\n",
    "print(Y_train.shape)\n",
    "\n",
    "print(X_test.shape)\n",
    "print(Y_test.shape)"
   ]
  },
  {
   "cell_type": "markdown",
   "metadata": {},
   "source": [
    "* __Modelo: Random Forest__"
   ]
  },
  {
   "cell_type": "code",
   "execution_count": 100,
   "metadata": {},
   "outputs": [
    {
     "name": "stdout",
     "output_type": "stream",
     "text": [
      "Accuracy:  0.782051282051282\n",
      "Sensibilidade:  0.782051282051282\n",
      "Precisão:  0.7323607427055703\n",
      "F1-score:  0.22727272727272727\n",
      "Média das pontuações de validação cruzada: 0.7839802130898021\n"
     ]
    }
   ],
   "source": [
    "rf_model = RandomForestClassifier(n_estimators=100)\n",
    "rf_model = rf_model.fit(X_train, Y_train)\n",
    "prev_rf = rf_model.predict(X_test)\n",
    "\n",
    "print(\"Accuracy: \", accuracy_score(Y_test, prev_rf) )\n",
    "print(\"Sensibilidade: \", recall_score(Y_test,prev_rf, average = 'weighted'))\n",
    "print(\"Precisão: \", precision_score(Y_test,prev_rf, average = 'weighted'))\n",
    "print(\"F1-score: \", f1_score(Y_test, prev_rf, pos_label = 1) )\n",
    "print(\"Média das pontuações de validação cruzada:\", cross_val_score(rf_model, X_train, Y_train, cv = 5).mean())"
   ]
  },
  {
   "cell_type": "code",
   "execution_count": 101,
   "metadata": {
    "scrolled": true
   },
   "outputs": [
    {
     "data": {
      "image/png": "[encoded data removed]",
      "text/plain": [
       "<Figure size 576x432 with 1 Axes>"
      ]
     },
     "metadata": {
      "needs_background": "light"
     },
     "output_type": "display_data"
    }
   ],
   "source": [
    "# Matriz de Confusão\n",
    "conf_matrix = confusion_matrix(Y_test, prev_rf)\n",
    "\n",
    "# Visualizar a matriz de confusão usando seaborn\n",
    "plt.figure(figsize=(8, 6))\n",
    "sns.heatmap(conf_matrix, annot=True, fmt=\"d\", cmap=\"Blues\", cbar=False,\n",
    "            xticklabels=['Negativo', 'Positivo'], yticklabels=['Negativo', 'Positivo'])\n",
    "plt.xlabel('Previsto')\n",
    "plt.ylabel('Real')\n",
    "plt.title('Matriz de Confusão')\n",
    "plt.show()"
   ]
  },
  {
   "cell_type": "markdown",
   "metadata": {},
   "source": [
    "O modelo demonstra uma _accuracy_ de 78%, uma sensibilidade de 78%, uma precisão de 73%, uma média das pontuações de validação cruzada de 78%. Assim, esta previsão foi semelhante à efetuada apenas com recurso à expressão genética."
   ]
  },
  {
   "cell_type": "code",
   "execution_count": 102,
   "metadata": {},
   "outputs": [
    {
     "name": "stdout",
     "output_type": "stream",
     "text": [
      "Best Parameters: {'max_depth': None, 'min_samples_split': 2, 'n_estimators': 200}\n",
      "Accuracy: 0.7948717948717948\n",
      "Sensibilidade:  0.7948717948717948\n",
      "Precisão:  0.755881702190427\n",
      "F1-score: 0.2\n",
      "Confusion Matrix: [[120   3]\n",
      " [ 29   4]]\n",
      "Média das pontuações de validação cruzada: 0.7840182648401826\n"
     ]
    }
   ],
   "source": [
    "# Definir os parâmetros para pesquisa\n",
    "param_grid = {\n",
    "    'n_estimators': [50, 100, 200],\n",
    "    'max_depth': [None, 10, 20],\n",
    "    'min_samples_split': [2, 5]\n",
    "}\n",
    "\n",
    "# Criar o modelo \n",
    "rf_model = RandomForestClassifier()\n",
    "\n",
    "# Criar GridSearchCV\n",
    "grid_search = GridSearchCV(estimator=rf_model, param_grid=param_grid, cv=5, scoring='accuracy', n_jobs=-1)\n",
    "\n",
    "# Ajustar a pesquisa aos dados\n",
    "grid_search.fit(X_train, Y_train)\n",
    "\n",
    "# Mostrar os melhores parâmetros\n",
    "print(\"Best Parameters:\", grid_search.best_params_)\n",
    "\n",
    "# Obter o melhor modelo\n",
    "melhor_modelo_rf = grid_search.best_estimator_\n",
    "\n",
    "# Usar o melhor modelo para prever\n",
    "prev_rf = melhor_modelo_rf.predict(X_test)\n",
    "\n",
    "# Métricas de avaliação\n",
    "print(\"Accuracy:\", accuracy_score(Y_test, prev_rf))\n",
    "print(\"Sensibilidade: \", recall_score(Y_test,prev_rf, average = 'weighted'))\n",
    "print(\"Precisão: \", precision_score(Y_test,prev_rf, average = 'weighted'))\n",
    "print(\"F1-score:\", f1_score(Y_test, prev_rf, pos_label=1))\n",
    "print(\"Confusion Matrix:\", confusion_matrix(Y_test, prev_rf))\n",
    "print(\"Média das pontuações de validação cruzada:\", cross_val_score(melhor_modelo_rf, X_train, Y_train, cv = 5).mean())"
   ]
  },
  {
   "cell_type": "markdown",
   "metadata": {},
   "source": [
    "A aplicação do _GridSearch_ resultou numa melhoria moderada das métricas de avaliação."
   ]
  },
  {
   "cell_type": "markdown",
   "metadata": {},
   "source": [
    "__Features mais importantes do modelo__"
   ]
  },
  {
   "cell_type": "code",
   "execution_count": 103,
   "metadata": {},
   "outputs": [
    {
     "name": "stdout",
     "output_type": "stream",
     "text": [
      "Variable: A2M                  Importance: 0.01\n",
      "Variable: LOC115571            Importance: 0.01\n",
      "Variable: AHNAKRS              Importance: 0.01\n",
      "Variable: CCT2                 Importance: 0.01\n",
      "Variable: ERRFI1               Importance: 0.01\n",
      "Variable: LTF                  Importance: 0.01\n",
      "Variable: OS9                  Importance: 0.01\n",
      "Variable: EBS1                 Importance: 0.01\n",
      "Variable: LOC88851             Importance: 0.01\n",
      "Variable: TXNRD1               Importance: 0.01\n",
      "Variable: UBC                  Importance: 0.01\n",
      "Variable: SNORD94              Importance: 0.01\n",
      "Variable: XRCC5                Importance: 0.01\n",
      "Variable: RRM2                 Importance: 0.01\n",
      "Variable: FSGS1                Importance: 0.01\n",
      "Variable: PROCR                Importance: 0.01\n",
      "Variable: LOC101928538         Importance: 0.01\n",
      "Variable: NCL                  Importance: 0.01\n",
      "Variable: FAM117A              Importance: 0.01\n",
      "Variable: CORO2A               Importance: 0.01\n",
      "Variable: SIRT4                Importance: 0.01\n",
      "Variable: CBX7                 Importance: 0.01\n",
      "Variable: KRTAP5-AS1           Importance: 0.01\n",
      "Variable: DFNA26               Importance: 0.0\n",
      "Variable: ADAM6                Importance: 0.0\n",
      "Variable: AEBP1                Importance: 0.0\n",
      "Variable: AGR2                 Importance: 0.0\n",
      "Variable: AKR1B11              Importance: 0.0\n",
      "Variable: AKR1C1               Importance: 0.0\n",
      "Variable: TDD                  Importance: 0.0\n",
      "Variable: HSD17B5              Importance: 0.0\n",
      "Variable: ALB                  Importance: 0.0\n",
      "Variable: ALDH1A1              Importance: 0.0\n",
      "Variable: ALDH3A1              Importance: 0.0\n",
      "Variable: LOC115339            Importance: 0.0\n",
      "Variable: ANXA1                Importance: 0.0\n",
      "Variable: ANXA2                Importance: 0.0\n",
      "Variable: APLP2                Importance: 0.0\n",
      "Variable: AD2                  Importance: 0.0\n",
      "Variable: APP                  Importance: 0.0\n",
      "Variable: CO                   Importance: 0.0\n",
      "Variable: LOC116088            Importance: 0.0\n",
      "Variable: LOC56921             Importance: 0.0\n",
      "Variable: LOC148767            Importance: 0.0\n",
      "Variable: LOC127872            Importance: 0.0\n",
      "Variable: B2M                  Importance: 0.0\n",
      "Variable: LU                   Importance: 0.0\n",
      "Variable: BGN                  Importance: 0.0\n",
      "Variable: C16ORF89             Importance: 0.0\n",
      "Variable: BPIFB1               Importance: 0.0\n",
      "Variable: C3                   Importance: 0.0\n",
      "Variable: C4A                  Importance: 0.0\n",
      "Variable: C4BPA                Importance: 0.0\n",
      "Variable: C8ORF4               Importance: 0.0\n",
      "Variable: LOC87044             Importance: 0.0\n",
      "Variable: CALM2                Importance: 0.0\n",
      "Variable: CALR                 Importance: 0.0\n",
      "Variable: CANX                 Importance: 0.0\n",
      "Variable: CAPZA2               Importance: 0.0\n",
      "Variable: CBR1                 Importance: 0.0\n",
      "Variable: CD24                 Importance: 0.0\n",
      "Variable: CD55                 Importance: 0.0\n",
      "Variable: MIC11                Importance: 0.0\n",
      "Variable: CD63                 Importance: 0.0\n",
      "Variable: CD74                 Importance: 0.0\n",
      "Variable: CEACAM5              Importance: 0.0\n",
      "Variable: CEACAM6              Importance: 0.0\n",
      "Variable: CES2                 Importance: 0.0\n",
      "Variable: CFB                  Importance: 0.0\n",
      "Variable: CHGB                 Importance: 0.0\n",
      "Variable: GP39                 Importance: 0.0\n",
      "Variable: SFTA5                Importance: 0.0\n",
      "Variable: CLU                  Importance: 0.0\n",
      "Variable: OI4                  Importance: 0.0\n",
      "Variable: COL1A2               Importance: 0.0\n",
      "Variable: COL3A1               Importance: 0.0\n",
      "Variable: COL4A1               Importance: 0.0\n",
      "Variable: COL4A2               Importance: 0.0\n",
      "Variable: COL5A1               Importance: 0.0\n",
      "Variable: COL6A2               Importance: 0.0\n",
      "Variable: COL6A3               Importance: 0.0\n",
      "Variable: CPD                  Importance: 0.0\n",
      "Variable: CPM                  Importance: 0.0\n",
      "Variable: LOC130203            Importance: 0.0\n",
      "Variable: CP                   Importance: 0.0\n",
      "Variable: CRABP2               Importance: 0.0\n",
      "Variable: CRLF1                Importance: 0.0\n",
      "Variable: CTSB                 Importance: 0.0\n",
      "Variable: LOC196214            Importance: 0.0\n",
      "Variable: CTSE                 Importance: 0.0\n",
      "Variable: CTSH                 Importance: 0.0\n",
      "Variable: CUL4A                Importance: 0.0\n",
      "Variable: CXCL14               Importance: 0.0\n",
      "Variable: CYP2B7P              Importance: 0.0\n",
      "Variable: DCN                  Importance: 0.0\n",
      "Variable: DCE                  Importance: 0.0\n",
      "Variable: LOC100130706         Importance: 0.0\n",
      "Variable: DPCR1                Importance: 0.0\n",
      "Variable: LOC154189            Importance: 0.0\n",
      "Variable: DUSP1                Importance: 0.0\n",
      "Variable: EEF1A1L14            Importance: 0.0\n",
      "Variable: EEF1G                Importance: 0.0\n",
      "Variable: EEF2                 Importance: 0.0\n",
      "Variable: ENO1                 Importance: 0.0\n",
      "Variable: EPHX1                Importance: 0.0\n",
      "Variable: ERBB2                Importance: 0.0\n",
      "Variable: EZR                  Importance: 0.0\n",
      "Variable: FASN                 Importance: 0.0\n",
      "Variable: FGA                  Importance: 0.0\n",
      "Variable: FGB                  Importance: 0.0\n",
      "Variable: FGG                  Importance: 0.0\n",
      "Variable: LOC100131857         Importance: 0.0\n",
      "Variable: FN1                  Importance: 0.0\n",
      "Variable: FOS                  Importance: 0.0\n",
      "Variable: FTH1                 Importance: 0.0\n",
      "Variable: PRO2760              Importance: 0.0\n",
      "Variable: FURIN                Importance: 0.0\n",
      "Variable: GAPDH                Importance: 0.0\n",
      "Variable: GLUL                 Importance: 0.0\n",
      "Variable: PHP1B                Importance: 0.0\n",
      "Variable: GNB2L1               Importance: 0.0\n",
      "Variable: GPNMB                Importance: 0.0\n",
      "Variable: GPX3                 Importance: 0.0\n",
      "Variable: GSN                  Importance: 0.0\n",
      "Variable: GSTP1                Importance: 0.0\n",
      "Variable: MGC4485              Importance: 0.0\n",
      "Variable: LOC100133382         Importance: 0.0\n",
      "Variable: AS                   Importance: 0.0\n",
      "Variable: HLA-C                Importance: 0.0\n",
      "Variable: LOC221511            Importance: 0.0\n",
      "Variable: LOC221518            Importance: 0.0\n",
      "Variable: HLA-DRA              Importance: 0.0\n",
      "Variable: HLA-DRB1             Importance: 0.0\n",
      "Variable: HLA-DRB5             Importance: 0.0\n",
      "Variable: HMGB3                Importance: 0.0\n",
      "Variable: HOPX                 Importance: 0.0\n",
      "Variable: HPGD                 Importance: 0.0\n",
      "Variable: HP                   Importance: 0.0\n",
      "Variable: HSPCAL4              Importance: 0.0\n",
      "Variable: LOC154342            Importance: 0.0\n",
      "Variable: HSP90B1              Importance: 0.0\n",
      "Variable: HSPA1A               Importance: 0.0\n",
      "Variable: HSPA5                Importance: 0.0\n",
      "Variable: HSPA10               Importance: 0.0\n",
      "Variable: CMT2F                Importance: 0.0\n",
      "Variable: ICAM1                Importance: 0.0\n",
      "Variable: IFI6                 Importance: 0.0\n",
      "Variable: IGF2                 Importance: 0.0\n",
      "Variable: IGFBP2               Importance: 0.0\n",
      "Variable: IGFBP3               Importance: 0.0\n",
      "Variable: IGFBP5               Importance: 0.0\n",
      "Variable: JCHAIN               Importance: 0.0\n",
      "Variable: MSK18                Importance: 0.0\n",
      "Variable: LOC143058            Importance: 0.0\n",
      "Variable: ITLN1                Importance: 0.0\n",
      "Variable: PCHC1                Importance: 0.0\n",
      "Variable: KRT18                Importance: 0.0\n",
      "Variable: KRT19                Importance: 0.0\n",
      "Variable: KRT5                 Importance: 0.0\n",
      "Variable: LOC93086             Importance: 0.0\n",
      "Variable: KRT7                 Importance: 0.0\n",
      "Variable: LOC115042            Importance: 0.0\n",
      "Variable: LAMB3                Importance: 0.0\n",
      "Variable: LAMC2                Importance: 0.0\n",
      "Variable: LAMP1                Importance: 0.0\n",
      "Variable: LCN2                 Importance: 0.0\n",
      "Variable: LDHA                 Importance: 0.0\n",
      "Variable: LDHB                 Importance: 0.0\n",
      "Variable: LGALS1               Importance: 0.0\n",
      "Variable: LGALS3BP             Importance: 0.0\n",
      "Variable: BMS1P20              Importance: 0.0\n",
      "Variable: LOC100128216         Importance: 0.0\n",
      "Variable: LUM                  Importance: 0.0\n",
      "Variable: LY6E                 Importance: 0.0\n",
      "Variable: LYZ                  Importance: 0.0\n",
      "Variable: MET                  Importance: 0.0\n",
      "Variable: MMP11                Importance: 0.0\n",
      "Variable: LOC115169            Importance: 0.0\n",
      "Variable: MMP2                 Importance: 0.0\n",
      "Variable: MSLN                 Importance: 0.0\n",
      "Variable: MSMB                 Importance: 0.0\n",
      "Variable: MSN                  Importance: 0.0\n",
      "Variable: LOC115186            Importance: 0.0\n",
      "Variable: MUC5B                Importance: 0.0\n",
      "Variable: MUC6                 Importance: 0.0\n",
      "Variable: DFNA17               Importance: 0.0\n",
      "Variable: MYL6                 Importance: 0.0\n",
      "Variable: NAPSA                Importance: 0.0\n",
      "Variable: LRRC75A-AS1          Importance: 0.0\n",
      "Variable: HMSNL                Importance: 0.0\n",
      "Variable: LOC100292444         Importance: 0.0\n",
      "Variable: NPC2                 Importance: 0.0\n",
      "Variable: NQO1                 Importance: 0.0\n",
      "Variable: NTS                  Importance: 0.0\n",
      "Variable: ODC1                 Importance: 0.0\n",
      "Variable: ERBA2L               Importance: 0.0\n",
      "Variable: PABPC2               Importance: 0.0\n",
      "Variable: PCSK1                Importance: 0.0\n",
      "Variable: PCSK2                Importance: 0.0\n",
      "Variable: PDIA3                Importance: 0.0\n",
      "Variable: LOC115497            Importance: 0.0\n",
      "Variable: PGC                  Importance: 0.0\n",
      "Variable: PGK1                 Importance: 0.0\n",
      "Variable: PIGR                 Importance: 0.0\n",
      "Variable: PKM                  Importance: 0.0\n",
      "Variable: PLAT                 Importance: 0.0\n",
      "Variable: PLD3                 Importance: 0.0\n",
      "Variable: PLS3                 Importance: 0.0\n",
      "Variable: BPIFA1               Importance: 0.0\n",
      "Variable: PPIB                 Importance: 0.0\n",
      "Variable: PRDX1                Importance: 0.0\n",
      "Variable: PRG4                 Importance: 0.0\n",
      "Variable: PSAP                 Importance: 0.0\n",
      "Variable: REG4                 Importance: 0.0\n",
      "Variable: RNASE1               Importance: 0.0\n",
      "Variable: RPL10A               Importance: 0.0\n",
      "Variable: RPL10                Importance: 0.0\n",
      "Variable: RPL11                Importance: 0.0\n",
      "Variable: RPL12                Importance: 0.0\n",
      "Variable: RPL13A               Importance: 0.0\n",
      "Variable: RPL13                Importance: 0.0\n",
      "Variable: RPL15                Importance: 0.0\n",
      "Variable: RPL18                Importance: 0.0\n",
      "Variable: RPL19                Importance: 0.0\n",
      "Variable: RPL24                Importance: 0.0\n",
      "Variable: RPL26                Importance: 0.0\n",
      "Variable: RPL27A               Importance: 0.0\n",
      "Variable: RPL27                Importance: 0.0\n",
      "Variable: RPL28                Importance: 0.0\n",
      "Variable: RPL29                Importance: 0.0\n",
      "Variable: RPL30                Importance: 0.0\n",
      "Variable: RPL31                Importance: 0.0\n",
      "Variable: RPL32                Importance: 0.0\n",
      "Variable: RPL35                Importance: 0.0\n",
      "Variable: RPL37A               Importance: 0.0\n",
      "Variable: RPL37                Importance: 0.0\n",
      "Variable: RPL3                 Importance: 0.0\n",
      "Variable: RPL41                Importance: 0.0\n",
      "Variable: RPL4                 Importance: 0.0\n",
      "Variable: LOC115268            Importance: 0.0\n",
      "Variable: RPL7A                Importance: 0.0\n",
      "Variable: LOC115159            Importance: 0.0\n",
      "Variable: RPLP0                Importance: 0.0\n",
      "Variable: RPLP1                Importance: 0.0\n",
      "Variable: RPS10                Importance: 0.0\n",
      "Variable: RPS11                Importance: 0.0\n",
      "Variable: RPS12                Importance: 0.0\n",
      "Variable: RPS14                Importance: 0.0\n",
      "Variable: RPS15A               Importance: 0.0\n",
      "Variable: RPS16                Importance: 0.0\n",
      "Variable: RPS17                Importance: 0.0\n",
      "Variable: RPS18                Importance: 0.0\n",
      "Variable: DBA                  Importance: 0.0\n",
      "Variable: RPS20                Importance: 0.0\n",
      "Variable: RPS21                Importance: 0.0\n",
      "Variable: RPS24                Importance: 0.0\n",
      "Variable: LOC124057            Importance: 0.0\n",
      "Variable: RPS3                 Importance: 0.0\n",
      "Variable: RPS4X                Importance: 0.0\n",
      "Variable: RPS5                 Importance: 0.0\n",
      "Variable: LOC92956             Importance: 0.0\n",
      "Variable: RPS7                 Importance: 0.0\n",
      "Variable: RPS8                 Importance: 0.0\n",
      "Variable: RPS9                 Importance: 0.0\n",
      "Variable: RPSAP58              Importance: 0.0\n",
      "Variable: S100A10              Importance: 0.0\n",
      "Variable: S100A11              Importance: 0.0\n",
      "Variable: PRA                  Importance: 0.0\n",
      "Variable: S100A8               Importance: 0.0\n",
      "Variable: S100A9               Importance: 0.0\n",
      "Variable: S100P                Importance: 0.0\n",
      "Variable: SCDOS                Importance: 0.0\n",
      "Variable: SCGB1A1              Importance: 0.0\n",
      "Variable: SCGB3A1              Importance: 0.0\n",
      "Variable: SCGB3A2              Importance: 0.0\n",
      "Variable: SCNN1A               Importance: 0.0\n",
      "Variable: SDC1                 Importance: 0.0\n",
      "Variable: SDC4                 Importance: 0.0\n",
      "Variable: SERPINA1             Importance: 0.0\n",
      "Variable: SFTP1                Importance: 0.0\n",
      "Variable: LOC644676            Importance: 0.0\n",
      "Variable: SFTPB                Importance: 0.0\n",
      "Variable: SFTPC                Importance: 0.0\n",
      "Variable: SFTPD                Importance: 0.0\n",
      "Variable: LOC133217            Importance: 0.0\n",
      "Variable: SLPI                 Importance: 0.0\n",
      "Variable: SPARC                Importance: 0.0\n",
      "Variable: SPINK1               Importance: 0.0\n",
      "Variable: LOC100130414         Importance: 0.0\n",
      "Variable: SPP1                 Importance: 0.0\n",
      "Variable: OSIL                 Importance: 0.0\n",
      "Variable: SUSD2                Importance: 0.0\n",
      "Variable: TAGLN2               Importance: 0.0\n",
      "Variable: TFF2                 Importance: 0.0\n",
      "Variable: TFF3                 Importance: 0.0\n",
      "Variable: TFPI2                Importance: 0.0\n",
      "Variable: TF                   Importance: 0.0\n",
      "Variable: TGFBI                Importance: 0.0\n",
      "Variable: TGM2                 Importance: 0.0\n",
      "Variable: THBS1                Importance: 0.0\n",
      "Variable: TIMP1                Importance: 0.0\n",
      "Variable: TIMP3                Importance: 0.0\n",
      "Variable: TKT                  Importance: 0.0\n",
      "Variable: TM4SF1               Importance: 0.0\n",
      "Variable: TMBIM6               Importance: 0.0\n",
      "Variable: TMSB10               Importance: 0.0\n",
      "Variable: TMSB4XP8             Importance: 0.0\n",
      "Variable: TNC                  Importance: 0.0\n",
      "Variable: TPT1                 Importance: 0.0\n",
      "Variable: LOC100130862         Importance: 0.0\n",
      "Variable: LOC157584            Importance: 0.0\n",
      "Variable: TXNIP                Importance: 0.0\n",
      "Variable: VIM                  Importance: 0.0\n",
      "Variable: WARS                 Importance: 0.0\n",
      "Variable: WFDC2                Importance: 0.0\n",
      "Variable: XBP1                 Importance: 0.0\n",
      "Variable: XIST                 Importance: 0.0\n",
      "Variable: YWHAD                Importance: 0.0\n",
      "Variable: LOC285696            Importance: 0.0\n",
      "Variable: LINC00592            Importance: 0.0\n",
      "Variable: LOC439963            Importance: 0.0\n",
      "Variable: OPN3                 Importance: 0.0\n",
      "Variable: SLC7A5               Importance: 0.0\n",
      "Variable: BASP1                Importance: 0.0\n",
      "Variable: SNORA78              Importance: 0.0\n",
      "Variable: TMOD3                Importance: 0.0\n",
      "Variable: RFC3                 Importance: 0.0\n",
      "Variable: FSCN1                Importance: 0.0\n",
      "Variable: OR1F10               Importance: 0.0\n",
      "Variable: LOC100505888         Importance: 0.0\n",
      "Variable: MT2A                 Importance: 0.0\n",
      "Variable: LDLRAD3              Importance: 0.0\n",
      "Variable: UCN2                 Importance: 0.0\n",
      "Variable: ANLN                 Importance: 0.0\n",
      "Variable: ATP2B1               Importance: 0.0\n",
      "Variable: PRHOXNB              Importance: 0.0\n",
      "Variable: BCAR3                Importance: 0.0\n",
      "Variable: EKV                  Importance: 0.0\n",
      "Variable: CHRNA6               Importance: 0.0\n",
      "Variable: LRRC37A16P           Importance: 0.0\n",
      "Variable: LOC221402            Importance: 0.0\n",
      "Variable: TRMT10B              Importance: 0.0\n",
      "Variable: HCFC2                Importance: 0.0\n",
      "Variable: MLLT6                Importance: 0.0\n",
      "Variable: ZBTB5                Importance: 0.0\n",
      "Variable: RD                   Importance: 0.0\n",
      "Variable: TMEM63A              Importance: 0.0\n",
      "Variable: ZNF763               Importance: 0.0\n",
      "Variable: ADCY6                Importance: 0.0\n",
      "Variable: ZNF44                Importance: 0.0\n",
      "Variable: ZNF564               Importance: 0.0\n",
      "Variable: PPFIBP2              Importance: 0.0\n",
      "Variable: FICD                 Importance: 0.0\n",
      "Variable: LOC100131231         Importance: 0.0\n",
      "Variable: LOC100294335         Importance: 0.0\n",
      "Variable: GGT3                 Importance: 0.0\n",
      "Variable: KCNA3                Importance: 0.0\n",
      "Variable: C6orf95              Importance: 0.0\n",
      "Variable: LOC112990            Importance: 0.0\n",
      "Variable: ATG4A                Importance: 0.0\n",
      "Variable: LOC158014            Importance: 0.0\n",
      "Variable: HSCATHEP             Importance: 0.0\n",
      "Variable: ACAD8                Importance: 0.0\n",
      "Variable: Diagnosis Age        Importance: 0.0\n",
      "Variable: Fraction Genome Altered Importance: 0.0\n",
      "Variable: Sex                  Importance: 0.0\n",
      "Variable: Patient Smoking History Category Importance: 0.0\n",
      "Variable: Prior Cancer Diagnosis Occurence Importance: 0.0\n"
     ]
    }
   ],
   "source": [
    "# Importâncias numéricas das features\n",
    "importances = list(melhor_modelo_rf.feature_importances_)\n",
    "\n",
    "# Lista das colunas\n",
    "random_forest_list = list(input_super_v2.columns)\n",
    "\n",
    "# Fatores com importância\n",
    "feature_importances = [(feature, round(importance, 2)) for feature, importance in zip(random_forest_list, importances)]\n",
    "\n",
    "# Ordenar features da mais importante para a menos importante\n",
    "feature_importances = sorted(feature_importances, key = lambda x: x[1], reverse = True)\n",
    "\n",
    "# Mostrar as importâncias das features\n",
    "[print('Variable: {:20} Importance: {}'.format(*pair)) for pair in feature_importances];\n"
   ]
  },
  {
   "cell_type": "markdown",
   "metadata": {},
   "source": [
    "Os parâmetros mais importantes para a determinação da ocorrência ou não de tumor com este modelo foram um grupo de 23 genes com valor de 0.01, estando envolvidos em funções como regulação do crescimento, do sistema imunológico, sinalização celular e organização do citoesqueleto.\n",
    "\n",
    "Ao contrário do que seria esperado, as colunas adicionadas dos meta-dados não tiveram impacto na previsão do objetivo."
   ]
  },
  {
   "cell_type": "markdown",
   "metadata": {},
   "source": [
    "* __Modelo: K Neighbours__"
   ]
  },
  {
   "cell_type": "code",
   "execution_count": 104,
   "metadata": {},
   "outputs": [
    {
     "name": "stdout",
     "output_type": "stream",
     "text": [
      "Accuracy:  0.7884615384615384\n",
      "Sensibilidade:  0.7884615384615384\n",
      "Precisão:  0.7303946053946054\n",
      "F1-score:  0.05714285714285715\n",
      "Média das pontuações de validação cruzada: 0.7646118721461186\n"
     ]
    }
   ],
   "source": [
    "knn_model = KNeighborsClassifier()\n",
    "\n",
    "knn_model = knn_model.fit(X_train, Y_train)\n",
    "prev_knn = knn_model.predict(X_test)\n",
    "\n",
    "print(\"Accuracy: \", accuracy_score(Y_test, prev_knn) )\n",
    "print(\"Sensibilidade: \", recall_score(Y_test,prev_knn, average = 'weighted'))\n",
    "print(\"Precisão: \", precision_score(Y_test,prev_knn, average = 'weighted'))\n",
    "print(\"F1-score: \", f1_score(Y_test, prev_knn, pos_label = 1) )\n",
    "print (\"Média das pontuações de validação cruzada:\",cross_val_score( knn_model, X_train, Y_train, cv = 5).mean())"
   ]
  },
  {
   "cell_type": "code",
   "execution_count": 105,
   "metadata": {},
   "outputs": [
    {
     "data": {
      "image/png": "[encoded data removed]",
      "text/plain": [
       "<Figure size 576x432 with 1 Axes>"
      ]
     },
     "metadata": {
      "needs_background": "light"
     },
     "output_type": "display_data"
    }
   ],
   "source": [
    "# Matriz de Confusão\n",
    "conf_matrix = confusion_matrix(Y_test, prev_knn)\n",
    "\n",
    "# Visualizar a matriz de confusão usando seaborn\n",
    "plt.figure(figsize=(8, 6))\n",
    "sns.heatmap(conf_matrix, annot=True, fmt=\"d\", cmap=\"Blues\", cbar=False,\n",
    "            xticklabels=['Negativo', 'Positivo'], yticklabels=['Negativo', 'Positivo'])\n",
    "plt.xlabel('Previsto')\n",
    "plt.ylabel('Real')\n",
    "plt.title('Matriz de Confusão')\n",
    "plt.show()"
   ]
  },
  {
   "cell_type": "markdown",
   "metadata": {},
   "source": [
    "O modelo tem uma _accuracy_ de 79%, uma sensibilidade de 79%, uma precisão de 73%, uma média das pontuações de validação cruzada de 76%, porém constata-se um número elevado de FN(32). Não se registaram melhorias com a adição dos meta-dados."
   ]
  },
  {
   "cell_type": "code",
   "execution_count": 106,
   "metadata": {},
   "outputs": [
    {
     "name": "stdout",
     "output_type": "stream",
     "text": [
      "Melhores Parâmetros: {'n_neighbors': 5, 'p': 1, 'weights': 'uniform'}\n",
      "Accuracy: 0.7884615384615384\n",
      "Sensibilidade:  0.7884615384615384\n",
      "Precisão:  0.7430189673340358\n",
      "F1-score: 0.23255813953488375\n",
      "Matriz de Confusão: [[118   5]\n",
      " [ 28   5]]\n",
      "Média das pontuações de validação cruzada: 0.7784246575342465\n"
     ]
    }
   ],
   "source": [
    "# Definir os parâmetros para pesquisa\n",
    "param_grid = {\n",
    "    'n_neighbors': [3, 5, 7],  # Valores possíveis para o número de vizinhos\n",
    "    'weights': ['uniform', 'distance'],  # Peso dos vizinhos (uniforme ou por distância)\n",
    "    'p': [1, 2]  # Parâmetro de potência para a métrica de distância (1 para Manhattan, 2 para Euclidiana)\n",
    "}\n",
    "\n",
    "# Criar o modelo \n",
    "knn_model = KNeighborsClassifier()\n",
    "\n",
    "# Criar o objeto GridSearchCV\n",
    "grid_search = GridSearchCV(estimator=knn_model, param_grid=param_grid, cv=5, scoring='accuracy', n_jobs=-1)\n",
    "\n",
    "# Ajustar a pesquisa aos dados\n",
    "grid_search.fit(X_train, Y_train)\n",
    "\n",
    "# Mostrar os melhores parâmetros\n",
    "print(\"Melhores Parâmetros:\", grid_search.best_params_)\n",
    "\n",
    "# Obter o melhor modelo\n",
    "melhor_knn_modelo = grid_search.best_estimator_\n",
    "\n",
    "# Usar o melhor modelo para prever\n",
    "prev_knn = melhor_knn_modelo.predict(X_test)\n",
    "\n",
    "# Métricas de avaliação\n",
    "print(\"Accuracy:\", accuracy_score(Y_test, prev_knn))\n",
    "print(\"Sensibilidade: \", recall_score(Y_test,prev_knn, average = 'weighted'))\n",
    "print(\"Precisão: \", precision_score(Y_test,prev_knn, average = 'weighted'))\n",
    "print(\"F1-score:\", f1_score(Y_test, prev_knn, pos_label=1))\n",
    "print(\"Matriz de Confusão:\", confusion_matrix(Y_test, prev_knn))\n",
    "print(\"Média das pontuações de validação cruzada:\", cross_val_score(melhor_knn_modelo, X_train, Y_train, cv = 5).mean())"
   ]
  },
  {
   "cell_type": "markdown",
   "metadata": {},
   "source": [
    "O _Grid Search_ não teve o efeito pretendido de aumentar as métricas de avaliação, melhorando a previsão dos casos positivos mas piorando a dos casos negativos."
   ]
  },
  {
   "cell_type": "markdown",
   "metadata": {},
   "source": [
    "* __Modelo: SVMs RBF Kernel__"
   ]
  },
  {
   "cell_type": "code",
   "execution_count": 107,
   "metadata": {},
   "outputs": [
    {
     "name": "stdout",
     "output_type": "stream",
     "text": [
      "Accuracy:  0.7564102564102564\n",
      "Sensibilidade:  0.7564102564102564\n",
      "Precisão:  0.7289586843362588\n",
      "F1-score:  0.32142857142857145\n",
      "Média das pontuações de validação cruzada: 0.7757610350076103\n"
     ]
    }
   ],
   "source": [
    "svm_model = svm.SVC(gamma=0.001, C=100.)\n",
    "\n",
    "svm_model = svm_model.fit(X_train, Y_train)\n",
    "prev_svm = svm_model.predict(X_test)\n",
    "\n",
    "print(\"Accuracy: \", accuracy_score(Y_test, prev_svm) )\n",
    "print(\"Sensibilidade: \", recall_score(Y_test,prev_svm, average = 'weighted'))\n",
    "print(\"Precisão: \", precision_score(Y_test,prev_svm, average = 'weighted'))\n",
    "print(\"F1-score: \", f1_score(Y_test, prev_svm, pos_label = 1))\n",
    "print (\"Média das pontuações de validação cruzada:\", cross_val_score(svm_model, X_train, Y_train, cv = 5).mean())"
   ]
  },
  {
   "cell_type": "code",
   "execution_count": 108,
   "metadata": {},
   "outputs": [
    {
     "data": {
      "image/png": "[encoded data removed]",
      "text/plain": [
       "<Figure size 576x432 with 1 Axes>"
      ]
     },
     "metadata": {
      "needs_background": "light"
     },
     "output_type": "display_data"
    }
   ],
   "source": [
    "# Matriz de Confusão\n",
    "conf_matrix = confusion_matrix(Y_test, prev_svm)\n",
    "\n",
    "# Visualizar a matriz de confusão usando seaborn\n",
    "plt.figure(figsize=(8, 6))\n",
    "sns.heatmap(conf_matrix, annot=True, fmt=\"d\", cmap=\"Blues\", cbar=False,\n",
    "            xticklabels=['Negativo', 'Positivo'], yticklabels=['Negativo', 'Positivo'])\n",
    "plt.xlabel('Previsto')\n",
    "plt.ylabel('Real')\n",
    "plt.title('Matriz de Confusão')\n",
    "plt.show()"
   ]
  },
  {
   "cell_type": "markdown",
   "metadata": {},
   "source": [
    "O modelo apresenta uma _accuracy_ de 76%, uma sensibilidade de 76%, uma precisão de 73%, uma média das pontuações de validação cruzada de 78%, porém constata-se um número de FN superior ao VP. Logo, o modelo manteve a mesma performance, mesmo com a adição de mais informação nos dados de entrada.   "
   ]
  },
  {
   "cell_type": "code",
   "execution_count": 109,
   "metadata": {},
   "outputs": [
    {
     "name": "stdout",
     "output_type": "stream",
     "text": [
      "Melhores Parâmetros: {'C': 10, 'gamma': 'scale', 'kernel': 'rbf'}\n",
      "Accuracy:  0.8076923076923077\n",
      "Sensibilidade:  0.8076923076923077\n",
      "Precisão:  0.7913931705878016\n",
      "F1-score:  0.25\n",
      "Matriz de Confusão: [[121   2]\n",
      " [ 28   5]]\n",
      "Média das pontuações de validação cruzada: 0.7895357686453577\n"
     ]
    }
   ],
   "source": [
    "# Definir os parâmetros para pesquisa\n",
    "param_grid = {\n",
    "    'C': [0.1, 1, 10], #C (parâmetro de regularização)\n",
    "    'kernel': ['linear', 'rbf', 'poly', 'sigmoid'],\n",
    "    'gamma': ['scale', 'auto', 0.1, 1],\n",
    "}\n",
    "\n",
    "# Criar o modelo \n",
    "svm_model = svm.SVC()\n",
    "\n",
    "# Criar o objeto GridSearchCV\n",
    "grid_search = GridSearchCV(estimator=svm_model, param_grid=param_grid, cv=5, scoring='accuracy', n_jobs=-1)\n",
    "\n",
    "# Ajustar a pesquisa aos dados\n",
    "grid_search.fit(X_train, Y_train)\n",
    "\n",
    "# Mostrar os melhores parâmetros\n",
    "print(\"Melhores Parâmetros:\", grid_search.best_params_)\n",
    "\n",
    "# Obter o melhor modelo\n",
    "melhor_svm_modelo = grid_search.best_estimator_\n",
    "\n",
    "# Usar o melhor modelo para prever\n",
    "prev_svm = melhor_svm_modelo.predict(X_test)\n",
    "\n",
    "# Métricas de avaliação\n",
    "print(\"Accuracy: \", accuracy_score(Y_test, prev_svm) )\n",
    "print(\"Sensibilidade: \", recall_score(Y_test,prev_svm, average = 'weighted'))\n",
    "print(\"Precisão: \", precision_score(Y_test,prev_svm, average = 'weighted'))\n",
    "print(\"F1-score: \", f1_score(Y_test, prev_svm, pos_label = 1))\n",
    "print(\"Matriz de Confusão:\", confusion_matrix(Y_test, prev_svm))\n",
    "print(\"Média das pontuações de validação cruzada:\", cross_val_score(melhor_svm_modelo, X_train, Y_train, cv = 5).mean())"
   ]
  },
  {
   "cell_type": "markdown",
   "metadata": {},
   "source": [
    "A aplicação do _Grid Search_ resultou numa melhoria moderada das métricas de avaliação. Para além disto verificou-se uma diminuição do número de FP, com aumento de FN."
   ]
  },
  {
   "cell_type": "markdown",
   "metadata": {},
   "source": [
    "* __Modelo: Regressão Logística__"
   ]
  },
  {
   "cell_type": "code",
   "execution_count": 110,
   "metadata": {},
   "outputs": [
    {
     "name": "stdout",
     "output_type": "stream",
     "text": [
      "Accuracy:  0.7692307692307693\n",
      "Sensibilidade:  0.7692307692307693\n",
      "Precisão:  0.7389499389499389\n",
      "F1-score:  0.33333333333333326\n",
      "Média das pontuações de validação cruzada: 0.7342846270928463\n"
     ]
    }
   ],
   "source": [
    "logistic_model = linear_model.LogisticRegression(solver = \"liblinear\", multi_class = \"auto\")\n",
    "\n",
    "logistic_model = logistic_model.fit(X_train, Y_train)\n",
    "prev_lm = logistic_model.predict(X_test)\n",
    "\n",
    "print(\"Accuracy: \", accuracy_score(Y_test, prev_lm) )\n",
    "print(\"Sensibilidade: \", recall_score(Y_test,prev_lm, average = 'weighted'))\n",
    "print(\"Precisão: \", precision_score(Y_test,prev_lm, average = 'weighted'))\n",
    "print(\"F1-score: \", f1_score(Y_test, prev_lm, pos_label = 1))\n",
    "print(\"Média das pontuações de validação cruzada:\", cross_val_score( logistic_model, X_train, Y_train, cv = 5).mean())"
   ]
  },
  {
   "cell_type": "code",
   "execution_count": 111,
   "metadata": {
    "scrolled": false
   },
   "outputs": [
    {
     "data": {
      "image/png": "[encoded data removed]",
      "text/plain": [
       "<Figure size 576x432 with 1 Axes>"
      ]
     },
     "metadata": {
      "needs_background": "light"
     },
     "output_type": "display_data"
    }
   ],
   "source": [
    "# Matriz de Confusão\n",
    "conf_matrix = confusion_matrix(Y_test, prev_lm)\n",
    "\n",
    "# Visualizar a matriz de confusão usando seaborn\n",
    "plt.figure(figsize=(8, 6))\n",
    "sns.heatmap(conf_matrix, annot=True, fmt=\"d\", cmap=\"Blues\", cbar=False,\n",
    "            xticklabels=['Negativo', 'Positivo'], yticklabels=['Negativo', 'Positivo'])\n",
    "plt.xlabel('Previsto')\n",
    "plt.ylabel('Real')\n",
    "plt.title('Matriz de Confusão')\n",
    "plt.show()"
   ]
  },
  {
   "cell_type": "markdown",
   "metadata": {},
   "source": [
    "Com uma _accuracy_ de 77%, uma sensibilidade de 77%, uma precisão de 74%, uma média das pontuações de validação cruzada de 73%, e um valor de FN elevado. Este modelo não melhorou a sua prestação apesar da adição dos meta-dados."
   ]
  },
  {
   "cell_type": "code",
   "execution_count": 112,
   "metadata": {},
   "outputs": [
    {
     "name": "stdout",
     "output_type": "stream",
     "text": [
      "Melhores Parâmetros: {'C': 0.1, 'max_iter': 200, 'penalty': 'l1', 'solver': 'saga'}\n",
      "Accuracy:  0.8076923076923077\n",
      "Sensibilidade:  0.8076923076923077\n",
      "Precisão:  0.7846677132391419\n",
      "F1-score:  0.28571428571428575\n",
      "Matriz de Confusão: [[120   3]\n",
      " [ 27   6]]\n",
      "Média das pontuações de validação cruzada: 0.8061263318112631\n"
     ]
    }
   ],
   "source": [
    "# Definir os parâmetros para pesquisa\n",
    "param_grid = {\n",
    "    'C': [0.001, 0.01, 0.1, 1, 10, 100],\n",
    "    'penalty': ['l1', 'l2', 'elasticnet'],\n",
    "    'solver': ['liblinear', 'newton-cg', 'lbfgs', 'sag', 'saga'],\n",
    "    'max_iter': [100, 200, 300],\n",
    "}\n",
    "\n",
    "# Criar o modelo \n",
    "logistic_model = linear_model.LogisticRegression()\n",
    "\n",
    "# Criar o objeto GridSearchCV\n",
    "grid_search = GridSearchCV(estimator=logistic_model, param_grid=param_grid, cv=5, scoring='accuracy', n_jobs=-1)\n",
    "\n",
    "# Ajustar a pesquisa aos dados\n",
    "grid_search.fit(X_train, Y_train)\n",
    "\n",
    "# Mostrar os melhores parâmetros\n",
    "print(\"Melhores Parâmetros:\", grid_search.best_params_)\n",
    "\n",
    "# Obter o melhor modelo\n",
    "melhor_lm_modelo = grid_search.best_estimator_\n",
    "\n",
    "# Usar o melhor modelo para prever\n",
    "prev_lm = melhor_lm_modelo.predict(X_test)\n",
    "\n",
    "# Métricas de avaliação\n",
    "print(\"Accuracy: \", accuracy_score(Y_test, prev_lm) )\n",
    "print(\"Sensibilidade: \", recall_score(Y_test,prev_lm, average = 'weighted'))\n",
    "print(\"Precisão: \", precision_score(Y_test,prev_lm, average = 'weighted'))\n",
    "print(\"F1-score: \", f1_score(Y_test, prev_lm, pos_label = 1))\n",
    "print(\"Matriz de Confusão:\", confusion_matrix(Y_test, prev_lm))\n",
    "print(\"Média das pontuações de validação cruzada:\", cross_val_score(melhor_lm_modelo, X_train, Y_train, cv = 5).mean())"
   ]
  },
  {
   "cell_type": "markdown",
   "metadata": {},
   "source": [
    "Uma vez mais, a aplicação do _Grid Search_ permitiu uma melhoria moderada das métricas, com uma diminuição dos FP e aumento do FN."
   ]
  },
  {
   "cell_type": "markdown",
   "metadata": {},
   "source": [
    "#### Conclusão etapa 3\n",
    "\n",
    "Os resultados das métricas de avaliação dos modelos foram medianos, no entanto, perante o desiquilíbrio entre o número de indivíduos de cada classe (ter ou não tumor) estes resultados são insatisfatórios porque esta desproporção nos dados não permite que o modelo apresente boa capacidade de previsão da classe menos representada, neste caso, com tumor.\n",
    "\n",
    "Tendo em conta as métricas de avaliação previamente analisadas, para cada um dos modelos, após proceder à sua comparação, concluiu-se que o modelo que melhor prevê se o indivíduo tem ou não tumor é o _K Neighbours_ , na primeira versão e os modelos Regressão Logística e _SVMs_ na segunda versão.\n",
    "\n",
    "A utilização da ferramenta _Grid Search_ permitiu, na maioria dos casos, uma melhoria dos valores das métricas de avaliação, no entanto, em alguns casos não teve esse efeito."
   ]
  },
  {
   "cell_type": "markdown",
   "metadata": {},
   "source": [
    "## Conclusão\n",
    "\n",
    "Foi possível atingir o principal objetivo do trabalho, que se prende com a previsão de ocorrência ou não de tumor para cada indivíduo. No entanto, os resultados obtidos tanto na aprendizagem não supervisionada como na supervisionada não foram satisfatórios.\n",
    "\n",
    "O objetivo de se terem realizado 2 versões de dados de entrada para algoritmos de aprendizagem supervisionada foi para avaliar se com mais informação clínica, as previsões seriam mais eficazes, contudo acabaram por ser semelhantes nas duas versões.\n",
    "\n",
    "A previsão de casos clínicos através de modelos de _machine learning_ acarreta riscos de diagnósticos incorretos (FP e FN), que no caso dos FP podem levar à aplicação de terapias desnecessárias, enquanto nos FN pde resultar no atraso do tratamento e na progressão da doença. Assim, para um diagnóstico ser mais preciso, este deve assentar em múltiplos fatores, para além de se fazer uma maior recolha de dados, nomeadamente de pacientes com tumor. No entanto, é importante evitar aumentar a complexidade do modelo, para este manter a capacidade de generalizar.\n",
    "\n",
    "O presente dataset não é, então, adequado para este tipo de previsões devido às suas características."
   ]
  }
 ],
 "metadata": {
  "kernelspec": {
   "display_name": "Python 3",
   "language": "python",
   "name": "python3"
  },
  "language_info": {
   "codemirror_mode": {
    "name": "ipython",
    "version": 3
   },
   "file_extension": ".py",
   "mimetype": "text/x-python",
   "name": "python",
   "nbconvert_exporter": "python",
   "pygments_lexer": "ipython3",
   "version": "3.8.3"
  }
 },
 "nbformat": 4,
 "nbformat_minor": 4
}
